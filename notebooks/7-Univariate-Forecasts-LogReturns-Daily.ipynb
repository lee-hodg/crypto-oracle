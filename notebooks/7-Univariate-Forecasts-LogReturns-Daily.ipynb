{
 "cells": [
  {
   "cell_type": "markdown",
   "metadata": {},
   "source": [
    "# This notebook"
   ]
  },
  {
   "cell_type": "markdown",
   "metadata": {},
   "source": [
    "This particular notebook will explore using both the log return of the close price as input to make forecasts. Perhaps the normalization distribution of log returns will aid the algorithm."
   ]
  },
  {
   "cell_type": "markdown",
   "metadata": {},
   "source": [
    "# Import utils and helper functions"
   ]
  },
  {
   "cell_type": "code",
   "execution_count": 1,
   "metadata": {},
   "outputs": [
    {
     "name": "stdout",
     "output_type": "stream",
     "text": [
      "2.4.1\n"
     ]
    }
   ],
   "source": [
    "%run utils.ipynb"
   ]
  },
  {
   "cell_type": "markdown",
   "metadata": {},
   "source": [
    "# Get the stocks data"
   ]
  },
  {
   "cell_type": "code",
   "execution_count": 2,
   "metadata": {},
   "outputs": [
    {
     "name": "stdout",
     "output_type": "stream",
     "text": [
      "Connecting to the PostgreSQL database...\n",
      "Connection successful\n"
     ]
    }
   ],
   "source": [
    "df = get_stocks_df()"
   ]
  },
  {
   "cell_type": "code",
   "execution_count": 3,
   "metadata": {},
   "outputs": [
    {
     "data": {
      "text/html": [
       "<div>\n",
       "<style scoped>\n",
       "    .dataframe tbody tr th:only-of-type {\n",
       "        vertical-align: middle;\n",
       "    }\n",
       "\n",
       "    .dataframe tbody tr th {\n",
       "        vertical-align: top;\n",
       "    }\n",
       "\n",
       "    .dataframe thead th {\n",
       "        text-align: right;\n",
       "    }\n",
       "</style>\n",
       "<table border=\"1\" class=\"dataframe\">\n",
       "  <thead>\n",
       "    <tr style=\"text-align: right;\">\n",
       "      <th></th>\n",
       "      <th>close</th>\n",
       "      <th>volume</th>\n",
       "    </tr>\n",
       "    <tr>\n",
       "      <th>dt</th>\n",
       "      <th></th>\n",
       "      <th></th>\n",
       "    </tr>\n",
       "  </thead>\n",
       "  <tbody>\n",
       "    <tr>\n",
       "      <th>2015-10-08 13:40:00+00:00</th>\n",
       "      <td>242.50</td>\n",
       "      <td>0.050000</td>\n",
       "    </tr>\n",
       "    <tr>\n",
       "      <th>2015-10-08 13:41:00+00:00</th>\n",
       "      <td>242.95</td>\n",
       "      <td>0.001000</td>\n",
       "    </tr>\n",
       "    <tr>\n",
       "      <th>2015-10-08 13:42:00+00:00</th>\n",
       "      <td>242.95</td>\n",
       "      <td>NaN</td>\n",
       "    </tr>\n",
       "    <tr>\n",
       "      <th>2015-10-08 13:43:00+00:00</th>\n",
       "      <td>242.96</td>\n",
       "      <td>0.010000</td>\n",
       "    </tr>\n",
       "    <tr>\n",
       "      <th>2015-10-08 13:44:00+00:00</th>\n",
       "      <td>242.96</td>\n",
       "      <td>0.033491</td>\n",
       "    </tr>\n",
       "  </tbody>\n",
       "</table>\n",
       "</div>"
      ],
      "text/plain": [
       "                            close    volume\n",
       "dt                                         \n",
       "2015-10-08 13:40:00+00:00  242.50  0.050000\n",
       "2015-10-08 13:41:00+00:00  242.95  0.001000\n",
       "2015-10-08 13:42:00+00:00  242.95       NaN\n",
       "2015-10-08 13:43:00+00:00  242.96  0.010000\n",
       "2015-10-08 13:44:00+00:00  242.96  0.033491"
      ]
     },
     "execution_count": 3,
     "metadata": {},
     "output_type": "execute_result"
    }
   ],
   "source": [
    "df.head()"
   ]
  },
  {
   "cell_type": "markdown",
   "metadata": {},
   "source": [
    "## Resample to daily and impute any missing values"
   ]
  },
  {
   "cell_type": "code",
   "execution_count": 4,
   "metadata": {},
   "outputs": [],
   "source": [
    "# Close price is last\n",
    "daily_df = df.resample('D').last()"
   ]
  },
  {
   "cell_type": "code",
   "execution_count": 5,
   "metadata": {},
   "outputs": [
    {
     "data": {
      "text/plain": [
       "30"
      ]
     },
     "execution_count": 5,
     "metadata": {},
     "output_type": "execute_result"
    }
   ],
   "source": [
    "daily_df['close'].isnull().sum()"
   ]
  },
  {
   "cell_type": "code",
   "execution_count": 6,
   "metadata": {},
   "outputs": [],
   "source": [
    "daily_df['close'] = daily_df['close'].fillna(method='ffill')"
   ]
  },
  {
   "cell_type": "code",
   "execution_count": 7,
   "metadata": {},
   "outputs": [
    {
     "data": {
      "text/plain": [
       "0"
      ]
     },
     "execution_count": 7,
     "metadata": {},
     "output_type": "execute_result"
    }
   ],
   "source": [
    "daily_df['close'].isnull().sum()"
   ]
  },
  {
   "cell_type": "code",
   "execution_count": 9,
   "metadata": {},
   "outputs": [],
   "source": [
    "daily_df['log_returns'] = compute_log_returns(daily_df['close'])"
   ]
  },
  {
   "cell_type": "code",
   "execution_count": 10,
   "metadata": {},
   "outputs": [
    {
     "data": {
      "text/html": [
       "<div>\n",
       "<style scoped>\n",
       "    .dataframe tbody tr th:only-of-type {\n",
       "        vertical-align: middle;\n",
       "    }\n",
       "\n",
       "    .dataframe tbody tr th {\n",
       "        vertical-align: top;\n",
       "    }\n",
       "\n",
       "    .dataframe thead th {\n",
       "        text-align: right;\n",
       "    }\n",
       "</style>\n",
       "<table border=\"1\" class=\"dataframe\">\n",
       "  <thead>\n",
       "    <tr style=\"text-align: right;\">\n",
       "      <th></th>\n",
       "      <th>close</th>\n",
       "      <th>volume</th>\n",
       "      <th>log_returns</th>\n",
       "    </tr>\n",
       "    <tr>\n",
       "      <th>dt</th>\n",
       "      <th></th>\n",
       "      <th></th>\n",
       "      <th></th>\n",
       "    </tr>\n",
       "  </thead>\n",
       "  <tbody>\n",
       "    <tr>\n",
       "      <th>2015-10-08 00:00:00+00:00</th>\n",
       "      <td>243.95</td>\n",
       "      <td>5.211300</td>\n",
       "      <td>NaN</td>\n",
       "    </tr>\n",
       "    <tr>\n",
       "      <th>2015-10-09 00:00:00+00:00</th>\n",
       "      <td>245.39</td>\n",
       "      <td>0.000800</td>\n",
       "      <td>0.005885</td>\n",
       "    </tr>\n",
       "    <tr>\n",
       "      <th>2015-10-10 00:00:00+00:00</th>\n",
       "      <td>246.30</td>\n",
       "      <td>4.410000</td>\n",
       "      <td>0.003702</td>\n",
       "    </tr>\n",
       "    <tr>\n",
       "      <th>2015-10-11 00:00:00+00:00</th>\n",
       "      <td>249.50</td>\n",
       "      <td>0.402812</td>\n",
       "      <td>0.012909</td>\n",
       "    </tr>\n",
       "    <tr>\n",
       "      <th>2015-10-12 00:00:00+00:00</th>\n",
       "      <td>247.60</td>\n",
       "      <td>3.400000</td>\n",
       "      <td>-0.007644</td>\n",
       "    </tr>\n",
       "  </tbody>\n",
       "</table>\n",
       "</div>"
      ],
      "text/plain": [
       "                            close    volume  log_returns\n",
       "dt                                                      \n",
       "2015-10-08 00:00:00+00:00  243.95  5.211300          NaN\n",
       "2015-10-09 00:00:00+00:00  245.39  0.000800     0.005885\n",
       "2015-10-10 00:00:00+00:00  246.30  4.410000     0.003702\n",
       "2015-10-11 00:00:00+00:00  249.50  0.402812     0.012909\n",
       "2015-10-12 00:00:00+00:00  247.60  3.400000    -0.007644"
      ]
     },
     "execution_count": 10,
     "metadata": {},
     "output_type": "execute_result"
    }
   ],
   "source": [
    "daily_df.head()"
   ]
  },
  {
   "cell_type": "markdown",
   "metadata": {},
   "source": [
    "# Attempt 1"
   ]
  },
  {
   "cell_type": "markdown",
   "metadata": {},
   "source": [
    "This attempt uses 128 neurons, a window size of 5 (meaning the previous 5 values are used to make the prediction of the next value),\n",
    "and an output size of 1 (meaning just 1 price point ahead is forecast). It uses daily data, and we train over a few years\n",
    "\n",
    "The dataset is the log returns and we scaler with the standard scaler"
   ]
  },
  {
   "cell_type": "code",
   "execution_count": 11,
   "metadata": {},
   "outputs": [],
   "source": [
    "## Config dict that defines this attempt\n",
    "config = {\n",
    "    \"neurons\": 128,                 # number of hidden units in the LSTM layer\n",
    "    \"activation_function\": 'tanh',   # activation function for LSTM and Dense layer\n",
    "    \"loss\": 'mse',                   # loss function for calculating the gradient, in this case Mean Squared Error. Could be mae\n",
    "    \"optimizer\": 'adam',              # optimizer for appljying gradient decent\n",
    "    \"dropout\": 0.25,                 # dropout ratio used after each LSTM layer to avoid overfitting\n",
    "    \"batch_size\": 128,              \n",
    "    \"epochs\": 4,                  \n",
    "    \"window_len\": 15,                 # is an int to be used as the look back window for creating a single input sample.\n",
    "    \"training_size\": 0.8,            # porportion of data to be used for training\n",
    "    \"shuffle_buffer\": 1000,          # When shuffling the windowed Dataset how many at once to load into memory\n",
    "    \"output_size\": 1,\n",
    "    \"start_date\": '2018-01-01',\n",
    "    \"end_date\": '2021-02-19',\n",
    "}"
   ]
  },
  {
   "cell_type": "code",
   "execution_count": 20,
   "metadata": {},
   "outputs": [
    {
     "name": "stdout",
     "output_type": "stream",
     "text": [
      "Standard scaler\n"
     ]
    }
   ],
   "source": [
    "scaler, model_training_data, training_data, test_data, training_dates, test_dates = preprocessing(daily_df.iloc[1:], scaler='standard', colname='log_returns', **config)"
   ]
  },
  {
   "cell_type": "code",
   "execution_count": 21,
   "metadata": {},
   "outputs": [
    {
     "name": "stdout",
     "output_type": "stream",
     "text": [
      "Model: \"sequential\"\n",
      "_________________________________________________________________\n",
      "Layer (type)                 Output Shape              Param #   \n",
      "=================================================================\n",
      "conv1d (Conv1D)              (None, None, 25)          150       \n",
      "_________________________________________________________________\n",
      "lstm (LSTM)                  (None, None, 128)         78848     \n",
      "_________________________________________________________________\n",
      "dropout (Dropout)            (None, None, 128)         0         \n",
      "_________________________________________________________________\n",
      "lstm_1 (LSTM)                (None, 128)               131584    \n",
      "_________________________________________________________________\n",
      "dropout_1 (Dropout)          (None, 128)               0         \n",
      "_________________________________________________________________\n",
      "dense (Dense)                (None, 1)                 129       \n",
      "=================================================================\n",
      "Total params: 210,711\n",
      "Trainable params: 210,711\n",
      "Non-trainable params: 0\n",
      "_________________________________________________________________\n"
     ]
    }
   ],
   "source": [
    "# Clean up the memory\n",
    "tf.keras.backend.clear_session()\n",
    "model = build_model(config['output_size'], config['neurons'], config['activation_function'],\n",
    "                     config['dropout'], config['loss'], config['optimizer'], input_shape=1)"
   ]
  },
  {
   "cell_type": "code",
   "execution_count": 22,
   "metadata": {},
   "outputs": [
    {
     "name": "stdout",
     "output_type": "stream",
     "text": [
      "Epoch 1/4\n",
      "8/8 [==============================] - 4s 104ms/step - loss: 0.9108 - mae: 0.5795\n",
      "Epoch 2/4\n",
      "8/8 [==============================] - 1s 78ms/step - loss: 1.1293 - mae: 0.6010\n",
      "Epoch 3/4\n",
      "8/8 [==============================] - 1s 79ms/step - loss: 0.8327 - mae: 0.5483\n",
      "Epoch 4/4\n",
      "8/8 [==============================] - 1s 76ms/step - loss: 1.0629 - mae: 0.5973\n"
     ]
    }
   ],
   "source": [
    "history = model.fit(model_training_data, epochs=config['epochs'], batch_size=config['batch_size'], verbose=1)"
   ]
  },
  {
   "cell_type": "code",
   "execution_count": 23,
   "metadata": {},
   "outputs": [
    {
     "data": {
      "application/vnd.plotly.v1+json": {
       "config": {
        "plotlyServerURL": "https://plot.ly"
       },
       "data": [
        {
         "hovertemplate": "variable=0<br>index=%{x}<br>value=%{y}<extra></extra>",
         "legendgroup": "0",
         "line": {
          "color": "#636efa",
          "dash": "solid"
         },
         "mode": "lines",
         "name": "0",
         "orientation": "v",
         "showlegend": true,
         "type": "scatter",
         "x": [
          0,
          1,
          2,
          3
         ],
         "xaxis": "x",
         "y": [
          0.9942458868026733,
          0.9859975576400757,
          0.9984866380691528,
          1.0079236030578613
         ],
         "yaxis": "y"
        }
       ],
       "layout": {
        "autosize": true,
        "legend": {
         "title": {
          "text": "variable"
         },
         "tracegroupgap": 0
        },
        "template": {
         "data": {
          "bar": [
           {
            "error_x": {
             "color": "#f2f5fa"
            },
            "error_y": {
             "color": "#f2f5fa"
            },
            "marker": {
             "line": {
              "color": "rgb(17,17,17)",
              "width": 0.5
             }
            },
            "type": "bar"
           }
          ],
          "barpolar": [
           {
            "marker": {
             "line": {
              "color": "rgb(17,17,17)",
              "width": 0.5
             }
            },
            "type": "barpolar"
           }
          ],
          "carpet": [
           {
            "aaxis": {
             "endlinecolor": "#A2B1C6",
             "gridcolor": "#506784",
             "linecolor": "#506784",
             "minorgridcolor": "#506784",
             "startlinecolor": "#A2B1C6"
            },
            "baxis": {
             "endlinecolor": "#A2B1C6",
             "gridcolor": "#506784",
             "linecolor": "#506784",
             "minorgridcolor": "#506784",
             "startlinecolor": "#A2B1C6"
            },
            "type": "carpet"
           }
          ],
          "choropleth": [
           {
            "colorbar": {
             "outlinewidth": 0,
             "ticks": ""
            },
            "type": "choropleth"
           }
          ],
          "contour": [
           {
            "colorbar": {
             "outlinewidth": 0,
             "ticks": ""
            },
            "colorscale": [
             [
              0,
              "#0d0887"
             ],
             [
              0.1111111111111111,
              "#46039f"
             ],
             [
              0.2222222222222222,
              "#7201a8"
             ],
             [
              0.3333333333333333,
              "#9c179e"
             ],
             [
              0.4444444444444444,
              "#bd3786"
             ],
             [
              0.5555555555555556,
              "#d8576b"
             ],
             [
              0.6666666666666666,
              "#ed7953"
             ],
             [
              0.7777777777777778,
              "#fb9f3a"
             ],
             [
              0.8888888888888888,
              "#fdca26"
             ],
             [
              1,
              "#f0f921"
             ]
            ],
            "type": "contour"
           }
          ],
          "contourcarpet": [
           {
            "colorbar": {
             "outlinewidth": 0,
             "ticks": ""
            },
            "type": "contourcarpet"
           }
          ],
          "heatmap": [
           {
            "colorbar": {
             "outlinewidth": 0,
             "ticks": ""
            },
            "colorscale": [
             [
              0,
              "#0d0887"
             ],
             [
              0.1111111111111111,
              "#46039f"
             ],
             [
              0.2222222222222222,
              "#7201a8"
             ],
             [
              0.3333333333333333,
              "#9c179e"
             ],
             [
              0.4444444444444444,
              "#bd3786"
             ],
             [
              0.5555555555555556,
              "#d8576b"
             ],
             [
              0.6666666666666666,
              "#ed7953"
             ],
             [
              0.7777777777777778,
              "#fb9f3a"
             ],
             [
              0.8888888888888888,
              "#fdca26"
             ],
             [
              1,
              "#f0f921"
             ]
            ],
            "type": "heatmap"
           }
          ],
          "heatmapgl": [
           {
            "colorbar": {
             "outlinewidth": 0,
             "ticks": ""
            },
            "colorscale": [
             [
              0,
              "#0d0887"
             ],
             [
              0.1111111111111111,
              "#46039f"
             ],
             [
              0.2222222222222222,
              "#7201a8"
             ],
             [
              0.3333333333333333,
              "#9c179e"
             ],
             [
              0.4444444444444444,
              "#bd3786"
             ],
             [
              0.5555555555555556,
              "#d8576b"
             ],
             [
              0.6666666666666666,
              "#ed7953"
             ],
             [
              0.7777777777777778,
              "#fb9f3a"
             ],
             [
              0.8888888888888888,
              "#fdca26"
             ],
             [
              1,
              "#f0f921"
             ]
            ],
            "type": "heatmapgl"
           }
          ],
          "histogram": [
           {
            "marker": {
             "colorbar": {
              "outlinewidth": 0,
              "ticks": ""
             }
            },
            "type": "histogram"
           }
          ],
          "histogram2d": [
           {
            "colorbar": {
             "outlinewidth": 0,
             "ticks": ""
            },
            "colorscale": [
             [
              0,
              "#0d0887"
             ],
             [
              0.1111111111111111,
              "#46039f"
             ],
             [
              0.2222222222222222,
              "#7201a8"
             ],
             [
              0.3333333333333333,
              "#9c179e"
             ],
             [
              0.4444444444444444,
              "#bd3786"
             ],
             [
              0.5555555555555556,
              "#d8576b"
             ],
             [
              0.6666666666666666,
              "#ed7953"
             ],
             [
              0.7777777777777778,
              "#fb9f3a"
             ],
             [
              0.8888888888888888,
              "#fdca26"
             ],
             [
              1,
              "#f0f921"
             ]
            ],
            "type": "histogram2d"
           }
          ],
          "histogram2dcontour": [
           {
            "colorbar": {
             "outlinewidth": 0,
             "ticks": ""
            },
            "colorscale": [
             [
              0,
              "#0d0887"
             ],
             [
              0.1111111111111111,
              "#46039f"
             ],
             [
              0.2222222222222222,
              "#7201a8"
             ],
             [
              0.3333333333333333,
              "#9c179e"
             ],
             [
              0.4444444444444444,
              "#bd3786"
             ],
             [
              0.5555555555555556,
              "#d8576b"
             ],
             [
              0.6666666666666666,
              "#ed7953"
             ],
             [
              0.7777777777777778,
              "#fb9f3a"
             ],
             [
              0.8888888888888888,
              "#fdca26"
             ],
             [
              1,
              "#f0f921"
             ]
            ],
            "type": "histogram2dcontour"
           }
          ],
          "mesh3d": [
           {
            "colorbar": {
             "outlinewidth": 0,
             "ticks": ""
            },
            "type": "mesh3d"
           }
          ],
          "parcoords": [
           {
            "line": {
             "colorbar": {
              "outlinewidth": 0,
              "ticks": ""
             }
            },
            "type": "parcoords"
           }
          ],
          "pie": [
           {
            "automargin": true,
            "type": "pie"
           }
          ],
          "scatter": [
           {
            "marker": {
             "line": {
              "color": "#283442"
             }
            },
            "type": "scatter"
           }
          ],
          "scatter3d": [
           {
            "line": {
             "colorbar": {
              "outlinewidth": 0,
              "ticks": ""
             }
            },
            "marker": {
             "colorbar": {
              "outlinewidth": 0,
              "ticks": ""
             }
            },
            "type": "scatter3d"
           }
          ],
          "scattercarpet": [
           {
            "marker": {
             "colorbar": {
              "outlinewidth": 0,
              "ticks": ""
             }
            },
            "type": "scattercarpet"
           }
          ],
          "scattergeo": [
           {
            "marker": {
             "colorbar": {
              "outlinewidth": 0,
              "ticks": ""
             }
            },
            "type": "scattergeo"
           }
          ],
          "scattergl": [
           {
            "marker": {
             "line": {
              "color": "#283442"
             }
            },
            "type": "scattergl"
           }
          ],
          "scattermapbox": [
           {
            "marker": {
             "colorbar": {
              "outlinewidth": 0,
              "ticks": ""
             }
            },
            "type": "scattermapbox"
           }
          ],
          "scatterpolar": [
           {
            "marker": {
             "colorbar": {
              "outlinewidth": 0,
              "ticks": ""
             }
            },
            "type": "scatterpolar"
           }
          ],
          "scatterpolargl": [
           {
            "marker": {
             "colorbar": {
              "outlinewidth": 0,
              "ticks": ""
             }
            },
            "type": "scatterpolargl"
           }
          ],
          "scatterternary": [
           {
            "marker": {
             "colorbar": {
              "outlinewidth": 0,
              "ticks": ""
             }
            },
            "type": "scatterternary"
           }
          ],
          "surface": [
           {
            "colorbar": {
             "outlinewidth": 0,
             "ticks": ""
            },
            "colorscale": [
             [
              0,
              "#0d0887"
             ],
             [
              0.1111111111111111,
              "#46039f"
             ],
             [
              0.2222222222222222,
              "#7201a8"
             ],
             [
              0.3333333333333333,
              "#9c179e"
             ],
             [
              0.4444444444444444,
              "#bd3786"
             ],
             [
              0.5555555555555556,
              "#d8576b"
             ],
             [
              0.6666666666666666,
              "#ed7953"
             ],
             [
              0.7777777777777778,
              "#fb9f3a"
             ],
             [
              0.8888888888888888,
              "#fdca26"
             ],
             [
              1,
              "#f0f921"
             ]
            ],
            "type": "surface"
           }
          ],
          "table": [
           {
            "cells": {
             "fill": {
              "color": "#506784"
             },
             "line": {
              "color": "rgb(17,17,17)"
             }
            },
            "header": {
             "fill": {
              "color": "#2a3f5f"
             },
             "line": {
              "color": "rgb(17,17,17)"
             }
            },
            "type": "table"
           }
          ]
         },
         "layout": {
          "annotationdefaults": {
           "arrowcolor": "#f2f5fa",
           "arrowhead": 0,
           "arrowwidth": 1
          },
          "autotypenumbers": "strict",
          "coloraxis": {
           "colorbar": {
            "outlinewidth": 0,
            "ticks": ""
           }
          },
          "colorscale": {
           "diverging": [
            [
             0,
             "#8e0152"
            ],
            [
             0.1,
             "#c51b7d"
            ],
            [
             0.2,
             "#de77ae"
            ],
            [
             0.3,
             "#f1b6da"
            ],
            [
             0.4,
             "#fde0ef"
            ],
            [
             0.5,
             "#f7f7f7"
            ],
            [
             0.6,
             "#e6f5d0"
            ],
            [
             0.7,
             "#b8e186"
            ],
            [
             0.8,
             "#7fbc41"
            ],
            [
             0.9,
             "#4d9221"
            ],
            [
             1,
             "#276419"
            ]
           ],
           "sequential": [
            [
             0,
             "#0d0887"
            ],
            [
             0.1111111111111111,
             "#46039f"
            ],
            [
             0.2222222222222222,
             "#7201a8"
            ],
            [
             0.3333333333333333,
             "#9c179e"
            ],
            [
             0.4444444444444444,
             "#bd3786"
            ],
            [
             0.5555555555555556,
             "#d8576b"
            ],
            [
             0.6666666666666666,
             "#ed7953"
            ],
            [
             0.7777777777777778,
             "#fb9f3a"
            ],
            [
             0.8888888888888888,
             "#fdca26"
            ],
            [
             1,
             "#f0f921"
            ]
           ],
           "sequentialminus": [
            [
             0,
             "#0d0887"
            ],
            [
             0.1111111111111111,
             "#46039f"
            ],
            [
             0.2222222222222222,
             "#7201a8"
            ],
            [
             0.3333333333333333,
             "#9c179e"
            ],
            [
             0.4444444444444444,
             "#bd3786"
            ],
            [
             0.5555555555555556,
             "#d8576b"
            ],
            [
             0.6666666666666666,
             "#ed7953"
            ],
            [
             0.7777777777777778,
             "#fb9f3a"
            ],
            [
             0.8888888888888888,
             "#fdca26"
            ],
            [
             1,
             "#f0f921"
            ]
           ]
          },
          "colorway": [
           "#636efa",
           "#EF553B",
           "#00cc96",
           "#ab63fa",
           "#FFA15A",
           "#19d3f3",
           "#FF6692",
           "#B6E880",
           "#FF97FF",
           "#FECB52"
          ],
          "font": {
           "color": "#f2f5fa"
          },
          "geo": {
           "bgcolor": "rgb(17,17,17)",
           "lakecolor": "rgb(17,17,17)",
           "landcolor": "rgb(17,17,17)",
           "showlakes": true,
           "showland": true,
           "subunitcolor": "#506784"
          },
          "hoverlabel": {
           "align": "left"
          },
          "hovermode": "closest",
          "mapbox": {
           "style": "dark"
          },
          "paper_bgcolor": "rgb(17,17,17)",
          "plot_bgcolor": "rgb(17,17,17)",
          "polar": {
           "angularaxis": {
            "gridcolor": "#506784",
            "linecolor": "#506784",
            "ticks": ""
           },
           "bgcolor": "rgb(17,17,17)",
           "radialaxis": {
            "gridcolor": "#506784",
            "linecolor": "#506784",
            "ticks": ""
           }
          },
          "scene": {
           "xaxis": {
            "backgroundcolor": "rgb(17,17,17)",
            "gridcolor": "#506784",
            "gridwidth": 2,
            "linecolor": "#506784",
            "showbackground": true,
            "ticks": "",
            "zerolinecolor": "#C8D4E3"
           },
           "yaxis": {
            "backgroundcolor": "rgb(17,17,17)",
            "gridcolor": "#506784",
            "gridwidth": 2,
            "linecolor": "#506784",
            "showbackground": true,
            "ticks": "",
            "zerolinecolor": "#C8D4E3"
           },
           "zaxis": {
            "backgroundcolor": "rgb(17,17,17)",
            "gridcolor": "#506784",
            "gridwidth": 2,
            "linecolor": "#506784",
            "showbackground": true,
            "ticks": "",
            "zerolinecolor": "#C8D4E3"
           }
          },
          "shapedefaults": {
           "line": {
            "color": "#f2f5fa"
           }
          },
          "sliderdefaults": {
           "bgcolor": "#C8D4E3",
           "bordercolor": "rgb(17,17,17)",
           "borderwidth": 1,
           "tickwidth": 0
          },
          "ternary": {
           "aaxis": {
            "gridcolor": "#506784",
            "linecolor": "#506784",
            "ticks": ""
           },
           "baxis": {
            "gridcolor": "#506784",
            "linecolor": "#506784",
            "ticks": ""
           },
           "bgcolor": "rgb(17,17,17)",
           "caxis": {
            "gridcolor": "#506784",
            "linecolor": "#506784",
            "ticks": ""
           }
          },
          "title": {
           "x": 0.05
          },
          "updatemenudefaults": {
           "bgcolor": "#506784",
           "borderwidth": 0
          },
          "xaxis": {
           "automargin": true,
           "gridcolor": "#283442",
           "linecolor": "#506784",
           "ticks": "",
           "title": {
            "standoff": 15
           },
           "zerolinecolor": "#283442",
           "zerolinewidth": 2
          },
          "yaxis": {
           "automargin": true,
           "gridcolor": "#283442",
           "linecolor": "#506784",
           "ticks": "",
           "title": {
            "standoff": 15
           },
           "zerolinecolor": "#283442",
           "zerolinewidth": 2
          }
         }
        },
        "title": {
         "text": "Loss over time"
        },
        "xaxis": {
         "anchor": "y",
         "autorange": true,
         "domain": [
          0,
          1
         ],
         "range": [
          0,
          3
         ],
         "title": {
          "text": "Time"
         },
         "type": "linear"
        },
        "yaxis": {
         "anchor": "x",
         "autorange": true,
         "domain": [
          0,
          1
         ],
         "range": [
          0.9847794440057542,
          1.0091417166921828
         ],
         "title": {
          "text": "Loss"
         },
         "type": "linear"
        }
       }
      },
      "image/png": "[encoded data removed]",
      "text/html": [
       "<div>                            <div id=\"56f77b71-8768-4afc-8359-23c91e22f3ea\" class=\"plotly-graph-div\" style=\"height:525px; width:100%;\"></div>            <script type=\"text/javascript\">                require([\"plotly\"], function(Plotly) {                    window.PLOTLYENV=window.PLOTLYENV || {};                                    if (document.getElementById(\"56f77b71-8768-4afc-8359-23c91e22f3ea\")) {                    Plotly.newPlot(                        \"56f77b71-8768-4afc-8359-23c91e22f3ea\",                        [{\"hovertemplate\": \"variable=0<br>index=%{x}<br>value=%{y}<extra></extra>\", \"legendgroup\": \"0\", \"line\": {\"color\": \"#636efa\", \"dash\": \"solid\"}, \"mode\": \"lines\", \"name\": \"0\", \"orientation\": \"v\", \"showlegend\": true, \"type\": \"scatter\", \"x\": [0, 1, 2, 3], \"xaxis\": \"x\", \"y\": [0.9942458868026733, 0.9859975576400757, 0.9984866380691528, 1.0079236030578613], \"yaxis\": \"y\"}],                        {\"legend\": {\"title\": {\"text\": \"variable\"}, \"tracegroupgap\": 0}, \"template\": {\"data\": {\"bar\": [{\"error_x\": {\"color\": \"#f2f5fa\"}, \"error_y\": {\"color\": \"#f2f5fa\"}, \"marker\": {\"line\": {\"color\": \"rgb(17,17,17)\", \"width\": 0.5}}, \"type\": \"bar\"}], \"barpolar\": [{\"marker\": {\"line\": {\"color\": \"rgb(17,17,17)\", \"width\": 0.5}}, \"type\": \"barpolar\"}], \"carpet\": [{\"aaxis\": {\"endlinecolor\": \"#A2B1C6\", \"gridcolor\": \"#506784\", \"linecolor\": \"#506784\", \"minorgridcolor\": \"#506784\", \"startlinecolor\": \"#A2B1C6\"}, \"baxis\": {\"endlinecolor\": \"#A2B1C6\", \"gridcolor\": \"#506784\", \"linecolor\": \"#506784\", \"minorgridcolor\": \"#506784\", \"startlinecolor\": \"#A2B1C6\"}, \"type\": \"carpet\"}], \"choropleth\": [{\"colorbar\": {\"outlinewidth\": 0, \"ticks\": \"\"}, \"type\": \"choropleth\"}], \"contour\": [{\"colorbar\": {\"outlinewidth\": 0, \"ticks\": \"\"}, \"colorscale\": [[0.0, \"#0d0887\"], [0.1111111111111111, \"#46039f\"], [0.2222222222222222, \"#7201a8\"], [0.3333333333333333, \"#9c179e\"], [0.4444444444444444, \"#bd3786\"], [0.5555555555555556, \"#d8576b\"], [0.6666666666666666, \"#ed7953\"], [0.7777777777777778, \"#fb9f3a\"], [0.8888888888888888, \"#fdca26\"], [1.0, \"#f0f921\"]], \"type\": \"contour\"}], \"contourcarpet\": [{\"colorbar\": {\"outlinewidth\": 0, \"ticks\": \"\"}, \"type\": \"contourcarpet\"}], \"heatmap\": [{\"colorbar\": {\"outlinewidth\": 0, \"ticks\": \"\"}, \"colorscale\": [[0.0, \"#0d0887\"], [0.1111111111111111, \"#46039f\"], [0.2222222222222222, \"#7201a8\"], [0.3333333333333333, \"#9c179e\"], [0.4444444444444444, \"#bd3786\"], [0.5555555555555556, \"#d8576b\"], [0.6666666666666666, \"#ed7953\"], [0.7777777777777778, \"#fb9f3a\"], [0.8888888888888888, \"#fdca26\"], [1.0, \"#f0f921\"]], \"type\": \"heatmap\"}], \"heatmapgl\": [{\"colorbar\": {\"outlinewidth\": 0, \"ticks\": \"\"}, \"colorscale\": [[0.0, \"#0d0887\"], [0.1111111111111111, \"#46039f\"], [0.2222222222222222, \"#7201a8\"], [0.3333333333333333, \"#9c179e\"], [0.4444444444444444, \"#bd3786\"], [0.5555555555555556, \"#d8576b\"], [0.6666666666666666, \"#ed7953\"], [0.7777777777777778, \"#fb9f3a\"], [0.8888888888888888, \"#fdca26\"], [1.0, \"#f0f921\"]], \"type\": \"heatmapgl\"}], \"histogram\": [{\"marker\": {\"colorbar\": {\"outlinewidth\": 0, \"ticks\": \"\"}}, \"type\": \"histogram\"}], \"histogram2d\": [{\"colorbar\": {\"outlinewidth\": 0, \"ticks\": \"\"}, \"colorscale\": [[0.0, \"#0d0887\"], [0.1111111111111111, \"#46039f\"], [0.2222222222222222, \"#7201a8\"], [0.3333333333333333, \"#9c179e\"], [0.4444444444444444, \"#bd3786\"], [0.5555555555555556, \"#d8576b\"], [0.6666666666666666, \"#ed7953\"], [0.7777777777777778, \"#fb9f3a\"], [0.8888888888888888, \"#fdca26\"], [1.0, \"#f0f921\"]], \"type\": \"histogram2d\"}], \"histogram2dcontour\": [{\"colorbar\": {\"outlinewidth\": 0, \"ticks\": \"\"}, \"colorscale\": [[0.0, \"#0d0887\"], [0.1111111111111111, \"#46039f\"], [0.2222222222222222, \"#7201a8\"], [0.3333333333333333, \"#9c179e\"], [0.4444444444444444, \"#bd3786\"], [0.5555555555555556, \"#d8576b\"], [0.6666666666666666, \"#ed7953\"], [0.7777777777777778, \"#fb9f3a\"], [0.8888888888888888, \"#fdca26\"], [1.0, \"#f0f921\"]], \"type\": \"histogram2dcontour\"}], \"mesh3d\": [{\"colorbar\": {\"outlinewidth\": 0, \"ticks\": \"\"}, \"type\": \"mesh3d\"}], \"parcoords\": [{\"line\": {\"colorbar\": {\"outlinewidth\": 0, \"ticks\": \"\"}}, \"type\": \"parcoords\"}], \"pie\": [{\"automargin\": true, \"type\": \"pie\"}], \"scatter\": [{\"marker\": {\"line\": {\"color\": \"#283442\"}}, \"type\": \"scatter\"}], \"scatter3d\": [{\"line\": {\"colorbar\": {\"outlinewidth\": 0, \"ticks\": \"\"}}, \"marker\": {\"colorbar\": {\"outlinewidth\": 0, \"ticks\": \"\"}}, \"type\": \"scatter3d\"}], \"scattercarpet\": [{\"marker\": {\"colorbar\": {\"outlinewidth\": 0, \"ticks\": \"\"}}, \"type\": \"scattercarpet\"}], \"scattergeo\": [{\"marker\": {\"colorbar\": {\"outlinewidth\": 0, \"ticks\": \"\"}}, \"type\": \"scattergeo\"}], \"scattergl\": [{\"marker\": {\"line\": {\"color\": \"#283442\"}}, \"type\": \"scattergl\"}], \"scattermapbox\": [{\"marker\": {\"colorbar\": {\"outlinewidth\": 0, \"ticks\": \"\"}}, \"type\": \"scattermapbox\"}], \"scatterpolar\": [{\"marker\": {\"colorbar\": {\"outlinewidth\": 0, \"ticks\": \"\"}}, \"type\": \"scatterpolar\"}], \"scatterpolargl\": [{\"marker\": {\"colorbar\": {\"outlinewidth\": 0, \"ticks\": \"\"}}, \"type\": \"scatterpolargl\"}], \"scatterternary\": [{\"marker\": {\"colorbar\": {\"outlinewidth\": 0, \"ticks\": \"\"}}, \"type\": \"scatterternary\"}], \"surface\": [{\"colorbar\": {\"outlinewidth\": 0, \"ticks\": \"\"}, \"colorscale\": [[0.0, \"#0d0887\"], [0.1111111111111111, \"#46039f\"], [0.2222222222222222, \"#7201a8\"], [0.3333333333333333, \"#9c179e\"], [0.4444444444444444, \"#bd3786\"], [0.5555555555555556, \"#d8576b\"], [0.6666666666666666, \"#ed7953\"], [0.7777777777777778, \"#fb9f3a\"], [0.8888888888888888, \"#fdca26\"], [1.0, \"#f0f921\"]], \"type\": \"surface\"}], \"table\": [{\"cells\": {\"fill\": {\"color\": \"#506784\"}, \"line\": {\"color\": \"rgb(17,17,17)\"}}, \"header\": {\"fill\": {\"color\": \"#2a3f5f\"}, \"line\": {\"color\": \"rgb(17,17,17)\"}}, \"type\": \"table\"}]}, \"layout\": {\"annotationdefaults\": {\"arrowcolor\": \"#f2f5fa\", \"arrowhead\": 0, \"arrowwidth\": 1}, \"autotypenumbers\": \"strict\", \"coloraxis\": {\"colorbar\": {\"outlinewidth\": 0, \"ticks\": \"\"}}, \"colorscale\": {\"diverging\": [[0, \"#8e0152\"], [0.1, \"#c51b7d\"], [0.2, \"#de77ae\"], [0.3, \"#f1b6da\"], [0.4, \"#fde0ef\"], [0.5, \"#f7f7f7\"], [0.6, \"#e6f5d0\"], [0.7, \"#b8e186\"], [0.8, \"#7fbc41\"], [0.9, \"#4d9221\"], [1, \"#276419\"]], \"sequential\": [[0.0, \"#0d0887\"], [0.1111111111111111, \"#46039f\"], [0.2222222222222222, \"#7201a8\"], [0.3333333333333333, \"#9c179e\"], [0.4444444444444444, \"#bd3786\"], [0.5555555555555556, \"#d8576b\"], [0.6666666666666666, \"#ed7953\"], [0.7777777777777778, \"#fb9f3a\"], [0.8888888888888888, \"#fdca26\"], [1.0, \"#f0f921\"]], \"sequentialminus\": [[0.0, \"#0d0887\"], [0.1111111111111111, \"#46039f\"], [0.2222222222222222, \"#7201a8\"], [0.3333333333333333, \"#9c179e\"], [0.4444444444444444, \"#bd3786\"], [0.5555555555555556, \"#d8576b\"], [0.6666666666666666, \"#ed7953\"], [0.7777777777777778, \"#fb9f3a\"], [0.8888888888888888, \"#fdca26\"], [1.0, \"#f0f921\"]]}, \"colorway\": [\"#636efa\", \"#EF553B\", \"#00cc96\", \"#ab63fa\", \"#FFA15A\", \"#19d3f3\", \"#FF6692\", \"#B6E880\", \"#FF97FF\", \"#FECB52\"], \"font\": {\"color\": \"#f2f5fa\"}, \"geo\": {\"bgcolor\": \"rgb(17,17,17)\", \"lakecolor\": \"rgb(17,17,17)\", \"landcolor\": \"rgb(17,17,17)\", \"showlakes\": true, \"showland\": true, \"subunitcolor\": \"#506784\"}, \"hoverlabel\": {\"align\": \"left\"}, \"hovermode\": \"closest\", \"mapbox\": {\"style\": \"dark\"}, \"paper_bgcolor\": \"rgb(17,17,17)\", \"plot_bgcolor\": \"rgb(17,17,17)\", \"polar\": {\"angularaxis\": {\"gridcolor\": \"#506784\", \"linecolor\": \"#506784\", \"ticks\": \"\"}, \"bgcolor\": \"rgb(17,17,17)\", \"radialaxis\": {\"gridcolor\": \"#506784\", \"linecolor\": \"#506784\", \"ticks\": \"\"}}, \"scene\": {\"xaxis\": {\"backgroundcolor\": \"rgb(17,17,17)\", \"gridcolor\": \"#506784\", \"gridwidth\": 2, \"linecolor\": \"#506784\", \"showbackground\": true, \"ticks\": \"\", \"zerolinecolor\": \"#C8D4E3\"}, \"yaxis\": {\"backgroundcolor\": \"rgb(17,17,17)\", \"gridcolor\": \"#506784\", \"gridwidth\": 2, \"linecolor\": \"#506784\", \"showbackground\": true, \"ticks\": \"\", \"zerolinecolor\": \"#C8D4E3\"}, \"zaxis\": {\"backgroundcolor\": \"rgb(17,17,17)\", \"gridcolor\": \"#506784\", \"gridwidth\": 2, \"linecolor\": \"#506784\", \"showbackground\": true, \"ticks\": \"\", \"zerolinecolor\": \"#C8D4E3\"}}, \"shapedefaults\": {\"line\": {\"color\": \"#f2f5fa\"}}, \"sliderdefaults\": {\"bgcolor\": \"#C8D4E3\", \"bordercolor\": \"rgb(17,17,17)\", \"borderwidth\": 1, \"tickwidth\": 0}, \"ternary\": {\"aaxis\": {\"gridcolor\": \"#506784\", \"linecolor\": \"#506784\", \"ticks\": \"\"}, \"baxis\": {\"gridcolor\": \"#506784\", \"linecolor\": \"#506784\", \"ticks\": \"\"}, \"bgcolor\": \"rgb(17,17,17)\", \"caxis\": {\"gridcolor\": \"#506784\", \"linecolor\": \"#506784\", \"ticks\": \"\"}}, \"title\": {\"x\": 0.05}, \"updatemenudefaults\": {\"bgcolor\": \"#506784\", \"borderwidth\": 0}, \"xaxis\": {\"automargin\": true, \"gridcolor\": \"#283442\", \"linecolor\": \"#506784\", \"ticks\": \"\", \"title\": {\"standoff\": 15}, \"zerolinecolor\": \"#283442\", \"zerolinewidth\": 2}, \"yaxis\": {\"automargin\": true, \"gridcolor\": \"#283442\", \"linecolor\": \"#506784\", \"ticks\": \"\", \"title\": {\"standoff\": 15}, \"zerolinecolor\": \"#283442\", \"zerolinewidth\": 2}}}, \"title\": {\"text\": \"Loss over time\"}, \"xaxis\": {\"anchor\": \"y\", \"domain\": [0.0, 1.0], \"title\": {\"text\": \"Time\"}}, \"yaxis\": {\"anchor\": \"x\", \"domain\": [0.0, 1.0], \"title\": {\"text\": \"Loss\"}}},                        {\"responsive\": true}                    ).then(function(){\n",
       "                            \n",
       "var gd = document.getElementById('56f77b71-8768-4afc-8359-23c91e22f3ea');\n",
       "var x = new MutationObserver(function (mutations, observer) {{\n",
       "        var display = window.getComputedStyle(gd).display;\n",
       "        if (!display || display === 'none') {{\n",
       "            console.log([gd, 'removed!']);\n",
       "            Plotly.purge(gd);\n",
       "            observer.disconnect();\n",
       "        }}\n",
       "}});\n",
       "\n",
       "// Listen for the removal of the full notebook cells\n",
       "var notebookContainer = gd.closest('#notebook-container');\n",
       "if (notebookContainer) {{\n",
       "    x.observe(notebookContainer, {childList: true});\n",
       "}}\n",
       "\n",
       "// Listen for the clearing of the current output cell\n",
       "var outputEl = gd.closest('.output');\n",
       "if (outputEl) {{\n",
       "    x.observe(outputEl, {childList: true});\n",
       "}}\n",
       "\n",
       "                        })                };                });            </script>        </div>"
      ]
     },
     "metadata": {},
     "output_type": "display_data"
    },
    {
     "data": {
      "application/vnd.plotly.v1+json": {
       "config": {
        "plotlyServerURL": "https://plot.ly"
       },
       "data": [
        {
         "hovertemplate": "variable=0<br>index=%{x}<br>value=%{y}<extra></extra>",
         "legendgroup": "0",
         "line": {
          "color": "#636efa",
          "dash": "solid"
         },
         "mode": "lines",
         "name": "0",
         "orientation": "v",
         "showlegend": true,
         "type": "scatter",
         "x": [
          0,
          1,
          2,
          3
         ],
         "xaxis": "x",
         "y": [
          0.585658609867096,
          0.5838138461112976,
          0.5877366065979004,
          0.5933475494384766
         ],
         "yaxis": "y"
        }
       ],
       "layout": {
        "autosize": true,
        "legend": {
         "title": {
          "text": "variable"
         },
         "tracegroupgap": 0
        },
        "template": {
         "data": {
          "bar": [
           {
            "error_x": {
             "color": "#f2f5fa"
            },
            "error_y": {
             "color": "#f2f5fa"
            },
            "marker": {
             "line": {
              "color": "rgb(17,17,17)",
              "width": 0.5
             }
            },
            "type": "bar"
           }
          ],
          "barpolar": [
           {
            "marker": {
             "line": {
              "color": "rgb(17,17,17)",
              "width": 0.5
             }
            },
            "type": "barpolar"
           }
          ],
          "carpet": [
           {
            "aaxis": {
             "endlinecolor": "#A2B1C6",
             "gridcolor": "#506784",
             "linecolor": "#506784",
             "minorgridcolor": "#506784",
             "startlinecolor": "#A2B1C6"
            },
            "baxis": {
             "endlinecolor": "#A2B1C6",
             "gridcolor": "#506784",
             "linecolor": "#506784",
             "minorgridcolor": "#506784",
             "startlinecolor": "#A2B1C6"
            },
            "type": "carpet"
           }
          ],
          "choropleth": [
           {
            "colorbar": {
             "outlinewidth": 0,
             "ticks": ""
            },
            "type": "choropleth"
           }
          ],
          "contour": [
           {
            "colorbar": {
             "outlinewidth": 0,
             "ticks": ""
            },
            "colorscale": [
             [
              0,
              "#0d0887"
             ],
             [
              0.1111111111111111,
              "#46039f"
             ],
             [
              0.2222222222222222,
              "#7201a8"
             ],
             [
              0.3333333333333333,
              "#9c179e"
             ],
             [
              0.4444444444444444,
              "#bd3786"
             ],
             [
              0.5555555555555556,
              "#d8576b"
             ],
             [
              0.6666666666666666,
              "#ed7953"
             ],
             [
              0.7777777777777778,
              "#fb9f3a"
             ],
             [
              0.8888888888888888,
              "#fdca26"
             ],
             [
              1,
              "#f0f921"
             ]
            ],
            "type": "contour"
           }
          ],
          "contourcarpet": [
           {
            "colorbar": {
             "outlinewidth": 0,
             "ticks": ""
            },
            "type": "contourcarpet"
           }
          ],
          "heatmap": [
           {
            "colorbar": {
             "outlinewidth": 0,
             "ticks": ""
            },
            "colorscale": [
             [
              0,
              "#0d0887"
             ],
             [
              0.1111111111111111,
              "#46039f"
             ],
             [
              0.2222222222222222,
              "#7201a8"
             ],
             [
              0.3333333333333333,
              "#9c179e"
             ],
             [
              0.4444444444444444,
              "#bd3786"
             ],
             [
              0.5555555555555556,
              "#d8576b"
             ],
             [
              0.6666666666666666,
              "#ed7953"
             ],
             [
              0.7777777777777778,
              "#fb9f3a"
             ],
             [
              0.8888888888888888,
              "#fdca26"
             ],
             [
              1,
              "#f0f921"
             ]
            ],
            "type": "heatmap"
           }
          ],
          "heatmapgl": [
           {
            "colorbar": {
             "outlinewidth": 0,
             "ticks": ""
            },
            "colorscale": [
             [
              0,
              "#0d0887"
             ],
             [
              0.1111111111111111,
              "#46039f"
             ],
             [
              0.2222222222222222,
              "#7201a8"
             ],
             [
              0.3333333333333333,
              "#9c179e"
             ],
             [
              0.4444444444444444,
              "#bd3786"
             ],
             [
              0.5555555555555556,
              "#d8576b"
             ],
             [
              0.6666666666666666,
              "#ed7953"
             ],
             [
              0.7777777777777778,
              "#fb9f3a"
             ],
             [
              0.8888888888888888,
              "#fdca26"
             ],
             [
              1,
              "#f0f921"
             ]
            ],
            "type": "heatmapgl"
           }
          ],
          "histogram": [
           {
            "marker": {
             "colorbar": {
              "outlinewidth": 0,
              "ticks": ""
             }
            },
            "type": "histogram"
           }
          ],
          "histogram2d": [
           {
            "colorbar": {
             "outlinewidth": 0,
             "ticks": ""
            },
            "colorscale": [
             [
              0,
              "#0d0887"
             ],
             [
              0.1111111111111111,
              "#46039f"
             ],
             [
              0.2222222222222222,
              "#7201a8"
             ],
             [
              0.3333333333333333,
              "#9c179e"
             ],
             [
              0.4444444444444444,
              "#bd3786"
             ],
             [
              0.5555555555555556,
              "#d8576b"
             ],
             [
              0.6666666666666666,
              "#ed7953"
             ],
             [
              0.7777777777777778,
              "#fb9f3a"
             ],
             [
              0.8888888888888888,
              "#fdca26"
             ],
             [
              1,
              "#f0f921"
             ]
            ],
            "type": "histogram2d"
           }
          ],
          "histogram2dcontour": [
           {
            "colorbar": {
             "outlinewidth": 0,
             "ticks": ""
            },
            "colorscale": [
             [
              0,
              "#0d0887"
             ],
             [
              0.1111111111111111,
              "#46039f"
             ],
             [
              0.2222222222222222,
              "#7201a8"
             ],
             [
              0.3333333333333333,
              "#9c179e"
             ],
             [
              0.4444444444444444,
              "#bd3786"
             ],
             [
              0.5555555555555556,
              "#d8576b"
             ],
             [
              0.6666666666666666,
              "#ed7953"
             ],
             [
              0.7777777777777778,
              "#fb9f3a"
             ],
             [
              0.8888888888888888,
              "#fdca26"
             ],
             [
              1,
              "#f0f921"
             ]
            ],
            "type": "histogram2dcontour"
           }
          ],
          "mesh3d": [
           {
            "colorbar": {
             "outlinewidth": 0,
             "ticks": ""
            },
            "type": "mesh3d"
           }
          ],
          "parcoords": [
           {
            "line": {
             "colorbar": {
              "outlinewidth": 0,
              "ticks": ""
             }
            },
            "type": "parcoords"
           }
          ],
          "pie": [
           {
            "automargin": true,
            "type": "pie"
           }
          ],
          "scatter": [
           {
            "marker": {
             "line": {
              "color": "#283442"
             }
            },
            "type": "scatter"
           }
          ],
          "scatter3d": [
           {
            "line": {
             "colorbar": {
              "outlinewidth": 0,
              "ticks": ""
             }
            },
            "marker": {
             "colorbar": {
              "outlinewidth": 0,
              "ticks": ""
             }
            },
            "type": "scatter3d"
           }
          ],
          "scattercarpet": [
           {
            "marker": {
             "colorbar": {
              "outlinewidth": 0,
              "ticks": ""
             }
            },
            "type": "scattercarpet"
           }
          ],
          "scattergeo": [
           {
            "marker": {
             "colorbar": {
              "outlinewidth": 0,
              "ticks": ""
             }
            },
            "type": "scattergeo"
           }
          ],
          "scattergl": [
           {
            "marker": {
             "line": {
              "color": "#283442"
             }
            },
            "type": "scattergl"
           }
          ],
          "scattermapbox": [
           {
            "marker": {
             "colorbar": {
              "outlinewidth": 0,
              "ticks": ""
             }
            },
            "type": "scattermapbox"
           }
          ],
          "scatterpolar": [
           {
            "marker": {
             "colorbar": {
              "outlinewidth": 0,
              "ticks": ""
             }
            },
            "type": "scatterpolar"
           }
          ],
          "scatterpolargl": [
           {
            "marker": {
             "colorbar": {
              "outlinewidth": 0,
              "ticks": ""
             }
            },
            "type": "scatterpolargl"
           }
          ],
          "scatterternary": [
           {
            "marker": {
             "colorbar": {
              "outlinewidth": 0,
              "ticks": ""
             }
            },
            "type": "scatterternary"
           }
          ],
          "surface": [
           {
            "colorbar": {
             "outlinewidth": 0,
             "ticks": ""
            },
            "colorscale": [
             [
              0,
              "#0d0887"
             ],
             [
              0.1111111111111111,
              "#46039f"
             ],
             [
              0.2222222222222222,
              "#7201a8"
             ],
             [
              0.3333333333333333,
              "#9c179e"
             ],
             [
              0.4444444444444444,
              "#bd3786"
             ],
             [
              0.5555555555555556,
              "#d8576b"
             ],
             [
              0.6666666666666666,
              "#ed7953"
             ],
             [
              0.7777777777777778,
              "#fb9f3a"
             ],
             [
              0.8888888888888888,
              "#fdca26"
             ],
             [
              1,
              "#f0f921"
             ]
            ],
            "type": "surface"
           }
          ],
          "table": [
           {
            "cells": {
             "fill": {
              "color": "#506784"
             },
             "line": {
              "color": "rgb(17,17,17)"
             }
            },
            "header": {
             "fill": {
              "color": "#2a3f5f"
             },
             "line": {
              "color": "rgb(17,17,17)"
             }
            },
            "type": "table"
           }
          ]
         },
         "layout": {
          "annotationdefaults": {
           "arrowcolor": "#f2f5fa",
           "arrowhead": 0,
           "arrowwidth": 1
          },
          "autotypenumbers": "strict",
          "coloraxis": {
           "colorbar": {
            "outlinewidth": 0,
            "ticks": ""
           }
          },
          "colorscale": {
           "diverging": [
            [
             0,
             "#8e0152"
            ],
            [
             0.1,
             "#c51b7d"
            ],
            [
             0.2,
             "#de77ae"
            ],
            [
             0.3,
             "#f1b6da"
            ],
            [
             0.4,
             "#fde0ef"
            ],
            [
             0.5,
             "#f7f7f7"
            ],
            [
             0.6,
             "#e6f5d0"
            ],
            [
             0.7,
             "#b8e186"
            ],
            [
             0.8,
             "#7fbc41"
            ],
            [
             0.9,
             "#4d9221"
            ],
            [
             1,
             "#276419"
            ]
           ],
           "sequential": [
            [
             0,
             "#0d0887"
            ],
            [
             0.1111111111111111,
             "#46039f"
            ],
            [
             0.2222222222222222,
             "#7201a8"
            ],
            [
             0.3333333333333333,
             "#9c179e"
            ],
            [
             0.4444444444444444,
             "#bd3786"
            ],
            [
             0.5555555555555556,
             "#d8576b"
            ],
            [
             0.6666666666666666,
             "#ed7953"
            ],
            [
             0.7777777777777778,
             "#fb9f3a"
            ],
            [
             0.8888888888888888,
             "#fdca26"
            ],
            [
             1,
             "#f0f921"
            ]
           ],
           "sequentialminus": [
            [
             0,
             "#0d0887"
            ],
            [
             0.1111111111111111,
             "#46039f"
            ],
            [
             0.2222222222222222,
             "#7201a8"
            ],
            [
             0.3333333333333333,
             "#9c179e"
            ],
            [
             0.4444444444444444,
             "#bd3786"
            ],
            [
             0.5555555555555556,
             "#d8576b"
            ],
            [
             0.6666666666666666,
             "#ed7953"
            ],
            [
             0.7777777777777778,
             "#fb9f3a"
            ],
            [
             0.8888888888888888,
             "#fdca26"
            ],
            [
             1,
             "#f0f921"
            ]
           ]
          },
          "colorway": [
           "#636efa",
           "#EF553B",
           "#00cc96",
           "#ab63fa",
           "#FFA15A",
           "#19d3f3",
           "#FF6692",
           "#B6E880",
           "#FF97FF",
           "#FECB52"
          ],
          "font": {
           "color": "#f2f5fa"
          },
          "geo": {
           "bgcolor": "rgb(17,17,17)",
           "lakecolor": "rgb(17,17,17)",
           "landcolor": "rgb(17,17,17)",
           "showlakes": true,
           "showland": true,
           "subunitcolor": "#506784"
          },
          "hoverlabel": {
           "align": "left"
          },
          "hovermode": "closest",
          "mapbox": {
           "style": "dark"
          },
          "paper_bgcolor": "rgb(17,17,17)",
          "plot_bgcolor": "rgb(17,17,17)",
          "polar": {
           "angularaxis": {
            "gridcolor": "#506784",
            "linecolor": "#506784",
            "ticks": ""
           },
           "bgcolor": "rgb(17,17,17)",
           "radialaxis": {
            "gridcolor": "#506784",
            "linecolor": "#506784",
            "ticks": ""
           }
          },
          "scene": {
           "xaxis": {
            "backgroundcolor": "rgb(17,17,17)",
            "gridcolor": "#506784",
            "gridwidth": 2,
            "linecolor": "#506784",
            "showbackground": true,
            "ticks": "",
            "zerolinecolor": "#C8D4E3"
           },
           "yaxis": {
            "backgroundcolor": "rgb(17,17,17)",
            "gridcolor": "#506784",
            "gridwidth": 2,
            "linecolor": "#506784",
            "showbackground": true,
            "ticks": "",
            "zerolinecolor": "#C8D4E3"
           },
           "zaxis": {
            "backgroundcolor": "rgb(17,17,17)",
            "gridcolor": "#506784",
            "gridwidth": 2,
            "linecolor": "#506784",
            "showbackground": true,
            "ticks": "",
            "zerolinecolor": "#C8D4E3"
           }
          },
          "shapedefaults": {
           "line": {
            "color": "#f2f5fa"
           }
          },
          "sliderdefaults": {
           "bgcolor": "#C8D4E3",
           "bordercolor": "rgb(17,17,17)",
           "borderwidth": 1,
           "tickwidth": 0
          },
          "ternary": {
           "aaxis": {
            "gridcolor": "#506784",
            "linecolor": "#506784",
            "ticks": ""
           },
           "baxis": {
            "gridcolor": "#506784",
            "linecolor": "#506784",
            "ticks": ""
           },
           "bgcolor": "rgb(17,17,17)",
           "caxis": {
            "gridcolor": "#506784",
            "linecolor": "#506784",
            "ticks": ""
           }
          },
          "title": {
           "x": 0.05
          },
          "updatemenudefaults": {
           "bgcolor": "#506784",
           "borderwidth": 0
          },
          "xaxis": {
           "automargin": true,
           "gridcolor": "#283442",
           "linecolor": "#506784",
           "ticks": "",
           "title": {
            "standoff": 15
           },
           "zerolinecolor": "#283442",
           "zerolinewidth": 2
          },
          "yaxis": {
           "automargin": true,
           "gridcolor": "#283442",
           "linecolor": "#506784",
           "ticks": "",
           "title": {
            "standoff": 15
           },
           "zerolinecolor": "#283442",
           "zerolinewidth": 2
          }
         }
        },
        "title": {
         "text": "MAE over time"
        },
        "xaxis": {
         "anchor": "y",
         "autorange": true,
         "domain": [
          0,
          1
         ],
         "range": [
          0,
          3
         ],
         "title": {
          "text": "Time"
         },
         "type": "linear"
        },
        "yaxis": {
         "anchor": "x",
         "autorange": true,
         "domain": [
          0,
          1
         ],
         "range": [
          0.5832841959264543,
          0.5938771996233199
         ],
         "title": {
          "text": "MAE"
         },
         "type": "linear"
        }
       }
      },
      "image/png": "[encoded data removed]",
      "text/html": [
       "<div>                            <div id=\"b45a2504-97c3-429d-aea2-2efcec3244b4\" class=\"plotly-graph-div\" style=\"height:525px; width:100%;\"></div>            <script type=\"text/javascript\">                require([\"plotly\"], function(Plotly) {                    window.PLOTLYENV=window.PLOTLYENV || {};                                    if (document.getElementById(\"b45a2504-97c3-429d-aea2-2efcec3244b4\")) {                    Plotly.newPlot(                        \"b45a2504-97c3-429d-aea2-2efcec3244b4\",                        [{\"hovertemplate\": \"variable=0<br>index=%{x}<br>value=%{y}<extra></extra>\", \"legendgroup\": \"0\", \"line\": {\"color\": \"#636efa\", \"dash\": \"solid\"}, \"mode\": \"lines\", \"name\": \"0\", \"orientation\": \"v\", \"showlegend\": true, \"type\": \"scatter\", \"x\": [0, 1, 2, 3], \"xaxis\": \"x\", \"y\": [0.585658609867096, 0.5838138461112976, 0.5877366065979004, 0.5933475494384766], \"yaxis\": \"y\"}],                        {\"legend\": {\"title\": {\"text\": \"variable\"}, \"tracegroupgap\": 0}, \"template\": {\"data\": {\"bar\": [{\"error_x\": {\"color\": \"#f2f5fa\"}, \"error_y\": {\"color\": \"#f2f5fa\"}, \"marker\": {\"line\": {\"color\": \"rgb(17,17,17)\", \"width\": 0.5}}, \"type\": \"bar\"}], \"barpolar\": [{\"marker\": {\"line\": {\"color\": \"rgb(17,17,17)\", \"width\": 0.5}}, \"type\": \"barpolar\"}], \"carpet\": [{\"aaxis\": {\"endlinecolor\": \"#A2B1C6\", \"gridcolor\": \"#506784\", \"linecolor\": \"#506784\", \"minorgridcolor\": \"#506784\", \"startlinecolor\": \"#A2B1C6\"}, \"baxis\": {\"endlinecolor\": \"#A2B1C6\", \"gridcolor\": \"#506784\", \"linecolor\": \"#506784\", \"minorgridcolor\": \"#506784\", \"startlinecolor\": \"#A2B1C6\"}, \"type\": \"carpet\"}], \"choropleth\": [{\"colorbar\": {\"outlinewidth\": 0, \"ticks\": \"\"}, \"type\": \"choropleth\"}], \"contour\": [{\"colorbar\": {\"outlinewidth\": 0, \"ticks\": \"\"}, \"colorscale\": [[0.0, \"#0d0887\"], [0.1111111111111111, \"#46039f\"], [0.2222222222222222, \"#7201a8\"], [0.3333333333333333, \"#9c179e\"], [0.4444444444444444, \"#bd3786\"], [0.5555555555555556, \"#d8576b\"], [0.6666666666666666, \"#ed7953\"], [0.7777777777777778, \"#fb9f3a\"], [0.8888888888888888, \"#fdca26\"], [1.0, \"#f0f921\"]], \"type\": \"contour\"}], \"contourcarpet\": [{\"colorbar\": {\"outlinewidth\": 0, \"ticks\": \"\"}, \"type\": \"contourcarpet\"}], \"heatmap\": [{\"colorbar\": {\"outlinewidth\": 0, \"ticks\": \"\"}, \"colorscale\": [[0.0, \"#0d0887\"], [0.1111111111111111, \"#46039f\"], [0.2222222222222222, \"#7201a8\"], [0.3333333333333333, \"#9c179e\"], [0.4444444444444444, \"#bd3786\"], [0.5555555555555556, \"#d8576b\"], [0.6666666666666666, \"#ed7953\"], [0.7777777777777778, \"#fb9f3a\"], [0.8888888888888888, \"#fdca26\"], [1.0, \"#f0f921\"]], \"type\": \"heatmap\"}], \"heatmapgl\": [{\"colorbar\": {\"outlinewidth\": 0, \"ticks\": \"\"}, \"colorscale\": [[0.0, \"#0d0887\"], [0.1111111111111111, \"#46039f\"], [0.2222222222222222, \"#7201a8\"], [0.3333333333333333, \"#9c179e\"], [0.4444444444444444, \"#bd3786\"], [0.5555555555555556, \"#d8576b\"], [0.6666666666666666, \"#ed7953\"], [0.7777777777777778, \"#fb9f3a\"], [0.8888888888888888, \"#fdca26\"], [1.0, \"#f0f921\"]], \"type\": \"heatmapgl\"}], \"histogram\": [{\"marker\": {\"colorbar\": {\"outlinewidth\": 0, \"ticks\": \"\"}}, \"type\": \"histogram\"}], \"histogram2d\": [{\"colorbar\": {\"outlinewidth\": 0, \"ticks\": \"\"}, \"colorscale\": [[0.0, \"#0d0887\"], [0.1111111111111111, \"#46039f\"], [0.2222222222222222, \"#7201a8\"], [0.3333333333333333, \"#9c179e\"], [0.4444444444444444, \"#bd3786\"], [0.5555555555555556, \"#d8576b\"], [0.6666666666666666, \"#ed7953\"], [0.7777777777777778, \"#fb9f3a\"], [0.8888888888888888, \"#fdca26\"], [1.0, \"#f0f921\"]], \"type\": \"histogram2d\"}], \"histogram2dcontour\": [{\"colorbar\": {\"outlinewidth\": 0, \"ticks\": \"\"}, \"colorscale\": [[0.0, \"#0d0887\"], [0.1111111111111111, \"#46039f\"], [0.2222222222222222, \"#7201a8\"], [0.3333333333333333, \"#9c179e\"], [0.4444444444444444, \"#bd3786\"], [0.5555555555555556, \"#d8576b\"], [0.6666666666666666, \"#ed7953\"], [0.7777777777777778, \"#fb9f3a\"], [0.8888888888888888, \"#fdca26\"], [1.0, \"#f0f921\"]], \"type\": \"histogram2dcontour\"}], \"mesh3d\": [{\"colorbar\": {\"outlinewidth\": 0, \"ticks\": \"\"}, \"type\": \"mesh3d\"}], \"parcoords\": [{\"line\": {\"colorbar\": {\"outlinewidth\": 0, \"ticks\": \"\"}}, \"type\": \"parcoords\"}], \"pie\": [{\"automargin\": true, \"type\": \"pie\"}], \"scatter\": [{\"marker\": {\"line\": {\"color\": \"#283442\"}}, \"type\": \"scatter\"}], \"scatter3d\": [{\"line\": {\"colorbar\": {\"outlinewidth\": 0, \"ticks\": \"\"}}, \"marker\": {\"colorbar\": {\"outlinewidth\": 0, \"ticks\": \"\"}}, \"type\": \"scatter3d\"}], \"scattercarpet\": [{\"marker\": {\"colorbar\": {\"outlinewidth\": 0, \"ticks\": \"\"}}, \"type\": \"scattercarpet\"}], \"scattergeo\": [{\"marker\": {\"colorbar\": {\"outlinewidth\": 0, \"ticks\": \"\"}}, \"type\": \"scattergeo\"}], \"scattergl\": [{\"marker\": {\"line\": {\"color\": \"#283442\"}}, \"type\": \"scattergl\"}], \"scattermapbox\": [{\"marker\": {\"colorbar\": {\"outlinewidth\": 0, \"ticks\": \"\"}}, \"type\": \"scattermapbox\"}], \"scatterpolar\": [{\"marker\": {\"colorbar\": {\"outlinewidth\": 0, \"ticks\": \"\"}}, \"type\": \"scatterpolar\"}], \"scatterpolargl\": [{\"marker\": {\"colorbar\": {\"outlinewidth\": 0, \"ticks\": \"\"}}, \"type\": \"scatterpolargl\"}], \"scatterternary\": [{\"marker\": {\"colorbar\": {\"outlinewidth\": 0, \"ticks\": \"\"}}, \"type\": \"scatterternary\"}], \"surface\": [{\"colorbar\": {\"outlinewidth\": 0, \"ticks\": \"\"}, \"colorscale\": [[0.0, \"#0d0887\"], [0.1111111111111111, \"#46039f\"], [0.2222222222222222, \"#7201a8\"], [0.3333333333333333, \"#9c179e\"], [0.4444444444444444, \"#bd3786\"], [0.5555555555555556, \"#d8576b\"], [0.6666666666666666, \"#ed7953\"], [0.7777777777777778, \"#fb9f3a\"], [0.8888888888888888, \"#fdca26\"], [1.0, \"#f0f921\"]], \"type\": \"surface\"}], \"table\": [{\"cells\": {\"fill\": {\"color\": \"#506784\"}, \"line\": {\"color\": \"rgb(17,17,17)\"}}, \"header\": {\"fill\": {\"color\": \"#2a3f5f\"}, \"line\": {\"color\": \"rgb(17,17,17)\"}}, \"type\": \"table\"}]}, \"layout\": {\"annotationdefaults\": {\"arrowcolor\": \"#f2f5fa\", \"arrowhead\": 0, \"arrowwidth\": 1}, \"autotypenumbers\": \"strict\", \"coloraxis\": {\"colorbar\": {\"outlinewidth\": 0, \"ticks\": \"\"}}, \"colorscale\": {\"diverging\": [[0, \"#8e0152\"], [0.1, \"#c51b7d\"], [0.2, \"#de77ae\"], [0.3, \"#f1b6da\"], [0.4, \"#fde0ef\"], [0.5, \"#f7f7f7\"], [0.6, \"#e6f5d0\"], [0.7, \"#b8e186\"], [0.8, \"#7fbc41\"], [0.9, \"#4d9221\"], [1, \"#276419\"]], \"sequential\": [[0.0, \"#0d0887\"], [0.1111111111111111, \"#46039f\"], [0.2222222222222222, \"#7201a8\"], [0.3333333333333333, \"#9c179e\"], [0.4444444444444444, \"#bd3786\"], [0.5555555555555556, \"#d8576b\"], [0.6666666666666666, \"#ed7953\"], [0.7777777777777778, \"#fb9f3a\"], [0.8888888888888888, \"#fdca26\"], [1.0, \"#f0f921\"]], \"sequentialminus\": [[0.0, \"#0d0887\"], [0.1111111111111111, \"#46039f\"], [0.2222222222222222, \"#7201a8\"], [0.3333333333333333, \"#9c179e\"], [0.4444444444444444, \"#bd3786\"], [0.5555555555555556, \"#d8576b\"], [0.6666666666666666, \"#ed7953\"], [0.7777777777777778, \"#fb9f3a\"], [0.8888888888888888, \"#fdca26\"], [1.0, \"#f0f921\"]]}, \"colorway\": [\"#636efa\", \"#EF553B\", \"#00cc96\", \"#ab63fa\", \"#FFA15A\", \"#19d3f3\", \"#FF6692\", \"#B6E880\", \"#FF97FF\", \"#FECB52\"], \"font\": {\"color\": \"#f2f5fa\"}, \"geo\": {\"bgcolor\": \"rgb(17,17,17)\", \"lakecolor\": \"rgb(17,17,17)\", \"landcolor\": \"rgb(17,17,17)\", \"showlakes\": true, \"showland\": true, \"subunitcolor\": \"#506784\"}, \"hoverlabel\": {\"align\": \"left\"}, \"hovermode\": \"closest\", \"mapbox\": {\"style\": \"dark\"}, \"paper_bgcolor\": \"rgb(17,17,17)\", \"plot_bgcolor\": \"rgb(17,17,17)\", \"polar\": {\"angularaxis\": {\"gridcolor\": \"#506784\", \"linecolor\": \"#506784\", \"ticks\": \"\"}, \"bgcolor\": \"rgb(17,17,17)\", \"radialaxis\": {\"gridcolor\": \"#506784\", \"linecolor\": \"#506784\", \"ticks\": \"\"}}, \"scene\": {\"xaxis\": {\"backgroundcolor\": \"rgb(17,17,17)\", \"gridcolor\": \"#506784\", \"gridwidth\": 2, \"linecolor\": \"#506784\", \"showbackground\": true, \"ticks\": \"\", \"zerolinecolor\": \"#C8D4E3\"}, \"yaxis\": {\"backgroundcolor\": \"rgb(17,17,17)\", \"gridcolor\": \"#506784\", \"gridwidth\": 2, \"linecolor\": \"#506784\", \"showbackground\": true, \"ticks\": \"\", \"zerolinecolor\": \"#C8D4E3\"}, \"zaxis\": {\"backgroundcolor\": \"rgb(17,17,17)\", \"gridcolor\": \"#506784\", \"gridwidth\": 2, \"linecolor\": \"#506784\", \"showbackground\": true, \"ticks\": \"\", \"zerolinecolor\": \"#C8D4E3\"}}, \"shapedefaults\": {\"line\": {\"color\": \"#f2f5fa\"}}, \"sliderdefaults\": {\"bgcolor\": \"#C8D4E3\", \"bordercolor\": \"rgb(17,17,17)\", \"borderwidth\": 1, \"tickwidth\": 0}, \"ternary\": {\"aaxis\": {\"gridcolor\": \"#506784\", \"linecolor\": \"#506784\", \"ticks\": \"\"}, \"baxis\": {\"gridcolor\": \"#506784\", \"linecolor\": \"#506784\", \"ticks\": \"\"}, \"bgcolor\": \"rgb(17,17,17)\", \"caxis\": {\"gridcolor\": \"#506784\", \"linecolor\": \"#506784\", \"ticks\": \"\"}}, \"title\": {\"x\": 0.05}, \"updatemenudefaults\": {\"bgcolor\": \"#506784\", \"borderwidth\": 0}, \"xaxis\": {\"automargin\": true, \"gridcolor\": \"#283442\", \"linecolor\": \"#506784\", \"ticks\": \"\", \"title\": {\"standoff\": 15}, \"zerolinecolor\": \"#283442\", \"zerolinewidth\": 2}, \"yaxis\": {\"automargin\": true, \"gridcolor\": \"#283442\", \"linecolor\": \"#506784\", \"ticks\": \"\", \"title\": {\"standoff\": 15}, \"zerolinecolor\": \"#283442\", \"zerolinewidth\": 2}}}, \"title\": {\"text\": \"MAE over time\"}, \"xaxis\": {\"anchor\": \"y\", \"domain\": [0.0, 1.0], \"title\": {\"text\": \"Time\"}}, \"yaxis\": {\"anchor\": \"x\", \"domain\": [0.0, 1.0], \"title\": {\"text\": \"MAE\"}}},                        {\"responsive\": true}                    ).then(function(){\n",
       "                            \n",
       "var gd = document.getElementById('b45a2504-97c3-429d-aea2-2efcec3244b4');\n",
       "var x = new MutationObserver(function (mutations, observer) {{\n",
       "        var display = window.getComputedStyle(gd).display;\n",
       "        if (!display || display === 'none') {{\n",
       "            console.log([gd, 'removed!']);\n",
       "            Plotly.purge(gd);\n",
       "            observer.disconnect();\n",
       "        }}\n",
       "}});\n",
       "\n",
       "// Listen for the removal of the full notebook cells\n",
       "var notebookContainer = gd.closest('#notebook-container');\n",
       "if (notebookContainer) {{\n",
       "    x.observe(notebookContainer, {childList: true});\n",
       "}}\n",
       "\n",
       "// Listen for the clearing of the current output cell\n",
       "var outputEl = gd.closest('.output');\n",
       "if (outputEl) {{\n",
       "    x.observe(outputEl, {childList: true});\n",
       "}}\n",
       "\n",
       "                        })                };                });            </script>        </div>"
      ]
     },
     "metadata": {},
     "output_type": "display_data"
    }
   ],
   "source": [
    "display_history(history)"
   ]
  },
  {
   "cell_type": "code",
   "execution_count": null,
   "metadata": {},
   "outputs": [],
   "source": [
    "# TODO: new display_log_ret_returns....get price zero convert back to prices"
   ]
  },
  {
   "cell_type": "code",
   "execution_count": 25,
   "metadata": {},
   "outputs": [
    {
     "data": {
      "application/vnd.plotly.v1+json": {
       "config": {
        "plotlyServerURL": "https://plot.ly"
       },
       "data": [
        {
         "mode": "lines",
         "name": "Actual",
         "type": "scatter",
         "x": [
          "2018-01-16T00:00:00+00:00",
          "2018-01-17T00:00:00+00:00",
          "2018-01-18T00:00:00+00:00",
          "2018-01-19T00:00:00+00:00",
          "2018-01-20T00:00:00+00:00",
          "2018-01-21T00:00:00+00:00",
          "2018-01-22T00:00:00+00:00",
          "2018-01-23T00:00:00+00:00",
          "2018-01-24T00:00:00+00:00",
          "2018-01-25T00:00:00+00:00",
          "2018-01-26T00:00:00+00:00",
          "2018-01-27T00:00:00+00:00",
          "2018-01-28T00:00:00+00:00",
          "2018-01-29T00:00:00+00:00",
          "2018-01-30T00:00:00+00:00",
          "2018-01-31T00:00:00+00:00",
          "2018-02-01T00:00:00+00:00",
          "2018-02-02T00:00:00+00:00",
          "2018-02-03T00:00:00+00:00",
          "2018-02-04T00:00:00+00:00",
          "2018-02-05T00:00:00+00:00",
          "2018-02-06T00:00:00+00:00",
          "2018-02-07T00:00:00+00:00",
          "2018-02-08T00:00:00+00:00",
          "2018-02-09T00:00:00+00:00",
          "2018-02-10T00:00:00+00:00",
          "2018-02-11T00:00:00+00:00",
          "2018-02-12T00:00:00+00:00",
          "2018-02-13T00:00:00+00:00",
          "2018-02-14T00:00:00+00:00",
          "2018-02-15T00:00:00+00:00",
          "2018-02-16T00:00:00+00:00",
          "2018-02-17T00:00:00+00:00",
          "2018-02-18T00:00:00+00:00",
          "2018-02-19T00:00:00+00:00",
          "2018-02-20T00:00:00+00:00",
          "2018-02-21T00:00:00+00:00",
          "2018-02-22T00:00:00+00:00",
          "2018-02-23T00:00:00+00:00",
          "2018-02-24T00:00:00+00:00",
          "2018-02-25T00:00:00+00:00",
          "2018-02-26T00:00:00+00:00",
          "2018-02-27T00:00:00+00:00",
          "2018-02-28T00:00:00+00:00",
          "2018-03-01T00:00:00+00:00",
          "2018-03-02T00:00:00+00:00",
          "2018-03-03T00:00:00+00:00",
          "2018-03-04T00:00:00+00:00",
          "2018-03-05T00:00:00+00:00",
          "2018-03-06T00:00:00+00:00",
          "2018-03-07T00:00:00+00:00",
          "2018-03-08T00:00:00+00:00",
          "2018-03-09T00:00:00+00:00",
          "2018-03-10T00:00:00+00:00",
          "2018-03-11T00:00:00+00:00",
          "2018-03-12T00:00:00+00:00",
          "2018-03-13T00:00:00+00:00",
          "2018-03-14T00:00:00+00:00",
          "2018-03-15T00:00:00+00:00",
          "2018-03-16T00:00:00+00:00",
          "2018-03-17T00:00:00+00:00",
          "2018-03-18T00:00:00+00:00",
          "2018-03-19T00:00:00+00:00",
          "2018-03-20T00:00:00+00:00",
          "2018-03-21T00:00:00+00:00",
          "2018-03-22T00:00:00+00:00",
          "2018-03-23T00:00:00+00:00",
          "2018-03-24T00:00:00+00:00",
          "2018-03-25T00:00:00+00:00",
          "2018-03-26T00:00:00+00:00",
          "2018-03-27T00:00:00+00:00",
          "2018-03-28T00:00:00+00:00",
          "2018-03-29T00:00:00+00:00",
          "2018-03-30T00:00:00+00:00",
          "2018-03-31T00:00:00+00:00",
          "2018-04-01T00:00:00+00:00",
          "2018-04-02T00:00:00+00:00",
          "2018-04-03T00:00:00+00:00",
          "2018-04-04T00:00:00+00:00",
          "2018-04-05T00:00:00+00:00",
          "2018-04-06T00:00:00+00:00",
          "2018-04-07T00:00:00+00:00",
          "2018-04-08T00:00:00+00:00",
          "2018-04-09T00:00:00+00:00",
          "2018-04-10T00:00:00+00:00",
          "2018-04-11T00:00:00+00:00",
          "2018-04-12T00:00:00+00:00",
          "2018-04-13T00:00:00+00:00",
          "2018-04-14T00:00:00+00:00",
          "2018-04-15T00:00:00+00:00",
          "2018-04-16T00:00:00+00:00",
          "2018-04-17T00:00:00+00:00",
          "2018-04-18T00:00:00+00:00",
          "2018-04-19T00:00:00+00:00",
          "2018-04-20T00:00:00+00:00",
          "2018-04-21T00:00:00+00:00",
          "2018-04-22T00:00:00+00:00",
          "2018-04-23T00:00:00+00:00",
          "2018-04-24T00:00:00+00:00",
          "2018-04-25T00:00:00+00:00",
          "2018-04-26T00:00:00+00:00",
          "2018-04-27T00:00:00+00:00",
          "2018-04-28T00:00:00+00:00",
          "2018-04-29T00:00:00+00:00",
          "2018-04-30T00:00:00+00:00",
          "2018-05-01T00:00:00+00:00",
          "2018-05-02T00:00:00+00:00",
          "2018-05-03T00:00:00+00:00",
          "2018-05-04T00:00:00+00:00",
          "2018-05-05T00:00:00+00:00",
          "2018-05-06T00:00:00+00:00",
          "2018-05-07T00:00:00+00:00",
          "2018-05-08T00:00:00+00:00",
          "2018-05-09T00:00:00+00:00",
          "2018-05-10T00:00:00+00:00",
          "2018-05-11T00:00:00+00:00",
          "2018-05-12T00:00:00+00:00",
          "2018-05-13T00:00:00+00:00",
          "2018-05-14T00:00:00+00:00",
          "2018-05-15T00:00:00+00:00",
          "2018-05-16T00:00:00+00:00",
          "2018-05-17T00:00:00+00:00",
          "2018-05-18T00:00:00+00:00",
          "2018-05-19T00:00:00+00:00",
          "2018-05-20T00:00:00+00:00",
          "2018-05-21T00:00:00+00:00",
          "2018-05-22T00:00:00+00:00",
          "2018-05-23T00:00:00+00:00",
          "2018-05-24T00:00:00+00:00",
          "2018-05-25T00:00:00+00:00",
          "2018-05-26T00:00:00+00:00",
          "2018-05-27T00:00:00+00:00",
          "2018-05-28T00:00:00+00:00",
          "2018-05-29T00:00:00+00:00",
          "2018-05-30T00:00:00+00:00",
          "2018-05-31T00:00:00+00:00",
          "2018-06-01T00:00:00+00:00",
          "2018-06-02T00:00:00+00:00",
          "2018-06-03T00:00:00+00:00",
          "2018-06-04T00:00:00+00:00",
          "2018-06-05T00:00:00+00:00",
          "2018-06-06T00:00:00+00:00",
          "2018-06-07T00:00:00+00:00",
          "2018-06-08T00:00:00+00:00",
          "2018-06-09T00:00:00+00:00",
          "2018-06-10T00:00:00+00:00",
          "2018-06-11T00:00:00+00:00",
          "2018-06-12T00:00:00+00:00",
          "2018-06-13T00:00:00+00:00",
          "2018-06-14T00:00:00+00:00",
          "2018-06-15T00:00:00+00:00",
          "2018-06-16T00:00:00+00:00",
          "2018-06-17T00:00:00+00:00",
          "2018-06-18T00:00:00+00:00",
          "2018-06-19T00:00:00+00:00",
          "2018-06-20T00:00:00+00:00",
          "2018-06-21T00:00:00+00:00",
          "2018-06-22T00:00:00+00:00",
          "2018-06-23T00:00:00+00:00",
          "2018-06-24T00:00:00+00:00",
          "2018-06-25T00:00:00+00:00",
          "2018-06-26T00:00:00+00:00",
          "2018-06-27T00:00:00+00:00",
          "2018-06-28T00:00:00+00:00",
          "2018-06-29T00:00:00+00:00",
          "2018-06-30T00:00:00+00:00",
          "2018-07-01T00:00:00+00:00",
          "2018-07-02T00:00:00+00:00",
          "2018-07-03T00:00:00+00:00",
          "2018-07-04T00:00:00+00:00",
          "2018-07-05T00:00:00+00:00",
          "2018-07-06T00:00:00+00:00",
          "2018-07-07T00:00:00+00:00",
          "2018-07-08T00:00:00+00:00",
          "2018-07-09T00:00:00+00:00",
          "2018-07-10T00:00:00+00:00",
          "2018-07-11T00:00:00+00:00",
          "2018-07-12T00:00:00+00:00",
          "2018-07-13T00:00:00+00:00",
          "2018-07-14T00:00:00+00:00",
          "2018-07-15T00:00:00+00:00",
          "2018-07-16T00:00:00+00:00",
          "2018-07-17T00:00:00+00:00",
          "2018-07-18T00:00:00+00:00",
          "2018-07-19T00:00:00+00:00",
          "2018-07-20T00:00:00+00:00",
          "2018-07-21T00:00:00+00:00",
          "2018-07-22T00:00:00+00:00",
          "2018-07-23T00:00:00+00:00",
          "2018-07-24T00:00:00+00:00",
          "2018-07-25T00:00:00+00:00",
          "2018-07-26T00:00:00+00:00",
          "2018-07-27T00:00:00+00:00",
          "2018-07-28T00:00:00+00:00",
          "2018-07-29T00:00:00+00:00",
          "2018-07-30T00:00:00+00:00",
          "2018-07-31T00:00:00+00:00",
          "2018-08-01T00:00:00+00:00",
          "2018-08-02T00:00:00+00:00",
          "2018-08-03T00:00:00+00:00",
          "2018-08-04T00:00:00+00:00",
          "2018-08-05T00:00:00+00:00",
          "2018-08-06T00:00:00+00:00",
          "2018-08-07T00:00:00+00:00",
          "2018-08-08T00:00:00+00:00",
          "2018-08-09T00:00:00+00:00",
          "2018-08-10T00:00:00+00:00",
          "2018-08-11T00:00:00+00:00",
          "2018-08-12T00:00:00+00:00",
          "2018-08-13T00:00:00+00:00",
          "2018-08-14T00:00:00+00:00",
          "2018-08-15T00:00:00+00:00",
          "2018-08-16T00:00:00+00:00",
          "2018-08-17T00:00:00+00:00",
          "2018-08-18T00:00:00+00:00",
          "2018-08-19T00:00:00+00:00",
          "2018-08-20T00:00:00+00:00",
          "2018-08-21T00:00:00+00:00",
          "2018-08-22T00:00:00+00:00",
          "2018-08-23T00:00:00+00:00",
          "2018-08-24T00:00:00+00:00",
          "2018-08-25T00:00:00+00:00",
          "2018-08-26T00:00:00+00:00",
          "2018-08-27T00:00:00+00:00",
          "2018-08-28T00:00:00+00:00",
          "2018-08-29T00:00:00+00:00",
          "2018-08-30T00:00:00+00:00",
          "2018-08-31T00:00:00+00:00",
          "2018-09-01T00:00:00+00:00",
          "2018-09-02T00:00:00+00:00",
          "2018-09-03T00:00:00+00:00",
          "2018-09-04T00:00:00+00:00",
          "2018-09-05T00:00:00+00:00",
          "2018-09-06T00:00:00+00:00",
          "2018-09-07T00:00:00+00:00",
          "2018-09-08T00:00:00+00:00",
          "2018-09-09T00:00:00+00:00",
          "2018-09-10T00:00:00+00:00",
          "2018-09-11T00:00:00+00:00",
          "2018-09-12T00:00:00+00:00",
          "2018-09-13T00:00:00+00:00",
          "2018-09-14T00:00:00+00:00",
          "2018-09-15T00:00:00+00:00",
          "2018-09-16T00:00:00+00:00",
          "2018-09-17T00:00:00+00:00",
          "2018-09-18T00:00:00+00:00",
          "2018-09-19T00:00:00+00:00",
          "2018-09-20T00:00:00+00:00",
          "2018-09-21T00:00:00+00:00",
          "2018-09-22T00:00:00+00:00",
          "2018-09-23T00:00:00+00:00",
          "2018-09-24T00:00:00+00:00",
          "2018-09-25T00:00:00+00:00",
          "2018-09-26T00:00:00+00:00",
          "2018-09-27T00:00:00+00:00",
          "2018-09-28T00:00:00+00:00",
          "2018-09-29T00:00:00+00:00",
          "2018-09-30T00:00:00+00:00",
          "2018-10-01T00:00:00+00:00",
          "2018-10-02T00:00:00+00:00",
          "2018-10-03T00:00:00+00:00",
          "2018-10-04T00:00:00+00:00",
          "2018-10-05T00:00:00+00:00",
          "2018-10-06T00:00:00+00:00",
          "2018-10-07T00:00:00+00:00",
          "2018-10-08T00:00:00+00:00",
          "2018-10-09T00:00:00+00:00",
          "2018-10-10T00:00:00+00:00",
          "2018-10-11T00:00:00+00:00",
          "2018-10-12T00:00:00+00:00",
          "2018-10-13T00:00:00+00:00",
          "2018-10-14T00:00:00+00:00",
          "2018-10-15T00:00:00+00:00",
          "2018-10-16T00:00:00+00:00",
          "2018-10-17T00:00:00+00:00",
          "2018-10-18T00:00:00+00:00",
          "2018-10-19T00:00:00+00:00",
          "2018-10-20T00:00:00+00:00",
          "2018-10-21T00:00:00+00:00",
          "2018-10-22T00:00:00+00:00",
          "2018-10-23T00:00:00+00:00",
          "2018-10-24T00:00:00+00:00",
          "2018-10-25T00:00:00+00:00",
          "2018-10-26T00:00:00+00:00",
          "2018-10-27T00:00:00+00:00",
          "2018-10-28T00:00:00+00:00",
          "2018-10-29T00:00:00+00:00",
          "2018-10-30T00:00:00+00:00",
          "2018-10-31T00:00:00+00:00",
          "2018-11-01T00:00:00+00:00",
          "2018-11-02T00:00:00+00:00",
          "2018-11-03T00:00:00+00:00",
          "2018-11-04T00:00:00+00:00",
          "2018-11-05T00:00:00+00:00",
          "2018-11-06T00:00:00+00:00",
          "2018-11-07T00:00:00+00:00",
          "2018-11-08T00:00:00+00:00",
          "2018-11-09T00:00:00+00:00",
          "2018-11-10T00:00:00+00:00",
          "2018-11-11T00:00:00+00:00",
          "2018-11-12T00:00:00+00:00",
          "2018-11-13T00:00:00+00:00",
          "2018-11-14T00:00:00+00:00",
          "2018-11-15T00:00:00+00:00",
          "2018-11-16T00:00:00+00:00",
          "2018-11-17T00:00:00+00:00",
          "2018-11-18T00:00:00+00:00",
          "2018-11-19T00:00:00+00:00",
          "2018-11-20T00:00:00+00:00",
          "2018-11-21T00:00:00+00:00",
          "2018-11-22T00:00:00+00:00",
          "2018-11-23T00:00:00+00:00",
          "2018-11-24T00:00:00+00:00",
          "2018-11-25T00:00:00+00:00",
          "2018-11-26T00:00:00+00:00",
          "2018-11-27T00:00:00+00:00",
          "2018-11-28T00:00:00+00:00",
          "2018-11-29T00:00:00+00:00",
          "2018-11-30T00:00:00+00:00",
          "2018-12-01T00:00:00+00:00",
          "2018-12-02T00:00:00+00:00",
          "2018-12-03T00:00:00+00:00",
          "2018-12-04T00:00:00+00:00",
          "2018-12-05T00:00:00+00:00",
          "2018-12-06T00:00:00+00:00",
          "2018-12-07T00:00:00+00:00",
          "2018-12-08T00:00:00+00:00",
          "2018-12-09T00:00:00+00:00",
          "2018-12-10T00:00:00+00:00",
          "2018-12-11T00:00:00+00:00",
          "2018-12-12T00:00:00+00:00",
          "2018-12-13T00:00:00+00:00",
          "2018-12-14T00:00:00+00:00",
          "2018-12-15T00:00:00+00:00",
          "2018-12-16T00:00:00+00:00",
          "2018-12-17T00:00:00+00:00",
          "2018-12-18T00:00:00+00:00",
          "2018-12-19T00:00:00+00:00",
          "2018-12-20T00:00:00+00:00",
          "2018-12-21T00:00:00+00:00",
          "2018-12-22T00:00:00+00:00",
          "2018-12-23T00:00:00+00:00",
          "2018-12-24T00:00:00+00:00",
          "2018-12-25T00:00:00+00:00",
          "2018-12-26T00:00:00+00:00",
          "2018-12-27T00:00:00+00:00",
          "2018-12-28T00:00:00+00:00",
          "2018-12-29T00:00:00+00:00",
          "2018-12-30T00:00:00+00:00",
          "2018-12-31T00:00:00+00:00",
          "2019-01-01T00:00:00+00:00",
          "2019-01-02T00:00:00+00:00",
          "2019-01-03T00:00:00+00:00",
          "2019-01-04T00:00:00+00:00",
          "2019-01-05T00:00:00+00:00",
          "2019-01-06T00:00:00+00:00",
          "2019-01-07T00:00:00+00:00",
          "2019-01-08T00:00:00+00:00",
          "2019-01-09T00:00:00+00:00",
          "2019-01-10T00:00:00+00:00",
          "2019-01-11T00:00:00+00:00",
          "2019-01-12T00:00:00+00:00",
          "2019-01-13T00:00:00+00:00",
          "2019-01-14T00:00:00+00:00",
          "2019-01-15T00:00:00+00:00",
          "2019-01-16T00:00:00+00:00",
          "2019-01-17T00:00:00+00:00",
          "2019-01-18T00:00:00+00:00",
          "2019-01-19T00:00:00+00:00",
          "2019-01-20T00:00:00+00:00",
          "2019-01-21T00:00:00+00:00",
          "2019-01-22T00:00:00+00:00",
          "2019-01-23T00:00:00+00:00",
          "2019-01-24T00:00:00+00:00",
          "2019-01-25T00:00:00+00:00",
          "2019-01-26T00:00:00+00:00",
          "2019-01-27T00:00:00+00:00",
          "2019-01-28T00:00:00+00:00",
          "2019-01-29T00:00:00+00:00",
          "2019-01-30T00:00:00+00:00",
          "2019-01-31T00:00:00+00:00",
          "2019-02-01T00:00:00+00:00",
          "2019-02-02T00:00:00+00:00",
          "2019-02-03T00:00:00+00:00",
          "2019-02-04T00:00:00+00:00",
          "2019-02-05T00:00:00+00:00",
          "2019-02-06T00:00:00+00:00",
          "2019-02-07T00:00:00+00:00",
          "2019-02-08T00:00:00+00:00",
          "2019-02-09T00:00:00+00:00",
          "2019-02-10T00:00:00+00:00",
          "2019-02-11T00:00:00+00:00",
          "2019-02-12T00:00:00+00:00",
          "2019-02-13T00:00:00+00:00",
          "2019-02-14T00:00:00+00:00",
          "2019-02-15T00:00:00+00:00",
          "2019-02-16T00:00:00+00:00",
          "2019-02-17T00:00:00+00:00",
          "2019-02-18T00:00:00+00:00",
          "2019-02-19T00:00:00+00:00",
          "2019-02-20T00:00:00+00:00",
          "2019-02-21T00:00:00+00:00",
          "2019-02-22T00:00:00+00:00",
          "2019-02-23T00:00:00+00:00",
          "2019-02-24T00:00:00+00:00",
          "2019-02-25T00:00:00+00:00",
          "2019-02-26T00:00:00+00:00",
          "2019-02-27T00:00:00+00:00",
          "2019-02-28T00:00:00+00:00",
          "2019-03-01T00:00:00+00:00",
          "2019-03-02T00:00:00+00:00",
          "2019-03-03T00:00:00+00:00",
          "2019-03-04T00:00:00+00:00",
          "2019-03-05T00:00:00+00:00",
          "2019-03-06T00:00:00+00:00",
          "2019-03-07T00:00:00+00:00",
          "2019-03-08T00:00:00+00:00",
          "2019-03-09T00:00:00+00:00",
          "2019-03-10T00:00:00+00:00",
          "2019-03-11T00:00:00+00:00",
          "2019-03-12T00:00:00+00:00",
          "2019-03-13T00:00:00+00:00",
          "2019-03-14T00:00:00+00:00",
          "2019-03-15T00:00:00+00:00",
          "2019-03-16T00:00:00+00:00",
          "2019-03-17T00:00:00+00:00",
          "2019-03-18T00:00:00+00:00",
          "2019-03-19T00:00:00+00:00",
          "2019-03-20T00:00:00+00:00",
          "2019-03-21T00:00:00+00:00",
          "2019-03-22T00:00:00+00:00",
          "2019-03-23T00:00:00+00:00",
          "2019-03-24T00:00:00+00:00",
          "2019-03-25T00:00:00+00:00",
          "2019-03-26T00:00:00+00:00",
          "2019-03-27T00:00:00+00:00",
          "2019-03-28T00:00:00+00:00",
          "2019-03-29T00:00:00+00:00",
          "2019-03-30T00:00:00+00:00",
          "2019-03-31T00:00:00+00:00",
          "2019-04-01T00:00:00+00:00",
          "2019-04-02T00:00:00+00:00",
          "2019-04-03T00:00:00+00:00",
          "2019-04-04T00:00:00+00:00",
          "2019-04-05T00:00:00+00:00",
          "2019-04-06T00:00:00+00:00",
          "2019-04-07T00:00:00+00:00",
          "2019-04-08T00:00:00+00:00",
          "2019-04-09T00:00:00+00:00",
          "2019-04-10T00:00:00+00:00",
          "2019-04-11T00:00:00+00:00",
          "2019-04-12T00:00:00+00:00",
          "2019-04-13T00:00:00+00:00",
          "2019-04-14T00:00:00+00:00",
          "2019-04-15T00:00:00+00:00",
          "2019-04-16T00:00:00+00:00",
          "2019-04-17T00:00:00+00:00",
          "2019-04-18T00:00:00+00:00",
          "2019-04-19T00:00:00+00:00",
          "2019-04-20T00:00:00+00:00",
          "2019-04-21T00:00:00+00:00",
          "2019-04-22T00:00:00+00:00",
          "2019-04-23T00:00:00+00:00",
          "2019-04-24T00:00:00+00:00",
          "2019-04-25T00:00:00+00:00",
          "2019-04-26T00:00:00+00:00",
          "2019-04-27T00:00:00+00:00",
          "2019-04-28T00:00:00+00:00",
          "2019-04-29T00:00:00+00:00",
          "2019-04-30T00:00:00+00:00",
          "2019-05-01T00:00:00+00:00",
          "2019-05-02T00:00:00+00:00",
          "2019-05-03T00:00:00+00:00",
          "2019-05-04T00:00:00+00:00",
          "2019-05-05T00:00:00+00:00",
          "2019-05-06T00:00:00+00:00",
          "2019-05-07T00:00:00+00:00",
          "2019-05-08T00:00:00+00:00",
          "2019-05-09T00:00:00+00:00",
          "2019-05-10T00:00:00+00:00",
          "2019-05-11T00:00:00+00:00",
          "2019-05-12T00:00:00+00:00",
          "2019-05-13T00:00:00+00:00",
          "2019-05-14T00:00:00+00:00",
          "2019-05-15T00:00:00+00:00",
          "2019-05-16T00:00:00+00:00",
          "2019-05-17T00:00:00+00:00",
          "2019-05-18T00:00:00+00:00",
          "2019-05-19T00:00:00+00:00",
          "2019-05-20T00:00:00+00:00",
          "2019-05-21T00:00:00+00:00",
          "2019-05-22T00:00:00+00:00",
          "2019-05-23T00:00:00+00:00",
          "2019-05-24T00:00:00+00:00",
          "2019-05-25T00:00:00+00:00",
          "2019-05-26T00:00:00+00:00",
          "2019-05-27T00:00:00+00:00",
          "2019-05-28T00:00:00+00:00",
          "2019-05-29T00:00:00+00:00",
          "2019-05-30T00:00:00+00:00",
          "2019-05-31T00:00:00+00:00",
          "2019-06-01T00:00:00+00:00",
          "2019-06-02T00:00:00+00:00",
          "2019-06-03T00:00:00+00:00",
          "2019-06-04T00:00:00+00:00",
          "2019-06-05T00:00:00+00:00",
          "2019-06-06T00:00:00+00:00",
          "2019-06-07T00:00:00+00:00",
          "2019-06-08T00:00:00+00:00",
          "2019-06-09T00:00:00+00:00",
          "2019-06-10T00:00:00+00:00",
          "2019-06-11T00:00:00+00:00",
          "2019-06-12T00:00:00+00:00",
          "2019-06-13T00:00:00+00:00",
          "2019-06-14T00:00:00+00:00",
          "2019-06-15T00:00:00+00:00",
          "2019-06-16T00:00:00+00:00",
          "2019-06-17T00:00:00+00:00",
          "2019-06-18T00:00:00+00:00",
          "2019-06-19T00:00:00+00:00",
          "2019-06-20T00:00:00+00:00",
          "2019-06-21T00:00:00+00:00",
          "2019-06-22T00:00:00+00:00",
          "2019-06-23T00:00:00+00:00",
          "2019-06-24T00:00:00+00:00",
          "2019-06-25T00:00:00+00:00",
          "2019-06-26T00:00:00+00:00",
          "2019-06-27T00:00:00+00:00",
          "2019-06-28T00:00:00+00:00",
          "2019-06-29T00:00:00+00:00",
          "2019-06-30T00:00:00+00:00",
          "2019-07-01T00:00:00+00:00",
          "2019-07-02T00:00:00+00:00",
          "2019-07-03T00:00:00+00:00",
          "2019-07-04T00:00:00+00:00",
          "2019-07-05T00:00:00+00:00",
          "2019-07-06T00:00:00+00:00",
          "2019-07-07T00:00:00+00:00",
          "2019-07-08T00:00:00+00:00",
          "2019-07-09T00:00:00+00:00",
          "2019-07-10T00:00:00+00:00",
          "2019-07-11T00:00:00+00:00",
          "2019-07-12T00:00:00+00:00",
          "2019-07-13T00:00:00+00:00",
          "2019-07-14T00:00:00+00:00",
          "2019-07-15T00:00:00+00:00",
          "2019-07-16T00:00:00+00:00",
          "2019-07-17T00:00:00+00:00",
          "2019-07-18T00:00:00+00:00",
          "2019-07-19T00:00:00+00:00",
          "2019-07-20T00:00:00+00:00",
          "2019-07-21T00:00:00+00:00",
          "2019-07-22T00:00:00+00:00",
          "2019-07-23T00:00:00+00:00",
          "2019-07-24T00:00:00+00:00",
          "2019-07-25T00:00:00+00:00",
          "2019-07-26T00:00:00+00:00",
          "2019-07-27T00:00:00+00:00",
          "2019-07-28T00:00:00+00:00",
          "2019-07-29T00:00:00+00:00",
          "2019-07-30T00:00:00+00:00",
          "2019-07-31T00:00:00+00:00",
          "2019-08-01T00:00:00+00:00",
          "2019-08-02T00:00:00+00:00",
          "2019-08-03T00:00:00+00:00",
          "2019-08-04T00:00:00+00:00",
          "2019-08-05T00:00:00+00:00",
          "2019-08-06T00:00:00+00:00",
          "2019-08-07T00:00:00+00:00",
          "2019-08-08T00:00:00+00:00",
          "2019-08-09T00:00:00+00:00",
          "2019-08-10T00:00:00+00:00",
          "2019-08-11T00:00:00+00:00",
          "2019-08-12T00:00:00+00:00",
          "2019-08-13T00:00:00+00:00",
          "2019-08-14T00:00:00+00:00",
          "2019-08-15T00:00:00+00:00",
          "2019-08-16T00:00:00+00:00",
          "2019-08-17T00:00:00+00:00",
          "2019-08-18T00:00:00+00:00",
          "2019-08-19T00:00:00+00:00",
          "2019-08-20T00:00:00+00:00",
          "2019-08-21T00:00:00+00:00",
          "2019-08-22T00:00:00+00:00",
          "2019-08-23T00:00:00+00:00",
          "2019-08-24T00:00:00+00:00",
          "2019-08-25T00:00:00+00:00",
          "2019-08-26T00:00:00+00:00",
          "2019-08-27T00:00:00+00:00",
          "2019-08-28T00:00:00+00:00",
          "2019-08-29T00:00:00+00:00",
          "2019-08-30T00:00:00+00:00",
          "2019-08-31T00:00:00+00:00",
          "2019-09-01T00:00:00+00:00",
          "2019-09-02T00:00:00+00:00",
          "2019-09-03T00:00:00+00:00",
          "2019-09-04T00:00:00+00:00",
          "2019-09-05T00:00:00+00:00",
          "2019-09-06T00:00:00+00:00",
          "2019-09-07T00:00:00+00:00",
          "2019-09-08T00:00:00+00:00",
          "2019-09-09T00:00:00+00:00",
          "2019-09-10T00:00:00+00:00",
          "2019-09-11T00:00:00+00:00",
          "2019-09-12T00:00:00+00:00",
          "2019-09-13T00:00:00+00:00",
          "2019-09-14T00:00:00+00:00",
          "2019-09-15T00:00:00+00:00",
          "2019-09-16T00:00:00+00:00",
          "2019-09-17T00:00:00+00:00",
          "2019-09-18T00:00:00+00:00",
          "2019-09-19T00:00:00+00:00",
          "2019-09-20T00:00:00+00:00",
          "2019-09-21T00:00:00+00:00",
          "2019-09-22T00:00:00+00:00",
          "2019-09-23T00:00:00+00:00",
          "2019-09-24T00:00:00+00:00",
          "2019-09-25T00:00:00+00:00",
          "2019-09-26T00:00:00+00:00",
          "2019-09-27T00:00:00+00:00",
          "2019-09-28T00:00:00+00:00",
          "2019-09-29T00:00:00+00:00",
          "2019-09-30T00:00:00+00:00",
          "2019-10-01T00:00:00+00:00",
          "2019-10-02T00:00:00+00:00",
          "2019-10-03T00:00:00+00:00",
          "2019-10-04T00:00:00+00:00",
          "2019-10-05T00:00:00+00:00",
          "2019-10-06T00:00:00+00:00",
          "2019-10-07T00:00:00+00:00",
          "2019-10-08T00:00:00+00:00",
          "2019-10-09T00:00:00+00:00",
          "2019-10-10T00:00:00+00:00",
          "2019-10-11T00:00:00+00:00",
          "2019-10-12T00:00:00+00:00",
          "2019-10-13T00:00:00+00:00",
          "2019-10-14T00:00:00+00:00",
          "2019-10-15T00:00:00+00:00",
          "2019-10-16T00:00:00+00:00",
          "2019-10-17T00:00:00+00:00",
          "2019-10-18T00:00:00+00:00",
          "2019-10-19T00:00:00+00:00",
          "2019-10-20T00:00:00+00:00",
          "2019-10-21T00:00:00+00:00",
          "2019-10-22T00:00:00+00:00",
          "2019-10-23T00:00:00+00:00",
          "2019-10-24T00:00:00+00:00",
          "2019-10-25T00:00:00+00:00",
          "2019-10-26T00:00:00+00:00",
          "2019-10-27T00:00:00+00:00",
          "2019-10-28T00:00:00+00:00",
          "2019-10-29T00:00:00+00:00",
          "2019-10-30T00:00:00+00:00",
          "2019-10-31T00:00:00+00:00",
          "2019-11-01T00:00:00+00:00",
          "2019-11-02T00:00:00+00:00",
          "2019-11-03T00:00:00+00:00",
          "2019-11-04T00:00:00+00:00",
          "2019-11-05T00:00:00+00:00",
          "2019-11-06T00:00:00+00:00",
          "2019-11-07T00:00:00+00:00",
          "2019-11-08T00:00:00+00:00",
          "2019-11-09T00:00:00+00:00",
          "2019-11-10T00:00:00+00:00",
          "2019-11-11T00:00:00+00:00",
          "2019-11-12T00:00:00+00:00",
          "2019-11-13T00:00:00+00:00",
          "2019-11-14T00:00:00+00:00",
          "2019-11-15T00:00:00+00:00",
          "2019-11-16T00:00:00+00:00",
          "2019-11-17T00:00:00+00:00",
          "2019-11-18T00:00:00+00:00",
          "2019-11-19T00:00:00+00:00",
          "2019-11-20T00:00:00+00:00",
          "2019-11-21T00:00:00+00:00",
          "2019-11-22T00:00:00+00:00",
          "2019-11-23T00:00:00+00:00",
          "2019-11-24T00:00:00+00:00",
          "2019-11-25T00:00:00+00:00",
          "2019-11-26T00:00:00+00:00",
          "2019-11-27T00:00:00+00:00",
          "2019-11-28T00:00:00+00:00",
          "2019-11-29T00:00:00+00:00",
          "2019-11-30T00:00:00+00:00",
          "2019-12-01T00:00:00+00:00",
          "2019-12-02T00:00:00+00:00",
          "2019-12-03T00:00:00+00:00",
          "2019-12-04T00:00:00+00:00",
          "2019-12-05T00:00:00+00:00",
          "2019-12-06T00:00:00+00:00",
          "2019-12-07T00:00:00+00:00",
          "2019-12-08T00:00:00+00:00",
          "2019-12-09T00:00:00+00:00",
          "2019-12-10T00:00:00+00:00",
          "2019-12-11T00:00:00+00:00",
          "2019-12-12T00:00:00+00:00",
          "2019-12-13T00:00:00+00:00",
          "2019-12-14T00:00:00+00:00",
          "2019-12-15T00:00:00+00:00",
          "2019-12-16T00:00:00+00:00",
          "2019-12-17T00:00:00+00:00",
          "2019-12-18T00:00:00+00:00",
          "2019-12-19T00:00:00+00:00",
          "2019-12-20T00:00:00+00:00",
          "2019-12-21T00:00:00+00:00",
          "2019-12-22T00:00:00+00:00",
          "2019-12-23T00:00:00+00:00",
          "2019-12-24T00:00:00+00:00",
          "2019-12-25T00:00:00+00:00",
          "2019-12-26T00:00:00+00:00",
          "2019-12-27T00:00:00+00:00",
          "2019-12-28T00:00:00+00:00",
          "2019-12-29T00:00:00+00:00",
          "2019-12-30T00:00:00+00:00",
          "2019-12-31T00:00:00+00:00",
          "2020-01-01T00:00:00+00:00",
          "2020-01-02T00:00:00+00:00",
          "2020-01-03T00:00:00+00:00",
          "2020-01-04T00:00:00+00:00",
          "2020-01-05T00:00:00+00:00",
          "2020-01-06T00:00:00+00:00",
          "2020-01-07T00:00:00+00:00",
          "2020-01-08T00:00:00+00:00",
          "2020-01-09T00:00:00+00:00",
          "2020-01-10T00:00:00+00:00",
          "2020-01-11T00:00:00+00:00",
          "2020-01-12T00:00:00+00:00",
          "2020-01-13T00:00:00+00:00",
          "2020-01-14T00:00:00+00:00",
          "2020-01-15T00:00:00+00:00",
          "2020-01-16T00:00:00+00:00",
          "2020-01-17T00:00:00+00:00",
          "2020-01-18T00:00:00+00:00",
          "2020-01-19T00:00:00+00:00",
          "2020-01-20T00:00:00+00:00",
          "2020-01-21T00:00:00+00:00",
          "2020-01-22T00:00:00+00:00",
          "2020-01-23T00:00:00+00:00",
          "2020-01-24T00:00:00+00:00",
          "2020-01-25T00:00:00+00:00",
          "2020-01-26T00:00:00+00:00",
          "2020-01-27T00:00:00+00:00",
          "2020-01-28T00:00:00+00:00",
          "2020-01-29T00:00:00+00:00",
          "2020-01-30T00:00:00+00:00",
          "2020-01-31T00:00:00+00:00",
          "2020-02-01T00:00:00+00:00",
          "2020-02-02T00:00:00+00:00",
          "2020-02-03T00:00:00+00:00",
          "2020-02-04T00:00:00+00:00",
          "2020-02-05T00:00:00+00:00",
          "2020-02-06T00:00:00+00:00",
          "2020-02-07T00:00:00+00:00",
          "2020-02-08T00:00:00+00:00",
          "2020-02-09T00:00:00+00:00",
          "2020-02-10T00:00:00+00:00",
          "2020-02-11T00:00:00+00:00",
          "2020-02-12T00:00:00+00:00",
          "2020-02-13T00:00:00+00:00",
          "2020-02-14T00:00:00+00:00",
          "2020-02-15T00:00:00+00:00",
          "2020-02-16T00:00:00+00:00",
          "2020-02-17T00:00:00+00:00",
          "2020-02-18T00:00:00+00:00",
          "2020-02-19T00:00:00+00:00",
          "2020-02-20T00:00:00+00:00",
          "2020-02-21T00:00:00+00:00",
          "2020-02-22T00:00:00+00:00",
          "2020-02-23T00:00:00+00:00",
          "2020-02-24T00:00:00+00:00",
          "2020-02-25T00:00:00+00:00",
          "2020-02-26T00:00:00+00:00",
          "2020-02-27T00:00:00+00:00",
          "2020-02-28T00:00:00+00:00",
          "2020-02-29T00:00:00+00:00",
          "2020-03-01T00:00:00+00:00",
          "2020-03-02T00:00:00+00:00",
          "2020-03-03T00:00:00+00:00",
          "2020-03-04T00:00:00+00:00",
          "2020-03-05T00:00:00+00:00",
          "2020-03-06T00:00:00+00:00",
          "2020-03-07T00:00:00+00:00",
          "2020-03-08T00:00:00+00:00",
          "2020-03-09T00:00:00+00:00",
          "2020-03-10T00:00:00+00:00",
          "2020-03-11T00:00:00+00:00",
          "2020-03-12T00:00:00+00:00",
          "2020-03-13T00:00:00+00:00",
          "2020-03-14T00:00:00+00:00",
          "2020-03-15T00:00:00+00:00",
          "2020-03-16T00:00:00+00:00",
          "2020-03-17T00:00:00+00:00",
          "2020-03-18T00:00:00+00:00",
          "2020-03-19T00:00:00+00:00",
          "2020-03-20T00:00:00+00:00",
          "2020-03-21T00:00:00+00:00",
          "2020-03-22T00:00:00+00:00",
          "2020-03-23T00:00:00+00:00",
          "2020-03-24T00:00:00+00:00",
          "2020-03-25T00:00:00+00:00",
          "2020-03-26T00:00:00+00:00",
          "2020-03-27T00:00:00+00:00",
          "2020-03-28T00:00:00+00:00",
          "2020-03-29T00:00:00+00:00",
          "2020-03-30T00:00:00+00:00",
          "2020-03-31T00:00:00+00:00",
          "2020-04-01T00:00:00+00:00",
          "2020-04-02T00:00:00+00:00",
          "2020-04-03T00:00:00+00:00",
          "2020-04-04T00:00:00+00:00",
          "2020-04-05T00:00:00+00:00",
          "2020-04-06T00:00:00+00:00",
          "2020-04-07T00:00:00+00:00",
          "2020-04-08T00:00:00+00:00",
          "2020-04-09T00:00:00+00:00",
          "2020-04-10T00:00:00+00:00",
          "2020-04-11T00:00:00+00:00",
          "2020-04-12T00:00:00+00:00",
          "2020-04-13T00:00:00+00:00",
          "2020-04-14T00:00:00+00:00",
          "2020-04-15T00:00:00+00:00",
          "2020-04-16T00:00:00+00:00",
          "2020-04-17T00:00:00+00:00",
          "2020-04-18T00:00:00+00:00",
          "2020-04-19T00:00:00+00:00",
          "2020-04-20T00:00:00+00:00",
          "2020-04-21T00:00:00+00:00",
          "2020-04-22T00:00:00+00:00",
          "2020-04-23T00:00:00+00:00",
          "2020-04-24T00:00:00+00:00",
          "2020-04-25T00:00:00+00:00",
          "2020-04-26T00:00:00+00:00",
          "2020-04-27T00:00:00+00:00",
          "2020-04-28T00:00:00+00:00",
          "2020-04-29T00:00:00+00:00",
          "2020-04-30T00:00:00+00:00",
          "2020-05-01T00:00:00+00:00",
          "2020-05-02T00:00:00+00:00",
          "2020-05-03T00:00:00+00:00",
          "2020-05-04T00:00:00+00:00",
          "2020-05-05T00:00:00+00:00",
          "2020-05-06T00:00:00+00:00",
          "2020-05-07T00:00:00+00:00",
          "2020-05-08T00:00:00+00:00",
          "2020-05-09T00:00:00+00:00",
          "2020-05-10T00:00:00+00:00",
          "2020-05-11T00:00:00+00:00",
          "2020-05-12T00:00:00+00:00",
          "2020-05-13T00:00:00+00:00",
          "2020-05-14T00:00:00+00:00",
          "2020-05-15T00:00:00+00:00",
          "2020-05-16T00:00:00+00:00",
          "2020-05-17T00:00:00+00:00",
          "2020-05-18T00:00:00+00:00",
          "2020-05-19T00:00:00+00:00",
          "2020-05-20T00:00:00+00:00",
          "2020-05-21T00:00:00+00:00",
          "2020-05-22T00:00:00+00:00",
          "2020-05-23T00:00:00+00:00",
          "2020-05-24T00:00:00+00:00",
          "2020-05-25T00:00:00+00:00",
          "2020-05-26T00:00:00+00:00",
          "2020-05-27T00:00:00+00:00",
          "2020-05-28T00:00:00+00:00",
          "2020-05-29T00:00:00+00:00",
          "2020-05-30T00:00:00+00:00",
          "2020-05-31T00:00:00+00:00",
          "2020-06-01T00:00:00+00:00",
          "2020-06-02T00:00:00+00:00",
          "2020-06-03T00:00:00+00:00",
          "2020-06-04T00:00:00+00:00",
          "2020-06-05T00:00:00+00:00",
          "2020-06-06T00:00:00+00:00",
          "2020-06-07T00:00:00+00:00",
          "2020-06-08T00:00:00+00:00",
          "2020-06-09T00:00:00+00:00",
          "2020-06-10T00:00:00+00:00",
          "2020-06-11T00:00:00+00:00",
          "2020-06-12T00:00:00+00:00",
          "2020-06-13T00:00:00+00:00",
          "2020-06-14T00:00:00+00:00",
          "2020-06-15T00:00:00+00:00",
          "2020-06-16T00:00:00+00:00",
          "2020-06-17T00:00:00+00:00",
          "2020-06-18T00:00:00+00:00",
          "2020-06-19T00:00:00+00:00",
          "2020-06-20T00:00:00+00:00",
          "2020-06-21T00:00:00+00:00",
          "2020-06-22T00:00:00+00:00",
          "2020-06-23T00:00:00+00:00",
          "2020-06-24T00:00:00+00:00",
          "2020-06-25T00:00:00+00:00",
          "2020-06-26T00:00:00+00:00",
          "2020-06-27T00:00:00+00:00",
          "2020-06-28T00:00:00+00:00",
          "2020-06-29T00:00:00+00:00",
          "2020-06-30T00:00:00+00:00",
          "2020-07-01T00:00:00+00:00",
          "2020-07-02T00:00:00+00:00",
          "2020-07-03T00:00:00+00:00",
          "2020-07-04T00:00:00+00:00"
         ],
         "y": [
          -0.17636679705681324,
          -0.014030761286925042,
          0.005129970665803896,
          0.02080871944193774,
          0.09970303023899874,
          -0.10270348047356313,
          -0.06474142262959326,
          0.0037785665033496234,
          0.04744524495083802,
          -0.0207108020773088,
          -0.001982348655271693,
          0.02500570978071615,
          0.02262640666508275,
          -0.04373150805394488,
          -0.10679701674616915,
          0.010455353239118281,
          -0.11647648592925997,
          -0.017445443501820534,
          0.041638432520628044,
          -0.12189427597348512,
          -0.1691458701012838,
          0.10851902788139967,
          -0.01310030650835081,
          0.07825690479511849,
          0.058933666414517916,
          -0.01672726477451647,
          -0.05770391899088878,
          0.09741463981877452,
          -0.04374409678428037,
          0.10690561692019786,
          0.055088822046098336,
          0.01647991017459738,
          0.0861635792235802,
          -0.06484992096881648,
          0.07086064912326684,
          0.003513144817461012,
          -0.06747751548199687,
          -0.06355660083339743,
          0.03318301328381601,
          -0.046779662988379656,
          -0.010596085810577804,
          0.07090176577592722,
          0.02516231045828299,
          -0.02546721130475405,
          0.0570109470114204,
          0.011566695540619065,
          0.03615024723275084,
          0.0029230300307645507,
          -0.005875681611627215,
          -0.06366305728297839,
          -0.07900758239006045,
          -0.06138413494097783,
          -0.004179435893956196,
          -0.05413443993020195,
          0.0832977665337129,
          -0.045127828234251766,
          0.003957958621256807,
          -0.10938323759935643,
          0.008280235164928484,
          -0.00014274654045287605,
          -0.04894388142779959,
          0.04061976316928906,
          0.047843468511805654,
          0.034879364372773836,
          -0.0001909387227279069,
          -0.021813199768029534,
          0.024334021429682554,
          -0.044056678925613824,
          -0.009800418141564293,
          -0.037047563209602785,
          -0.0445384424552131,
          0.018735538968503107,
          -0.11394308703849276,
          -0.035606559507042945,
          0.01188890399794218,
          -0.01594613267337941,
          0.034484309702214944,
          0.05095472596127415,
          -0.08789542715155285,
          -0.0025509710392004337,
          -0.027535146625425,
          0.04494070371578119,
          0.0182105241359114,
          -0.03650034399110247,
          0.008773965999061772,
          0.015795409192605803,
          0.1322208084574008,
          -0.005627904370591352,
          0.015387719906755136,
          0.04395070099222842,
          -0.037196924309514046,
          -0.020319882308465154,
          0.034467487427516375,
          0.012448217788019633,
          0.06753646859244,
          0.00820961583531954,
          -0.013544225107755992,
          0.015000563235540554,
          0.07720459436122518,
          -0.08484481152380674,
          0.045851844691123134,
          -0.03899554604116595,
          0.0457478662201396,
          0.005279372163714768,
          -0.015979805278133693,
          -0.02016433945800067,
          0.016622955355373392,
          0.05448251066639998,
          -0.003721127098575749,
          0.012452876188191908,
          -0.021938076570522824,
          -0.02509592811824035,
          -0.01947279351151643,
          0.013740713014771089,
          -0.03174658438599387,
          -0.07113003107816418,
          0.008048784168284584,
          0.025560210075035172,
          -0.00031897320837970256,
          -0.02414690784845241,
          -0.01553372034915057,
          -0.03474056994130059,
          0.02087121747642051,
          0.0012155428238997956,
          0.032847721170536914,
          -0.01412841757882255,
          -0.05005965327900341,
          -0.06309557752634376,
          0.009956313051294075,
          -0.01461136433131749,
          -0.017498596312488957,
          0.0021685954589010237,
          -0.03475202673822153,
          0.04972686278825833,
          -0.009714594566084145,
          0.013038821908029517,
          0.004820795896190333,
          0.016157792604063914,
          0.008658660499666126,
          -0.027613870015271047,
          0.014560151331329152,
          0.006278540371907227,
          0.004342907004991403,
          -0.005746359152098535,
          -0.019216596793533824,
          -0.10262057638067647,
          0.01582682508588995,
          -0.04886286236291326,
          -0.039280562272448805,
          0.05287626998334183,
          -0.03848612612308777,
          0.015203961138277931,
          -0.006574814442846132,
          0.04056803441583057,
          0.004430535669758484,
          0.0025705107836770935,
          -0.006000230228163872,
          -0.10085734157343218,
          0.016196755651845862,
          -0.00366158684906992,
          0.014935093126320353,
          -0.029674098682285436,
          0.01242901876474356,
          -0.04767658579054413,
          0.058486941110317055,
          0.029628502479756236,
          -0.006828698792414656,
          0.04160882166244484,
          -0.01627194531879539,
          0.011512430771066562,
          -0.008274158996188774,
          0.008840547570583723,
          0.024989326499907705,
          -0.007916789150026915,
          -0.005218881170179657,
          -0.0566290892457566,
          0.01277720671690652,
          -0.020626634408410283,
          -0.0063805670029015715,
          0.006423767797803848,
          0.015553563620423814,
          0.058321010616337425,
          0.08453079931532415,
          0.0075871050482074764,
          0.011859920639180288,
          -0.017806918289791085,
          0.01003698843389067,
          -0.0011371341665977752,
          0.04145759852876019,
          0.08524410836034235,
          -0.0289875368732524,
          -0.029050255102974987,
          0.032989788861170766,
          0.005207232234276659,
          -0.0023001595451379586,
          -0.0060062733516037525,
          -0.05561620681697477,
          -0.01603850865102885,
          -0.00873824932968148,
          -0.01636189735126159,
          -0.05534307667970495,
          0.0024931295265879783,
          -0.014390468655129498,
          -0.03097428422394088,
          -0.06862113932238678,
          0.04151522776211003,
          -0.06821483349305346,
          0.019272298634568585,
          0.014369446722232837,
          -0.009685559894997198,
          -0.009819021064688016,
          0.011803527246012635,
          0.007007578997706432,
          0.04140777470907864,
          -0.029417536744203332,
          0.015760925375177592,
          -0.036575458859806176,
          0.034266703150633404,
          -0.01973006020439705,
          0.010015815572643305,
          0,
          0.048245664206998384,
          -0.00823773108177761,
          0.034346347904193664,
          0.02375666819837363,
          -0.0058502122705768045,
          -0.00797475498782063,
          0.005593416826432217,
          0.025200302398987517,
          0.012208082838400358,
          -0.004424585087992483,
          0.01403564961733217,
          -0.09505310604320094,
          -0.02907281163119002,
          -0.015594216826299245,
          -0.0334786836458445,
          0.009323814294809551,
          0.009055160209417323,
          -0.0033643833547927215,
          0.007187225702988798,
          0.02511934202272492,
          0.0059008287527273495,
          0.0010265478407056603,
          -0.004867818138880153,
          -0.03872034361954846,
          0.014035117469580529,
          0.006837853816884731,
          0.017462586453980578,
          0.03978381187673463,
          -0.007312703850582025,
          -0.0011362197317197342,
          -0.018804176246769444,
          -0.022191023736940707,
          0.0034169075347385554,
          0.034624349808652255,
          -0.0092452388194868,
          -0.006234117749727375,
          0.002689299671537526,
          -0.003644130763317932,
          -0.011483493974369097,
          -0.005076814723702583,
          0.01276390743855771,
          0.004925983274688406,
          -0.005466667482469489,
          0.00421994945780213,
          0.004073436704896238,
          -0.00098836706172456,
          -0.009712624254403224,
          -0.05929400550735231,
          0.007832640268475188,
          -0.0011647773962693007,
          -0.0021750837158993615,
          0.04038951685209824,
          0.0031273294289402287,
          -0.0027110290901983802,
          -0.007480933188766414,
          -0.0007388102673804298,
          0.004209539073634971,
          -9.200155629507373e-05,
          -0.0008127881184449848,
          -0.0019027271906626453,
          0.002615707439174386,
          -0.0034839158167780937,
          0.0017809694335699786,
          0.001392542629666593,
          -0.000813121737593292,
          -0.02228143394775195,
          0.0010786575271364283,
          0.005590022834205399,
          0.006121816321503104,
          0.0010523597142384489,
          -0.002920345452366746,
          0.014521852212141084,
          -0.0033846625085782733,
          0.007007612834089017,
          0.00819933071844936,
          -0.014816600936065072,
          -0.01112650480006927,
          0.002401218947992945,
          0.0016914208109053417,
          -0.005471648560300579,
          -0.01080861376798481,
          -0.10999695624179573,
          -0.03235475848572378,
          0,
          0,
          0,
          0,
          0,
          0,
          0,
          0,
          0,
          0,
          0,
          0,
          0,
          0,
          0,
          0,
          0,
          0,
          0,
          0,
          0,
          -0.4743169849934361,
          0.004922983276804516,
          0.03904507426637949,
          -0.034020159563127095,
          -0.019084102521214064,
          0.025013842888407464,
          -0.04971661354728774,
          -0.02167285221949733,
          -0.00356455203753292,
          0.002803801706951603,
          0.09261315430396698,
          0.046023412089144955,
          0.00439349491167107,
          0.10144157700340095,
          -0.06020500707422905,
          0.03589094440922658,
          -0.007762468767021247,
          0.021352839112104505,
          -0.06552203138248913,
          0.008140477967812032,
          -0.05954564598592427,
          0.0804218206330578,
          -0.04191053544440493,
          0.025777808828767235,
          -0.035807642623685965,
          0.03493712147164629,
          0.01732459898804173,
          -0.026974449050076288,
          0.009084782225778909,
          -0.006315909944987652,
          0.062175405323820605,
          -0.00833454121853272,
          -0.003807642627183583,
          0.002109370210783723,
          -0.09812215937067492,
          0.0028964618462410385,
          -0.005088143720790583,
          -0.02937025026380269,
          0.041474697731430865,
          -0.022306024364718624,
          0.006971557911096938,
          0.009450236225612585,
          -0.009214620887350478,
          0.021659517051631383,
          -0.04252706816242657,
          -0.0003509894258009183,
          0.012656491693592287,
          -0.006793607288448911,
          0.004837675281981646,
          -0.002594217055264636,
          -0.000789415690810813,
          -0.008058939017214328,
          -0.028720255791778726,
          -0.010024713302827948,
          0.011891937086295101,
          -0.007012080055789126,
          0.00868699081347124,
          -0.0004446246264517839,
          -0.0071029551889640885,
          -0.0013240650726196177,
          0.005411146808107503,
          -0.018582781403276627,
          -0.0020336510735745605,
          0.07525124184436471,
          0.0004195012963954526,
          0.0063537508217166305,
          -0.016205910665819445,
          8.35981770030969e-06,
          -0.0033858644031745655,
          -0.003975480002507581,
          -0.0005419331420846163,
          0.0061433888785131785,
          0.012318091668607423,
          0.06415328274393062,
          0.006454445775419871,
          0.012544223808269805,
          -0.010090933862173301,
          0.011460151036120081,
          0.04081956201912185,
          -0.09659098333666982,
          0.023245591051601622,
          -0.005320047979608944,
          2.631582409762191e-06,
          -0.0022419850555355225,
          0.004376547360843475,
          0.0011363980557845819,
          -0.006008915668580528,
          -0.023708694707496036,
          0.03840902517678657,
          0.0012291797878010158,
          0.001245827935829169,
          -0.0034453852714086963,
          0.019458078250043087,
          -0.004712442924134308,
          -0.012366894676230089,
          0.0028444505109845863,
          -0.0028937876406907037,
          0.001274194620696889,
          0.011636268037484854,
          0.022558300377253815,
          -0.006171889190499158,
          0.0011442340929654902,
          0.007855732514592262,
          0.007643222450235854,
          -0.014235266942666414,
          -2.5157201051229094e-06,
          0.0018724596891477316,
          -0.0027457969119488723,
          -0.015946572988635666,
          0.0028842648838498515,
          0.02701948864885217,
          -0.0036168473887379093,
          0.000134559989039218,
          0.019903510981164274,
          0.00023934429546734753,
          0.010090530307731882,
          0.17015072515577678,
          0.014804829580652878,
          -0.01401391929958251,
          0.0268031500514212,
          0.0007059598372034515,
          0.029582512977951225,
          0.017524461486688736,
          -0.01772463471418817,
          0.023695938621601798,
          -0.05305449065365231,
          -0.0004897446188802945,
          0.005393770203252046,
          0.01799092410245251,
          -0.024446300287696232,
          0.03257743037629268,
          0.008124640974067177,
          0.007147344295669101,
          0.000548704126021704,
          0.006538521815539155,
          -0.004718602557574059,
          0.017544473835663155,
          0.027133181459742414,
          -0.016951425670789888,
          -0.05797955537218158,
          0.0003794213578025563,
          0.006553865794495905,
          -0.003321979204899961,
          -0.0013893634449537728,
          0.02236609428458536,
          0.012009985519382482,
          0.011387141767146503,
          0.048744142932786616,
          0.019110260559509484,
          -0.009440365596169897,
          -0.005025466748589835,
          0.0102085887419463,
          0.03255396581863046,
          0.03494687350143799,
          0.001637075317475478,
          0.1604599584791071,
          -0.03541626129686293,
          0.11451440538705882,
          0.021850453499624223,
          0.02507116948794952,
          -0.039444536054723756,
          -0.06818224715496157,
          -0.013593892238581871,
          0.12048490174539948,
          -0.0232741092037454,
          -0.00620111947620039,
          -0.04296017941376995,
          0.03354138183543398,
          0.015668641687284435,
          0.008770376686648262,
          0.08029807331809025,
          0.0035536741451647207,
          -0.0062556037020442545,
          -0.007732883799711487,
          -0.045530968777367065,
          0.0053988997065861355,
          0.02932459238663654,
          0.020755314901137467,
          -0.07534793589256772,
          -0.05423456653734604,
          0.014037762595012993,
          0.0012288023546620508,
          0.025562041712758447,
          -0.008360500486283229,
          -0.037603091592076865,
          0.04863028861034557,
          -0.01300992073361229,
          0.031786099942976875,
          -0.0018729829598740366,
          0.0639058266712258,
          0.01750057910115821,
          0.015310341718301144,
          0.03724479274510806,
          -0.026796655739456554,
          0.021598316781595628,
          0.026809587382469857,
          0.07075103951121342,
          0.04233549791897495,
          0.015459918589455056,
          0.01756892992824355,
          0.06362339932426764,
          0.09535346927872723,
          -0.1491710030467761,
          0.10586973024571479,
          -0.04139144653448312,
          -0.10082259666951998,
          0.0006372434090007317,
          0.007501887019863318,
          0.1011767017200338,
          -0.07287191665846926,
          -0.013327719673039695,
          0.022026545736009595,
          0.02050052228583965,
          0.002881230714123717,
          0,
          0,
          0,
          0,
          0,
          0,
          0,
          -0.19926273760124322,
          0.028699540325158424,
          0.09286310425716238,
          -0.010611283560942653,
          0.020453884544815892,
          -0.015290435211626987,
          -0.025183195607205278,
          -0.0479948683754543,
          -0.007398229522637578,
          -0.0016707620090770092,
          0.00991189902327605,
          -0.03857002783043306,
          0.004749052696402245,
          -0.0020170653240203507,
          0.009929256116938845,
          0.04884140790017887,
          0.03225829533033853,
          0.011349387301756053,
          0.02703509284597594,
          0.014469556801881112,
          0.07377365008493442,
          -0.030152260900075948,
          0.04337351082772045,
          0.003523531909563005,
          -0.013213233360962915,
          -0.04951809555532095,
          0.02130847064457342,
          -0.012725423787935952,
          -0.04713494441964983,
          -0.08058349448083213,
          0.02766443673549901,
          0.0060373654683534275,
          -0.015699483794305635,
          0.01161304694521448,
          0.056708019287412974,
          -0.015962825768609076,
          -0.058890070833619745,
          0.0009154510616546929,
          0.025930583286280395,
          -0.024934207508122697,
          -0.0016009924838975564,
          0.022596877557573336,
          -0.01863751756011034,
          -0.04512224954128641,
          -0.024832749994141423,
          0.00982481117723033,
          0.002342286409595218,
          0.017411309640451123,
          0.06142746279982526,
          0.02216531535448496,
          -0.003872828734653666,
          -0.0017305001585654622,
          0,
          -0.007835017182026505,
          -0.007317300798627358,
          -0.008971665216504832,
          -0.020965802225139996,
          0.006033248448028772,
          0.026369722169880205,
          -0.007056623436906051,
          9.845768933658411e-05,
          -0.004412105457909377,
          -0.004218419405521701,
          -0.007746605024314235,
          -0.002869104096390629,
          -0.0003857948800121136,
          0.0009819095287380009,
          -0.018653837027605036,
          0.005034929266274801,
          -0.03427833970201455,
          -0.1262784888736217,
          -0.013132240899038193,
          -0.04447602138979079,
          0.016222122914546944,
          0.0036872282141260375,
          -0.021014721841218886,
          0.03002680047248063,
          0.003470342664620319,
          0.006448072700376172,
          0.0025847625452009027,
          -0.03005748655704998,
          -0.000776293293878183,
          -0.03634905987061465,
          0.04340303407243162,
          -0.002500483102990003,
          0.04814227196482435,
          -0.00029101034339795717,
          -0.03757350154119443,
          0.004999112116164994,
          -0.004608750301404285,
          0.009605734320825121,
          -0.023358662638806038,
          -0.019886620067557814,
          0.00898327519812625,
          -0.01418785503867781,
          -8.542348698981073e-05,
          0.032992428330501866,
          -0.001732385820885085,
          -0.023359175914901442,
          -0.07159418387868755,
          0.00022223293315803977,
          0.14893855656474386,
          0.06713283195820274,
          0.029216518900026855,
          -0.03492393210843758,
          0.022829740511866706,
          -0.028104209362034283,
          -0.0018564797383948672,
          0.010095255098057976,
          0.006542924617196633,
          -0.011625637891709673,
          0.023165466183684206,
          -0.01036727870009635,
          0.0033821583650031073,
          -0.015944504096227163,
          -0.04831462857588775,
          0.004686689881426176,
          0.025861061539368183,
          -0.03587662081970677,
          -0.0012999270406535146,
          0.0058997558941857875,
          -0.015538248519327167,
          -0.01984162344986906,
          0.0026722591755294896,
          0.00237811960384704,
          -0.03909432114108924,
          -0.006543170867097103,
          -0.0051605689905134255,
          -0.00017701777094281113,
          -0.10300600759626377,
          0.005769012569592391,
          -0.05846630491318905,
          0.029758676182462196,
          0.005768465934613332,
          0.04866583861049634,
          -0.011983576892639292,
          0.04317249409872481,
          -0.02666730650924798,
          -0.020598051972561038,
          -0.013417669855710914,
          -2.4652603727304268e-05,
          -0.014991208092284936,
          0.027488512544303845,
          0.020154797215798936,
          -0.005811082904731535,
          0.003733023589107987,
          -0.02526859155999439,
          -0.01631861264677248,
          -0.002898371869305194,
          0.006820655523283036,
          4.965544638402269e-05,
          -0.024778476687558285,
          0.0066850858145102166,
          -0.034127066663065975,
          -0.03945145366828484,
          0.09751263881580918,
          0.007928598475322346,
          -0.022534355003820394,
          -0.006495355842519145,
          0.05089043130876192,
          -0.026509186653431275,
          -0.007658509634538291,
          -0.009430409567670495,
          0.0004489718550608756,
          0.006348770310989238,
          0.008119772083579946,
          0.012214332935895909,
          -0.02384636799223827,
          -0.0070045349128697865,
          0.0012969718227555658,
          -0.0326230585671059,
          0.05437713185711246,
          0.002699203998625776,
          -0.00014281255061021625,
          0.0543916876831716,
          0.04972754030613836,
          -0.014380033133452487,
          -0.0011222382238607054,
          0.019464503877912875,
          -0.020650318093176523,
          0.018480924983855118,
          -0.007755299832945538,
          0.08471847079786343,
          -0.0015317020473126775,
          -0.01123781045961536,
          0.021055010839386767,
          0.0008232149308433634,
          -0.023526167336363812,
          -0.008427881813233284,
          0.010276606203587946,
          -0.00606186597607561,
          0.00037042657755392844,
          -0.028331328848596016,
          -0.011360184337137369,
          0.030005059301856818,
          0.03638378751982074,
          0.054349797158264934,
          -0.012737443504517996,
          0.02318170112228657,
          -0.017753595509276465,
          0.00534976411060839,
          -0.006373807778246031,
          -0.004568945516929546,
          -0.012089803713623226,
          0.047717369350030125,
          0.0021495252362822015,
          0.01863445634753802,
          0.009687092655784824,
          0.02548624221676299,
          -0.030791573482972012,
          0.04068016005511943,
          0.008076776747941494,
          -0.010423370658706688,
          0.012353362746525322,
          -0.04630913708257722,
          0.003071009625307042,
          -0.023291563070586108,
          0.04855609193720589,
          -0.059731013368690355,
          0.0019923352713178133,
          0.009011527440236478,
          -0.002865974650861247,
          0.03069201180517389,
          -0.03170744397842462,
          -0.0373595990673774,
          -0.0587539367006702,
          0.0033860295660801394,
          -0.011987760844700546,
          -0.020865515624032938,
          0.0003834983185395658,
          0.04410013881604691,
          -0.018233375020869858,
          0.0005905558078378448,
          0.03482095919917505,
          0.009949948674560005,
          -0.028281012887950045,
          -0.10206419105276154,
          -0.013259822660579344,
          -0.006567634396862587,
          0.006887766687333041,
          -0.49640547277813774,
          0.1572520535692501,
          -0.08950276537775537,
          0.03318259255812883,
          -0.05934677034039738,
          0.05927565270805957,
          0.014378443691569487,
          0.13292101719239824,
          0.0022845720718827067,
          0.0005268402676161799,
          -0.0612763655358588,
          0.10716727507019286,
          0.04152131916653268,
          -0.012002846341642837,
          0.008855728292003207,
          -0.057259095812336014,
          -0.019055039006115493,
          -0.061846403008589235,
          0.08536125523083449,
          0.0033703563918887625,
          0.036296530183568265,
          0.020025678195766616,
          -0.008879179993776631,
          0.019002737692298766,
          -0.013922855296671699,
          0.0796542253021002,
          -0.018592204579444882,
          0.02303104732622252,
          -0.0026073366623347027,
          -0.06738385802530544,
          0.0030398649367757713,
          0.0019915301354771486,
          -0.006100157041029064,
          0.001721978793785439,
          -0.03694869144300128,
          0.07189556873993475,
          -0.011895551071859245,
          0.03209337105274024,
          -0.017961702541001046,
          -0.0420114429224121,
          0.0023806911158121835,
          0.03971622542507802,
          0.000876733565586818,
          0.050804883357564286,
          0.004308414299650565,
          0.020001309456691985,
          0.012154904967193405,
          -0.003262670790267208,
          0.12354414969034266,
          -0.01841688747888881,
          0.021909837005415156,
          0.017451155564373266,
          -0.008377423483475255,
          -0.0019013560897462867,
          0.015456396330801423,
          0.014409840621800285,
          0.08873580325408703,
          -0.02003536036320064,
          -0.02736687853138342,
          -0.08919833508950781,
          -0.017945690958528715,
          0.028880665386580517,
          0.053935375027144516,
          0.0029243314426281586,
          -0.0026472954680585303,
          0.008133964209205757,
          0.029099957436415025,
          0.006398929710016431,
          0.0049079941182750275,
          -0.027249207349120397,
          -0.04927958456979198,
          0.011844004882975767,
          0.0010905126489646477,
          -0.051464254074181426,
          0.020436329604125447,
          -0.005907445666755606,
          0.040742826463393556,
          -0.0006940518732072576,
          0.02411576372856139,
          0.028473084546893904,
          -0.025573257796432713,
          0.07664849998719703,
          -0.0698839477987292,
          0.015178626422857276,
          0.013461424547603684,
          -0.01776848226524841,
          0.005150948351520412,
          0.008126229658024897,
          0.0032880993778050534,
          0.0001910978063790481,
          0.010824562195862697,
          -0.06538277292251138,
          0.021653665473227335,
          0.0008665982867324118,
          -0.01536657365502414,
          0.010214014145395467,
          0.010253513355197086,
          -0.007688195409276233,
          0.0005139664681284017,
          -0.017117000912071134,
          0.007077664903343717,
          -0.007914774063698005,
          0.04191848680190091,
          -0.006869334094712798,
          -0.034354022998773104,
          -0.00620976920699512,
          -0.009124827500579968,
          -0.016701244828583484,
          0.012870866596406572,
          0.007588467525557974,
          -0.0061629474104254464,
          0.011397626688841811,
          -0.00026200457467062677,
          -0.017785296420152363,
          0.008151884960291511
         ]
        },
        {
         "mode": "lines",
         "name": "Predicted",
         "type": "scatter",
         "x": [
          "2018-01-16T00:00:00+00:00",
          "2018-01-17T00:00:00+00:00",
          "2018-01-18T00:00:00+00:00",
          "2018-01-19T00:00:00+00:00",
          "2018-01-20T00:00:00+00:00",
          "2018-01-21T00:00:00+00:00",
          "2018-01-22T00:00:00+00:00",
          "2018-01-23T00:00:00+00:00",
          "2018-01-24T00:00:00+00:00",
          "2018-01-25T00:00:00+00:00",
          "2018-01-26T00:00:00+00:00",
          "2018-01-27T00:00:00+00:00",
          "2018-01-28T00:00:00+00:00",
          "2018-01-29T00:00:00+00:00",
          "2018-01-30T00:00:00+00:00",
          "2018-01-31T00:00:00+00:00",
          "2018-02-01T00:00:00+00:00",
          "2018-02-02T00:00:00+00:00",
          "2018-02-03T00:00:00+00:00",
          "2018-02-04T00:00:00+00:00",
          "2018-02-05T00:00:00+00:00",
          "2018-02-06T00:00:00+00:00",
          "2018-02-07T00:00:00+00:00",
          "2018-02-08T00:00:00+00:00",
          "2018-02-09T00:00:00+00:00",
          "2018-02-10T00:00:00+00:00",
          "2018-02-11T00:00:00+00:00",
          "2018-02-12T00:00:00+00:00",
          "2018-02-13T00:00:00+00:00",
          "2018-02-14T00:00:00+00:00",
          "2018-02-15T00:00:00+00:00",
          "2018-02-16T00:00:00+00:00",
          "2018-02-17T00:00:00+00:00",
          "2018-02-18T00:00:00+00:00",
          "2018-02-19T00:00:00+00:00",
          "2018-02-20T00:00:00+00:00",
          "2018-02-21T00:00:00+00:00",
          "2018-02-22T00:00:00+00:00",
          "2018-02-23T00:00:00+00:00",
          "2018-02-24T00:00:00+00:00",
          "2018-02-25T00:00:00+00:00",
          "2018-02-26T00:00:00+00:00",
          "2018-02-27T00:00:00+00:00",
          "2018-02-28T00:00:00+00:00",
          "2018-03-01T00:00:00+00:00",
          "2018-03-02T00:00:00+00:00",
          "2018-03-03T00:00:00+00:00",
          "2018-03-04T00:00:00+00:00",
          "2018-03-05T00:00:00+00:00",
          "2018-03-06T00:00:00+00:00",
          "2018-03-07T00:00:00+00:00",
          "2018-03-08T00:00:00+00:00",
          "2018-03-09T00:00:00+00:00",
          "2018-03-10T00:00:00+00:00",
          "2018-03-11T00:00:00+00:00",
          "2018-03-12T00:00:00+00:00",
          "2018-03-13T00:00:00+00:00",
          "2018-03-14T00:00:00+00:00",
          "2018-03-15T00:00:00+00:00",
          "2018-03-16T00:00:00+00:00",
          "2018-03-17T00:00:00+00:00",
          "2018-03-18T00:00:00+00:00",
          "2018-03-19T00:00:00+00:00",
          "2018-03-20T00:00:00+00:00",
          "2018-03-21T00:00:00+00:00",
          "2018-03-22T00:00:00+00:00",
          "2018-03-23T00:00:00+00:00",
          "2018-03-24T00:00:00+00:00",
          "2018-03-25T00:00:00+00:00",
          "2018-03-26T00:00:00+00:00",
          "2018-03-27T00:00:00+00:00",
          "2018-03-28T00:00:00+00:00",
          "2018-03-29T00:00:00+00:00",
          "2018-03-30T00:00:00+00:00",
          "2018-03-31T00:00:00+00:00",
          "2018-04-01T00:00:00+00:00",
          "2018-04-02T00:00:00+00:00",
          "2018-04-03T00:00:00+00:00",
          "2018-04-04T00:00:00+00:00",
          "2018-04-05T00:00:00+00:00",
          "2018-04-06T00:00:00+00:00",
          "2018-04-07T00:00:00+00:00",
          "2018-04-08T00:00:00+00:00",
          "2018-04-09T00:00:00+00:00",
          "2018-04-10T00:00:00+00:00",
          "2018-04-11T00:00:00+00:00",
          "2018-04-12T00:00:00+00:00",
          "2018-04-13T00:00:00+00:00",
          "2018-04-14T00:00:00+00:00",
          "2018-04-15T00:00:00+00:00",
          "2018-04-16T00:00:00+00:00",
          "2018-04-17T00:00:00+00:00",
          "2018-04-18T00:00:00+00:00",
          "2018-04-19T00:00:00+00:00",
          "2018-04-20T00:00:00+00:00",
          "2018-04-21T00:00:00+00:00",
          "2018-04-22T00:00:00+00:00",
          "2018-04-23T00:00:00+00:00",
          "2018-04-24T00:00:00+00:00",
          "2018-04-25T00:00:00+00:00",
          "2018-04-26T00:00:00+00:00",
          "2018-04-27T00:00:00+00:00",
          "2018-04-28T00:00:00+00:00",
          "2018-04-29T00:00:00+00:00",
          "2018-04-30T00:00:00+00:00",
          "2018-05-01T00:00:00+00:00",
          "2018-05-02T00:00:00+00:00",
          "2018-05-03T00:00:00+00:00",
          "2018-05-04T00:00:00+00:00",
          "2018-05-05T00:00:00+00:00",
          "2018-05-06T00:00:00+00:00",
          "2018-05-07T00:00:00+00:00",
          "2018-05-08T00:00:00+00:00",
          "2018-05-09T00:00:00+00:00",
          "2018-05-10T00:00:00+00:00",
          "2018-05-11T00:00:00+00:00",
          "2018-05-12T00:00:00+00:00",
          "2018-05-13T00:00:00+00:00",
          "2018-05-14T00:00:00+00:00",
          "2018-05-15T00:00:00+00:00",
          "2018-05-16T00:00:00+00:00",
          "2018-05-17T00:00:00+00:00",
          "2018-05-18T00:00:00+00:00",
          "2018-05-19T00:00:00+00:00",
          "2018-05-20T00:00:00+00:00",
          "2018-05-21T00:00:00+00:00",
          "2018-05-22T00:00:00+00:00",
          "2018-05-23T00:00:00+00:00",
          "2018-05-24T00:00:00+00:00",
          "2018-05-25T00:00:00+00:00",
          "2018-05-26T00:00:00+00:00",
          "2018-05-27T00:00:00+00:00",
          "2018-05-28T00:00:00+00:00",
          "2018-05-29T00:00:00+00:00",
          "2018-05-30T00:00:00+00:00",
          "2018-05-31T00:00:00+00:00",
          "2018-06-01T00:00:00+00:00",
          "2018-06-02T00:00:00+00:00",
          "2018-06-03T00:00:00+00:00",
          "2018-06-04T00:00:00+00:00",
          "2018-06-05T00:00:00+00:00",
          "2018-06-06T00:00:00+00:00",
          "2018-06-07T00:00:00+00:00",
          "2018-06-08T00:00:00+00:00",
          "2018-06-09T00:00:00+00:00",
          "2018-06-10T00:00:00+00:00",
          "2018-06-11T00:00:00+00:00",
          "2018-06-12T00:00:00+00:00",
          "2018-06-13T00:00:00+00:00",
          "2018-06-14T00:00:00+00:00",
          "2018-06-15T00:00:00+00:00",
          "2018-06-16T00:00:00+00:00",
          "2018-06-17T00:00:00+00:00",
          "2018-06-18T00:00:00+00:00",
          "2018-06-19T00:00:00+00:00",
          "2018-06-20T00:00:00+00:00",
          "2018-06-21T00:00:00+00:00",
          "2018-06-22T00:00:00+00:00",
          "2018-06-23T00:00:00+00:00",
          "2018-06-24T00:00:00+00:00",
          "2018-06-25T00:00:00+00:00",
          "2018-06-26T00:00:00+00:00",
          "2018-06-27T00:00:00+00:00",
          "2018-06-28T00:00:00+00:00",
          "2018-06-29T00:00:00+00:00",
          "2018-06-30T00:00:00+00:00",
          "2018-07-01T00:00:00+00:00",
          "2018-07-02T00:00:00+00:00",
          "2018-07-03T00:00:00+00:00",
          "2018-07-04T00:00:00+00:00",
          "2018-07-05T00:00:00+00:00",
          "2018-07-06T00:00:00+00:00",
          "2018-07-07T00:00:00+00:00",
          "2018-07-08T00:00:00+00:00",
          "2018-07-09T00:00:00+00:00",
          "2018-07-10T00:00:00+00:00",
          "2018-07-11T00:00:00+00:00",
          "2018-07-12T00:00:00+00:00",
          "2018-07-13T00:00:00+00:00",
          "2018-07-14T00:00:00+00:00",
          "2018-07-15T00:00:00+00:00",
          "2018-07-16T00:00:00+00:00",
          "2018-07-17T00:00:00+00:00",
          "2018-07-18T00:00:00+00:00",
          "2018-07-19T00:00:00+00:00",
          "2018-07-20T00:00:00+00:00",
          "2018-07-21T00:00:00+00:00",
          "2018-07-22T00:00:00+00:00",
          "2018-07-23T00:00:00+00:00",
          "2018-07-24T00:00:00+00:00",
          "2018-07-25T00:00:00+00:00",
          "2018-07-26T00:00:00+00:00",
          "2018-07-27T00:00:00+00:00",
          "2018-07-28T00:00:00+00:00",
          "2018-07-29T00:00:00+00:00",
          "2018-07-30T00:00:00+00:00",
          "2018-07-31T00:00:00+00:00",
          "2018-08-01T00:00:00+00:00",
          "2018-08-02T00:00:00+00:00",
          "2018-08-03T00:00:00+00:00",
          "2018-08-04T00:00:00+00:00",
          "2018-08-05T00:00:00+00:00",
          "2018-08-06T00:00:00+00:00",
          "2018-08-07T00:00:00+00:00",
          "2018-08-08T00:00:00+00:00",
          "2018-08-09T00:00:00+00:00",
          "2018-08-10T00:00:00+00:00",
          "2018-08-11T00:00:00+00:00",
          "2018-08-12T00:00:00+00:00",
          "2018-08-13T00:00:00+00:00",
          "2018-08-14T00:00:00+00:00",
          "2018-08-15T00:00:00+00:00",
          "2018-08-16T00:00:00+00:00",
          "2018-08-17T00:00:00+00:00",
          "2018-08-18T00:00:00+00:00",
          "2018-08-19T00:00:00+00:00",
          "2018-08-20T00:00:00+00:00",
          "2018-08-21T00:00:00+00:00",
          "2018-08-22T00:00:00+00:00",
          "2018-08-23T00:00:00+00:00",
          "2018-08-24T00:00:00+00:00",
          "2018-08-25T00:00:00+00:00",
          "2018-08-26T00:00:00+00:00",
          "2018-08-27T00:00:00+00:00",
          "2018-08-28T00:00:00+00:00",
          "2018-08-29T00:00:00+00:00",
          "2018-08-30T00:00:00+00:00",
          "2018-08-31T00:00:00+00:00",
          "2018-09-01T00:00:00+00:00",
          "2018-09-02T00:00:00+00:00",
          "2018-09-03T00:00:00+00:00",
          "2018-09-04T00:00:00+00:00",
          "2018-09-05T00:00:00+00:00",
          "2018-09-06T00:00:00+00:00",
          "2018-09-07T00:00:00+00:00",
          "2018-09-08T00:00:00+00:00",
          "2018-09-09T00:00:00+00:00",
          "2018-09-10T00:00:00+00:00",
          "2018-09-11T00:00:00+00:00",
          "2018-09-12T00:00:00+00:00",
          "2018-09-13T00:00:00+00:00",
          "2018-09-14T00:00:00+00:00",
          "2018-09-15T00:00:00+00:00",
          "2018-09-16T00:00:00+00:00",
          "2018-09-17T00:00:00+00:00",
          "2018-09-18T00:00:00+00:00",
          "2018-09-19T00:00:00+00:00",
          "2018-09-20T00:00:00+00:00",
          "2018-09-21T00:00:00+00:00",
          "2018-09-22T00:00:00+00:00",
          "2018-09-23T00:00:00+00:00",
          "2018-09-24T00:00:00+00:00",
          "2018-09-25T00:00:00+00:00",
          "2018-09-26T00:00:00+00:00",
          "2018-09-27T00:00:00+00:00",
          "2018-09-28T00:00:00+00:00",
          "2018-09-29T00:00:00+00:00",
          "2018-09-30T00:00:00+00:00",
          "2018-10-01T00:00:00+00:00",
          "2018-10-02T00:00:00+00:00",
          "2018-10-03T00:00:00+00:00",
          "2018-10-04T00:00:00+00:00",
          "2018-10-05T00:00:00+00:00",
          "2018-10-06T00:00:00+00:00",
          "2018-10-07T00:00:00+00:00",
          "2018-10-08T00:00:00+00:00",
          "2018-10-09T00:00:00+00:00",
          "2018-10-10T00:00:00+00:00",
          "2018-10-11T00:00:00+00:00",
          "2018-10-12T00:00:00+00:00",
          "2018-10-13T00:00:00+00:00",
          "2018-10-14T00:00:00+00:00",
          "2018-10-15T00:00:00+00:00",
          "2018-10-16T00:00:00+00:00",
          "2018-10-17T00:00:00+00:00",
          "2018-10-18T00:00:00+00:00",
          "2018-10-19T00:00:00+00:00",
          "2018-10-20T00:00:00+00:00",
          "2018-10-21T00:00:00+00:00",
          "2018-10-22T00:00:00+00:00",
          "2018-10-23T00:00:00+00:00",
          "2018-10-24T00:00:00+00:00",
          "2018-10-25T00:00:00+00:00",
          "2018-10-26T00:00:00+00:00",
          "2018-10-27T00:00:00+00:00",
          "2018-10-28T00:00:00+00:00",
          "2018-10-29T00:00:00+00:00",
          "2018-10-30T00:00:00+00:00",
          "2018-10-31T00:00:00+00:00",
          "2018-11-01T00:00:00+00:00",
          "2018-11-02T00:00:00+00:00",
          "2018-11-03T00:00:00+00:00",
          "2018-11-04T00:00:00+00:00",
          "2018-11-05T00:00:00+00:00",
          "2018-11-06T00:00:00+00:00",
          "2018-11-07T00:00:00+00:00",
          "2018-11-08T00:00:00+00:00",
          "2018-11-09T00:00:00+00:00",
          "2018-11-10T00:00:00+00:00",
          "2018-11-11T00:00:00+00:00",
          "2018-11-12T00:00:00+00:00",
          "2018-11-13T00:00:00+00:00",
          "2018-11-14T00:00:00+00:00",
          "2018-11-15T00:00:00+00:00",
          "2018-11-16T00:00:00+00:00",
          "2018-11-17T00:00:00+00:00",
          "2018-11-18T00:00:00+00:00",
          "2018-11-19T00:00:00+00:00",
          "2018-11-20T00:00:00+00:00",
          "2018-11-21T00:00:00+00:00",
          "2018-11-22T00:00:00+00:00",
          "2018-11-23T00:00:00+00:00",
          "2018-11-24T00:00:00+00:00",
          "2018-11-25T00:00:00+00:00",
          "2018-11-26T00:00:00+00:00",
          "2018-11-27T00:00:00+00:00",
          "2018-11-28T00:00:00+00:00",
          "2018-11-29T00:00:00+00:00",
          "2018-11-30T00:00:00+00:00",
          "2018-12-01T00:00:00+00:00",
          "2018-12-02T00:00:00+00:00",
          "2018-12-03T00:00:00+00:00",
          "2018-12-04T00:00:00+00:00",
          "2018-12-05T00:00:00+00:00",
          "2018-12-06T00:00:00+00:00",
          "2018-12-07T00:00:00+00:00",
          "2018-12-08T00:00:00+00:00",
          "2018-12-09T00:00:00+00:00",
          "2018-12-10T00:00:00+00:00",
          "2018-12-11T00:00:00+00:00",
          "2018-12-12T00:00:00+00:00",
          "2018-12-13T00:00:00+00:00",
          "2018-12-14T00:00:00+00:00",
          "2018-12-15T00:00:00+00:00",
          "2018-12-16T00:00:00+00:00",
          "2018-12-17T00:00:00+00:00",
          "2018-12-18T00:00:00+00:00",
          "2018-12-19T00:00:00+00:00",
          "2018-12-20T00:00:00+00:00",
          "2018-12-21T00:00:00+00:00",
          "2018-12-22T00:00:00+00:00",
          "2018-12-23T00:00:00+00:00",
          "2018-12-24T00:00:00+00:00",
          "2018-12-25T00:00:00+00:00",
          "2018-12-26T00:00:00+00:00",
          "2018-12-27T00:00:00+00:00",
          "2018-12-28T00:00:00+00:00",
          "2018-12-29T00:00:00+00:00",
          "2018-12-30T00:00:00+00:00",
          "2018-12-31T00:00:00+00:00",
          "2019-01-01T00:00:00+00:00",
          "2019-01-02T00:00:00+00:00",
          "2019-01-03T00:00:00+00:00",
          "2019-01-04T00:00:00+00:00",
          "2019-01-05T00:00:00+00:00",
          "2019-01-06T00:00:00+00:00",
          "2019-01-07T00:00:00+00:00",
          "2019-01-08T00:00:00+00:00",
          "2019-01-09T00:00:00+00:00",
          "2019-01-10T00:00:00+00:00",
          "2019-01-11T00:00:00+00:00",
          "2019-01-12T00:00:00+00:00",
          "2019-01-13T00:00:00+00:00",
          "2019-01-14T00:00:00+00:00",
          "2019-01-15T00:00:00+00:00",
          "2019-01-16T00:00:00+00:00",
          "2019-01-17T00:00:00+00:00",
          "2019-01-18T00:00:00+00:00",
          "2019-01-19T00:00:00+00:00",
          "2019-01-20T00:00:00+00:00",
          "2019-01-21T00:00:00+00:00",
          "2019-01-22T00:00:00+00:00",
          "2019-01-23T00:00:00+00:00",
          "2019-01-24T00:00:00+00:00",
          "2019-01-25T00:00:00+00:00",
          "2019-01-26T00:00:00+00:00",
          "2019-01-27T00:00:00+00:00",
          "2019-01-28T00:00:00+00:00",
          "2019-01-29T00:00:00+00:00",
          "2019-01-30T00:00:00+00:00",
          "2019-01-31T00:00:00+00:00",
          "2019-02-01T00:00:00+00:00",
          "2019-02-02T00:00:00+00:00",
          "2019-02-03T00:00:00+00:00",
          "2019-02-04T00:00:00+00:00",
          "2019-02-05T00:00:00+00:00",
          "2019-02-06T00:00:00+00:00",
          "2019-02-07T00:00:00+00:00",
          "2019-02-08T00:00:00+00:00",
          "2019-02-09T00:00:00+00:00",
          "2019-02-10T00:00:00+00:00",
          "2019-02-11T00:00:00+00:00",
          "2019-02-12T00:00:00+00:00",
          "2019-02-13T00:00:00+00:00",
          "2019-02-14T00:00:00+00:00",
          "2019-02-15T00:00:00+00:00",
          "2019-02-16T00:00:00+00:00",
          "2019-02-17T00:00:00+00:00",
          "2019-02-18T00:00:00+00:00",
          "2019-02-19T00:00:00+00:00",
          "2019-02-20T00:00:00+00:00",
          "2019-02-21T00:00:00+00:00",
          "2019-02-22T00:00:00+00:00",
          "2019-02-23T00:00:00+00:00",
          "2019-02-24T00:00:00+00:00",
          "2019-02-25T00:00:00+00:00",
          "2019-02-26T00:00:00+00:00",
          "2019-02-27T00:00:00+00:00",
          "2019-02-28T00:00:00+00:00",
          "2019-03-01T00:00:00+00:00",
          "2019-03-02T00:00:00+00:00",
          "2019-03-03T00:00:00+00:00",
          "2019-03-04T00:00:00+00:00",
          "2019-03-05T00:00:00+00:00",
          "2019-03-06T00:00:00+00:00",
          "2019-03-07T00:00:00+00:00",
          "2019-03-08T00:00:00+00:00",
          "2019-03-09T00:00:00+00:00",
          "2019-03-10T00:00:00+00:00",
          "2019-03-11T00:00:00+00:00",
          "2019-03-12T00:00:00+00:00",
          "2019-03-13T00:00:00+00:00",
          "2019-03-14T00:00:00+00:00",
          "2019-03-15T00:00:00+00:00",
          "2019-03-16T00:00:00+00:00",
          "2019-03-17T00:00:00+00:00",
          "2019-03-18T00:00:00+00:00",
          "2019-03-19T00:00:00+00:00",
          "2019-03-20T00:00:00+00:00",
          "2019-03-21T00:00:00+00:00",
          "2019-03-22T00:00:00+00:00",
          "2019-03-23T00:00:00+00:00",
          "2019-03-24T00:00:00+00:00",
          "2019-03-25T00:00:00+00:00",
          "2019-03-26T00:00:00+00:00",
          "2019-03-27T00:00:00+00:00",
          "2019-03-28T00:00:00+00:00",
          "2019-03-29T00:00:00+00:00",
          "2019-03-30T00:00:00+00:00",
          "2019-03-31T00:00:00+00:00",
          "2019-04-01T00:00:00+00:00",
          "2019-04-02T00:00:00+00:00",
          "2019-04-03T00:00:00+00:00",
          "2019-04-04T00:00:00+00:00",
          "2019-04-05T00:00:00+00:00",
          "2019-04-06T00:00:00+00:00",
          "2019-04-07T00:00:00+00:00",
          "2019-04-08T00:00:00+00:00",
          "2019-04-09T00:00:00+00:00",
          "2019-04-10T00:00:00+00:00",
          "2019-04-11T00:00:00+00:00",
          "2019-04-12T00:00:00+00:00",
          "2019-04-13T00:00:00+00:00",
          "2019-04-14T00:00:00+00:00",
          "2019-04-15T00:00:00+00:00",
          "2019-04-16T00:00:00+00:00",
          "2019-04-17T00:00:00+00:00",
          "2019-04-18T00:00:00+00:00",
          "2019-04-19T00:00:00+00:00",
          "2019-04-20T00:00:00+00:00",
          "2019-04-21T00:00:00+00:00",
          "2019-04-22T00:00:00+00:00",
          "2019-04-23T00:00:00+00:00",
          "2019-04-24T00:00:00+00:00",
          "2019-04-25T00:00:00+00:00",
          "2019-04-26T00:00:00+00:00",
          "2019-04-27T00:00:00+00:00",
          "2019-04-28T00:00:00+00:00",
          "2019-04-29T00:00:00+00:00",
          "2019-04-30T00:00:00+00:00",
          "2019-05-01T00:00:00+00:00",
          "2019-05-02T00:00:00+00:00",
          "2019-05-03T00:00:00+00:00",
          "2019-05-04T00:00:00+00:00",
          "2019-05-05T00:00:00+00:00",
          "2019-05-06T00:00:00+00:00",
          "2019-05-07T00:00:00+00:00",
          "2019-05-08T00:00:00+00:00",
          "2019-05-09T00:00:00+00:00",
          "2019-05-10T00:00:00+00:00",
          "2019-05-11T00:00:00+00:00",
          "2019-05-12T00:00:00+00:00",
          "2019-05-13T00:00:00+00:00",
          "2019-05-14T00:00:00+00:00",
          "2019-05-15T00:00:00+00:00",
          "2019-05-16T00:00:00+00:00",
          "2019-05-17T00:00:00+00:00",
          "2019-05-18T00:00:00+00:00",
          "2019-05-19T00:00:00+00:00",
          "2019-05-20T00:00:00+00:00",
          "2019-05-21T00:00:00+00:00",
          "2019-05-22T00:00:00+00:00",
          "2019-05-23T00:00:00+00:00",
          "2019-05-24T00:00:00+00:00",
          "2019-05-25T00:00:00+00:00",
          "2019-05-26T00:00:00+00:00",
          "2019-05-27T00:00:00+00:00",
          "2019-05-28T00:00:00+00:00",
          "2019-05-29T00:00:00+00:00",
          "2019-05-30T00:00:00+00:00",
          "2019-05-31T00:00:00+00:00",
          "2019-06-01T00:00:00+00:00",
          "2019-06-02T00:00:00+00:00",
          "2019-06-03T00:00:00+00:00",
          "2019-06-04T00:00:00+00:00",
          "2019-06-05T00:00:00+00:00",
          "2019-06-06T00:00:00+00:00",
          "2019-06-07T00:00:00+00:00",
          "2019-06-08T00:00:00+00:00",
          "2019-06-09T00:00:00+00:00",
          "2019-06-10T00:00:00+00:00",
          "2019-06-11T00:00:00+00:00",
          "2019-06-12T00:00:00+00:00",
          "2019-06-13T00:00:00+00:00",
          "2019-06-14T00:00:00+00:00",
          "2019-06-15T00:00:00+00:00",
          "2019-06-16T00:00:00+00:00",
          "2019-06-17T00:00:00+00:00",
          "2019-06-18T00:00:00+00:00",
          "2019-06-19T00:00:00+00:00",
          "2019-06-20T00:00:00+00:00",
          "2019-06-21T00:00:00+00:00",
          "2019-06-22T00:00:00+00:00",
          "2019-06-23T00:00:00+00:00",
          "2019-06-24T00:00:00+00:00",
          "2019-06-25T00:00:00+00:00",
          "2019-06-26T00:00:00+00:00",
          "2019-06-27T00:00:00+00:00",
          "2019-06-28T00:00:00+00:00",
          "2019-06-29T00:00:00+00:00",
          "2019-06-30T00:00:00+00:00",
          "2019-07-01T00:00:00+00:00",
          "2019-07-02T00:00:00+00:00",
          "2019-07-03T00:00:00+00:00",
          "2019-07-04T00:00:00+00:00",
          "2019-07-05T00:00:00+00:00",
          "2019-07-06T00:00:00+00:00",
          "2019-07-07T00:00:00+00:00",
          "2019-07-08T00:00:00+00:00",
          "2019-07-09T00:00:00+00:00",
          "2019-07-10T00:00:00+00:00",
          "2019-07-11T00:00:00+00:00",
          "2019-07-12T00:00:00+00:00",
          "2019-07-13T00:00:00+00:00",
          "2019-07-14T00:00:00+00:00",
          "2019-07-15T00:00:00+00:00",
          "2019-07-16T00:00:00+00:00",
          "2019-07-17T00:00:00+00:00",
          "2019-07-18T00:00:00+00:00",
          "2019-07-19T00:00:00+00:00",
          "2019-07-20T00:00:00+00:00",
          "2019-07-21T00:00:00+00:00",
          "2019-07-22T00:00:00+00:00",
          "2019-07-23T00:00:00+00:00",
          "2019-07-24T00:00:00+00:00",
          "2019-07-25T00:00:00+00:00",
          "2019-07-26T00:00:00+00:00",
          "2019-07-27T00:00:00+00:00",
          "2019-07-28T00:00:00+00:00",
          "2019-07-29T00:00:00+00:00",
          "2019-07-30T00:00:00+00:00",
          "2019-07-31T00:00:00+00:00",
          "2019-08-01T00:00:00+00:00",
          "2019-08-02T00:00:00+00:00",
          "2019-08-03T00:00:00+00:00",
          "2019-08-04T00:00:00+00:00",
          "2019-08-05T00:00:00+00:00",
          "2019-08-06T00:00:00+00:00",
          "2019-08-07T00:00:00+00:00",
          "2019-08-08T00:00:00+00:00",
          "2019-08-09T00:00:00+00:00",
          "2019-08-10T00:00:00+00:00",
          "2019-08-11T00:00:00+00:00",
          "2019-08-12T00:00:00+00:00",
          "2019-08-13T00:00:00+00:00",
          "2019-08-14T00:00:00+00:00",
          "2019-08-15T00:00:00+00:00",
          "2019-08-16T00:00:00+00:00",
          "2019-08-17T00:00:00+00:00",
          "2019-08-18T00:00:00+00:00",
          "2019-08-19T00:00:00+00:00",
          "2019-08-20T00:00:00+00:00",
          "2019-08-21T00:00:00+00:00",
          "2019-08-22T00:00:00+00:00",
          "2019-08-23T00:00:00+00:00",
          "2019-08-24T00:00:00+00:00",
          "2019-08-25T00:00:00+00:00",
          "2019-08-26T00:00:00+00:00",
          "2019-08-27T00:00:00+00:00",
          "2019-08-28T00:00:00+00:00",
          "2019-08-29T00:00:00+00:00",
          "2019-08-30T00:00:00+00:00",
          "2019-08-31T00:00:00+00:00",
          "2019-09-01T00:00:00+00:00",
          "2019-09-02T00:00:00+00:00",
          "2019-09-03T00:00:00+00:00",
          "2019-09-04T00:00:00+00:00",
          "2019-09-05T00:00:00+00:00",
          "2019-09-06T00:00:00+00:00",
          "2019-09-07T00:00:00+00:00",
          "2019-09-08T00:00:00+00:00",
          "2019-09-09T00:00:00+00:00",
          "2019-09-10T00:00:00+00:00",
          "2019-09-11T00:00:00+00:00",
          "2019-09-12T00:00:00+00:00",
          "2019-09-13T00:00:00+00:00",
          "2019-09-14T00:00:00+00:00",
          "2019-09-15T00:00:00+00:00",
          "2019-09-16T00:00:00+00:00",
          "2019-09-17T00:00:00+00:00",
          "2019-09-18T00:00:00+00:00",
          "2019-09-19T00:00:00+00:00",
          "2019-09-20T00:00:00+00:00",
          "2019-09-21T00:00:00+00:00",
          "2019-09-22T00:00:00+00:00",
          "2019-09-23T00:00:00+00:00",
          "2019-09-24T00:00:00+00:00",
          "2019-09-25T00:00:00+00:00",
          "2019-09-26T00:00:00+00:00",
          "2019-09-27T00:00:00+00:00",
          "2019-09-28T00:00:00+00:00",
          "2019-09-29T00:00:00+00:00",
          "2019-09-30T00:00:00+00:00",
          "2019-10-01T00:00:00+00:00",
          "2019-10-02T00:00:00+00:00",
          "2019-10-03T00:00:00+00:00",
          "2019-10-04T00:00:00+00:00",
          "2019-10-05T00:00:00+00:00",
          "2019-10-06T00:00:00+00:00",
          "2019-10-07T00:00:00+00:00",
          "2019-10-08T00:00:00+00:00",
          "2019-10-09T00:00:00+00:00",
          "2019-10-10T00:00:00+00:00",
          "2019-10-11T00:00:00+00:00",
          "2019-10-12T00:00:00+00:00",
          "2019-10-13T00:00:00+00:00",
          "2019-10-14T00:00:00+00:00",
          "2019-10-15T00:00:00+00:00",
          "2019-10-16T00:00:00+00:00",
          "2019-10-17T00:00:00+00:00",
          "2019-10-18T00:00:00+00:00",
          "2019-10-19T00:00:00+00:00",
          "2019-10-20T00:00:00+00:00",
          "2019-10-21T00:00:00+00:00",
          "2019-10-22T00:00:00+00:00",
          "2019-10-23T00:00:00+00:00",
          "2019-10-24T00:00:00+00:00",
          "2019-10-25T00:00:00+00:00",
          "2019-10-26T00:00:00+00:00",
          "2019-10-27T00:00:00+00:00",
          "2019-10-28T00:00:00+00:00",
          "2019-10-29T00:00:00+00:00",
          "2019-10-30T00:00:00+00:00",
          "2019-10-31T00:00:00+00:00",
          "2019-11-01T00:00:00+00:00",
          "2019-11-02T00:00:00+00:00",
          "2019-11-03T00:00:00+00:00",
          "2019-11-04T00:00:00+00:00",
          "2019-11-05T00:00:00+00:00",
          "2019-11-06T00:00:00+00:00",
          "2019-11-07T00:00:00+00:00",
          "2019-11-08T00:00:00+00:00",
          "2019-11-09T00:00:00+00:00",
          "2019-11-10T00:00:00+00:00",
          "2019-11-11T00:00:00+00:00",
          "2019-11-12T00:00:00+00:00",
          "2019-11-13T00:00:00+00:00",
          "2019-11-14T00:00:00+00:00",
          "2019-11-15T00:00:00+00:00",
          "2019-11-16T00:00:00+00:00",
          "2019-11-17T00:00:00+00:00",
          "2019-11-18T00:00:00+00:00",
          "2019-11-19T00:00:00+00:00",
          "2019-11-20T00:00:00+00:00",
          "2019-11-21T00:00:00+00:00",
          "2019-11-22T00:00:00+00:00",
          "2019-11-23T00:00:00+00:00",
          "2019-11-24T00:00:00+00:00",
          "2019-11-25T00:00:00+00:00",
          "2019-11-26T00:00:00+00:00",
          "2019-11-27T00:00:00+00:00",
          "2019-11-28T00:00:00+00:00",
          "2019-11-29T00:00:00+00:00",
          "2019-11-30T00:00:00+00:00",
          "2019-12-01T00:00:00+00:00",
          "2019-12-02T00:00:00+00:00",
          "2019-12-03T00:00:00+00:00",
          "2019-12-04T00:00:00+00:00",
          "2019-12-05T00:00:00+00:00",
          "2019-12-06T00:00:00+00:00",
          "2019-12-07T00:00:00+00:00",
          "2019-12-08T00:00:00+00:00",
          "2019-12-09T00:00:00+00:00",
          "2019-12-10T00:00:00+00:00",
          "2019-12-11T00:00:00+00:00",
          "2019-12-12T00:00:00+00:00",
          "2019-12-13T00:00:00+00:00",
          "2019-12-14T00:00:00+00:00",
          "2019-12-15T00:00:00+00:00",
          "2019-12-16T00:00:00+00:00",
          "2019-12-17T00:00:00+00:00",
          "2019-12-18T00:00:00+00:00",
          "2019-12-19T00:00:00+00:00",
          "2019-12-20T00:00:00+00:00",
          "2019-12-21T00:00:00+00:00",
          "2019-12-22T00:00:00+00:00",
          "2019-12-23T00:00:00+00:00",
          "2019-12-24T00:00:00+00:00",
          "2019-12-25T00:00:00+00:00",
          "2019-12-26T00:00:00+00:00",
          "2019-12-27T00:00:00+00:00",
          "2019-12-28T00:00:00+00:00",
          "2019-12-29T00:00:00+00:00",
          "2019-12-30T00:00:00+00:00",
          "2019-12-31T00:00:00+00:00",
          "2020-01-01T00:00:00+00:00",
          "2020-01-02T00:00:00+00:00",
          "2020-01-03T00:00:00+00:00",
          "2020-01-04T00:00:00+00:00",
          "2020-01-05T00:00:00+00:00",
          "2020-01-06T00:00:00+00:00",
          "2020-01-07T00:00:00+00:00",
          "2020-01-08T00:00:00+00:00",
          "2020-01-09T00:00:00+00:00",
          "2020-01-10T00:00:00+00:00",
          "2020-01-11T00:00:00+00:00",
          "2020-01-12T00:00:00+00:00",
          "2020-01-13T00:00:00+00:00",
          "2020-01-14T00:00:00+00:00",
          "2020-01-15T00:00:00+00:00",
          "2020-01-16T00:00:00+00:00",
          "2020-01-17T00:00:00+00:00",
          "2020-01-18T00:00:00+00:00",
          "2020-01-19T00:00:00+00:00",
          "2020-01-20T00:00:00+00:00",
          "2020-01-21T00:00:00+00:00",
          "2020-01-22T00:00:00+00:00",
          "2020-01-23T00:00:00+00:00",
          "2020-01-24T00:00:00+00:00",
          "2020-01-25T00:00:00+00:00",
          "2020-01-26T00:00:00+00:00",
          "2020-01-27T00:00:00+00:00",
          "2020-01-28T00:00:00+00:00",
          "2020-01-29T00:00:00+00:00",
          "2020-01-30T00:00:00+00:00",
          "2020-01-31T00:00:00+00:00",
          "2020-02-01T00:00:00+00:00",
          "2020-02-02T00:00:00+00:00",
          "2020-02-03T00:00:00+00:00",
          "2020-02-04T00:00:00+00:00",
          "2020-02-05T00:00:00+00:00",
          "2020-02-06T00:00:00+00:00",
          "2020-02-07T00:00:00+00:00",
          "2020-02-08T00:00:00+00:00",
          "2020-02-09T00:00:00+00:00",
          "2020-02-10T00:00:00+00:00",
          "2020-02-11T00:00:00+00:00",
          "2020-02-12T00:00:00+00:00",
          "2020-02-13T00:00:00+00:00",
          "2020-02-14T00:00:00+00:00",
          "2020-02-15T00:00:00+00:00",
          "2020-02-16T00:00:00+00:00",
          "2020-02-17T00:00:00+00:00",
          "2020-02-18T00:00:00+00:00",
          "2020-02-19T00:00:00+00:00",
          "2020-02-20T00:00:00+00:00",
          "2020-02-21T00:00:00+00:00",
          "2020-02-22T00:00:00+00:00",
          "2020-02-23T00:00:00+00:00",
          "2020-02-24T00:00:00+00:00",
          "2020-02-25T00:00:00+00:00",
          "2020-02-26T00:00:00+00:00",
          "2020-02-27T00:00:00+00:00",
          "2020-02-28T00:00:00+00:00",
          "2020-02-29T00:00:00+00:00",
          "2020-03-01T00:00:00+00:00",
          "2020-03-02T00:00:00+00:00",
          "2020-03-03T00:00:00+00:00",
          "2020-03-04T00:00:00+00:00",
          "2020-03-05T00:00:00+00:00",
          "2020-03-06T00:00:00+00:00",
          "2020-03-07T00:00:00+00:00",
          "2020-03-08T00:00:00+00:00",
          "2020-03-09T00:00:00+00:00",
          "2020-03-10T00:00:00+00:00",
          "2020-03-11T00:00:00+00:00",
          "2020-03-12T00:00:00+00:00",
          "2020-03-13T00:00:00+00:00",
          "2020-03-14T00:00:00+00:00",
          "2020-03-15T00:00:00+00:00",
          "2020-03-16T00:00:00+00:00",
          "2020-03-17T00:00:00+00:00",
          "2020-03-18T00:00:00+00:00",
          "2020-03-19T00:00:00+00:00",
          "2020-03-20T00:00:00+00:00",
          "2020-03-21T00:00:00+00:00",
          "2020-03-22T00:00:00+00:00",
          "2020-03-23T00:00:00+00:00",
          "2020-03-24T00:00:00+00:00",
          "2020-03-25T00:00:00+00:00",
          "2020-03-26T00:00:00+00:00",
          "2020-03-27T00:00:00+00:00",
          "2020-03-28T00:00:00+00:00",
          "2020-03-29T00:00:00+00:00",
          "2020-03-30T00:00:00+00:00",
          "2020-03-31T00:00:00+00:00",
          "2020-04-01T00:00:00+00:00",
          "2020-04-02T00:00:00+00:00",
          "2020-04-03T00:00:00+00:00",
          "2020-04-04T00:00:00+00:00",
          "2020-04-05T00:00:00+00:00",
          "2020-04-06T00:00:00+00:00",
          "2020-04-07T00:00:00+00:00",
          "2020-04-08T00:00:00+00:00",
          "2020-04-09T00:00:00+00:00",
          "2020-04-10T00:00:00+00:00",
          "2020-04-11T00:00:00+00:00",
          "2020-04-12T00:00:00+00:00",
          "2020-04-13T00:00:00+00:00",
          "2020-04-14T00:00:00+00:00",
          "2020-04-15T00:00:00+00:00",
          "2020-04-16T00:00:00+00:00",
          "2020-04-17T00:00:00+00:00",
          "2020-04-18T00:00:00+00:00",
          "2020-04-19T00:00:00+00:00",
          "2020-04-20T00:00:00+00:00",
          "2020-04-21T00:00:00+00:00",
          "2020-04-22T00:00:00+00:00",
          "2020-04-23T00:00:00+00:00",
          "2020-04-24T00:00:00+00:00",
          "2020-04-25T00:00:00+00:00",
          "2020-04-26T00:00:00+00:00",
          "2020-04-27T00:00:00+00:00",
          "2020-04-28T00:00:00+00:00",
          "2020-04-29T00:00:00+00:00",
          "2020-04-30T00:00:00+00:00",
          "2020-05-01T00:00:00+00:00",
          "2020-05-02T00:00:00+00:00",
          "2020-05-03T00:00:00+00:00",
          "2020-05-04T00:00:00+00:00",
          "2020-05-05T00:00:00+00:00",
          "2020-05-06T00:00:00+00:00",
          "2020-05-07T00:00:00+00:00",
          "2020-05-08T00:00:00+00:00",
          "2020-05-09T00:00:00+00:00",
          "2020-05-10T00:00:00+00:00",
          "2020-05-11T00:00:00+00:00",
          "2020-05-12T00:00:00+00:00",
          "2020-05-13T00:00:00+00:00",
          "2020-05-14T00:00:00+00:00",
          "2020-05-15T00:00:00+00:00",
          "2020-05-16T00:00:00+00:00",
          "2020-05-17T00:00:00+00:00",
          "2020-05-18T00:00:00+00:00",
          "2020-05-19T00:00:00+00:00",
          "2020-05-20T00:00:00+00:00",
          "2020-05-21T00:00:00+00:00",
          "2020-05-22T00:00:00+00:00",
          "2020-05-23T00:00:00+00:00",
          "2020-05-24T00:00:00+00:00",
          "2020-05-25T00:00:00+00:00",
          "2020-05-26T00:00:00+00:00",
          "2020-05-27T00:00:00+00:00",
          "2020-05-28T00:00:00+00:00",
          "2020-05-29T00:00:00+00:00",
          "2020-05-30T00:00:00+00:00",
          "2020-05-31T00:00:00+00:00",
          "2020-06-01T00:00:00+00:00",
          "2020-06-02T00:00:00+00:00",
          "2020-06-03T00:00:00+00:00",
          "2020-06-04T00:00:00+00:00",
          "2020-06-05T00:00:00+00:00",
          "2020-06-06T00:00:00+00:00",
          "2020-06-07T00:00:00+00:00",
          "2020-06-08T00:00:00+00:00",
          "2020-06-09T00:00:00+00:00",
          "2020-06-10T00:00:00+00:00",
          "2020-06-11T00:00:00+00:00",
          "2020-06-12T00:00:00+00:00",
          "2020-06-13T00:00:00+00:00",
          "2020-06-14T00:00:00+00:00",
          "2020-06-15T00:00:00+00:00",
          "2020-06-16T00:00:00+00:00",
          "2020-06-17T00:00:00+00:00",
          "2020-06-18T00:00:00+00:00",
          "2020-06-19T00:00:00+00:00",
          "2020-06-20T00:00:00+00:00",
          "2020-06-21T00:00:00+00:00",
          "2020-06-22T00:00:00+00:00",
          "2020-06-23T00:00:00+00:00",
          "2020-06-24T00:00:00+00:00",
          "2020-06-25T00:00:00+00:00",
          "2020-06-26T00:00:00+00:00",
          "2020-06-27T00:00:00+00:00",
          "2020-06-28T00:00:00+00:00",
          "2020-06-29T00:00:00+00:00",
          "2020-06-30T00:00:00+00:00",
          "2020-07-01T00:00:00+00:00",
          "2020-07-02T00:00:00+00:00",
          "2020-07-03T00:00:00+00:00",
          "2020-07-04T00:00:00+00:00"
         ],
         "y": [
          0.006729897577315569,
          0.007190010044723749,
          0.006425279192626476,
          0.00630315113812685,
          0.0066617741249501705,
          0.006688399240374565,
          0.007849911227822304,
          0.008494152687489986,
          0.0082432571798563,
          0.008333954960107803,
          0.007993461564183235,
          0.007436716929078102,
          0.006676665507256985,
          0.006293133366852999,
          0.005976392421871424,
          0.005821506958454847,
          0.005023916717618704,
          0.005152461118996143,
          0.004959903657436371,
          0.004805177915841341,
          0.004996318835765123,
          0.0053838202729821205,
          0.0052072131074965,
          0.005932220723479986,
          0.0066163260489702225,
          0.007653506472706795,
          0.009535017423331738,
          0.010474476963281631,
          0.010580233298242092,
          0.01091831736266613,
          0.01108185201883316,
          0.01130032166838646,
          0.012387188151478767,
          0.01295503694564104,
          0.01379997469484806,
          0.014109254814684391,
          0.014024738222360611,
          0.013591423630714417,
          0.012839480303227901,
          0.011359475553035736,
          0.01011997926980257,
          0.008970816619694233,
          0.007933917455375195,
          0.007140216883271933,
          0.007064754143357277,
          0.006315859965980053,
          0.006496264599263668,
          0.006963344290852547,
          0.006978277582675219,
          0.007475686259567738,
          0.007382082752883434,
          0.00725400960072875,
          0.0067632077261805534,
          0.006213760934770107,
          0.005707934498786926,
          0.0054903230629861355,
          0.005554637871682644,
          0.005355347879230976,
          0.005662936717271805,
          0.0059106913395226,
          0.005666276905685663,
          0.0057545132003724575,
          0.00530609954148531,
          0.005206851288676262,
          0.0054601519368588924,
          0.005842038430273533,
          0.006270325742661953,
          0.006431588903069496,
          0.006448757369071245,
          0.006096997298300266,
          0.005272539332509041,
          0.004886186216026545,
          0.004264602437615395,
          0.004082471132278442,
          0.0038051174487918615,
          0.0036522101145237684,
          0.004002528265118599,
          0.003971301484853029,
          0.004115516319870949,
          0.00480282586067915,
          0.005055211950093508,
          0.0050953286699950695,
          0.005191269796341658,
          0.005299739073961973,
          0.0055034165270626545,
          0.005249716341495514,
          0.0050222985446453094,
          0.005366832949221134,
          0.006190774496644735,
          0.007634002715349197,
          0.00864836759865284,
          0.009936376474797726,
          0.010058920830488205,
          0.009395314380526543,
          0.008852929808199406,
          0.00843739416450262,
          0.008325912989675999,
          0.008371202275156975,
          0.00821125227957964,
          0.008270477876067162,
          0.008588011376559734,
          0.008466718718409538,
          0.007690719328820705,
          0.008077927865087986,
          0.008033106103539467,
          0.008000214584171772,
          0.00762559100985527,
          0.007057675626128912,
          0.006367331370711327,
          0.0060443882830441,
          0.005580191034823656,
          0.0055704303085803986,
          0.0056010582484304905,
          0.005145557224750519,
          0.004338853061199188,
          0.003979957662522793,
          0.00352505617775023,
          0.0031652236357331276,
          0.002810915932059288,
          0.002897675847634673,
          0.0030046163592487574,
          0.0029707946814596653,
          0.0028031764086335897,
          0.002301950938999653,
          0.0022356421686708927,
          0.002259167842566967,
          0.002476022345945239,
          0.0028246690053492785,
          0.00293392944149673,
          0.0027532028034329414,
          0.0028629351872950792,
          0.002843750873580575,
          0.0026802874635905027,
          0.0025339433923363686,
          0.0024895677343010902,
          0.002625352004542947,
          0.002882549772039056,
          0.0030874074436724186,
          0.0033473207149654627,
          0.003489601658657193,
          0.003492149291560054,
          0.0033452538773417473,
          0.0031847083009779453,
          0.0029727774672210217,
          0.002739772666245699,
          0.0026092969346791506,
          0.002870021853595972,
          0.0027511778753250837,
          0.0030595622956752777,
          0.0030811005271971226,
          0.003199265105649829,
          0.003519559046253562,
          0.0037227573338896036,
          0.003744971239939332,
          0.004029563162475824,
          0.0042344434186816216,
          0.004428725689649582,
          0.0044546895660459995,
          0.004779348149895668,
          0.0045766509138047695,
          0.004502196330577135,
          0.004491177853196859,
          0.004446367267519236,
          0.004362381063401699,
          0.004283346235752106,
          0.003933305852115154,
          0.00406409939751029,
          0.004467889666557312,
          0.004704385995864868,
          0.005033084657043219,
          0.0054409257136285305,
          0.005466276314109564,
          0.005399469286203384,
          0.005032217130064964,
          0.004777768161147833,
          0.0044642603024840355,
          0.004243645817041397,
          0.003908827900886536,
          0.0035962339024990797,
          0.0034993004519492388,
          0.0028814433608204126,
          0.002616447862237692,
          0.0027775252237915993,
          0.0033795854542404413,
          0.004853573627769947,
          0.006368758622556925,
          0.007637880742549896,
          0.008380339480936527,
          0.00823126919567585,
          0.007881570607423782,
          0.007738657295703888,
          0.00807984359562397,
          0.008359597064554691,
          0.00820515863597393,
          0.008220617659389973,
          0.007761023938655853,
          0.007024339400231838,
          0.006300829816609621,
          0.005144648253917694,
          0.00457281619310379,
          0.0041205622255802155,
          0.003751353593543172,
          0.0032047838903963566,
          0.0029391469433903694,
          0.0026397446636110544,
          0.002117651281878352,
          0.00209074467420578,
          0.0024602548219263554,
          0.0024993903934955597,
          0.002753902692347765,
          0.003217848250642419,
          0.0033470219932496548,
          0.0032440891955047846,
          0.0031026098877191544,
          0.0030856390949338675,
          0.003298248630017042,
          0.0034135926980525255,
          0.003581555327400565,
          0.0037595063913613558,
          0.0038301388267427683,
          0.003914756700396538,
          0.0036172776017338037,
          0.003726221388205886,
          0.00385401607491076,
          0.0041455840691924095,
          0.004546178970485926,
          0.005191537085920572,
          0.005347817204892635,
          0.005237821955233812,
          0.004889397881925106,
          0.004680732265114784,
          0.004402767401188612,
          0.004203366115689278,
          0.004285744857043028,
          0.004204108379781246,
          0.003979166503995657,
          0.004051724914461374,
          0.003655586624518037,
          0.0036136985290795565,
          0.0033384282141923904,
          0.003033165819942951,
          0.0029539179522544146,
          0.0029908244032412767,
          0.0029953245539218187,
          0.0028443802148103714,
          0.0028858764562755823,
          0.0027074445970356464,
          0.0024931360967457294,
          0.0023667477071285248,
          0.0025319536216557026,
          0.0030166693031787872,
          0.003463390516117215,
          0.003703354625031352,
          0.0037908621598035097,
          0.0035688334610313177,
          0.003271557856351137,
          0.0029784098733216524,
          0.0028471893165260553,
          0.002686266554519534,
          0.0026483582332730293,
          0.0024740102235227823,
          0.0020905982237309217,
          0.0017660929588600993,
          0.001482472405768931,
          0.0011424884432926774,
          0.001060288050211966,
          0.0010337597923353314,
          0.001067575067281723,
          0.0010500620119273663,
          0.0012042275629937649,
          0.0010151802562177181,
          0.0012176327873021364,
          0.001479291240684688,
          0.0017096140654757619,
          0.002175146248191595,
          0.0026711730752140284,
          0.0029596237000077963,
          0.0030877527315169573,
          0.0029595033265650272,
          0.002698994241654873,
          0.00232066516764462,
          0.0019285237649455667,
          0.0015727555146440864,
          0.0012720247032120824,
          0.0009598383912816644,
          0.0007102005183696747,
          0.0005705230869352818,
          0.0005397388013079762,
          0.00024147990916389972,
          0.0002873067860491574,
          0.0004105795524083078,
          0.0005266473162919283,
          0.000642291153781116,
          0.0007255459204316139,
          0.0008753621950745583,
          0.0010062885703518987,
          0.001110995770432055,
          0.001270323060452938,
          0.0012989433016628027,
          0.0012067853240296245,
          0.0011417156783863902,
          0.0010447850218042731,
          0.0009376523084938526,
          0.0013566334964707494,
          0.0014844541437923908,
          0.0017031902680173516,
          0.002244367264211178,
          0.0026822241488844156,
          0.0028191502206027508,
          0.0027807860169559717,
          0.0025037508457899094,
          0.0021165176294744015,
          0.0017142243450507522,
          0.0013106404803693295,
          0.0009345384314656258,
          0.0006190723506733775,
          0.0003760658437386155,
          0.00019205718126613647,
          -2.5669571186881512e-05,
          -9.791307820705697e-05,
          -9.791304910322651e-05,
          -9.791304910322651e-05,
          -9.791304910322651e-05,
          -9.791304910322651e-05,
          -9.791304910322651e-05,
          -9.791304910322651e-05,
          0.0025601666420698166,
          0.0036042171996086836,
          0.0053026797249913216,
          0.008011473342776299,
          0.009766334667801857,
          0.010788589715957642,
          0.01119791530072689,
          0.010701123625040054,
          0.009679282084107399,
          0.008597212843596935,
          0.007670070976018906,
          0.007371964864432812,
          0.007715723477303982,
          0.008231156505644321,
          0.009455081075429916,
          0.009466738440096378,
          0.00999231357127428,
          0.010324624367058277,
          0.010266542434692383,
          0.009673092514276505,
          0.00885755941271782,
          0.00816869456321001,
          0.007710082456469536,
          0.007467999123036861,
          0.00716173741966486,
          0.006715623661875725,
          0.006348565686494112,
          0.006305067799985409,
          0.005405849311500788,
          0.005163406953215599,
          0.0048868427984416485,
          0.004905317910015583,
          0.00506410701200366,
          0.0051022982224822044,
          0.005438253283500671,
          0.005291377194225788,
          0.0047476948238909245,
          0.004840299487113953,
          0.0045373826287686825,
          0.004584772977977991,
          0.00436033122241497,
          0.004093545489013195,
          0.0041266134940087795,
          0.003830814966931939,
          0.003763029584661126,
          0.0031768130138516426,
          0.0029576376546174288,
          0.002867341274395585,
          0.0026653322856873274,
          0.0023352131247520447,
          0.0021707769483327866,
          0.0019449245883151889,
          0.0018231027061119676,
          0.0013846028596162796,
          0.001234489493072033,
          0.0011396714253351092,
          0.0010768083157017827,
          0.0010885666124522686,
          0.0010865993099287152,
          0.0009991324041038752,
          0.0009321356192231178,
          0.0008485979633405805,
          0.0007834145799279213,
          0.0010146767599508166,
          0.0018066208576783538,
          0.0027263073716312647,
          0.0035261891316622496,
          0.00427960604429245,
          0.004447741433978081,
          0.004203923512250185,
          0.003784875152632594,
          0.003225169377401471,
          0.0027691444847732782,
          0.0027542731259018183,
          0.003199039725586772,
          0.003908064216375351,
          0.00460678618401289,
          0.005172006785869598,
          0.004964788910001516,
          0.005567783024162054,
          0.005598802585154772,
          0.005524447187781334,
          0.0056407153606414795,
          0.005480418913066387,
          0.005229499656707048,
          0.004726046696305275,
          0.004099092911928892,
          0.003484742483124137,
          0.0026535075157880783,
          0.0025033431593328714,
          0.0024588261730968952,
          0.002447644481435418,
          0.0025213779881596565,
          0.002440465148538351,
          0.002363487845286727,
          0.0020794481970369816,
          0.0019840430468320847,
          0.0017984031001105905,
          0.001605736673809588,
          0.0015679252101108432,
          0.0016772305825725198,
          0.001846061903052032,
          0.001976281637325883,
          0.0018642653012648225,
          0.0019307181937620044,
          0.0018405377632007003,
          0.0016969029093161225,
          0.0014674828853458166,
          0.0013305688044056296,
          0.0011507008457556367,
          0.0010676831007003784,
          0.001191744115203619,
          0.0013239608379080892,
          0.00142612773925066,
          0.0016220059478655457,
          0.0019006332149729133,
          0.002933042822405696,
          0.0050107380375266075,
          0.007436288520693779,
          0.009172421880066395,
          0.01083465851843357,
          0.011380143463611603,
          0.011201051995158195,
          0.01081899181008339,
          0.00994164403527975,
          0.009079529903829098,
          0.008167793974280357,
          0.007152140606194735,
          0.006277528591454029,
          0.005545544438064098,
          0.004880607593804598,
          0.003426308510825038,
          0.003523611230775714,
          0.003573945490643382,
          0.0035039049107581377,
          0.0034051532857120037,
          0.003047754056751728,
          0.0029177539981901646,
          0.003038831753656268,
          0.003098489250987768,
          0.0029704144690185785,
          0.002909775823354721,
          0.002870152937248349,
          0.002691183937713504,
          0.0026515331119298935,
          0.0024714895989745855,
          0.002550106029957533,
          0.0028379501309245825,
          0.0034871052484959364,
          0.004208939615637064,
          0.004688976798206568,
          0.004867096897214651,
          0.0048314961604774,
          0.00493345083668828,
          0.005054350011050701,
          0.005886835511773825,
          0.0075337328016757965,
          0.009511563926935196,
          0.011320770718157291,
          0.013389145955443382,
          0.014399717561900616,
          0.01485675759613514,
          0.013872334733605385,
          0.012746158055961132,
          0.011971104890108109,
          0.011315662413835526,
          0.010600312612950802,
          0.01002262718975544,
          0.009135858155786991,
          0.008382669650018215,
          0.007146911695599556,
          0.007511272095143795,
          0.007373059168457985,
          0.0075723472982645035,
          0.007726739160716534,
          0.007343784905970097,
          0.006765603553503752,
          0.006203499622642994,
          0.005332594737410545,
          0.005079204682260752,
          0.0046224952675402164,
          0.004507006146013737,
          0.0042121815495193005,
          0.004095522686839104,
          0.004097040742635727,
          0.0034120911732316017,
          0.003593698376789689,
          0.003792251693084836,
          0.003991813398897648,
          0.004566953983157873,
          0.005121407099068165,
          0.0058859665878117085,
          0.006458524148911238,
          0.00713340425863862,
          0.007356281857937574,
          0.007164361421018839,
          0.007344015408307314,
          0.007618618197739124,
          0.008414266631007195,
          0.009178551845252514,
          0.00962189119309187,
          0.01045614667236805,
          0.011638803407549858,
          0.01199136022478342,
          0.012113949283957481,
          0.012726676650345325,
          0.012082737870514393,
          0.011449186131358147,
          0.010988984256982803,
          0.010586559772491455,
          0.010124832391738892,
          0.009080572053790092,
          0.008699106052517891,
          0.008103566244244576,
          0.007455288432538509,
          0.006604781374335289,
          0.005562932696193457,
          0.004804027732461691,
          0.0036567782517522573,
          0.002968486165627837,
          0.0024689368437975645,
          0.0029919245280325413,
          0.0030135540291666985,
          0.0030554919503629208,
          0.004346096888184547,
          0.005514480173587799,
          0.00657614367082715,
          0.0074667250737547874,
          0.0076196035370230675,
          0.0071784392930567265,
          0.0065171727910637856,
          0.005801795050501823,
          0.005097882356494665,
          0.00433744490146637,
          0.0036838313098996878,
          0.003204357111826539,
          0.002957790158689022,
          0.0031034359708428383,
          0.0032136375084519386,
          0.004097884986549616,
          0.004931779112666845,
          0.005837414879351854,
          0.006775072775781155,
          0.007501928135752678,
          0.00795667339116335,
          0.008433419279754162,
          0.008264724165201187,
          0.007656571455299854,
          0.006961863487958908,
          0.006312493234872818,
          0.005620134063065052,
          0.004638800863176584,
          0.00424307631328702,
          0.00408672820776701,
          0.0037800634745508432,
          0.003836741903796792,
          0.0038779296446591616,
          0.004306379705667496,
          0.004056667443364859,
          0.004065609071403742,
          0.004053588956594467,
          0.0038392662536352873,
          0.003496502758935094,
          0.0034454159904271364,
          0.003347927238792181,
          0.0030012940987944603,
          0.002602299675345421,
          0.0024506752379238605,
          0.002428113715723157,
          0.002647019922733307,
          0.0031947155948728323,
          0.004184262361377478,
          0.00491454778239131,
          0.005462643690407276,
          0.005418548360466957,
          0.005085145588964224,
          0.004483214113861322,
          0.0037938423920422792,
          0.0031527485698461533,
          0.0026267084758728743,
          0.002384619554504752,
          0.0021495954133570194,
          0.0020227411296218634,
          0.0019142156234011054,
          0.0014155521057546139,
          0.0011635518167167902,
          0.001034350018016994,
          0.000888254027813673,
          0.0007894958835095167,
          0.0006729546003043652,
          0.0007283748127520084,
          0.0013179655652493238,
          0.0015250652795657516,
          0.002030259231105447,
          0.0025149357970803976,
          0.0031278713140636683,
          0.0035224647726863623,
          0.0035497548524290323,
          0.0035939684603363276,
          0.0035926958080381155,
          0.003448726376518607,
          0.003414375940337777,
          0.0030980270821601152,
          0.0028430891688913107,
          0.002613706048578024,
          0.0025884064380079508,
          0.00280501926317811,
          0.0033698896877467632,
          0.004124315455555916,
          0.004180384799838066,
          0.0042024943977594376,
          0.0040855626575648785,
          0.003623885801061988,
          0.0032949012238532305,
          0.002829750068485737,
          0.0025119618512690067,
          0.002201883587986231,
          0.001954589504748583,
          0.0020688031800091267,
          0.001954182516783476,
          0.002216859720647335,
          0.002023547189310193,
          0.002482642885297537,
          0.0038684101309627295,
          0.0058266413398087025,
          0.008043511770665646,
          0.009849831461906433,
          0.010800331830978394,
          0.010804736986756325,
          0.010004539042711258,
          0.009074271656572819,
          0.007908031344413757,
          0.006653853226453066,
          0.005742981564253569,
          0.004998588934540749,
          0.004393870010972023,
          0.003907982259988785,
          0.0025708929169923067,
          0.002029671799391508,
          0.002005046233534813,
          0.0020134951919317245,
          0.001896489760838449,
          0.0020065910648554564,
          0.0019590118899941444,
          0.0017351334681734443,
          0.0015882357256487012,
          0.0015820128610357642,
          0.0013437648303806782,
          0.0012912198435515165,
          0.0013124217512086034,
          0.0016799544682726264,
          0.0017553084762766957,
          0.002128191292285919,
          0.002521742135286331,
          0.002982189180329442,
          0.003641935298219323,
          0.004195973742753267,
          0.004854218102991581,
          0.0053968727588653564,
          0.005788581445813179,
          0.005564655642956495,
          0.005231751129031181,
          0.004704228136688471,
          0.004120702389627695,
          0.003685419214889407,
          0.00351475621573627,
          0.0033362635876983404,
          0.0034060983452945948,
          0.003125390037894249,
          0.002801738679409027,
          0.002333798911422491,
          0.002124206395819783,
          0.0017756196903064847,
          0.0015831469791010022,
          0.001543525024317205,
          0.00156729097943753,
          0.0016744764288887382,
          0.002441496355459094,
          0.003187046619132161,
          0.0037000493612140417,
          0.004455021116882563,
          0.005053356755524874,
          0.005223482847213745,
          0.005057762376964092,
          0.004908766131848097,
          0.004476931411772966,
          0.003984780050814152,
          0.003524892730638385,
          0.003193076467141509,
          0.00291711394675076,
          0.0026028547435998917,
          0.0018196712480857968,
          0.0017578037222847342,
          0.002046713838353753,
          0.0025226206053048372,
          0.0026852807495743036,
          0.0036917298566550016,
          0.004841884132474661,
          0.005689633544534445,
          0.006166504230350256,
          0.00643493514508009,
          0.00620041461661458,
          0.005763720255345106,
          0.005677762906998396,
          0.00592296477407217,
          0.006477097515016794,
          0.006703713443130255,
          0.006723473779857159,
          0.006633107550442219,
          0.006090780720114708,
          0.005176669918000698,
          0.0042967721819877625,
          0.0037239163648337126,
          0.0032494128681719303,
          0.0027292249724268913,
          0.0023635656107217073,
          0.0022201177198439837,
          0.0026144227012991905,
          0.0028786954935640097,
          0.003951677121222019,
          0.00484075304120779,
          0.005370871629565954,
          0.005377497989684343,
          0.005138745531439781,
          0.004645477514714003,
          0.004163908772170544,
          0.003963153343647718,
          0.00396307185292244,
          0.0040977029129862785,
          0.004447254352271557,
          0.004573371261358261,
          0.0044914246536791325,
          0.0043457564897835255,
          0.0046756877563893795,
          0.004476112313568592,
          0.004594673402607441,
          0.004355394747108221,
          0.004077582620084286,
          0.003937903791666031,
          0.003975619096308947,
          0.003674151608720422,
          0.003585492493584752,
          0.003681242698803544,
          0.0036364879924803972,
          0.0036682102363556623,
          0.00377815798856318,
          0.0034165664110332727,
          0.003225387539714575,
          0.003166549140587449,
          0.0030556083656847477,
          0.002876243321225047,
          0.002735971473157406,
          0.002825440838932991,
          0.002702501602470875,
          0.0026830441784113646,
          0.0030782774556428194,
          0.003303228411823511,
          0.0037152201402932405,
          0.003571878420189023,
          0.003676206571981311,
          0.003910734783858061,
          0.006194668356329203,
          0.0067990561947226524,
          0.008721251972019672,
          0.011216592974960804,
          0.012664171867072582,
          0.014157039113342762,
          0.014651420526206493,
          0.015033508650958538,
          0.015171361155807972,
          0.01559743843972683,
          0.015488054603338242,
          0.014879945665597916,
          0.01412321999669075,
          0.01366986334323883,
          0.012886252254247665,
          0.012225589714944363,
          0.010912789031863213,
          0.009997282177209854,
          0.008930547162890434,
          0.008306663483381271,
          0.0077618444338440895,
          0.0076020509004592896,
          0.007520387880504131,
          0.007612504996359348,
          0.0074831340461969376,
          0.00746387243270874,
          0.006882519461214542,
          0.007062798365950584,
          0.007200764492154121,
          0.007538489066064358,
          0.007200541440397501,
          0.006701366510242224,
          0.006258231587707996,
          0.005144882947206497,
          0.004717301111668348,
          0.004208763130009174,
          0.004248481243848801,
          0.0046102022752165794,
          0.004887535702437162,
          0.005484587978571653,
          0.004960861522704363,
          0.004855065140873194,
          0.004644450265914202,
          0.004627795424312353,
          0.004798998590558767,
          0.005388583522289991,
          0.0057704332284629345,
          0.006141583900898695,
          0.006566458381712437,
          0.007576790638267994,
          0.008298827335238457,
          0.009054511785507202,
          0.009818203747272491,
          0.00976271741092205,
          0.009163446724414825,
          0.008341330103576183,
          0.007713112980127335,
          0.007782719098031521,
          0.007786923088133335,
          0.00793976429849863,
          0.007646795362234116,
          0.007109747268259525,
          0.006813060026615858,
          0.005879203788936138,
          0.006095041986554861,
          0.006075398996472359,
          0.006034214049577713,
          0.005935148801654577,
          0.005726934410631657,
          0.005391609389334917,
          0.005081512033939362,
          0.004201114177703857,
          0.003886888502165675,
          0.0036534250248223543,
          0.003344734199345112,
          0.003183172084391117,
          0.0031081431079655886,
          0.002942542778328061,
          0.003393540158867836,
          0.0038192167412489653,
          0.004366555251181126,
          0.004636148456484079,
          0.005472027231007814,
          0.005962167866528034,
          0.006066817324608564,
          0.006398600991815329,
          0.00617384584620595,
          0.005756064783781767,
          0.005334316287189722,
          0.0046457997523248196,
          0.004083537496626377,
          0.0036494953092187643,
          0.0033430494368076324,
          0.0030587115325033665,
          0.0029783048667013645,
          0.0029124983120709658,
          0.002550428966060281,
          0.00248089455999434,
          0.0022808052599430084,
          0.0021147553343325853,
          0.001958603737875819,
          0.0017520805122330785,
          0.0017112711211666465,
          0.0018965211929753423,
          0.002198146190494299,
          0.0021727681159973145,
          0.002193368971347809,
          0.0020936946384608746,
          0.0019608165603131056,
          0.0018660385394468904,
          0.001713099773041904,
          0.001557430368848145,
          0.0015375771326944232,
          0.0015379894757643342
         ]
        }
       ],
       "layout": {
        "autosize": true,
        "template": {
         "data": {
          "bar": [
           {
            "error_x": {
             "color": "#f2f5fa"
            },
            "error_y": {
             "color": "#f2f5fa"
            },
            "marker": {
             "line": {
              "color": "rgb(17,17,17)",
              "width": 0.5
             }
            },
            "type": "bar"
           }
          ],
          "barpolar": [
           {
            "marker": {
             "line": {
              "color": "rgb(17,17,17)",
              "width": 0.5
             }
            },
            "type": "barpolar"
           }
          ],
          "carpet": [
           {
            "aaxis": {
             "endlinecolor": "#A2B1C6",
             "gridcolor": "#506784",
             "linecolor": "#506784",
             "minorgridcolor": "#506784",
             "startlinecolor": "#A2B1C6"
            },
            "baxis": {
             "endlinecolor": "#A2B1C6",
             "gridcolor": "#506784",
             "linecolor": "#506784",
             "minorgridcolor": "#506784",
             "startlinecolor": "#A2B1C6"
            },
            "type": "carpet"
           }
          ],
          "choropleth": [
           {
            "colorbar": {
             "outlinewidth": 0,
             "ticks": ""
            },
            "type": "choropleth"
           }
          ],
          "contour": [
           {
            "colorbar": {
             "outlinewidth": 0,
             "ticks": ""
            },
            "colorscale": [
             [
              0,
              "#0d0887"
             ],
             [
              0.1111111111111111,
              "#46039f"
             ],
             [
              0.2222222222222222,
              "#7201a8"
             ],
             [
              0.3333333333333333,
              "#9c179e"
             ],
             [
              0.4444444444444444,
              "#bd3786"
             ],
             [
              0.5555555555555556,
              "#d8576b"
             ],
             [
              0.6666666666666666,
              "#ed7953"
             ],
             [
              0.7777777777777778,
              "#fb9f3a"
             ],
             [
              0.8888888888888888,
              "#fdca26"
             ],
             [
              1,
              "#f0f921"
             ]
            ],
            "type": "contour"
           }
          ],
          "contourcarpet": [
           {
            "colorbar": {
             "outlinewidth": 0,
             "ticks": ""
            },
            "type": "contourcarpet"
           }
          ],
          "heatmap": [
           {
            "colorbar": {
             "outlinewidth": 0,
             "ticks": ""
            },
            "colorscale": [
             [
              0,
              "#0d0887"
             ],
             [
              0.1111111111111111,
              "#46039f"
             ],
             [
              0.2222222222222222,
              "#7201a8"
             ],
             [
              0.3333333333333333,
              "#9c179e"
             ],
             [
              0.4444444444444444,
              "#bd3786"
             ],
             [
              0.5555555555555556,
              "#d8576b"
             ],
             [
              0.6666666666666666,
              "#ed7953"
             ],
             [
              0.7777777777777778,
              "#fb9f3a"
             ],
             [
              0.8888888888888888,
              "#fdca26"
             ],
             [
              1,
              "#f0f921"
             ]
            ],
            "type": "heatmap"
           }
          ],
          "heatmapgl": [
           {
            "colorbar": {
             "outlinewidth": 0,
             "ticks": ""
            },
            "colorscale": [
             [
              0,
              "#0d0887"
             ],
             [
              0.1111111111111111,
              "#46039f"
             ],
             [
              0.2222222222222222,
              "#7201a8"
             ],
             [
              0.3333333333333333,
              "#9c179e"
             ],
             [
              0.4444444444444444,
              "#bd3786"
             ],
             [
              0.5555555555555556,
              "#d8576b"
             ],
             [
              0.6666666666666666,
              "#ed7953"
             ],
             [
              0.7777777777777778,
              "#fb9f3a"
             ],
             [
              0.8888888888888888,
              "#fdca26"
             ],
             [
              1,
              "#f0f921"
             ]
            ],
            "type": "heatmapgl"
           }
          ],
          "histogram": [
           {
            "marker": {
             "colorbar": {
              "outlinewidth": 0,
              "ticks": ""
             }
            },
            "type": "histogram"
           }
          ],
          "histogram2d": [
           {
            "colorbar": {
             "outlinewidth": 0,
             "ticks": ""
            },
            "colorscale": [
             [
              0,
              "#0d0887"
             ],
             [
              0.1111111111111111,
              "#46039f"
             ],
             [
              0.2222222222222222,
              "#7201a8"
             ],
             [
              0.3333333333333333,
              "#9c179e"
             ],
             [
              0.4444444444444444,
              "#bd3786"
             ],
             [
              0.5555555555555556,
              "#d8576b"
             ],
             [
              0.6666666666666666,
              "#ed7953"
             ],
             [
              0.7777777777777778,
              "#fb9f3a"
             ],
             [
              0.8888888888888888,
              "#fdca26"
             ],
             [
              1,
              "#f0f921"
             ]
            ],
            "type": "histogram2d"
           }
          ],
          "histogram2dcontour": [
           {
            "colorbar": {
             "outlinewidth": 0,
             "ticks": ""
            },
            "colorscale": [
             [
              0,
              "#0d0887"
             ],
             [
              0.1111111111111111,
              "#46039f"
             ],
             [
              0.2222222222222222,
              "#7201a8"
             ],
             [
              0.3333333333333333,
              "#9c179e"
             ],
             [
              0.4444444444444444,
              "#bd3786"
             ],
             [
              0.5555555555555556,
              "#d8576b"
             ],
             [
              0.6666666666666666,
              "#ed7953"
             ],
             [
              0.7777777777777778,
              "#fb9f3a"
             ],
             [
              0.8888888888888888,
              "#fdca26"
             ],
             [
              1,
              "#f0f921"
             ]
            ],
            "type": "histogram2dcontour"
           }
          ],
          "mesh3d": [
           {
            "colorbar": {
             "outlinewidth": 0,
             "ticks": ""
            },
            "type": "mesh3d"
           }
          ],
          "parcoords": [
           {
            "line": {
             "colorbar": {
              "outlinewidth": 0,
              "ticks": ""
             }
            },
            "type": "parcoords"
           }
          ],
          "pie": [
           {
            "automargin": true,
            "type": "pie"
           }
          ],
          "scatter": [
           {
            "marker": {
             "line": {
              "color": "#283442"
             }
            },
            "type": "scatter"
           }
          ],
          "scatter3d": [
           {
            "line": {
             "colorbar": {
              "outlinewidth": 0,
              "ticks": ""
             }
            },
            "marker": {
             "colorbar": {
              "outlinewidth": 0,
              "ticks": ""
             }
            },
            "type": "scatter3d"
           }
          ],
          "scattercarpet": [
           {
            "marker": {
             "colorbar": {
              "outlinewidth": 0,
              "ticks": ""
             }
            },
            "type": "scattercarpet"
           }
          ],
          "scattergeo": [
           {
            "marker": {
             "colorbar": {
              "outlinewidth": 0,
              "ticks": ""
             }
            },
            "type": "scattergeo"
           }
          ],
          "scattergl": [
           {
            "marker": {
             "line": {
              "color": "#283442"
             }
            },
            "type": "scattergl"
           }
          ],
          "scattermapbox": [
           {
            "marker": {
             "colorbar": {
              "outlinewidth": 0,
              "ticks": ""
             }
            },
            "type": "scattermapbox"
           }
          ],
          "scatterpolar": [
           {
            "marker": {
             "colorbar": {
              "outlinewidth": 0,
              "ticks": ""
             }
            },
            "type": "scatterpolar"
           }
          ],
          "scatterpolargl": [
           {
            "marker": {
             "colorbar": {
              "outlinewidth": 0,
              "ticks": ""
             }
            },
            "type": "scatterpolargl"
           }
          ],
          "scatterternary": [
           {
            "marker": {
             "colorbar": {
              "outlinewidth": 0,
              "ticks": ""
             }
            },
            "type": "scatterternary"
           }
          ],
          "surface": [
           {
            "colorbar": {
             "outlinewidth": 0,
             "ticks": ""
            },
            "colorscale": [
             [
              0,
              "#0d0887"
             ],
             [
              0.1111111111111111,
              "#46039f"
             ],
             [
              0.2222222222222222,
              "#7201a8"
             ],
             [
              0.3333333333333333,
              "#9c179e"
             ],
             [
              0.4444444444444444,
              "#bd3786"
             ],
             [
              0.5555555555555556,
              "#d8576b"
             ],
             [
              0.6666666666666666,
              "#ed7953"
             ],
             [
              0.7777777777777778,
              "#fb9f3a"
             ],
             [
              0.8888888888888888,
              "#fdca26"
             ],
             [
              1,
              "#f0f921"
             ]
            ],
            "type": "surface"
           }
          ],
          "table": [
           {
            "cells": {
             "fill": {
              "color": "#506784"
             },
             "line": {
              "color": "rgb(17,17,17)"
             }
            },
            "header": {
             "fill": {
              "color": "#2a3f5f"
             },
             "line": {
              "color": "rgb(17,17,17)"
             }
            },
            "type": "table"
           }
          ]
         },
         "layout": {
          "annotationdefaults": {
           "arrowcolor": "#f2f5fa",
           "arrowhead": 0,
           "arrowwidth": 1
          },
          "autotypenumbers": "strict",
          "coloraxis": {
           "colorbar": {
            "outlinewidth": 0,
            "ticks": ""
           }
          },
          "colorscale": {
           "diverging": [
            [
             0,
             "#8e0152"
            ],
            [
             0.1,
             "#c51b7d"
            ],
            [
             0.2,
             "#de77ae"
            ],
            [
             0.3,
             "#f1b6da"
            ],
            [
             0.4,
             "#fde0ef"
            ],
            [
             0.5,
             "#f7f7f7"
            ],
            [
             0.6,
             "#e6f5d0"
            ],
            [
             0.7,
             "#b8e186"
            ],
            [
             0.8,
             "#7fbc41"
            ],
            [
             0.9,
             "#4d9221"
            ],
            [
             1,
             "#276419"
            ]
           ],
           "sequential": [
            [
             0,
             "#0d0887"
            ],
            [
             0.1111111111111111,
             "#46039f"
            ],
            [
             0.2222222222222222,
             "#7201a8"
            ],
            [
             0.3333333333333333,
             "#9c179e"
            ],
            [
             0.4444444444444444,
             "#bd3786"
            ],
            [
             0.5555555555555556,
             "#d8576b"
            ],
            [
             0.6666666666666666,
             "#ed7953"
            ],
            [
             0.7777777777777778,
             "#fb9f3a"
            ],
            [
             0.8888888888888888,
             "#fdca26"
            ],
            [
             1,
             "#f0f921"
            ]
           ],
           "sequentialminus": [
            [
             0,
             "#0d0887"
            ],
            [
             0.1111111111111111,
             "#46039f"
            ],
            [
             0.2222222222222222,
             "#7201a8"
            ],
            [
             0.3333333333333333,
             "#9c179e"
            ],
            [
             0.4444444444444444,
             "#bd3786"
            ],
            [
             0.5555555555555556,
             "#d8576b"
            ],
            [
             0.6666666666666666,
             "#ed7953"
            ],
            [
             0.7777777777777778,
             "#fb9f3a"
            ],
            [
             0.8888888888888888,
             "#fdca26"
            ],
            [
             1,
             "#f0f921"
            ]
           ]
          },
          "colorway": [
           "#636efa",
           "#EF553B",
           "#00cc96",
           "#ab63fa",
           "#FFA15A",
           "#19d3f3",
           "#FF6692",
           "#B6E880",
           "#FF97FF",
           "#FECB52"
          ],
          "font": {
           "color": "#f2f5fa"
          },
          "geo": {
           "bgcolor": "rgb(17,17,17)",
           "lakecolor": "rgb(17,17,17)",
           "landcolor": "rgb(17,17,17)",
           "showlakes": true,
           "showland": true,
           "subunitcolor": "#506784"
          },
          "hoverlabel": {
           "align": "left"
          },
          "hovermode": "closest",
          "mapbox": {
           "style": "dark"
          },
          "paper_bgcolor": "rgb(17,17,17)",
          "plot_bgcolor": "rgb(17,17,17)",
          "polar": {
           "angularaxis": {
            "gridcolor": "#506784",
            "linecolor": "#506784",
            "ticks": ""
           },
           "bgcolor": "rgb(17,17,17)",
           "radialaxis": {
            "gridcolor": "#506784",
            "linecolor": "#506784",
            "ticks": ""
           }
          },
          "scene": {
           "xaxis": {
            "backgroundcolor": "rgb(17,17,17)",
            "gridcolor": "#506784",
            "gridwidth": 2,
            "linecolor": "#506784",
            "showbackground": true,
            "ticks": "",
            "zerolinecolor": "#C8D4E3"
           },
           "yaxis": {
            "backgroundcolor": "rgb(17,17,17)",
            "gridcolor": "#506784",
            "gridwidth": 2,
            "linecolor": "#506784",
            "showbackground": true,
            "ticks": "",
            "zerolinecolor": "#C8D4E3"
           },
           "zaxis": {
            "backgroundcolor": "rgb(17,17,17)",
            "gridcolor": "#506784",
            "gridwidth": 2,
            "linecolor": "#506784",
            "showbackground": true,
            "ticks": "",
            "zerolinecolor": "#C8D4E3"
           }
          },
          "shapedefaults": {
           "line": {
            "color": "#f2f5fa"
           }
          },
          "sliderdefaults": {
           "bgcolor": "#C8D4E3",
           "bordercolor": "rgb(17,17,17)",
           "borderwidth": 1,
           "tickwidth": 0
          },
          "ternary": {
           "aaxis": {
            "gridcolor": "#506784",
            "linecolor": "#506784",
            "ticks": ""
           },
           "baxis": {
            "gridcolor": "#506784",
            "linecolor": "#506784",
            "ticks": ""
           },
           "bgcolor": "rgb(17,17,17)",
           "caxis": {
            "gridcolor": "#506784",
            "linecolor": "#506784",
            "ticks": ""
           }
          },
          "title": {
           "x": 0.05
          },
          "updatemenudefaults": {
           "bgcolor": "#506784",
           "borderwidth": 0
          },
          "xaxis": {
           "automargin": true,
           "gridcolor": "#283442",
           "linecolor": "#506784",
           "ticks": "",
           "title": {
            "standoff": 15
           },
           "zerolinecolor": "#283442",
           "zerolinewidth": 2
          },
          "yaxis": {
           "automargin": true,
           "gridcolor": "#283442",
           "linecolor": "#506784",
           "ticks": "",
           "title": {
            "standoff": 15
           },
           "zerolinecolor": "#283442",
           "zerolinewidth": 2
          }
         }
        },
        "xaxis": {
         "autorange": true,
         "range": [
          "2018-01-16",
          "2020-07-04"
         ],
         "title": {
          "text": "Time"
         },
         "type": "date"
        },
        "yaxis": {
         "autorange": true,
         "range": [
          -0.5334363726633552,
          0.20718162504099424
         ],
         "title": {
          "text": "Price"
         },
         "type": "linear"
        }
       }
      },
      "image/png": "[encoded data removed]",
      "text/html": [
       "<div>                            <div id=\"b25e54a8-1583-4950-8380-372ae48b5195\" class=\"plotly-graph-div\" style=\"height:525px; width:100%;\"></div>            <script type=\"text/javascript\">                require([\"plotly\"], function(Plotly) {                    window.PLOTLYENV=window.PLOTLYENV || {};                                    if (document.getElementById(\"b25e54a8-1583-4950-8380-372ae48b5195\")) {                    Plotly.newPlot(                        \"b25e54a8-1583-4950-8380-372ae48b5195\",                        [{\"mode\": \"lines\", \"name\": \"Actual\", \"type\": \"scatter\", \"x\": [\"2018-01-16T00:00:00+00:00\", \"2018-01-17T00:00:00+00:00\", \"2018-01-18T00:00:00+00:00\", \"2018-01-19T00:00:00+00:00\", \"2018-01-20T00:00:00+00:00\", \"2018-01-21T00:00:00+00:00\", \"2018-01-22T00:00:00+00:00\", \"2018-01-23T00:00:00+00:00\", \"2018-01-24T00:00:00+00:00\", \"2018-01-25T00:00:00+00:00\", \"2018-01-26T00:00:00+00:00\", \"2018-01-27T00:00:00+00:00\", \"2018-01-28T00:00:00+00:00\", \"2018-01-29T00:00:00+00:00\", \"2018-01-30T00:00:00+00:00\", \"2018-01-31T00:00:00+00:00\", \"2018-02-01T00:00:00+00:00\", \"2018-02-02T00:00:00+00:00\", \"2018-02-03T00:00:00+00:00\", \"2018-02-04T00:00:00+00:00\", \"2018-02-05T00:00:00+00:00\", \"2018-02-06T00:00:00+00:00\", \"2018-02-07T00:00:00+00:00\", \"2018-02-08T00:00:00+00:00\", \"2018-02-09T00:00:00+00:00\", \"2018-02-10T00:00:00+00:00\", \"2018-02-11T00:00:00+00:00\", \"2018-02-12T00:00:00+00:00\", \"2018-02-13T00:00:00+00:00\", \"2018-02-14T00:00:00+00:00\", \"2018-02-15T00:00:00+00:00\", \"2018-02-16T00:00:00+00:00\", \"2018-02-17T00:00:00+00:00\", \"2018-02-18T00:00:00+00:00\", \"2018-02-19T00:00:00+00:00\", \"2018-02-20T00:00:00+00:00\", \"2018-02-21T00:00:00+00:00\", \"2018-02-22T00:00:00+00:00\", \"2018-02-23T00:00:00+00:00\", \"2018-02-24T00:00:00+00:00\", \"2018-02-25T00:00:00+00:00\", \"2018-02-26T00:00:00+00:00\", \"2018-02-27T00:00:00+00:00\", \"2018-02-28T00:00:00+00:00\", \"2018-03-01T00:00:00+00:00\", \"2018-03-02T00:00:00+00:00\", \"2018-03-03T00:00:00+00:00\", \"2018-03-04T00:00:00+00:00\", \"2018-03-05T00:00:00+00:00\", \"2018-03-06T00:00:00+00:00\", \"2018-03-07T00:00:00+00:00\", \"2018-03-08T00:00:00+00:00\", \"2018-03-09T00:00:00+00:00\", \"2018-03-10T00:00:00+00:00\", \"2018-03-11T00:00:00+00:00\", \"2018-03-12T00:00:00+00:00\", \"2018-03-13T00:00:00+00:00\", \"2018-03-14T00:00:00+00:00\", \"2018-03-15T00:00:00+00:00\", \"2018-03-16T00:00:00+00:00\", \"2018-03-17T00:00:00+00:00\", \"2018-03-18T00:00:00+00:00\", \"2018-03-19T00:00:00+00:00\", \"2018-03-20T00:00:00+00:00\", \"2018-03-21T00:00:00+00:00\", \"2018-03-22T00:00:00+00:00\", \"2018-03-23T00:00:00+00:00\", \"2018-03-24T00:00:00+00:00\", \"2018-03-25T00:00:00+00:00\", \"2018-03-26T00:00:00+00:00\", \"2018-03-27T00:00:00+00:00\", \"2018-03-28T00:00:00+00:00\", \"2018-03-29T00:00:00+00:00\", \"2018-03-30T00:00:00+00:00\", \"2018-03-31T00:00:00+00:00\", \"2018-04-01T00:00:00+00:00\", \"2018-04-02T00:00:00+00:00\", \"2018-04-03T00:00:00+00:00\", \"2018-04-04T00:00:00+00:00\", \"2018-04-05T00:00:00+00:00\", \"2018-04-06T00:00:00+00:00\", \"2018-04-07T00:00:00+00:00\", \"2018-04-08T00:00:00+00:00\", \"2018-04-09T00:00:00+00:00\", \"2018-04-10T00:00:00+00:00\", \"2018-04-11T00:00:00+00:00\", \"2018-04-12T00:00:00+00:00\", \"2018-04-13T00:00:00+00:00\", \"2018-04-14T00:00:00+00:00\", \"2018-04-15T00:00:00+00:00\", \"2018-04-16T00:00:00+00:00\", \"2018-04-17T00:00:00+00:00\", \"2018-04-18T00:00:00+00:00\", \"2018-04-19T00:00:00+00:00\", \"2018-04-20T00:00:00+00:00\", \"2018-04-21T00:00:00+00:00\", \"2018-04-22T00:00:00+00:00\", \"2018-04-23T00:00:00+00:00\", \"2018-04-24T00:00:00+00:00\", \"2018-04-25T00:00:00+00:00\", \"2018-04-26T00:00:00+00:00\", \"2018-04-27T00:00:00+00:00\", \"2018-04-28T00:00:00+00:00\", \"2018-04-29T00:00:00+00:00\", \"2018-04-30T00:00:00+00:00\", \"2018-05-01T00:00:00+00:00\", \"2018-05-02T00:00:00+00:00\", \"2018-05-03T00:00:00+00:00\", \"2018-05-04T00:00:00+00:00\", \"2018-05-05T00:00:00+00:00\", \"2018-05-06T00:00:00+00:00\", \"2018-05-07T00:00:00+00:00\", \"2018-05-08T00:00:00+00:00\", \"2018-05-09T00:00:00+00:00\", \"2018-05-10T00:00:00+00:00\", \"2018-05-11T00:00:00+00:00\", \"2018-05-12T00:00:00+00:00\", \"2018-05-13T00:00:00+00:00\", \"2018-05-14T00:00:00+00:00\", \"2018-05-15T00:00:00+00:00\", \"2018-05-16T00:00:00+00:00\", \"2018-05-17T00:00:00+00:00\", \"2018-05-18T00:00:00+00:00\", \"2018-05-19T00:00:00+00:00\", \"2018-05-20T00:00:00+00:00\", \"2018-05-21T00:00:00+00:00\", \"2018-05-22T00:00:00+00:00\", \"2018-05-23T00:00:00+00:00\", \"2018-05-24T00:00:00+00:00\", \"2018-05-25T00:00:00+00:00\", \"2018-05-26T00:00:00+00:00\", \"2018-05-27T00:00:00+00:00\", \"2018-05-28T00:00:00+00:00\", \"2018-05-29T00:00:00+00:00\", \"2018-05-30T00:00:00+00:00\", \"2018-05-31T00:00:00+00:00\", \"2018-06-01T00:00:00+00:00\", \"2018-06-02T00:00:00+00:00\", \"2018-06-03T00:00:00+00:00\", \"2018-06-04T00:00:00+00:00\", \"2018-06-05T00:00:00+00:00\", \"2018-06-06T00:00:00+00:00\", \"2018-06-07T00:00:00+00:00\", \"2018-06-08T00:00:00+00:00\", \"2018-06-09T00:00:00+00:00\", \"2018-06-10T00:00:00+00:00\", \"2018-06-11T00:00:00+00:00\", \"2018-06-12T00:00:00+00:00\", \"2018-06-13T00:00:00+00:00\", \"2018-06-14T00:00:00+00:00\", \"2018-06-15T00:00:00+00:00\", \"2018-06-16T00:00:00+00:00\", \"2018-06-17T00:00:00+00:00\", \"2018-06-18T00:00:00+00:00\", \"2018-06-19T00:00:00+00:00\", \"2018-06-20T00:00:00+00:00\", \"2018-06-21T00:00:00+00:00\", \"2018-06-22T00:00:00+00:00\", \"2018-06-23T00:00:00+00:00\", \"2018-06-24T00:00:00+00:00\", \"2018-06-25T00:00:00+00:00\", \"2018-06-26T00:00:00+00:00\", \"2018-06-27T00:00:00+00:00\", \"2018-06-28T00:00:00+00:00\", \"2018-06-29T00:00:00+00:00\", \"2018-06-30T00:00:00+00:00\", \"2018-07-01T00:00:00+00:00\", \"2018-07-02T00:00:00+00:00\", \"2018-07-03T00:00:00+00:00\", \"2018-07-04T00:00:00+00:00\", \"2018-07-05T00:00:00+00:00\", \"2018-07-06T00:00:00+00:00\", \"2018-07-07T00:00:00+00:00\", \"2018-07-08T00:00:00+00:00\", \"2018-07-09T00:00:00+00:00\", \"2018-07-10T00:00:00+00:00\", \"2018-07-11T00:00:00+00:00\", \"2018-07-12T00:00:00+00:00\", \"2018-07-13T00:00:00+00:00\", \"2018-07-14T00:00:00+00:00\", \"2018-07-15T00:00:00+00:00\", \"2018-07-16T00:00:00+00:00\", \"2018-07-17T00:00:00+00:00\", \"2018-07-18T00:00:00+00:00\", \"2018-07-19T00:00:00+00:00\", \"2018-07-20T00:00:00+00:00\", \"2018-07-21T00:00:00+00:00\", \"2018-07-22T00:00:00+00:00\", \"2018-07-23T00:00:00+00:00\", \"2018-07-24T00:00:00+00:00\", \"2018-07-25T00:00:00+00:00\", \"2018-07-26T00:00:00+00:00\", \"2018-07-27T00:00:00+00:00\", \"2018-07-28T00:00:00+00:00\", \"2018-07-29T00:00:00+00:00\", \"2018-07-30T00:00:00+00:00\", \"2018-07-31T00:00:00+00:00\", \"2018-08-01T00:00:00+00:00\", \"2018-08-02T00:00:00+00:00\", \"2018-08-03T00:00:00+00:00\", \"2018-08-04T00:00:00+00:00\", \"2018-08-05T00:00:00+00:00\", \"2018-08-06T00:00:00+00:00\", \"2018-08-07T00:00:00+00:00\", \"2018-08-08T00:00:00+00:00\", \"2018-08-09T00:00:00+00:00\", \"2018-08-10T00:00:00+00:00\", \"2018-08-11T00:00:00+00:00\", \"2018-08-12T00:00:00+00:00\", \"2018-08-13T00:00:00+00:00\", \"2018-08-14T00:00:00+00:00\", \"2018-08-15T00:00:00+00:00\", \"2018-08-16T00:00:00+00:00\", \"2018-08-17T00:00:00+00:00\", \"2018-08-18T00:00:00+00:00\", \"2018-08-19T00:00:00+00:00\", \"2018-08-20T00:00:00+00:00\", \"2018-08-21T00:00:00+00:00\", \"2018-08-22T00:00:00+00:00\", \"2018-08-23T00:00:00+00:00\", \"2018-08-24T00:00:00+00:00\", \"2018-08-25T00:00:00+00:00\", \"2018-08-26T00:00:00+00:00\", \"2018-08-27T00:00:00+00:00\", \"2018-08-28T00:00:00+00:00\", \"2018-08-29T00:00:00+00:00\", \"2018-08-30T00:00:00+00:00\", \"2018-08-31T00:00:00+00:00\", \"2018-09-01T00:00:00+00:00\", \"2018-09-02T00:00:00+00:00\", \"2018-09-03T00:00:00+00:00\", \"2018-09-04T00:00:00+00:00\", \"2018-09-05T00:00:00+00:00\", \"2018-09-06T00:00:00+00:00\", \"2018-09-07T00:00:00+00:00\", \"2018-09-08T00:00:00+00:00\", \"2018-09-09T00:00:00+00:00\", \"2018-09-10T00:00:00+00:00\", \"2018-09-11T00:00:00+00:00\", \"2018-09-12T00:00:00+00:00\", \"2018-09-13T00:00:00+00:00\", \"2018-09-14T00:00:00+00:00\", \"2018-09-15T00:00:00+00:00\", \"2018-09-16T00:00:00+00:00\", \"2018-09-17T00:00:00+00:00\", \"2018-09-18T00:00:00+00:00\", \"2018-09-19T00:00:00+00:00\", \"2018-09-20T00:00:00+00:00\", \"2018-09-21T00:00:00+00:00\", \"2018-09-22T00:00:00+00:00\", \"2018-09-23T00:00:00+00:00\", \"2018-09-24T00:00:00+00:00\", \"2018-09-25T00:00:00+00:00\", \"2018-09-26T00:00:00+00:00\", \"2018-09-27T00:00:00+00:00\", \"2018-09-28T00:00:00+00:00\", \"2018-09-29T00:00:00+00:00\", \"2018-09-30T00:00:00+00:00\", \"2018-10-01T00:00:00+00:00\", \"2018-10-02T00:00:00+00:00\", \"2018-10-03T00:00:00+00:00\", \"2018-10-04T00:00:00+00:00\", \"2018-10-05T00:00:00+00:00\", \"2018-10-06T00:00:00+00:00\", \"2018-10-07T00:00:00+00:00\", \"2018-10-08T00:00:00+00:00\", \"2018-10-09T00:00:00+00:00\", \"2018-10-10T00:00:00+00:00\", \"2018-10-11T00:00:00+00:00\", \"2018-10-12T00:00:00+00:00\", \"2018-10-13T00:00:00+00:00\", \"2018-10-14T00:00:00+00:00\", \"2018-10-15T00:00:00+00:00\", \"2018-10-16T00:00:00+00:00\", \"2018-10-17T00:00:00+00:00\", \"2018-10-18T00:00:00+00:00\", \"2018-10-19T00:00:00+00:00\", \"2018-10-20T00:00:00+00:00\", \"2018-10-21T00:00:00+00:00\", \"2018-10-22T00:00:00+00:00\", \"2018-10-23T00:00:00+00:00\", \"2018-10-24T00:00:00+00:00\", \"2018-10-25T00:00:00+00:00\", \"2018-10-26T00:00:00+00:00\", \"2018-10-27T00:00:00+00:00\", \"2018-10-28T00:00:00+00:00\", \"2018-10-29T00:00:00+00:00\", \"2018-10-30T00:00:00+00:00\", \"2018-10-31T00:00:00+00:00\", \"2018-11-01T00:00:00+00:00\", \"2018-11-02T00:00:00+00:00\", \"2018-11-03T00:00:00+00:00\", \"2018-11-04T00:00:00+00:00\", \"2018-11-05T00:00:00+00:00\", \"2018-11-06T00:00:00+00:00\", \"2018-11-07T00:00:00+00:00\", \"2018-11-08T00:00:00+00:00\", \"2018-11-09T00:00:00+00:00\", \"2018-11-10T00:00:00+00:00\", \"2018-11-11T00:00:00+00:00\", \"2018-11-12T00:00:00+00:00\", \"2018-11-13T00:00:00+00:00\", \"2018-11-14T00:00:00+00:00\", \"2018-11-15T00:00:00+00:00\", \"2018-11-16T00:00:00+00:00\", \"2018-11-17T00:00:00+00:00\", \"2018-11-18T00:00:00+00:00\", \"2018-11-19T00:00:00+00:00\", \"2018-11-20T00:00:00+00:00\", \"2018-11-21T00:00:00+00:00\", \"2018-11-22T00:00:00+00:00\", \"2018-11-23T00:00:00+00:00\", \"2018-11-24T00:00:00+00:00\", \"2018-11-25T00:00:00+00:00\", \"2018-11-26T00:00:00+00:00\", \"2018-11-27T00:00:00+00:00\", \"2018-11-28T00:00:00+00:00\", \"2018-11-29T00:00:00+00:00\", \"2018-11-30T00:00:00+00:00\", \"2018-12-01T00:00:00+00:00\", \"2018-12-02T00:00:00+00:00\", \"2018-12-03T00:00:00+00:00\", \"2018-12-04T00:00:00+00:00\", \"2018-12-05T00:00:00+00:00\", \"2018-12-06T00:00:00+00:00\", \"2018-12-07T00:00:00+00:00\", \"2018-12-08T00:00:00+00:00\", \"2018-12-09T00:00:00+00:00\", \"2018-12-10T00:00:00+00:00\", \"2018-12-11T00:00:00+00:00\", \"2018-12-12T00:00:00+00:00\", \"2018-12-13T00:00:00+00:00\", \"2018-12-14T00:00:00+00:00\", \"2018-12-15T00:00:00+00:00\", \"2018-12-16T00:00:00+00:00\", \"2018-12-17T00:00:00+00:00\", \"2018-12-18T00:00:00+00:00\", \"2018-12-19T00:00:00+00:00\", \"2018-12-20T00:00:00+00:00\", \"2018-12-21T00:00:00+00:00\", \"2018-12-22T00:00:00+00:00\", \"2018-12-23T00:00:00+00:00\", \"2018-12-24T00:00:00+00:00\", \"2018-12-25T00:00:00+00:00\", \"2018-12-26T00:00:00+00:00\", \"2018-12-27T00:00:00+00:00\", \"2018-12-28T00:00:00+00:00\", \"2018-12-29T00:00:00+00:00\", \"2018-12-30T00:00:00+00:00\", \"2018-12-31T00:00:00+00:00\", \"2019-01-01T00:00:00+00:00\", \"2019-01-02T00:00:00+00:00\", \"2019-01-03T00:00:00+00:00\", \"2019-01-04T00:00:00+00:00\", \"2019-01-05T00:00:00+00:00\", \"2019-01-06T00:00:00+00:00\", \"2019-01-07T00:00:00+00:00\", \"2019-01-08T00:00:00+00:00\", \"2019-01-09T00:00:00+00:00\", \"2019-01-10T00:00:00+00:00\", \"2019-01-11T00:00:00+00:00\", \"2019-01-12T00:00:00+00:00\", \"2019-01-13T00:00:00+00:00\", \"2019-01-14T00:00:00+00:00\", \"2019-01-15T00:00:00+00:00\", \"2019-01-16T00:00:00+00:00\", \"2019-01-17T00:00:00+00:00\", \"2019-01-18T00:00:00+00:00\", \"2019-01-19T00:00:00+00:00\", \"2019-01-20T00:00:00+00:00\", \"2019-01-21T00:00:00+00:00\", \"2019-01-22T00:00:00+00:00\", \"2019-01-23T00:00:00+00:00\", \"2019-01-24T00:00:00+00:00\", \"2019-01-25T00:00:00+00:00\", \"2019-01-26T00:00:00+00:00\", \"2019-01-27T00:00:00+00:00\", \"2019-01-28T00:00:00+00:00\", \"2019-01-29T00:00:00+00:00\", \"2019-01-30T00:00:00+00:00\", \"2019-01-31T00:00:00+00:00\", \"2019-02-01T00:00:00+00:00\", \"2019-02-02T00:00:00+00:00\", \"2019-02-03T00:00:00+00:00\", \"2019-02-04T00:00:00+00:00\", \"2019-02-05T00:00:00+00:00\", \"2019-02-06T00:00:00+00:00\", \"2019-02-07T00:00:00+00:00\", \"2019-02-08T00:00:00+00:00\", \"2019-02-09T00:00:00+00:00\", \"2019-02-10T00:00:00+00:00\", \"2019-02-11T00:00:00+00:00\", \"2019-02-12T00:00:00+00:00\", \"2019-02-13T00:00:00+00:00\", \"2019-02-14T00:00:00+00:00\", \"2019-02-15T00:00:00+00:00\", \"2019-02-16T00:00:00+00:00\", \"2019-02-17T00:00:00+00:00\", \"2019-02-18T00:00:00+00:00\", \"2019-02-19T00:00:00+00:00\", \"2019-02-20T00:00:00+00:00\", \"2019-02-21T00:00:00+00:00\", \"2019-02-22T00:00:00+00:00\", \"2019-02-23T00:00:00+00:00\", \"2019-02-24T00:00:00+00:00\", \"2019-02-25T00:00:00+00:00\", \"2019-02-26T00:00:00+00:00\", \"2019-02-27T00:00:00+00:00\", \"2019-02-28T00:00:00+00:00\", \"2019-03-01T00:00:00+00:00\", \"2019-03-02T00:00:00+00:00\", \"2019-03-03T00:00:00+00:00\", \"2019-03-04T00:00:00+00:00\", \"2019-03-05T00:00:00+00:00\", \"2019-03-06T00:00:00+00:00\", \"2019-03-07T00:00:00+00:00\", \"2019-03-08T00:00:00+00:00\", \"2019-03-09T00:00:00+00:00\", \"2019-03-10T00:00:00+00:00\", \"2019-03-11T00:00:00+00:00\", \"2019-03-12T00:00:00+00:00\", \"2019-03-13T00:00:00+00:00\", \"2019-03-14T00:00:00+00:00\", \"2019-03-15T00:00:00+00:00\", \"2019-03-16T00:00:00+00:00\", \"2019-03-17T00:00:00+00:00\", \"2019-03-18T00:00:00+00:00\", \"2019-03-19T00:00:00+00:00\", \"2019-03-20T00:00:00+00:00\", \"2019-03-21T00:00:00+00:00\", \"2019-03-22T00:00:00+00:00\", \"2019-03-23T00:00:00+00:00\", \"2019-03-24T00:00:00+00:00\", \"2019-03-25T00:00:00+00:00\", \"2019-03-26T00:00:00+00:00\", \"2019-03-27T00:00:00+00:00\", \"2019-03-28T00:00:00+00:00\", \"2019-03-29T00:00:00+00:00\", \"2019-03-30T00:00:00+00:00\", \"2019-03-31T00:00:00+00:00\", \"2019-04-01T00:00:00+00:00\", \"2019-04-02T00:00:00+00:00\", \"2019-04-03T00:00:00+00:00\", \"2019-04-04T00:00:00+00:00\", \"2019-04-05T00:00:00+00:00\", \"2019-04-06T00:00:00+00:00\", \"2019-04-07T00:00:00+00:00\", \"2019-04-08T00:00:00+00:00\", \"2019-04-09T00:00:00+00:00\", \"2019-04-10T00:00:00+00:00\", \"2019-04-11T00:00:00+00:00\", \"2019-04-12T00:00:00+00:00\", \"2019-04-13T00:00:00+00:00\", \"2019-04-14T00:00:00+00:00\", \"2019-04-15T00:00:00+00:00\", \"2019-04-16T00:00:00+00:00\", \"2019-04-17T00:00:00+00:00\", \"2019-04-18T00:00:00+00:00\", \"2019-04-19T00:00:00+00:00\", \"2019-04-20T00:00:00+00:00\", \"2019-04-21T00:00:00+00:00\", \"2019-04-22T00:00:00+00:00\", \"2019-04-23T00:00:00+00:00\", \"2019-04-24T00:00:00+00:00\", \"2019-04-25T00:00:00+00:00\", \"2019-04-26T00:00:00+00:00\", \"2019-04-27T00:00:00+00:00\", \"2019-04-28T00:00:00+00:00\", \"2019-04-29T00:00:00+00:00\", \"2019-04-30T00:00:00+00:00\", \"2019-05-01T00:00:00+00:00\", \"2019-05-02T00:00:00+00:00\", \"2019-05-03T00:00:00+00:00\", \"2019-05-04T00:00:00+00:00\", \"2019-05-05T00:00:00+00:00\", \"2019-05-06T00:00:00+00:00\", \"2019-05-07T00:00:00+00:00\", \"2019-05-08T00:00:00+00:00\", \"2019-05-09T00:00:00+00:00\", \"2019-05-10T00:00:00+00:00\", \"2019-05-11T00:00:00+00:00\", \"2019-05-12T00:00:00+00:00\", \"2019-05-13T00:00:00+00:00\", \"2019-05-14T00:00:00+00:00\", \"2019-05-15T00:00:00+00:00\", \"2019-05-16T00:00:00+00:00\", \"2019-05-17T00:00:00+00:00\", \"2019-05-18T00:00:00+00:00\", \"2019-05-19T00:00:00+00:00\", \"2019-05-20T00:00:00+00:00\", \"2019-05-21T00:00:00+00:00\", \"2019-05-22T00:00:00+00:00\", \"2019-05-23T00:00:00+00:00\", \"2019-05-24T00:00:00+00:00\", \"2019-05-25T00:00:00+00:00\", \"2019-05-26T00:00:00+00:00\", \"2019-05-27T00:00:00+00:00\", \"2019-05-28T00:00:00+00:00\", \"2019-05-29T00:00:00+00:00\", \"2019-05-30T00:00:00+00:00\", \"2019-05-31T00:00:00+00:00\", \"2019-06-01T00:00:00+00:00\", \"2019-06-02T00:00:00+00:00\", \"2019-06-03T00:00:00+00:00\", \"2019-06-04T00:00:00+00:00\", \"2019-06-05T00:00:00+00:00\", \"2019-06-06T00:00:00+00:00\", \"2019-06-07T00:00:00+00:00\", \"2019-06-08T00:00:00+00:00\", \"2019-06-09T00:00:00+00:00\", \"2019-06-10T00:00:00+00:00\", \"2019-06-11T00:00:00+00:00\", \"2019-06-12T00:00:00+00:00\", \"2019-06-13T00:00:00+00:00\", \"2019-06-14T00:00:00+00:00\", \"2019-06-15T00:00:00+00:00\", \"2019-06-16T00:00:00+00:00\", \"2019-06-17T00:00:00+00:00\", \"2019-06-18T00:00:00+00:00\", \"2019-06-19T00:00:00+00:00\", \"2019-06-20T00:00:00+00:00\", \"2019-06-21T00:00:00+00:00\", \"2019-06-22T00:00:00+00:00\", \"2019-06-23T00:00:00+00:00\", \"2019-06-24T00:00:00+00:00\", \"2019-06-25T00:00:00+00:00\", \"2019-06-26T00:00:00+00:00\", \"2019-06-27T00:00:00+00:00\", \"2019-06-28T00:00:00+00:00\", \"2019-06-29T00:00:00+00:00\", \"2019-06-30T00:00:00+00:00\", \"2019-07-01T00:00:00+00:00\", \"2019-07-02T00:00:00+00:00\", \"2019-07-03T00:00:00+00:00\", \"2019-07-04T00:00:00+00:00\", \"2019-07-05T00:00:00+00:00\", \"2019-07-06T00:00:00+00:00\", \"2019-07-07T00:00:00+00:00\", \"2019-07-08T00:00:00+00:00\", \"2019-07-09T00:00:00+00:00\", \"2019-07-10T00:00:00+00:00\", \"2019-07-11T00:00:00+00:00\", \"2019-07-12T00:00:00+00:00\", \"2019-07-13T00:00:00+00:00\", \"2019-07-14T00:00:00+00:00\", \"2019-07-15T00:00:00+00:00\", \"2019-07-16T00:00:00+00:00\", \"2019-07-17T00:00:00+00:00\", \"2019-07-18T00:00:00+00:00\", \"2019-07-19T00:00:00+00:00\", \"2019-07-20T00:00:00+00:00\", \"2019-07-21T00:00:00+00:00\", \"2019-07-22T00:00:00+00:00\", \"2019-07-23T00:00:00+00:00\", \"2019-07-24T00:00:00+00:00\", \"2019-07-25T00:00:00+00:00\", \"2019-07-26T00:00:00+00:00\", \"2019-07-27T00:00:00+00:00\", \"2019-07-28T00:00:00+00:00\", \"2019-07-29T00:00:00+00:00\", \"2019-07-30T00:00:00+00:00\", \"2019-07-31T00:00:00+00:00\", \"2019-08-01T00:00:00+00:00\", \"2019-08-02T00:00:00+00:00\", \"2019-08-03T00:00:00+00:00\", \"2019-08-04T00:00:00+00:00\", \"2019-08-05T00:00:00+00:00\", \"2019-08-06T00:00:00+00:00\", \"2019-08-07T00:00:00+00:00\", \"2019-08-08T00:00:00+00:00\", \"2019-08-09T00:00:00+00:00\", \"2019-08-10T00:00:00+00:00\", \"2019-08-11T00:00:00+00:00\", \"2019-08-12T00:00:00+00:00\", \"2019-08-13T00:00:00+00:00\", \"2019-08-14T00:00:00+00:00\", \"2019-08-15T00:00:00+00:00\", \"2019-08-16T00:00:00+00:00\", \"2019-08-17T00:00:00+00:00\", \"2019-08-18T00:00:00+00:00\", \"2019-08-19T00:00:00+00:00\", \"2019-08-20T00:00:00+00:00\", \"2019-08-21T00:00:00+00:00\", \"2019-08-22T00:00:00+00:00\", \"2019-08-23T00:00:00+00:00\", \"2019-08-24T00:00:00+00:00\", \"2019-08-25T00:00:00+00:00\", \"2019-08-26T00:00:00+00:00\", \"2019-08-27T00:00:00+00:00\", \"2019-08-28T00:00:00+00:00\", \"2019-08-29T00:00:00+00:00\", \"2019-08-30T00:00:00+00:00\", \"2019-08-31T00:00:00+00:00\", \"2019-09-01T00:00:00+00:00\", \"2019-09-02T00:00:00+00:00\", \"2019-09-03T00:00:00+00:00\", \"2019-09-04T00:00:00+00:00\", \"2019-09-05T00:00:00+00:00\", \"2019-09-06T00:00:00+00:00\", \"2019-09-07T00:00:00+00:00\", \"2019-09-08T00:00:00+00:00\", \"2019-09-09T00:00:00+00:00\", \"2019-09-10T00:00:00+00:00\", \"2019-09-11T00:00:00+00:00\", \"2019-09-12T00:00:00+00:00\", \"2019-09-13T00:00:00+00:00\", \"2019-09-14T00:00:00+00:00\", \"2019-09-15T00:00:00+00:00\", \"2019-09-16T00:00:00+00:00\", \"2019-09-17T00:00:00+00:00\", \"2019-09-18T00:00:00+00:00\", \"2019-09-19T00:00:00+00:00\", \"2019-09-20T00:00:00+00:00\", \"2019-09-21T00:00:00+00:00\", \"2019-09-22T00:00:00+00:00\", \"2019-09-23T00:00:00+00:00\", \"2019-09-24T00:00:00+00:00\", \"2019-09-25T00:00:00+00:00\", \"2019-09-26T00:00:00+00:00\", \"2019-09-27T00:00:00+00:00\", \"2019-09-28T00:00:00+00:00\", \"2019-09-29T00:00:00+00:00\", \"2019-09-30T00:00:00+00:00\", \"2019-10-01T00:00:00+00:00\", \"2019-10-02T00:00:00+00:00\", \"2019-10-03T00:00:00+00:00\", \"2019-10-04T00:00:00+00:00\", \"2019-10-05T00:00:00+00:00\", \"2019-10-06T00:00:00+00:00\", \"2019-10-07T00:00:00+00:00\", \"2019-10-08T00:00:00+00:00\", \"2019-10-09T00:00:00+00:00\", \"2019-10-10T00:00:00+00:00\", \"2019-10-11T00:00:00+00:00\", \"2019-10-12T00:00:00+00:00\", \"2019-10-13T00:00:00+00:00\", \"2019-10-14T00:00:00+00:00\", \"2019-10-15T00:00:00+00:00\", \"2019-10-16T00:00:00+00:00\", \"2019-10-17T00:00:00+00:00\", \"2019-10-18T00:00:00+00:00\", \"2019-10-19T00:00:00+00:00\", \"2019-10-20T00:00:00+00:00\", \"2019-10-21T00:00:00+00:00\", \"2019-10-22T00:00:00+00:00\", \"2019-10-23T00:00:00+00:00\", \"2019-10-24T00:00:00+00:00\", \"2019-10-25T00:00:00+00:00\", \"2019-10-26T00:00:00+00:00\", \"2019-10-27T00:00:00+00:00\", \"2019-10-28T00:00:00+00:00\", \"2019-10-29T00:00:00+00:00\", \"2019-10-30T00:00:00+00:00\", \"2019-10-31T00:00:00+00:00\", \"2019-11-01T00:00:00+00:00\", \"2019-11-02T00:00:00+00:00\", \"2019-11-03T00:00:00+00:00\", \"2019-11-04T00:00:00+00:00\", \"2019-11-05T00:00:00+00:00\", \"2019-11-06T00:00:00+00:00\", \"2019-11-07T00:00:00+00:00\", \"2019-11-08T00:00:00+00:00\", \"2019-11-09T00:00:00+00:00\", \"2019-11-10T00:00:00+00:00\", \"2019-11-11T00:00:00+00:00\", \"2019-11-12T00:00:00+00:00\", \"2019-11-13T00:00:00+00:00\", \"2019-11-14T00:00:00+00:00\", \"2019-11-15T00:00:00+00:00\", \"2019-11-16T00:00:00+00:00\", \"2019-11-17T00:00:00+00:00\", \"2019-11-18T00:00:00+00:00\", \"2019-11-19T00:00:00+00:00\", \"2019-11-20T00:00:00+00:00\", \"2019-11-21T00:00:00+00:00\", \"2019-11-22T00:00:00+00:00\", \"2019-11-23T00:00:00+00:00\", \"2019-11-24T00:00:00+00:00\", \"2019-11-25T00:00:00+00:00\", \"2019-11-26T00:00:00+00:00\", \"2019-11-27T00:00:00+00:00\", \"2019-11-28T00:00:00+00:00\", \"2019-11-29T00:00:00+00:00\", \"2019-11-30T00:00:00+00:00\", \"2019-12-01T00:00:00+00:00\", \"2019-12-02T00:00:00+00:00\", \"2019-12-03T00:00:00+00:00\", \"2019-12-04T00:00:00+00:00\", \"2019-12-05T00:00:00+00:00\", \"2019-12-06T00:00:00+00:00\", \"2019-12-07T00:00:00+00:00\", \"2019-12-08T00:00:00+00:00\", \"2019-12-09T00:00:00+00:00\", \"2019-12-10T00:00:00+00:00\", \"2019-12-11T00:00:00+00:00\", \"2019-12-12T00:00:00+00:00\", \"2019-12-13T00:00:00+00:00\", \"2019-12-14T00:00:00+00:00\", \"2019-12-15T00:00:00+00:00\", \"2019-12-16T00:00:00+00:00\", \"2019-12-17T00:00:00+00:00\", \"2019-12-18T00:00:00+00:00\", \"2019-12-19T00:00:00+00:00\", \"2019-12-20T00:00:00+00:00\", \"2019-12-21T00:00:00+00:00\", \"2019-12-22T00:00:00+00:00\", \"2019-12-23T00:00:00+00:00\", \"2019-12-24T00:00:00+00:00\", \"2019-12-25T00:00:00+00:00\", \"2019-12-26T00:00:00+00:00\", \"2019-12-27T00:00:00+00:00\", \"2019-12-28T00:00:00+00:00\", \"2019-12-29T00:00:00+00:00\", \"2019-12-30T00:00:00+00:00\", \"2019-12-31T00:00:00+00:00\", \"2020-01-01T00:00:00+00:00\", \"2020-01-02T00:00:00+00:00\", \"2020-01-03T00:00:00+00:00\", \"2020-01-04T00:00:00+00:00\", \"2020-01-05T00:00:00+00:00\", \"2020-01-06T00:00:00+00:00\", \"2020-01-07T00:00:00+00:00\", \"2020-01-08T00:00:00+00:00\", \"2020-01-09T00:00:00+00:00\", \"2020-01-10T00:00:00+00:00\", \"2020-01-11T00:00:00+00:00\", \"2020-01-12T00:00:00+00:00\", \"2020-01-13T00:00:00+00:00\", \"2020-01-14T00:00:00+00:00\", \"2020-01-15T00:00:00+00:00\", \"2020-01-16T00:00:00+00:00\", \"2020-01-17T00:00:00+00:00\", \"2020-01-18T00:00:00+00:00\", \"2020-01-19T00:00:00+00:00\", \"2020-01-20T00:00:00+00:00\", \"2020-01-21T00:00:00+00:00\", \"2020-01-22T00:00:00+00:00\", \"2020-01-23T00:00:00+00:00\", \"2020-01-24T00:00:00+00:00\", \"2020-01-25T00:00:00+00:00\", \"2020-01-26T00:00:00+00:00\", \"2020-01-27T00:00:00+00:00\", \"2020-01-28T00:00:00+00:00\", \"2020-01-29T00:00:00+00:00\", \"2020-01-30T00:00:00+00:00\", \"2020-01-31T00:00:00+00:00\", \"2020-02-01T00:00:00+00:00\", \"2020-02-02T00:00:00+00:00\", \"2020-02-03T00:00:00+00:00\", \"2020-02-04T00:00:00+00:00\", \"2020-02-05T00:00:00+00:00\", \"2020-02-06T00:00:00+00:00\", \"2020-02-07T00:00:00+00:00\", \"2020-02-08T00:00:00+00:00\", \"2020-02-09T00:00:00+00:00\", \"2020-02-10T00:00:00+00:00\", \"2020-02-11T00:00:00+00:00\", \"2020-02-12T00:00:00+00:00\", \"2020-02-13T00:00:00+00:00\", \"2020-02-14T00:00:00+00:00\", \"2020-02-15T00:00:00+00:00\", \"2020-02-16T00:00:00+00:00\", \"2020-02-17T00:00:00+00:00\", \"2020-02-18T00:00:00+00:00\", \"2020-02-19T00:00:00+00:00\", \"2020-02-20T00:00:00+00:00\", \"2020-02-21T00:00:00+00:00\", \"2020-02-22T00:00:00+00:00\", \"2020-02-23T00:00:00+00:00\", \"2020-02-24T00:00:00+00:00\", \"2020-02-25T00:00:00+00:00\", \"2020-02-26T00:00:00+00:00\", \"2020-02-27T00:00:00+00:00\", \"2020-02-28T00:00:00+00:00\", \"2020-02-29T00:00:00+00:00\", \"2020-03-01T00:00:00+00:00\", \"2020-03-02T00:00:00+00:00\", \"2020-03-03T00:00:00+00:00\", \"2020-03-04T00:00:00+00:00\", \"2020-03-05T00:00:00+00:00\", \"2020-03-06T00:00:00+00:00\", \"2020-03-07T00:00:00+00:00\", \"2020-03-08T00:00:00+00:00\", \"2020-03-09T00:00:00+00:00\", \"2020-03-10T00:00:00+00:00\", \"2020-03-11T00:00:00+00:00\", \"2020-03-12T00:00:00+00:00\", \"2020-03-13T00:00:00+00:00\", \"2020-03-14T00:00:00+00:00\", \"2020-03-15T00:00:00+00:00\", \"2020-03-16T00:00:00+00:00\", \"2020-03-17T00:00:00+00:00\", \"2020-03-18T00:00:00+00:00\", \"2020-03-19T00:00:00+00:00\", \"2020-03-20T00:00:00+00:00\", \"2020-03-21T00:00:00+00:00\", \"2020-03-22T00:00:00+00:00\", \"2020-03-23T00:00:00+00:00\", \"2020-03-24T00:00:00+00:00\", \"2020-03-25T00:00:00+00:00\", \"2020-03-26T00:00:00+00:00\", \"2020-03-27T00:00:00+00:00\", \"2020-03-28T00:00:00+00:00\", \"2020-03-29T00:00:00+00:00\", \"2020-03-30T00:00:00+00:00\", \"2020-03-31T00:00:00+00:00\", \"2020-04-01T00:00:00+00:00\", \"2020-04-02T00:00:00+00:00\", \"2020-04-03T00:00:00+00:00\", \"2020-04-04T00:00:00+00:00\", \"2020-04-05T00:00:00+00:00\", \"2020-04-06T00:00:00+00:00\", \"2020-04-07T00:00:00+00:00\", \"2020-04-08T00:00:00+00:00\", \"2020-04-09T00:00:00+00:00\", \"2020-04-10T00:00:00+00:00\", \"2020-04-11T00:00:00+00:00\", \"2020-04-12T00:00:00+00:00\", \"2020-04-13T00:00:00+00:00\", \"2020-04-14T00:00:00+00:00\", \"2020-04-15T00:00:00+00:00\", \"2020-04-16T00:00:00+00:00\", \"2020-04-17T00:00:00+00:00\", \"2020-04-18T00:00:00+00:00\", \"2020-04-19T00:00:00+00:00\", \"2020-04-20T00:00:00+00:00\", \"2020-04-21T00:00:00+00:00\", \"2020-04-22T00:00:00+00:00\", \"2020-04-23T00:00:00+00:00\", \"2020-04-24T00:00:00+00:00\", \"2020-04-25T00:00:00+00:00\", \"2020-04-26T00:00:00+00:00\", \"2020-04-27T00:00:00+00:00\", \"2020-04-28T00:00:00+00:00\", \"2020-04-29T00:00:00+00:00\", \"2020-04-30T00:00:00+00:00\", \"2020-05-01T00:00:00+00:00\", \"2020-05-02T00:00:00+00:00\", \"2020-05-03T00:00:00+00:00\", \"2020-05-04T00:00:00+00:00\", \"2020-05-05T00:00:00+00:00\", \"2020-05-06T00:00:00+00:00\", \"2020-05-07T00:00:00+00:00\", \"2020-05-08T00:00:00+00:00\", \"2020-05-09T00:00:00+00:00\", \"2020-05-10T00:00:00+00:00\", \"2020-05-11T00:00:00+00:00\", \"2020-05-12T00:00:00+00:00\", \"2020-05-13T00:00:00+00:00\", \"2020-05-14T00:00:00+00:00\", \"2020-05-15T00:00:00+00:00\", \"2020-05-16T00:00:00+00:00\", \"2020-05-17T00:00:00+00:00\", \"2020-05-18T00:00:00+00:00\", \"2020-05-19T00:00:00+00:00\", \"2020-05-20T00:00:00+00:00\", \"2020-05-21T00:00:00+00:00\", \"2020-05-22T00:00:00+00:00\", \"2020-05-23T00:00:00+00:00\", \"2020-05-24T00:00:00+00:00\", \"2020-05-25T00:00:00+00:00\", \"2020-05-26T00:00:00+00:00\", \"2020-05-27T00:00:00+00:00\", \"2020-05-28T00:00:00+00:00\", \"2020-05-29T00:00:00+00:00\", \"2020-05-30T00:00:00+00:00\", \"2020-05-31T00:00:00+00:00\", \"2020-06-01T00:00:00+00:00\", \"2020-06-02T00:00:00+00:00\", \"2020-06-03T00:00:00+00:00\", \"2020-06-04T00:00:00+00:00\", \"2020-06-05T00:00:00+00:00\", \"2020-06-06T00:00:00+00:00\", \"2020-06-07T00:00:00+00:00\", \"2020-06-08T00:00:00+00:00\", \"2020-06-09T00:00:00+00:00\", \"2020-06-10T00:00:00+00:00\", \"2020-06-11T00:00:00+00:00\", \"2020-06-12T00:00:00+00:00\", \"2020-06-13T00:00:00+00:00\", \"2020-06-14T00:00:00+00:00\", \"2020-06-15T00:00:00+00:00\", \"2020-06-16T00:00:00+00:00\", \"2020-06-17T00:00:00+00:00\", \"2020-06-18T00:00:00+00:00\", \"2020-06-19T00:00:00+00:00\", \"2020-06-20T00:00:00+00:00\", \"2020-06-21T00:00:00+00:00\", \"2020-06-22T00:00:00+00:00\", \"2020-06-23T00:00:00+00:00\", \"2020-06-24T00:00:00+00:00\", \"2020-06-25T00:00:00+00:00\", \"2020-06-26T00:00:00+00:00\", \"2020-06-27T00:00:00+00:00\", \"2020-06-28T00:00:00+00:00\", \"2020-06-29T00:00:00+00:00\", \"2020-06-30T00:00:00+00:00\", \"2020-07-01T00:00:00+00:00\", \"2020-07-02T00:00:00+00:00\", \"2020-07-03T00:00:00+00:00\", \"2020-07-04T00:00:00+00:00\"], \"y\": [-0.17636679705681324, -0.014030761286925042, 0.005129970665803896, 0.02080871944193774, 0.09970303023899874, -0.10270348047356313, -0.06474142262959326, 0.0037785665033496234, 0.04744524495083802, -0.0207108020773088, -0.001982348655271693, 0.02500570978071615, 0.02262640666508275, -0.04373150805394488, -0.10679701674616915, 0.010455353239118281, -0.11647648592925997, -0.017445443501820534, 0.041638432520628044, -0.12189427597348512, -0.1691458701012838, 0.10851902788139967, -0.01310030650835081, 0.07825690479511849, 0.058933666414517916, -0.01672726477451647, -0.05770391899088878, 0.09741463981877452, -0.04374409678428037, 0.10690561692019786, 0.055088822046098336, 0.01647991017459738, 0.0861635792235802, -0.06484992096881648, 0.07086064912326684, 0.003513144817461012, -0.06747751548199687, -0.06355660083339743, 0.03318301328381601, -0.046779662988379656, -0.010596085810577804, 0.07090176577592722, 0.02516231045828299, -0.02546721130475405, 0.0570109470114204, 0.011566695540619065, 0.03615024723275084, 0.0029230300307645507, -0.005875681611627215, -0.06366305728297839, -0.07900758239006045, -0.06138413494097783, -0.004179435893956196, -0.05413443993020195, 0.0832977665337129, -0.045127828234251766, 0.003957958621256807, -0.10938323759935643, 0.008280235164928484, -0.00014274654045287605, -0.04894388142779959, 0.04061976316928906, 0.047843468511805654, 0.034879364372773836, -0.0001909387227279069, -0.021813199768029534, 0.024334021429682554, -0.044056678925613824, -0.009800418141564293, -0.037047563209602785, -0.0445384424552131, 0.018735538968503107, -0.11394308703849276, -0.035606559507042945, 0.01188890399794218, -0.01594613267337941, 0.034484309702214944, 0.05095472596127415, -0.08789542715155285, -0.0025509710392004337, -0.027535146625425, 0.04494070371578119, 0.0182105241359114, -0.03650034399110247, 0.008773965999061772, 0.015795409192605803, 0.1322208084574008, -0.005627904370591352, 0.015387719906755136, 0.04395070099222842, -0.037196924309514046, -0.020319882308465154, 0.034467487427516375, 0.012448217788019633, 0.06753646859244, 0.00820961583531954, -0.013544225107755992, 0.015000563235540554, 0.07720459436122518, -0.08484481152380674, 0.045851844691123134, -0.03899554604116595, 0.0457478662201396, 0.005279372163714768, -0.015979805278133693, -0.02016433945800067, 0.016622955355373392, 0.05448251066639998, -0.003721127098575749, 0.012452876188191908, -0.021938076570522824, -0.02509592811824035, -0.01947279351151643, 0.013740713014771089, -0.03174658438599387, -0.07113003107816418, 0.008048784168284584, 0.025560210075035172, -0.00031897320837970256, -0.02414690784845241, -0.01553372034915057, -0.03474056994130059, 0.02087121747642051, 0.0012155428238997956, 0.032847721170536914, -0.01412841757882255, -0.05005965327900341, -0.06309557752634376, 0.009956313051294075, -0.01461136433131749, -0.017498596312488957, 0.0021685954589010237, -0.03475202673822153, 0.04972686278825833, -0.009714594566084145, 0.013038821908029517, 0.004820795896190333, 0.016157792604063914, 0.008658660499666126, -0.027613870015271047, 0.014560151331329152, 0.006278540371907227, 0.004342907004991403, -0.005746359152098535, -0.019216596793533824, -0.10262057638067647, 0.01582682508588995, -0.04886286236291326, -0.039280562272448805, 0.05287626998334183, -0.03848612612308777, 0.015203961138277931, -0.006574814442846132, 0.04056803441583057, 0.004430535669758484, 0.0025705107836770935, -0.006000230228163872, -0.10085734157343218, 0.016196755651845862, -0.00366158684906992, 0.014935093126320353, -0.029674098682285436, 0.01242901876474356, -0.04767658579054413, 0.058486941110317055, 0.029628502479756236, -0.006828698792414656, 0.04160882166244484, -0.01627194531879539, 0.011512430771066562, -0.008274158996188774, 0.008840547570583723, 0.024989326499907705, -0.007916789150026915, -0.005218881170179657, -0.0566290892457566, 0.01277720671690652, -0.020626634408410283, -0.0063805670029015715, 0.006423767797803848, 0.015553563620423814, 0.058321010616337425, 0.08453079931532415, 0.0075871050482074764, 0.011859920639180288, -0.017806918289791085, 0.01003698843389067, -0.0011371341665977752, 0.04145759852876019, 0.08524410836034235, -0.0289875368732524, -0.029050255102974987, 0.032989788861170766, 0.005207232234276659, -0.0023001595451379586, -0.0060062733516037525, -0.05561620681697477, -0.01603850865102885, -0.00873824932968148, -0.01636189735126159, -0.05534307667970495, 0.0024931295265879783, -0.014390468655129498, -0.03097428422394088, -0.06862113932238678, 0.04151522776211003, -0.06821483349305346, 0.019272298634568585, 0.014369446722232837, -0.009685559894997198, -0.009819021064688016, 0.011803527246012635, 0.007007578997706432, 0.04140777470907864, -0.029417536744203332, 0.015760925375177592, -0.036575458859806176, 0.034266703150633404, -0.01973006020439705, 0.010015815572643305, 0.0, 0.048245664206998384, -0.00823773108177761, 0.034346347904193664, 0.02375666819837363, -0.0058502122705768045, -0.00797475498782063, 0.005593416826432217, 0.025200302398987517, 0.012208082838400358, -0.004424585087992483, 0.01403564961733217, -0.09505310604320094, -0.02907281163119002, -0.015594216826299245, -0.0334786836458445, 0.009323814294809551, 0.009055160209417323, -0.0033643833547927215, 0.007187225702988798, 0.02511934202272492, 0.0059008287527273495, 0.0010265478407056603, -0.004867818138880153, -0.03872034361954846, 0.014035117469580529, 0.006837853816884731, 0.017462586453980578, 0.03978381187673463, -0.007312703850582025, -0.0011362197317197342, -0.018804176246769444, -0.022191023736940707, 0.0034169075347385554, 0.034624349808652255, -0.0092452388194868, -0.006234117749727375, 0.002689299671537526, -0.003644130763317932, -0.011483493974369097, -0.005076814723702583, 0.01276390743855771, 0.004925983274688406, -0.005466667482469489, 0.00421994945780213, 0.004073436704896238, -0.00098836706172456, -0.009712624254403224, -0.05929400550735231, 0.007832640268475188, -0.0011647773962693007, -0.0021750837158993615, 0.04038951685209824, 0.0031273294289402287, -0.0027110290901983802, -0.007480933188766414, -0.0007388102673804298, 0.004209539073634971, -9.200155629507373e-05, -0.0008127881184449848, -0.0019027271906626453, 0.002615707439174386, -0.0034839158167780937, 0.0017809694335699786, 0.001392542629666593, -0.000813121737593292, -0.02228143394775195, 0.0010786575271364283, 0.005590022834205399, 0.006121816321503104, 0.0010523597142384489, -0.002920345452366746, 0.014521852212141084, -0.0033846625085782733, 0.007007612834089017, 0.00819933071844936, -0.014816600936065072, -0.01112650480006927, 0.002401218947992945, 0.0016914208109053417, -0.005471648560300579, -0.01080861376798481, -0.10999695624179573, -0.03235475848572378, 0.0, 0.0, 0.0, 0.0, 0.0, 0.0, 0.0, 0.0, 0.0, 0.0, 0.0, 0.0, 0.0, 0.0, 0.0, 0.0, 0.0, 0.0, 0.0, 0.0, 0.0, -0.4743169849934361, 0.004922983276804516, 0.03904507426637949, -0.034020159563127095, -0.019084102521214064, 0.025013842888407464, -0.04971661354728774, -0.02167285221949733, -0.00356455203753292, 0.002803801706951603, 0.09261315430396698, 0.046023412089144955, 0.00439349491167107, 0.10144157700340095, -0.06020500707422905, 0.03589094440922658, -0.007762468767021247, 0.021352839112104505, -0.06552203138248913, 0.008140477967812032, -0.05954564598592427, 0.0804218206330578, -0.04191053544440493, 0.025777808828767235, -0.035807642623685965, 0.03493712147164629, 0.01732459898804173, -0.026974449050076288, 0.009084782225778909, -0.006315909944987652, 0.062175405323820605, -0.00833454121853272, -0.003807642627183583, 0.002109370210783723, -0.09812215937067492, 0.0028964618462410385, -0.005088143720790583, -0.02937025026380269, 0.041474697731430865, -0.022306024364718624, 0.006971557911096938, 0.009450236225612585, -0.009214620887350478, 0.021659517051631383, -0.04252706816242657, -0.0003509894258009183, 0.012656491693592287, -0.006793607288448911, 0.004837675281981646, -0.002594217055264636, -0.000789415690810813, -0.008058939017214328, -0.028720255791778726, -0.010024713302827948, 0.011891937086295101, -0.007012080055789126, 0.00868699081347124, -0.0004446246264517839, -0.0071029551889640885, -0.0013240650726196177, 0.005411146808107503, -0.018582781403276627, -0.0020336510735745605, 0.07525124184436471, 0.0004195012963954526, 0.0063537508217166305, -0.016205910665819445, 8.35981770030969e-06, -0.0033858644031745655, -0.003975480002507581, -0.0005419331420846163, 0.0061433888785131785, 0.012318091668607423, 0.06415328274393062, 0.006454445775419871, 0.012544223808269805, -0.010090933862173301, 0.011460151036120081, 0.04081956201912185, -0.09659098333666982, 0.023245591051601622, -0.005320047979608944, 2.631582409762191e-06, -0.0022419850555355225, 0.004376547360843475, 0.0011363980557845819, -0.006008915668580528, -0.023708694707496036, 0.03840902517678657, 0.0012291797878010158, 0.001245827935829169, -0.0034453852714086963, 0.019458078250043087, -0.004712442924134308, -0.012366894676230089, 0.0028444505109845863, -0.0028937876406907037, 0.001274194620696889, 0.011636268037484854, 0.022558300377253815, -0.006171889190499158, 0.0011442340929654902, 0.007855732514592262, 0.007643222450235854, -0.014235266942666414, -2.5157201051229094e-06, 0.0018724596891477316, -0.0027457969119488723, -0.015946572988635666, 0.0028842648838498515, 0.02701948864885217, -0.0036168473887379093, 0.000134559989039218, 0.019903510981164274, 0.00023934429546734753, 0.010090530307731882, 0.17015072515577678, 0.014804829580652878, -0.01401391929958251, 0.0268031500514212, 0.0007059598372034515, 0.029582512977951225, 0.017524461486688736, -0.01772463471418817, 0.023695938621601798, -0.05305449065365231, -0.0004897446188802945, 0.005393770203252046, 0.01799092410245251, -0.024446300287696232, 0.03257743037629268, 0.008124640974067177, 0.007147344295669101, 0.000548704126021704, 0.006538521815539155, -0.004718602557574059, 0.017544473835663155, 0.027133181459742414, -0.016951425670789888, -0.05797955537218158, 0.0003794213578025563, 0.006553865794495905, -0.003321979204899961, -0.0013893634449537728, 0.02236609428458536, 0.012009985519382482, 0.011387141767146503, 0.048744142932786616, 0.019110260559509484, -0.009440365596169897, -0.005025466748589835, 0.0102085887419463, 0.03255396581863046, 0.03494687350143799, 0.001637075317475478, 0.1604599584791071, -0.03541626129686293, 0.11451440538705882, 0.021850453499624223, 0.02507116948794952, -0.039444536054723756, -0.06818224715496157, -0.013593892238581871, 0.12048490174539948, -0.0232741092037454, -0.00620111947620039, -0.04296017941376995, 0.03354138183543398, 0.015668641687284435, 0.008770376686648262, 0.08029807331809025, 0.0035536741451647207, -0.0062556037020442545, -0.007732883799711487, -0.045530968777367065, 0.0053988997065861355, 0.02932459238663654, 0.020755314901137467, -0.07534793589256772, -0.05423456653734604, 0.014037762595012993, 0.0012288023546620508, 0.025562041712758447, -0.008360500486283229, -0.037603091592076865, 0.04863028861034557, -0.01300992073361229, 0.031786099942976875, -0.0018729829598740366, 0.0639058266712258, 0.01750057910115821, 0.015310341718301144, 0.03724479274510806, -0.026796655739456554, 0.021598316781595628, 0.026809587382469857, 0.07075103951121342, 0.04233549791897495, 0.015459918589455056, 0.01756892992824355, 0.06362339932426764, 0.09535346927872723, -0.1491710030467761, 0.10586973024571479, -0.04139144653448312, -0.10082259666951998, 0.0006372434090007317, 0.007501887019863318, 0.1011767017200338, -0.07287191665846926, -0.013327719673039695, 0.022026545736009595, 0.02050052228583965, 0.002881230714123717, 0.0, 0.0, 0.0, 0.0, 0.0, 0.0, 0.0, -0.19926273760124322, 0.028699540325158424, 0.09286310425716238, -0.010611283560942653, 0.020453884544815892, -0.015290435211626987, -0.025183195607205278, -0.0479948683754543, -0.007398229522637578, -0.0016707620090770092, 0.00991189902327605, -0.03857002783043306, 0.004749052696402245, -0.0020170653240203507, 0.009929256116938845, 0.04884140790017887, 0.03225829533033853, 0.011349387301756053, 0.02703509284597594, 0.014469556801881112, 0.07377365008493442, -0.030152260900075948, 0.04337351082772045, 0.003523531909563005, -0.013213233360962915, -0.04951809555532095, 0.02130847064457342, -0.012725423787935952, -0.04713494441964983, -0.08058349448083213, 0.02766443673549901, 0.0060373654683534275, -0.015699483794305635, 0.01161304694521448, 0.056708019287412974, -0.015962825768609076, -0.058890070833619745, 0.0009154510616546929, 0.025930583286280395, -0.024934207508122697, -0.0016009924838975564, 0.022596877557573336, -0.01863751756011034, -0.04512224954128641, -0.024832749994141423, 0.00982481117723033, 0.002342286409595218, 0.017411309640451123, 0.06142746279982526, 0.02216531535448496, -0.003872828734653666, -0.0017305001585654622, 0.0, -0.007835017182026505, -0.007317300798627358, -0.008971665216504832, -0.020965802225139996, 0.006033248448028772, 0.026369722169880205, -0.007056623436906051, 9.845768933658411e-05, -0.004412105457909377, -0.004218419405521701, -0.007746605024314235, -0.002869104096390629, -0.0003857948800121136, 0.0009819095287380009, -0.018653837027605036, 0.005034929266274801, -0.03427833970201455, -0.1262784888736217, -0.013132240899038193, -0.04447602138979079, 0.016222122914546944, 0.0036872282141260375, -0.021014721841218886, 0.03002680047248063, 0.003470342664620319, 0.006448072700376172, 0.0025847625452009027, -0.03005748655704998, -0.000776293293878183, -0.03634905987061465, 0.04340303407243162, -0.002500483102990003, 0.04814227196482435, -0.00029101034339795717, -0.03757350154119443, 0.004999112116164994, -0.004608750301404285, 0.009605734320825121, -0.023358662638806038, -0.019886620067557814, 0.00898327519812625, -0.01418785503867781, -8.542348698981073e-05, 0.032992428330501866, -0.001732385820885085, -0.023359175914901442, -0.07159418387868755, 0.00022223293315803977, 0.14893855656474386, 0.06713283195820274, 0.029216518900026855, -0.03492393210843758, 0.022829740511866706, -0.028104209362034283, -0.0018564797383948672, 0.010095255098057976, 0.006542924617196633, -0.011625637891709673, 0.023165466183684206, -0.01036727870009635, 0.0033821583650031073, -0.015944504096227163, -0.04831462857588775, 0.004686689881426176, 0.025861061539368183, -0.03587662081970677, -0.0012999270406535146, 0.0058997558941857875, -0.015538248519327167, -0.01984162344986906, 0.0026722591755294896, 0.00237811960384704, -0.03909432114108924, -0.006543170867097103, -0.0051605689905134255, -0.00017701777094281113, -0.10300600759626377, 0.005769012569592391, -0.05846630491318905, 0.029758676182462196, 0.005768465934613332, 0.04866583861049634, -0.011983576892639292, 0.04317249409872481, -0.02666730650924798, -0.020598051972561038, -0.013417669855710914, -2.4652603727304268e-05, -0.014991208092284936, 0.027488512544303845, 0.020154797215798936, -0.005811082904731535, 0.003733023589107987, -0.02526859155999439, -0.01631861264677248, -0.002898371869305194, 0.006820655523283036, 4.965544638402269e-05, -0.024778476687558285, 0.0066850858145102166, -0.034127066663065975, -0.03945145366828484, 0.09751263881580918, 0.007928598475322346, -0.022534355003820394, -0.006495355842519145, 0.05089043130876192, -0.026509186653431275, -0.007658509634538291, -0.009430409567670495, 0.0004489718550608756, 0.006348770310989238, 0.008119772083579946, 0.012214332935895909, -0.02384636799223827, -0.0070045349128697865, 0.0012969718227555658, -0.0326230585671059, 0.05437713185711246, 0.002699203998625776, -0.00014281255061021625, 0.0543916876831716, 0.04972754030613836, -0.014380033133452487, -0.0011222382238607054, 0.019464503877912875, -0.020650318093176523, 0.018480924983855118, -0.007755299832945538, 0.08471847079786343, -0.0015317020473126775, -0.01123781045961536, 0.021055010839386767, 0.0008232149308433634, -0.023526167336363812, -0.008427881813233284, 0.010276606203587946, -0.00606186597607561, 0.00037042657755392844, -0.028331328848596016, -0.011360184337137369, 0.030005059301856818, 0.03638378751982074, 0.054349797158264934, -0.012737443504517996, 0.02318170112228657, -0.017753595509276465, 0.00534976411060839, -0.006373807778246031, -0.004568945516929546, -0.012089803713623226, 0.047717369350030125, 0.0021495252362822015, 0.01863445634753802, 0.009687092655784824, 0.02548624221676299, -0.030791573482972012, 0.04068016005511943, 0.008076776747941494, -0.010423370658706688, 0.012353362746525322, -0.04630913708257722, 0.003071009625307042, -0.023291563070586108, 0.04855609193720589, -0.059731013368690355, 0.0019923352713178133, 0.009011527440236478, -0.002865974650861247, 0.03069201180517389, -0.03170744397842462, -0.0373595990673774, -0.0587539367006702, 0.0033860295660801394, -0.011987760844700546, -0.020865515624032938, 0.0003834983185395658, 0.04410013881604691, -0.018233375020869858, 0.0005905558078378448, 0.03482095919917505, 0.009949948674560005, -0.028281012887950045, -0.10206419105276154, -0.013259822660579344, -0.006567634396862587, 0.006887766687333041, -0.49640547277813774, 0.1572520535692501, -0.08950276537775537, 0.03318259255812883, -0.05934677034039738, 0.05927565270805957, 0.014378443691569487, 0.13292101719239824, 0.0022845720718827067, 0.0005268402676161799, -0.0612763655358588, 0.10716727507019286, 0.04152131916653268, -0.012002846341642837, 0.008855728292003207, -0.057259095812336014, -0.019055039006115493, -0.061846403008589235, 0.08536125523083449, 0.0033703563918887625, 0.036296530183568265, 0.020025678195766616, -0.008879179993776631, 0.019002737692298766, -0.013922855296671699, 0.0796542253021002, -0.018592204579444882, 0.02303104732622252, -0.0026073366623347027, -0.06738385802530544, 0.0030398649367757713, 0.0019915301354771486, -0.006100157041029064, 0.001721978793785439, -0.03694869144300128, 0.07189556873993475, -0.011895551071859245, 0.03209337105274024, -0.017961702541001046, -0.0420114429224121, 0.0023806911158121835, 0.03971622542507802, 0.000876733565586818, 0.050804883357564286, 0.004308414299650565, 0.020001309456691985, 0.012154904967193405, -0.003262670790267208, 0.12354414969034266, -0.01841688747888881, 0.021909837005415156, 0.017451155564373266, -0.008377423483475255, -0.0019013560897462867, 0.015456396330801423, 0.014409840621800285, 0.08873580325408703, -0.02003536036320064, -0.02736687853138342, -0.08919833508950781, -0.017945690958528715, 0.028880665386580517, 0.053935375027144516, 0.0029243314426281586, -0.0026472954680585303, 0.008133964209205757, 0.029099957436415025, 0.006398929710016431, 0.0049079941182750275, -0.027249207349120397, -0.04927958456979198, 0.011844004882975767, 0.0010905126489646477, -0.051464254074181426, 0.020436329604125447, -0.005907445666755606, 0.040742826463393556, -0.0006940518732072576, 0.02411576372856139, 0.028473084546893904, -0.025573257796432713, 0.07664849998719703, -0.0698839477987292, 0.015178626422857276, 0.013461424547603684, -0.01776848226524841, 0.005150948351520412, 0.008126229658024897, 0.0032880993778050534, 0.0001910978063790481, 0.010824562195862697, -0.06538277292251138, 0.021653665473227335, 0.0008665982867324118, -0.01536657365502414, 0.010214014145395467, 0.010253513355197086, -0.007688195409276233, 0.0005139664681284017, -0.017117000912071134, 0.007077664903343717, -0.007914774063698005, 0.04191848680190091, -0.006869334094712798, -0.034354022998773104, -0.00620976920699512, -0.009124827500579968, -0.016701244828583484, 0.012870866596406572, 0.007588467525557974, -0.0061629474104254464, 0.011397626688841811, -0.00026200457467062677, -0.017785296420152363, 0.008151884960291511]}, {\"mode\": \"lines\", \"name\": \"Predicted\", \"type\": \"scatter\", \"x\": [\"2018-01-16T00:00:00+00:00\", \"2018-01-17T00:00:00+00:00\", \"2018-01-18T00:00:00+00:00\", \"2018-01-19T00:00:00+00:00\", \"2018-01-20T00:00:00+00:00\", \"2018-01-21T00:00:00+00:00\", \"2018-01-22T00:00:00+00:00\", \"2018-01-23T00:00:00+00:00\", \"2018-01-24T00:00:00+00:00\", \"2018-01-25T00:00:00+00:00\", \"2018-01-26T00:00:00+00:00\", \"2018-01-27T00:00:00+00:00\", \"2018-01-28T00:00:00+00:00\", \"2018-01-29T00:00:00+00:00\", \"2018-01-30T00:00:00+00:00\", \"2018-01-31T00:00:00+00:00\", \"2018-02-01T00:00:00+00:00\", \"2018-02-02T00:00:00+00:00\", \"2018-02-03T00:00:00+00:00\", \"2018-02-04T00:00:00+00:00\", \"2018-02-05T00:00:00+00:00\", \"2018-02-06T00:00:00+00:00\", \"2018-02-07T00:00:00+00:00\", \"2018-02-08T00:00:00+00:00\", \"2018-02-09T00:00:00+00:00\", \"2018-02-10T00:00:00+00:00\", \"2018-02-11T00:00:00+00:00\", \"2018-02-12T00:00:00+00:00\", \"2018-02-13T00:00:00+00:00\", \"2018-02-14T00:00:00+00:00\", \"2018-02-15T00:00:00+00:00\", \"2018-02-16T00:00:00+00:00\", \"2018-02-17T00:00:00+00:00\", \"2018-02-18T00:00:00+00:00\", \"2018-02-19T00:00:00+00:00\", \"2018-02-20T00:00:00+00:00\", \"2018-02-21T00:00:00+00:00\", \"2018-02-22T00:00:00+00:00\", \"2018-02-23T00:00:00+00:00\", \"2018-02-24T00:00:00+00:00\", \"2018-02-25T00:00:00+00:00\", \"2018-02-26T00:00:00+00:00\", \"2018-02-27T00:00:00+00:00\", \"2018-02-28T00:00:00+00:00\", \"2018-03-01T00:00:00+00:00\", \"2018-03-02T00:00:00+00:00\", \"2018-03-03T00:00:00+00:00\", \"2018-03-04T00:00:00+00:00\", \"2018-03-05T00:00:00+00:00\", \"2018-03-06T00:00:00+00:00\", \"2018-03-07T00:00:00+00:00\", \"2018-03-08T00:00:00+00:00\", \"2018-03-09T00:00:00+00:00\", \"2018-03-10T00:00:00+00:00\", \"2018-03-11T00:00:00+00:00\", \"2018-03-12T00:00:00+00:00\", \"2018-03-13T00:00:00+00:00\", \"2018-03-14T00:00:00+00:00\", \"2018-03-15T00:00:00+00:00\", \"2018-03-16T00:00:00+00:00\", \"2018-03-17T00:00:00+00:00\", \"2018-03-18T00:00:00+00:00\", \"2018-03-19T00:00:00+00:00\", \"2018-03-20T00:00:00+00:00\", \"2018-03-21T00:00:00+00:00\", \"2018-03-22T00:00:00+00:00\", \"2018-03-23T00:00:00+00:00\", \"2018-03-24T00:00:00+00:00\", \"2018-03-25T00:00:00+00:00\", \"2018-03-26T00:00:00+00:00\", \"2018-03-27T00:00:00+00:00\", \"2018-03-28T00:00:00+00:00\", \"2018-03-29T00:00:00+00:00\", \"2018-03-30T00:00:00+00:00\", \"2018-03-31T00:00:00+00:00\", \"2018-04-01T00:00:00+00:00\", \"2018-04-02T00:00:00+00:00\", \"2018-04-03T00:00:00+00:00\", \"2018-04-04T00:00:00+00:00\", \"2018-04-05T00:00:00+00:00\", \"2018-04-06T00:00:00+00:00\", \"2018-04-07T00:00:00+00:00\", \"2018-04-08T00:00:00+00:00\", \"2018-04-09T00:00:00+00:00\", \"2018-04-10T00:00:00+00:00\", \"2018-04-11T00:00:00+00:00\", \"2018-04-12T00:00:00+00:00\", \"2018-04-13T00:00:00+00:00\", \"2018-04-14T00:00:00+00:00\", \"2018-04-15T00:00:00+00:00\", \"2018-04-16T00:00:00+00:00\", \"2018-04-17T00:00:00+00:00\", \"2018-04-18T00:00:00+00:00\", \"2018-04-19T00:00:00+00:00\", \"2018-04-20T00:00:00+00:00\", \"2018-04-21T00:00:00+00:00\", \"2018-04-22T00:00:00+00:00\", \"2018-04-23T00:00:00+00:00\", \"2018-04-24T00:00:00+00:00\", \"2018-04-25T00:00:00+00:00\", \"2018-04-26T00:00:00+00:00\", \"2018-04-27T00:00:00+00:00\", \"2018-04-28T00:00:00+00:00\", \"2018-04-29T00:00:00+00:00\", \"2018-04-30T00:00:00+00:00\", \"2018-05-01T00:00:00+00:00\", \"2018-05-02T00:00:00+00:00\", \"2018-05-03T00:00:00+00:00\", \"2018-05-04T00:00:00+00:00\", \"2018-05-05T00:00:00+00:00\", \"2018-05-06T00:00:00+00:00\", \"2018-05-07T00:00:00+00:00\", \"2018-05-08T00:00:00+00:00\", \"2018-05-09T00:00:00+00:00\", \"2018-05-10T00:00:00+00:00\", \"2018-05-11T00:00:00+00:00\", \"2018-05-12T00:00:00+00:00\", \"2018-05-13T00:00:00+00:00\", \"2018-05-14T00:00:00+00:00\", \"2018-05-15T00:00:00+00:00\", \"2018-05-16T00:00:00+00:00\", \"2018-05-17T00:00:00+00:00\", \"2018-05-18T00:00:00+00:00\", \"2018-05-19T00:00:00+00:00\", \"2018-05-20T00:00:00+00:00\", \"2018-05-21T00:00:00+00:00\", \"2018-05-22T00:00:00+00:00\", \"2018-05-23T00:00:00+00:00\", \"2018-05-24T00:00:00+00:00\", \"2018-05-25T00:00:00+00:00\", \"2018-05-26T00:00:00+00:00\", \"2018-05-27T00:00:00+00:00\", \"2018-05-28T00:00:00+00:00\", \"2018-05-29T00:00:00+00:00\", \"2018-05-30T00:00:00+00:00\", \"2018-05-31T00:00:00+00:00\", \"2018-06-01T00:00:00+00:00\", \"2018-06-02T00:00:00+00:00\", \"2018-06-03T00:00:00+00:00\", \"2018-06-04T00:00:00+00:00\", \"2018-06-05T00:00:00+00:00\", \"2018-06-06T00:00:00+00:00\", \"2018-06-07T00:00:00+00:00\", \"2018-06-08T00:00:00+00:00\", \"2018-06-09T00:00:00+00:00\", \"2018-06-10T00:00:00+00:00\", \"2018-06-11T00:00:00+00:00\", \"2018-06-12T00:00:00+00:00\", \"2018-06-13T00:00:00+00:00\", \"2018-06-14T00:00:00+00:00\", \"2018-06-15T00:00:00+00:00\", \"2018-06-16T00:00:00+00:00\", \"2018-06-17T00:00:00+00:00\", \"2018-06-18T00:00:00+00:00\", \"2018-06-19T00:00:00+00:00\", \"2018-06-20T00:00:00+00:00\", \"2018-06-21T00:00:00+00:00\", \"2018-06-22T00:00:00+00:00\", \"2018-06-23T00:00:00+00:00\", \"2018-06-24T00:00:00+00:00\", \"2018-06-25T00:00:00+00:00\", \"2018-06-26T00:00:00+00:00\", \"2018-06-27T00:00:00+00:00\", \"2018-06-28T00:00:00+00:00\", \"2018-06-29T00:00:00+00:00\", \"2018-06-30T00:00:00+00:00\", \"2018-07-01T00:00:00+00:00\", \"2018-07-02T00:00:00+00:00\", \"2018-07-03T00:00:00+00:00\", \"2018-07-04T00:00:00+00:00\", \"2018-07-05T00:00:00+00:00\", \"2018-07-06T00:00:00+00:00\", \"2018-07-07T00:00:00+00:00\", \"2018-07-08T00:00:00+00:00\", \"2018-07-09T00:00:00+00:00\", \"2018-07-10T00:00:00+00:00\", \"2018-07-11T00:00:00+00:00\", \"2018-07-12T00:00:00+00:00\", \"2018-07-13T00:00:00+00:00\", \"2018-07-14T00:00:00+00:00\", \"2018-07-15T00:00:00+00:00\", \"2018-07-16T00:00:00+00:00\", \"2018-07-17T00:00:00+00:00\", \"2018-07-18T00:00:00+00:00\", \"2018-07-19T00:00:00+00:00\", \"2018-07-20T00:00:00+00:00\", \"2018-07-21T00:00:00+00:00\", \"2018-07-22T00:00:00+00:00\", \"2018-07-23T00:00:00+00:00\", \"2018-07-24T00:00:00+00:00\", \"2018-07-25T00:00:00+00:00\", \"2018-07-26T00:00:00+00:00\", \"2018-07-27T00:00:00+00:00\", \"2018-07-28T00:00:00+00:00\", \"2018-07-29T00:00:00+00:00\", \"2018-07-30T00:00:00+00:00\", \"2018-07-31T00:00:00+00:00\", \"2018-08-01T00:00:00+00:00\", \"2018-08-02T00:00:00+00:00\", \"2018-08-03T00:00:00+00:00\", \"2018-08-04T00:00:00+00:00\", \"2018-08-05T00:00:00+00:00\", \"2018-08-06T00:00:00+00:00\", \"2018-08-07T00:00:00+00:00\", \"2018-08-08T00:00:00+00:00\", \"2018-08-09T00:00:00+00:00\", \"2018-08-10T00:00:00+00:00\", \"2018-08-11T00:00:00+00:00\", \"2018-08-12T00:00:00+00:00\", \"2018-08-13T00:00:00+00:00\", \"2018-08-14T00:00:00+00:00\", \"2018-08-15T00:00:00+00:00\", \"2018-08-16T00:00:00+00:00\", \"2018-08-17T00:00:00+00:00\", \"2018-08-18T00:00:00+00:00\", \"2018-08-19T00:00:00+00:00\", \"2018-08-20T00:00:00+00:00\", \"2018-08-21T00:00:00+00:00\", \"2018-08-22T00:00:00+00:00\", \"2018-08-23T00:00:00+00:00\", \"2018-08-24T00:00:00+00:00\", \"2018-08-25T00:00:00+00:00\", \"2018-08-26T00:00:00+00:00\", \"2018-08-27T00:00:00+00:00\", \"2018-08-28T00:00:00+00:00\", \"2018-08-29T00:00:00+00:00\", \"2018-08-30T00:00:00+00:00\", \"2018-08-31T00:00:00+00:00\", \"2018-09-01T00:00:00+00:00\", \"2018-09-02T00:00:00+00:00\", \"2018-09-03T00:00:00+00:00\", \"2018-09-04T00:00:00+00:00\", \"2018-09-05T00:00:00+00:00\", \"2018-09-06T00:00:00+00:00\", \"2018-09-07T00:00:00+00:00\", \"2018-09-08T00:00:00+00:00\", \"2018-09-09T00:00:00+00:00\", \"2018-09-10T00:00:00+00:00\", \"2018-09-11T00:00:00+00:00\", \"2018-09-12T00:00:00+00:00\", \"2018-09-13T00:00:00+00:00\", \"2018-09-14T00:00:00+00:00\", \"2018-09-15T00:00:00+00:00\", \"2018-09-16T00:00:00+00:00\", \"2018-09-17T00:00:00+00:00\", \"2018-09-18T00:00:00+00:00\", \"2018-09-19T00:00:00+00:00\", \"2018-09-20T00:00:00+00:00\", \"2018-09-21T00:00:00+00:00\", \"2018-09-22T00:00:00+00:00\", \"2018-09-23T00:00:00+00:00\", \"2018-09-24T00:00:00+00:00\", \"2018-09-25T00:00:00+00:00\", \"2018-09-26T00:00:00+00:00\", \"2018-09-27T00:00:00+00:00\", \"2018-09-28T00:00:00+00:00\", \"2018-09-29T00:00:00+00:00\", \"2018-09-30T00:00:00+00:00\", \"2018-10-01T00:00:00+00:00\", \"2018-10-02T00:00:00+00:00\", \"2018-10-03T00:00:00+00:00\", \"2018-10-04T00:00:00+00:00\", \"2018-10-05T00:00:00+00:00\", \"2018-10-06T00:00:00+00:00\", \"2018-10-07T00:00:00+00:00\", \"2018-10-08T00:00:00+00:00\", \"2018-10-09T00:00:00+00:00\", \"2018-10-10T00:00:00+00:00\", \"2018-10-11T00:00:00+00:00\", \"2018-10-12T00:00:00+00:00\", \"2018-10-13T00:00:00+00:00\", \"2018-10-14T00:00:00+00:00\", \"2018-10-15T00:00:00+00:00\", \"2018-10-16T00:00:00+00:00\", \"2018-10-17T00:00:00+00:00\", \"2018-10-18T00:00:00+00:00\", \"2018-10-19T00:00:00+00:00\", \"2018-10-20T00:00:00+00:00\", \"2018-10-21T00:00:00+00:00\", \"2018-10-22T00:00:00+00:00\", \"2018-10-23T00:00:00+00:00\", \"2018-10-24T00:00:00+00:00\", \"2018-10-25T00:00:00+00:00\", \"2018-10-26T00:00:00+00:00\", \"2018-10-27T00:00:00+00:00\", \"2018-10-28T00:00:00+00:00\", \"2018-10-29T00:00:00+00:00\", \"2018-10-30T00:00:00+00:00\", \"2018-10-31T00:00:00+00:00\", \"2018-11-01T00:00:00+00:00\", \"2018-11-02T00:00:00+00:00\", \"2018-11-03T00:00:00+00:00\", \"2018-11-04T00:00:00+00:00\", \"2018-11-05T00:00:00+00:00\", \"2018-11-06T00:00:00+00:00\", \"2018-11-07T00:00:00+00:00\", \"2018-11-08T00:00:00+00:00\", \"2018-11-09T00:00:00+00:00\", \"2018-11-10T00:00:00+00:00\", \"2018-11-11T00:00:00+00:00\", \"2018-11-12T00:00:00+00:00\", \"2018-11-13T00:00:00+00:00\", \"2018-11-14T00:00:00+00:00\", \"2018-11-15T00:00:00+00:00\", \"2018-11-16T00:00:00+00:00\", \"2018-11-17T00:00:00+00:00\", \"2018-11-18T00:00:00+00:00\", \"2018-11-19T00:00:00+00:00\", \"2018-11-20T00:00:00+00:00\", \"2018-11-21T00:00:00+00:00\", \"2018-11-22T00:00:00+00:00\", \"2018-11-23T00:00:00+00:00\", \"2018-11-24T00:00:00+00:00\", \"2018-11-25T00:00:00+00:00\", \"2018-11-26T00:00:00+00:00\", \"2018-11-27T00:00:00+00:00\", \"2018-11-28T00:00:00+00:00\", \"2018-11-29T00:00:00+00:00\", \"2018-11-30T00:00:00+00:00\", \"2018-12-01T00:00:00+00:00\", \"2018-12-02T00:00:00+00:00\", \"2018-12-03T00:00:00+00:00\", \"2018-12-04T00:00:00+00:00\", \"2018-12-05T00:00:00+00:00\", \"2018-12-06T00:00:00+00:00\", \"2018-12-07T00:00:00+00:00\", \"2018-12-08T00:00:00+00:00\", \"2018-12-09T00:00:00+00:00\", \"2018-12-10T00:00:00+00:00\", \"2018-12-11T00:00:00+00:00\", \"2018-12-12T00:00:00+00:00\", \"2018-12-13T00:00:00+00:00\", \"2018-12-14T00:00:00+00:00\", \"2018-12-15T00:00:00+00:00\", \"2018-12-16T00:00:00+00:00\", \"2018-12-17T00:00:00+00:00\", \"2018-12-18T00:00:00+00:00\", \"2018-12-19T00:00:00+00:00\", \"2018-12-20T00:00:00+00:00\", \"2018-12-21T00:00:00+00:00\", \"2018-12-22T00:00:00+00:00\", \"2018-12-23T00:00:00+00:00\", \"2018-12-24T00:00:00+00:00\", \"2018-12-25T00:00:00+00:00\", \"2018-12-26T00:00:00+00:00\", \"2018-12-27T00:00:00+00:00\", \"2018-12-28T00:00:00+00:00\", \"2018-12-29T00:00:00+00:00\", \"2018-12-30T00:00:00+00:00\", \"2018-12-31T00:00:00+00:00\", \"2019-01-01T00:00:00+00:00\", \"2019-01-02T00:00:00+00:00\", \"2019-01-03T00:00:00+00:00\", \"2019-01-04T00:00:00+00:00\", \"2019-01-05T00:00:00+00:00\", \"2019-01-06T00:00:00+00:00\", \"2019-01-07T00:00:00+00:00\", \"2019-01-08T00:00:00+00:00\", \"2019-01-09T00:00:00+00:00\", \"2019-01-10T00:00:00+00:00\", \"2019-01-11T00:00:00+00:00\", \"2019-01-12T00:00:00+00:00\", \"2019-01-13T00:00:00+00:00\", \"2019-01-14T00:00:00+00:00\", \"2019-01-15T00:00:00+00:00\", \"2019-01-16T00:00:00+00:00\", \"2019-01-17T00:00:00+00:00\", \"2019-01-18T00:00:00+00:00\", \"2019-01-19T00:00:00+00:00\", \"2019-01-20T00:00:00+00:00\", \"2019-01-21T00:00:00+00:00\", \"2019-01-22T00:00:00+00:00\", \"2019-01-23T00:00:00+00:00\", \"2019-01-24T00:00:00+00:00\", \"2019-01-25T00:00:00+00:00\", \"2019-01-26T00:00:00+00:00\", \"2019-01-27T00:00:00+00:00\", \"2019-01-28T00:00:00+00:00\", \"2019-01-29T00:00:00+00:00\", \"2019-01-30T00:00:00+00:00\", \"2019-01-31T00:00:00+00:00\", \"2019-02-01T00:00:00+00:00\", \"2019-02-02T00:00:00+00:00\", \"2019-02-03T00:00:00+00:00\", \"2019-02-04T00:00:00+00:00\", \"2019-02-05T00:00:00+00:00\", \"2019-02-06T00:00:00+00:00\", \"2019-02-07T00:00:00+00:00\", \"2019-02-08T00:00:00+00:00\", \"2019-02-09T00:00:00+00:00\", \"2019-02-10T00:00:00+00:00\", \"2019-02-11T00:00:00+00:00\", \"2019-02-12T00:00:00+00:00\", \"2019-02-13T00:00:00+00:00\", \"2019-02-14T00:00:00+00:00\", \"2019-02-15T00:00:00+00:00\", \"2019-02-16T00:00:00+00:00\", \"2019-02-17T00:00:00+00:00\", \"2019-02-18T00:00:00+00:00\", \"2019-02-19T00:00:00+00:00\", \"2019-02-20T00:00:00+00:00\", \"2019-02-21T00:00:00+00:00\", \"2019-02-22T00:00:00+00:00\", \"2019-02-23T00:00:00+00:00\", \"2019-02-24T00:00:00+00:00\", \"2019-02-25T00:00:00+00:00\", \"2019-02-26T00:00:00+00:00\", \"2019-02-27T00:00:00+00:00\", \"2019-02-28T00:00:00+00:00\", \"2019-03-01T00:00:00+00:00\", \"2019-03-02T00:00:00+00:00\", \"2019-03-03T00:00:00+00:00\", \"2019-03-04T00:00:00+00:00\", \"2019-03-05T00:00:00+00:00\", \"2019-03-06T00:00:00+00:00\", \"2019-03-07T00:00:00+00:00\", \"2019-03-08T00:00:00+00:00\", \"2019-03-09T00:00:00+00:00\", \"2019-03-10T00:00:00+00:00\", \"2019-03-11T00:00:00+00:00\", \"2019-03-12T00:00:00+00:00\", \"2019-03-13T00:00:00+00:00\", \"2019-03-14T00:00:00+00:00\", \"2019-03-15T00:00:00+00:00\", \"2019-03-16T00:00:00+00:00\", \"2019-03-17T00:00:00+00:00\", \"2019-03-18T00:00:00+00:00\", \"2019-03-19T00:00:00+00:00\", \"2019-03-20T00:00:00+00:00\", \"2019-03-21T00:00:00+00:00\", \"2019-03-22T00:00:00+00:00\", \"2019-03-23T00:00:00+00:00\", \"2019-03-24T00:00:00+00:00\", \"2019-03-25T00:00:00+00:00\", \"2019-03-26T00:00:00+00:00\", \"2019-03-27T00:00:00+00:00\", \"2019-03-28T00:00:00+00:00\", \"2019-03-29T00:00:00+00:00\", \"2019-03-30T00:00:00+00:00\", \"2019-03-31T00:00:00+00:00\", \"2019-04-01T00:00:00+00:00\", \"2019-04-02T00:00:00+00:00\", \"2019-04-03T00:00:00+00:00\", \"2019-04-04T00:00:00+00:00\", \"2019-04-05T00:00:00+00:00\", \"2019-04-06T00:00:00+00:00\", \"2019-04-07T00:00:00+00:00\", \"2019-04-08T00:00:00+00:00\", \"2019-04-09T00:00:00+00:00\", \"2019-04-10T00:00:00+00:00\", \"2019-04-11T00:00:00+00:00\", \"2019-04-12T00:00:00+00:00\", \"2019-04-13T00:00:00+00:00\", \"2019-04-14T00:00:00+00:00\", \"2019-04-15T00:00:00+00:00\", \"2019-04-16T00:00:00+00:00\", \"2019-04-17T00:00:00+00:00\", \"2019-04-18T00:00:00+00:00\", \"2019-04-19T00:00:00+00:00\", \"2019-04-20T00:00:00+00:00\", \"2019-04-21T00:00:00+00:00\", \"2019-04-22T00:00:00+00:00\", \"2019-04-23T00:00:00+00:00\", \"2019-04-24T00:00:00+00:00\", \"2019-04-25T00:00:00+00:00\", \"2019-04-26T00:00:00+00:00\", \"2019-04-27T00:00:00+00:00\", \"2019-04-28T00:00:00+00:00\", \"2019-04-29T00:00:00+00:00\", \"2019-04-30T00:00:00+00:00\", \"2019-05-01T00:00:00+00:00\", \"2019-05-02T00:00:00+00:00\", \"2019-05-03T00:00:00+00:00\", \"2019-05-04T00:00:00+00:00\", \"2019-05-05T00:00:00+00:00\", \"2019-05-06T00:00:00+00:00\", \"2019-05-07T00:00:00+00:00\", \"2019-05-08T00:00:00+00:00\", \"2019-05-09T00:00:00+00:00\", \"2019-05-10T00:00:00+00:00\", \"2019-05-11T00:00:00+00:00\", \"2019-05-12T00:00:00+00:00\", \"2019-05-13T00:00:00+00:00\", \"2019-05-14T00:00:00+00:00\", \"2019-05-15T00:00:00+00:00\", \"2019-05-16T00:00:00+00:00\", \"2019-05-17T00:00:00+00:00\", \"2019-05-18T00:00:00+00:00\", \"2019-05-19T00:00:00+00:00\", \"2019-05-20T00:00:00+00:00\", \"2019-05-21T00:00:00+00:00\", \"2019-05-22T00:00:00+00:00\", \"2019-05-23T00:00:00+00:00\", \"2019-05-24T00:00:00+00:00\", \"2019-05-25T00:00:00+00:00\", \"2019-05-26T00:00:00+00:00\", \"2019-05-27T00:00:00+00:00\", \"2019-05-28T00:00:00+00:00\", \"2019-05-29T00:00:00+00:00\", \"2019-05-30T00:00:00+00:00\", \"2019-05-31T00:00:00+00:00\", \"2019-06-01T00:00:00+00:00\", \"2019-06-02T00:00:00+00:00\", \"2019-06-03T00:00:00+00:00\", \"2019-06-04T00:00:00+00:00\", \"2019-06-05T00:00:00+00:00\", \"2019-06-06T00:00:00+00:00\", \"2019-06-07T00:00:00+00:00\", \"2019-06-08T00:00:00+00:00\", \"2019-06-09T00:00:00+00:00\", \"2019-06-10T00:00:00+00:00\", \"2019-06-11T00:00:00+00:00\", \"2019-06-12T00:00:00+00:00\", \"2019-06-13T00:00:00+00:00\", \"2019-06-14T00:00:00+00:00\", \"2019-06-15T00:00:00+00:00\", \"2019-06-16T00:00:00+00:00\", \"2019-06-17T00:00:00+00:00\", \"2019-06-18T00:00:00+00:00\", \"2019-06-19T00:00:00+00:00\", \"2019-06-20T00:00:00+00:00\", \"2019-06-21T00:00:00+00:00\", \"2019-06-22T00:00:00+00:00\", \"2019-06-23T00:00:00+00:00\", \"2019-06-24T00:00:00+00:00\", \"2019-06-25T00:00:00+00:00\", \"2019-06-26T00:00:00+00:00\", \"2019-06-27T00:00:00+00:00\", \"2019-06-28T00:00:00+00:00\", \"2019-06-29T00:00:00+00:00\", \"2019-06-30T00:00:00+00:00\", \"2019-07-01T00:00:00+00:00\", \"2019-07-02T00:00:00+00:00\", \"2019-07-03T00:00:00+00:00\", \"2019-07-04T00:00:00+00:00\", \"2019-07-05T00:00:00+00:00\", \"2019-07-06T00:00:00+00:00\", \"2019-07-07T00:00:00+00:00\", \"2019-07-08T00:00:00+00:00\", \"2019-07-09T00:00:00+00:00\", \"2019-07-10T00:00:00+00:00\", \"2019-07-11T00:00:00+00:00\", \"2019-07-12T00:00:00+00:00\", \"2019-07-13T00:00:00+00:00\", \"2019-07-14T00:00:00+00:00\", \"2019-07-15T00:00:00+00:00\", \"2019-07-16T00:00:00+00:00\", \"2019-07-17T00:00:00+00:00\", \"2019-07-18T00:00:00+00:00\", \"2019-07-19T00:00:00+00:00\", \"2019-07-20T00:00:00+00:00\", \"2019-07-21T00:00:00+00:00\", \"2019-07-22T00:00:00+00:00\", \"2019-07-23T00:00:00+00:00\", \"2019-07-24T00:00:00+00:00\", \"2019-07-25T00:00:00+00:00\", \"2019-07-26T00:00:00+00:00\", \"2019-07-27T00:00:00+00:00\", \"2019-07-28T00:00:00+00:00\", \"2019-07-29T00:00:00+00:00\", \"2019-07-30T00:00:00+00:00\", \"2019-07-31T00:00:00+00:00\", \"2019-08-01T00:00:00+00:00\", \"2019-08-02T00:00:00+00:00\", \"2019-08-03T00:00:00+00:00\", \"2019-08-04T00:00:00+00:00\", \"2019-08-05T00:00:00+00:00\", \"2019-08-06T00:00:00+00:00\", \"2019-08-07T00:00:00+00:00\", \"2019-08-08T00:00:00+00:00\", \"2019-08-09T00:00:00+00:00\", \"2019-08-10T00:00:00+00:00\", \"2019-08-11T00:00:00+00:00\", \"2019-08-12T00:00:00+00:00\", \"2019-08-13T00:00:00+00:00\", \"2019-08-14T00:00:00+00:00\", \"2019-08-15T00:00:00+00:00\", \"2019-08-16T00:00:00+00:00\", \"2019-08-17T00:00:00+00:00\", \"2019-08-18T00:00:00+00:00\", \"2019-08-19T00:00:00+00:00\", \"2019-08-20T00:00:00+00:00\", \"2019-08-21T00:00:00+00:00\", \"2019-08-22T00:00:00+00:00\", \"2019-08-23T00:00:00+00:00\", \"2019-08-24T00:00:00+00:00\", \"2019-08-25T00:00:00+00:00\", \"2019-08-26T00:00:00+00:00\", \"2019-08-27T00:00:00+00:00\", \"2019-08-28T00:00:00+00:00\", \"2019-08-29T00:00:00+00:00\", \"2019-08-30T00:00:00+00:00\", \"2019-08-31T00:00:00+00:00\", \"2019-09-01T00:00:00+00:00\", \"2019-09-02T00:00:00+00:00\", \"2019-09-03T00:00:00+00:00\", \"2019-09-04T00:00:00+00:00\", \"2019-09-05T00:00:00+00:00\", \"2019-09-06T00:00:00+00:00\", \"2019-09-07T00:00:00+00:00\", \"2019-09-08T00:00:00+00:00\", \"2019-09-09T00:00:00+00:00\", \"2019-09-10T00:00:00+00:00\", \"2019-09-11T00:00:00+00:00\", \"2019-09-12T00:00:00+00:00\", \"2019-09-13T00:00:00+00:00\", \"2019-09-14T00:00:00+00:00\", \"2019-09-15T00:00:00+00:00\", \"2019-09-16T00:00:00+00:00\", \"2019-09-17T00:00:00+00:00\", \"2019-09-18T00:00:00+00:00\", \"2019-09-19T00:00:00+00:00\", \"2019-09-20T00:00:00+00:00\", \"2019-09-21T00:00:00+00:00\", \"2019-09-22T00:00:00+00:00\", \"2019-09-23T00:00:00+00:00\", \"2019-09-24T00:00:00+00:00\", \"2019-09-25T00:00:00+00:00\", \"2019-09-26T00:00:00+00:00\", \"2019-09-27T00:00:00+00:00\", \"2019-09-28T00:00:00+00:00\", \"2019-09-29T00:00:00+00:00\", \"2019-09-30T00:00:00+00:00\", \"2019-10-01T00:00:00+00:00\", \"2019-10-02T00:00:00+00:00\", \"2019-10-03T00:00:00+00:00\", \"2019-10-04T00:00:00+00:00\", \"2019-10-05T00:00:00+00:00\", \"2019-10-06T00:00:00+00:00\", \"2019-10-07T00:00:00+00:00\", \"2019-10-08T00:00:00+00:00\", \"2019-10-09T00:00:00+00:00\", \"2019-10-10T00:00:00+00:00\", \"2019-10-11T00:00:00+00:00\", \"2019-10-12T00:00:00+00:00\", \"2019-10-13T00:00:00+00:00\", \"2019-10-14T00:00:00+00:00\", \"2019-10-15T00:00:00+00:00\", \"2019-10-16T00:00:00+00:00\", \"2019-10-17T00:00:00+00:00\", \"2019-10-18T00:00:00+00:00\", \"2019-10-19T00:00:00+00:00\", \"2019-10-20T00:00:00+00:00\", \"2019-10-21T00:00:00+00:00\", \"2019-10-22T00:00:00+00:00\", \"2019-10-23T00:00:00+00:00\", \"2019-10-24T00:00:00+00:00\", \"2019-10-25T00:00:00+00:00\", \"2019-10-26T00:00:00+00:00\", \"2019-10-27T00:00:00+00:00\", \"2019-10-28T00:00:00+00:00\", \"2019-10-29T00:00:00+00:00\", \"2019-10-30T00:00:00+00:00\", \"2019-10-31T00:00:00+00:00\", \"2019-11-01T00:00:00+00:00\", \"2019-11-02T00:00:00+00:00\", \"2019-11-03T00:00:00+00:00\", \"2019-11-04T00:00:00+00:00\", \"2019-11-05T00:00:00+00:00\", \"2019-11-06T00:00:00+00:00\", \"2019-11-07T00:00:00+00:00\", \"2019-11-08T00:00:00+00:00\", \"2019-11-09T00:00:00+00:00\", \"2019-11-10T00:00:00+00:00\", \"2019-11-11T00:00:00+00:00\", \"2019-11-12T00:00:00+00:00\", \"2019-11-13T00:00:00+00:00\", \"2019-11-14T00:00:00+00:00\", \"2019-11-15T00:00:00+00:00\", \"2019-11-16T00:00:00+00:00\", \"2019-11-17T00:00:00+00:00\", \"2019-11-18T00:00:00+00:00\", \"2019-11-19T00:00:00+00:00\", \"2019-11-20T00:00:00+00:00\", \"2019-11-21T00:00:00+00:00\", \"2019-11-22T00:00:00+00:00\", \"2019-11-23T00:00:00+00:00\", \"2019-11-24T00:00:00+00:00\", \"2019-11-25T00:00:00+00:00\", \"2019-11-26T00:00:00+00:00\", \"2019-11-27T00:00:00+00:00\", \"2019-11-28T00:00:00+00:00\", \"2019-11-29T00:00:00+00:00\", \"2019-11-30T00:00:00+00:00\", \"2019-12-01T00:00:00+00:00\", \"2019-12-02T00:00:00+00:00\", \"2019-12-03T00:00:00+00:00\", \"2019-12-04T00:00:00+00:00\", \"2019-12-05T00:00:00+00:00\", \"2019-12-06T00:00:00+00:00\", \"2019-12-07T00:00:00+00:00\", \"2019-12-08T00:00:00+00:00\", \"2019-12-09T00:00:00+00:00\", \"2019-12-10T00:00:00+00:00\", \"2019-12-11T00:00:00+00:00\", \"2019-12-12T00:00:00+00:00\", \"2019-12-13T00:00:00+00:00\", \"2019-12-14T00:00:00+00:00\", \"2019-12-15T00:00:00+00:00\", \"2019-12-16T00:00:00+00:00\", \"2019-12-17T00:00:00+00:00\", \"2019-12-18T00:00:00+00:00\", \"2019-12-19T00:00:00+00:00\", \"2019-12-20T00:00:00+00:00\", \"2019-12-21T00:00:00+00:00\", \"2019-12-22T00:00:00+00:00\", \"2019-12-23T00:00:00+00:00\", \"2019-12-24T00:00:00+00:00\", \"2019-12-25T00:00:00+00:00\", \"2019-12-26T00:00:00+00:00\", \"2019-12-27T00:00:00+00:00\", \"2019-12-28T00:00:00+00:00\", \"2019-12-29T00:00:00+00:00\", \"2019-12-30T00:00:00+00:00\", \"2019-12-31T00:00:00+00:00\", \"2020-01-01T00:00:00+00:00\", \"2020-01-02T00:00:00+00:00\", \"2020-01-03T00:00:00+00:00\", \"2020-01-04T00:00:00+00:00\", \"2020-01-05T00:00:00+00:00\", \"2020-01-06T00:00:00+00:00\", \"2020-01-07T00:00:00+00:00\", \"2020-01-08T00:00:00+00:00\", \"2020-01-09T00:00:00+00:00\", \"2020-01-10T00:00:00+00:00\", \"2020-01-11T00:00:00+00:00\", \"2020-01-12T00:00:00+00:00\", \"2020-01-13T00:00:00+00:00\", \"2020-01-14T00:00:00+00:00\", \"2020-01-15T00:00:00+00:00\", \"2020-01-16T00:00:00+00:00\", \"2020-01-17T00:00:00+00:00\", \"2020-01-18T00:00:00+00:00\", \"2020-01-19T00:00:00+00:00\", \"2020-01-20T00:00:00+00:00\", \"2020-01-21T00:00:00+00:00\", \"2020-01-22T00:00:00+00:00\", \"2020-01-23T00:00:00+00:00\", \"2020-01-24T00:00:00+00:00\", \"2020-01-25T00:00:00+00:00\", \"2020-01-26T00:00:00+00:00\", \"2020-01-27T00:00:00+00:00\", \"2020-01-28T00:00:00+00:00\", \"2020-01-29T00:00:00+00:00\", \"2020-01-30T00:00:00+00:00\", \"2020-01-31T00:00:00+00:00\", \"2020-02-01T00:00:00+00:00\", \"2020-02-02T00:00:00+00:00\", \"2020-02-03T00:00:00+00:00\", \"2020-02-04T00:00:00+00:00\", \"2020-02-05T00:00:00+00:00\", \"2020-02-06T00:00:00+00:00\", \"2020-02-07T00:00:00+00:00\", \"2020-02-08T00:00:00+00:00\", \"2020-02-09T00:00:00+00:00\", \"2020-02-10T00:00:00+00:00\", \"2020-02-11T00:00:00+00:00\", \"2020-02-12T00:00:00+00:00\", \"2020-02-13T00:00:00+00:00\", \"2020-02-14T00:00:00+00:00\", \"2020-02-15T00:00:00+00:00\", \"2020-02-16T00:00:00+00:00\", \"2020-02-17T00:00:00+00:00\", \"2020-02-18T00:00:00+00:00\", \"2020-02-19T00:00:00+00:00\", \"2020-02-20T00:00:00+00:00\", \"2020-02-21T00:00:00+00:00\", \"2020-02-22T00:00:00+00:00\", \"2020-02-23T00:00:00+00:00\", \"2020-02-24T00:00:00+00:00\", \"2020-02-25T00:00:00+00:00\", \"2020-02-26T00:00:00+00:00\", \"2020-02-27T00:00:00+00:00\", \"2020-02-28T00:00:00+00:00\", \"2020-02-29T00:00:00+00:00\", \"2020-03-01T00:00:00+00:00\", \"2020-03-02T00:00:00+00:00\", \"2020-03-03T00:00:00+00:00\", \"2020-03-04T00:00:00+00:00\", \"2020-03-05T00:00:00+00:00\", \"2020-03-06T00:00:00+00:00\", \"2020-03-07T00:00:00+00:00\", \"2020-03-08T00:00:00+00:00\", \"2020-03-09T00:00:00+00:00\", \"2020-03-10T00:00:00+00:00\", \"2020-03-11T00:00:00+00:00\", \"2020-03-12T00:00:00+00:00\", \"2020-03-13T00:00:00+00:00\", \"2020-03-14T00:00:00+00:00\", \"2020-03-15T00:00:00+00:00\", \"2020-03-16T00:00:00+00:00\", \"2020-03-17T00:00:00+00:00\", \"2020-03-18T00:00:00+00:00\", \"2020-03-19T00:00:00+00:00\", \"2020-03-20T00:00:00+00:00\", \"2020-03-21T00:00:00+00:00\", \"2020-03-22T00:00:00+00:00\", \"2020-03-23T00:00:00+00:00\", \"2020-03-24T00:00:00+00:00\", \"2020-03-25T00:00:00+00:00\", \"2020-03-26T00:00:00+00:00\", \"2020-03-27T00:00:00+00:00\", \"2020-03-28T00:00:00+00:00\", \"2020-03-29T00:00:00+00:00\", \"2020-03-30T00:00:00+00:00\", \"2020-03-31T00:00:00+00:00\", \"2020-04-01T00:00:00+00:00\", \"2020-04-02T00:00:00+00:00\", \"2020-04-03T00:00:00+00:00\", \"2020-04-04T00:00:00+00:00\", \"2020-04-05T00:00:00+00:00\", \"2020-04-06T00:00:00+00:00\", \"2020-04-07T00:00:00+00:00\", \"2020-04-08T00:00:00+00:00\", \"2020-04-09T00:00:00+00:00\", \"2020-04-10T00:00:00+00:00\", \"2020-04-11T00:00:00+00:00\", \"2020-04-12T00:00:00+00:00\", \"2020-04-13T00:00:00+00:00\", \"2020-04-14T00:00:00+00:00\", \"2020-04-15T00:00:00+00:00\", \"2020-04-16T00:00:00+00:00\", \"2020-04-17T00:00:00+00:00\", \"2020-04-18T00:00:00+00:00\", \"2020-04-19T00:00:00+00:00\", \"2020-04-20T00:00:00+00:00\", \"2020-04-21T00:00:00+00:00\", \"2020-04-22T00:00:00+00:00\", \"2020-04-23T00:00:00+00:00\", \"2020-04-24T00:00:00+00:00\", \"2020-04-25T00:00:00+00:00\", \"2020-04-26T00:00:00+00:00\", \"2020-04-27T00:00:00+00:00\", \"2020-04-28T00:00:00+00:00\", \"2020-04-29T00:00:00+00:00\", \"2020-04-30T00:00:00+00:00\", \"2020-05-01T00:00:00+00:00\", \"2020-05-02T00:00:00+00:00\", \"2020-05-03T00:00:00+00:00\", \"2020-05-04T00:00:00+00:00\", \"2020-05-05T00:00:00+00:00\", \"2020-05-06T00:00:00+00:00\", \"2020-05-07T00:00:00+00:00\", \"2020-05-08T00:00:00+00:00\", \"2020-05-09T00:00:00+00:00\", \"2020-05-10T00:00:00+00:00\", \"2020-05-11T00:00:00+00:00\", \"2020-05-12T00:00:00+00:00\", \"2020-05-13T00:00:00+00:00\", \"2020-05-14T00:00:00+00:00\", \"2020-05-15T00:00:00+00:00\", \"2020-05-16T00:00:00+00:00\", \"2020-05-17T00:00:00+00:00\", \"2020-05-18T00:00:00+00:00\", \"2020-05-19T00:00:00+00:00\", \"2020-05-20T00:00:00+00:00\", \"2020-05-21T00:00:00+00:00\", \"2020-05-22T00:00:00+00:00\", \"2020-05-23T00:00:00+00:00\", \"2020-05-24T00:00:00+00:00\", \"2020-05-25T00:00:00+00:00\", \"2020-05-26T00:00:00+00:00\", \"2020-05-27T00:00:00+00:00\", \"2020-05-28T00:00:00+00:00\", \"2020-05-29T00:00:00+00:00\", \"2020-05-30T00:00:00+00:00\", \"2020-05-31T00:00:00+00:00\", \"2020-06-01T00:00:00+00:00\", \"2020-06-02T00:00:00+00:00\", \"2020-06-03T00:00:00+00:00\", \"2020-06-04T00:00:00+00:00\", \"2020-06-05T00:00:00+00:00\", \"2020-06-06T00:00:00+00:00\", \"2020-06-07T00:00:00+00:00\", \"2020-06-08T00:00:00+00:00\", \"2020-06-09T00:00:00+00:00\", \"2020-06-10T00:00:00+00:00\", \"2020-06-11T00:00:00+00:00\", \"2020-06-12T00:00:00+00:00\", \"2020-06-13T00:00:00+00:00\", \"2020-06-14T00:00:00+00:00\", \"2020-06-15T00:00:00+00:00\", \"2020-06-16T00:00:00+00:00\", \"2020-06-17T00:00:00+00:00\", \"2020-06-18T00:00:00+00:00\", \"2020-06-19T00:00:00+00:00\", \"2020-06-20T00:00:00+00:00\", \"2020-06-21T00:00:00+00:00\", \"2020-06-22T00:00:00+00:00\", \"2020-06-23T00:00:00+00:00\", \"2020-06-24T00:00:00+00:00\", \"2020-06-25T00:00:00+00:00\", \"2020-06-26T00:00:00+00:00\", \"2020-06-27T00:00:00+00:00\", \"2020-06-28T00:00:00+00:00\", \"2020-06-29T00:00:00+00:00\", \"2020-06-30T00:00:00+00:00\", \"2020-07-01T00:00:00+00:00\", \"2020-07-02T00:00:00+00:00\", \"2020-07-03T00:00:00+00:00\", \"2020-07-04T00:00:00+00:00\"], \"y\": [0.006729897577315569, 0.007190010044723749, 0.006425279192626476, 0.00630315113812685, 0.0066617741249501705, 0.006688399240374565, 0.007849911227822304, 0.008494152687489986, 0.0082432571798563, 0.008333954960107803, 0.007993461564183235, 0.007436716929078102, 0.006676665507256985, 0.006293133366852999, 0.005976392421871424, 0.005821506958454847, 0.005023916717618704, 0.005152461118996143, 0.004959903657436371, 0.004805177915841341, 0.004996318835765123, 0.0053838202729821205, 0.0052072131074965, 0.005932220723479986, 0.0066163260489702225, 0.007653506472706795, 0.009535017423331738, 0.010474476963281631, 0.010580233298242092, 0.01091831736266613, 0.01108185201883316, 0.01130032166838646, 0.012387188151478767, 0.01295503694564104, 0.01379997469484806, 0.014109254814684391, 0.014024738222360611, 0.013591423630714417, 0.012839480303227901, 0.011359475553035736, 0.01011997926980257, 0.008970816619694233, 0.007933917455375195, 0.007140216883271933, 0.007064754143357277, 0.006315859965980053, 0.006496264599263668, 0.006963344290852547, 0.006978277582675219, 0.007475686259567738, 0.007382082752883434, 0.00725400960072875, 0.0067632077261805534, 0.006213760934770107, 0.005707934498786926, 0.0054903230629861355, 0.005554637871682644, 0.005355347879230976, 0.005662936717271805, 0.0059106913395226, 0.005666276905685663, 0.0057545132003724575, 0.00530609954148531, 0.005206851288676262, 0.0054601519368588924, 0.005842038430273533, 0.006270325742661953, 0.006431588903069496, 0.006448757369071245, 0.006096997298300266, 0.005272539332509041, 0.004886186216026545, 0.004264602437615395, 0.004082471132278442, 0.0038051174487918615, 0.0036522101145237684, 0.004002528265118599, 0.003971301484853029, 0.004115516319870949, 0.00480282586067915, 0.005055211950093508, 0.0050953286699950695, 0.005191269796341658, 0.005299739073961973, 0.0055034165270626545, 0.005249716341495514, 0.0050222985446453094, 0.005366832949221134, 0.006190774496644735, 0.007634002715349197, 0.00864836759865284, 0.009936376474797726, 0.010058920830488205, 0.009395314380526543, 0.008852929808199406, 0.00843739416450262, 0.008325912989675999, 0.008371202275156975, 0.00821125227957964, 0.008270477876067162, 0.008588011376559734, 0.008466718718409538, 0.007690719328820705, 0.008077927865087986, 0.008033106103539467, 0.008000214584171772, 0.00762559100985527, 0.007057675626128912, 0.006367331370711327, 0.0060443882830441, 0.005580191034823656, 0.0055704303085803986, 0.0056010582484304905, 0.005145557224750519, 0.004338853061199188, 0.003979957662522793, 0.00352505617775023, 0.0031652236357331276, 0.002810915932059288, 0.002897675847634673, 0.0030046163592487574, 0.0029707946814596653, 0.0028031764086335897, 0.002301950938999653, 0.0022356421686708927, 0.002259167842566967, 0.002476022345945239, 0.0028246690053492785, 0.00293392944149673, 0.0027532028034329414, 0.0028629351872950792, 0.002843750873580575, 0.0026802874635905027, 0.0025339433923363686, 0.0024895677343010902, 0.002625352004542947, 0.002882549772039056, 0.0030874074436724186, 0.0033473207149654627, 0.003489601658657193, 0.003492149291560054, 0.0033452538773417473, 0.0031847083009779453, 0.0029727774672210217, 0.002739772666245699, 0.0026092969346791506, 0.002870021853595972, 0.0027511778753250837, 0.0030595622956752777, 0.0030811005271971226, 0.003199265105649829, 0.003519559046253562, 0.0037227573338896036, 0.003744971239939332, 0.004029563162475824, 0.0042344434186816216, 0.004428725689649582, 0.0044546895660459995, 0.004779348149895668, 0.0045766509138047695, 0.004502196330577135, 0.004491177853196859, 0.004446367267519236, 0.004362381063401699, 0.004283346235752106, 0.003933305852115154, 0.00406409939751029, 0.004467889666557312, 0.004704385995864868, 0.005033084657043219, 0.0054409257136285305, 0.005466276314109564, 0.005399469286203384, 0.005032217130064964, 0.004777768161147833, 0.0044642603024840355, 0.004243645817041397, 0.003908827900886536, 0.0035962339024990797, 0.0034993004519492388, 0.0028814433608204126, 0.002616447862237692, 0.0027775252237915993, 0.0033795854542404413, 0.004853573627769947, 0.006368758622556925, 0.007637880742549896, 0.008380339480936527, 0.00823126919567585, 0.007881570607423782, 0.007738657295703888, 0.00807984359562397, 0.008359597064554691, 0.00820515863597393, 0.008220617659389973, 0.007761023938655853, 0.007024339400231838, 0.006300829816609621, 0.005144648253917694, 0.00457281619310379, 0.0041205622255802155, 0.003751353593543172, 0.0032047838903963566, 0.0029391469433903694, 0.0026397446636110544, 0.002117651281878352, 0.00209074467420578, 0.0024602548219263554, 0.0024993903934955597, 0.002753902692347765, 0.003217848250642419, 0.0033470219932496548, 0.0032440891955047846, 0.0031026098877191544, 0.0030856390949338675, 0.003298248630017042, 0.0034135926980525255, 0.003581555327400565, 0.0037595063913613558, 0.0038301388267427683, 0.003914756700396538, 0.0036172776017338037, 0.003726221388205886, 0.00385401607491076, 0.0041455840691924095, 0.004546178970485926, 0.005191537085920572, 0.005347817204892635, 0.005237821955233812, 0.004889397881925106, 0.004680732265114784, 0.004402767401188612, 0.004203366115689278, 0.004285744857043028, 0.004204108379781246, 0.003979166503995657, 0.004051724914461374, 0.003655586624518037, 0.0036136985290795565, 0.0033384282141923904, 0.003033165819942951, 0.0029539179522544146, 0.0029908244032412767, 0.0029953245539218187, 0.0028443802148103714, 0.0028858764562755823, 0.0027074445970356464, 0.0024931360967457294, 0.0023667477071285248, 0.0025319536216557026, 0.0030166693031787872, 0.003463390516117215, 0.003703354625031352, 0.0037908621598035097, 0.0035688334610313177, 0.003271557856351137, 0.0029784098733216524, 0.0028471893165260553, 0.002686266554519534, 0.0026483582332730293, 0.0024740102235227823, 0.0020905982237309217, 0.0017660929588600993, 0.001482472405768931, 0.0011424884432926774, 0.001060288050211966, 0.0010337597923353314, 0.001067575067281723, 0.0010500620119273663, 0.0012042275629937649, 0.0010151802562177181, 0.0012176327873021364, 0.001479291240684688, 0.0017096140654757619, 0.002175146248191595, 0.0026711730752140284, 0.0029596237000077963, 0.0030877527315169573, 0.0029595033265650272, 0.002698994241654873, 0.00232066516764462, 0.0019285237649455667, 0.0015727555146440864, 0.0012720247032120824, 0.0009598383912816644, 0.0007102005183696747, 0.0005705230869352818, 0.0005397388013079762, 0.00024147990916389972, 0.0002873067860491574, 0.0004105795524083078, 0.0005266473162919283, 0.000642291153781116, 0.0007255459204316139, 0.0008753621950745583, 0.0010062885703518987, 0.001110995770432055, 0.001270323060452938, 0.0012989433016628027, 0.0012067853240296245, 0.0011417156783863902, 0.0010447850218042731, 0.0009376523084938526, 0.0013566334964707494, 0.0014844541437923908, 0.0017031902680173516, 0.002244367264211178, 0.0026822241488844156, 0.0028191502206027508, 0.0027807860169559717, 0.0025037508457899094, 0.0021165176294744015, 0.0017142243450507522, 0.0013106404803693295, 0.0009345384314656258, 0.0006190723506733775, 0.0003760658437386155, 0.00019205718126613647, -2.5669571186881512e-05, -9.791307820705697e-05, -9.791304910322651e-05, -9.791304910322651e-05, -9.791304910322651e-05, -9.791304910322651e-05, -9.791304910322651e-05, -9.791304910322651e-05, 0.0025601666420698166, 0.0036042171996086836, 0.0053026797249913216, 0.008011473342776299, 0.009766334667801857, 0.010788589715957642, 0.01119791530072689, 0.010701123625040054, 0.009679282084107399, 0.008597212843596935, 0.007670070976018906, 0.007371964864432812, 0.007715723477303982, 0.008231156505644321, 0.009455081075429916, 0.009466738440096378, 0.00999231357127428, 0.010324624367058277, 0.010266542434692383, 0.009673092514276505, 0.00885755941271782, 0.00816869456321001, 0.007710082456469536, 0.007467999123036861, 0.00716173741966486, 0.006715623661875725, 0.006348565686494112, 0.006305067799985409, 0.005405849311500788, 0.005163406953215599, 0.0048868427984416485, 0.004905317910015583, 0.00506410701200366, 0.0051022982224822044, 0.005438253283500671, 0.005291377194225788, 0.0047476948238909245, 0.004840299487113953, 0.0045373826287686825, 0.004584772977977991, 0.00436033122241497, 0.004093545489013195, 0.0041266134940087795, 0.003830814966931939, 0.003763029584661126, 0.0031768130138516426, 0.0029576376546174288, 0.002867341274395585, 0.0026653322856873274, 0.0023352131247520447, 0.0021707769483327866, 0.0019449245883151889, 0.0018231027061119676, 0.0013846028596162796, 0.001234489493072033, 0.0011396714253351092, 0.0010768083157017827, 0.0010885666124522686, 0.0010865993099287152, 0.0009991324041038752, 0.0009321356192231178, 0.0008485979633405805, 0.0007834145799279213, 0.0010146767599508166, 0.0018066208576783538, 0.0027263073716312647, 0.0035261891316622496, 0.00427960604429245, 0.004447741433978081, 0.004203923512250185, 0.003784875152632594, 0.003225169377401471, 0.0027691444847732782, 0.0027542731259018183, 0.003199039725586772, 0.003908064216375351, 0.00460678618401289, 0.005172006785869598, 0.004964788910001516, 0.005567783024162054, 0.005598802585154772, 0.005524447187781334, 0.0056407153606414795, 0.005480418913066387, 0.005229499656707048, 0.004726046696305275, 0.004099092911928892, 0.003484742483124137, 0.0026535075157880783, 0.0025033431593328714, 0.0024588261730968952, 0.002447644481435418, 0.0025213779881596565, 0.002440465148538351, 0.002363487845286727, 0.0020794481970369816, 0.0019840430468320847, 0.0017984031001105905, 0.001605736673809588, 0.0015679252101108432, 0.0016772305825725198, 0.001846061903052032, 0.001976281637325883, 0.0018642653012648225, 0.0019307181937620044, 0.0018405377632007003, 0.0016969029093161225, 0.0014674828853458166, 0.0013305688044056296, 0.0011507008457556367, 0.0010676831007003784, 0.001191744115203619, 0.0013239608379080892, 0.00142612773925066, 0.0016220059478655457, 0.0019006332149729133, 0.002933042822405696, 0.0050107380375266075, 0.007436288520693779, 0.009172421880066395, 0.01083465851843357, 0.011380143463611603, 0.011201051995158195, 0.01081899181008339, 0.00994164403527975, 0.009079529903829098, 0.008167793974280357, 0.007152140606194735, 0.006277528591454029, 0.005545544438064098, 0.004880607593804598, 0.003426308510825038, 0.003523611230775714, 0.003573945490643382, 0.0035039049107581377, 0.0034051532857120037, 0.003047754056751728, 0.0029177539981901646, 0.003038831753656268, 0.003098489250987768, 0.0029704144690185785, 0.002909775823354721, 0.002870152937248349, 0.002691183937713504, 0.0026515331119298935, 0.0024714895989745855, 0.002550106029957533, 0.0028379501309245825, 0.0034871052484959364, 0.004208939615637064, 0.004688976798206568, 0.004867096897214651, 0.0048314961604774, 0.00493345083668828, 0.005054350011050701, 0.005886835511773825, 0.0075337328016757965, 0.009511563926935196, 0.011320770718157291, 0.013389145955443382, 0.014399717561900616, 0.01485675759613514, 0.013872334733605385, 0.012746158055961132, 0.011971104890108109, 0.011315662413835526, 0.010600312612950802, 0.01002262718975544, 0.009135858155786991, 0.008382669650018215, 0.007146911695599556, 0.007511272095143795, 0.007373059168457985, 0.0075723472982645035, 0.007726739160716534, 0.007343784905970097, 0.006765603553503752, 0.006203499622642994, 0.005332594737410545, 0.005079204682260752, 0.0046224952675402164, 0.004507006146013737, 0.0042121815495193005, 0.004095522686839104, 0.004097040742635727, 0.0034120911732316017, 0.003593698376789689, 0.003792251693084836, 0.003991813398897648, 0.004566953983157873, 0.005121407099068165, 0.0058859665878117085, 0.006458524148911238, 0.00713340425863862, 0.007356281857937574, 0.007164361421018839, 0.007344015408307314, 0.007618618197739124, 0.008414266631007195, 0.009178551845252514, 0.00962189119309187, 0.01045614667236805, 0.011638803407549858, 0.01199136022478342, 0.012113949283957481, 0.012726676650345325, 0.012082737870514393, 0.011449186131358147, 0.010988984256982803, 0.010586559772491455, 0.010124832391738892, 0.009080572053790092, 0.008699106052517891, 0.008103566244244576, 0.007455288432538509, 0.006604781374335289, 0.005562932696193457, 0.004804027732461691, 0.0036567782517522573, 0.002968486165627837, 0.0024689368437975645, 0.0029919245280325413, 0.0030135540291666985, 0.0030554919503629208, 0.004346096888184547, 0.005514480173587799, 0.00657614367082715, 0.0074667250737547874, 0.0076196035370230675, 0.0071784392930567265, 0.0065171727910637856, 0.005801795050501823, 0.005097882356494665, 0.00433744490146637, 0.0036838313098996878, 0.003204357111826539, 0.002957790158689022, 0.0031034359708428383, 0.0032136375084519386, 0.004097884986549616, 0.004931779112666845, 0.005837414879351854, 0.006775072775781155, 0.007501928135752678, 0.00795667339116335, 0.008433419279754162, 0.008264724165201187, 0.007656571455299854, 0.006961863487958908, 0.006312493234872818, 0.005620134063065052, 0.004638800863176584, 0.00424307631328702, 0.00408672820776701, 0.0037800634745508432, 0.003836741903796792, 0.0038779296446591616, 0.004306379705667496, 0.004056667443364859, 0.004065609071403742, 0.004053588956594467, 0.0038392662536352873, 0.003496502758935094, 0.0034454159904271364, 0.003347927238792181, 0.0030012940987944603, 0.002602299675345421, 0.0024506752379238605, 0.002428113715723157, 0.002647019922733307, 0.0031947155948728323, 0.004184262361377478, 0.00491454778239131, 0.005462643690407276, 0.005418548360466957, 0.005085145588964224, 0.004483214113861322, 0.0037938423920422792, 0.0031527485698461533, 0.0026267084758728743, 0.002384619554504752, 0.0021495954133570194, 0.0020227411296218634, 0.0019142156234011054, 0.0014155521057546139, 0.0011635518167167902, 0.001034350018016994, 0.000888254027813673, 0.0007894958835095167, 0.0006729546003043652, 0.0007283748127520084, 0.0013179655652493238, 0.0015250652795657516, 0.002030259231105447, 0.0025149357970803976, 0.0031278713140636683, 0.0035224647726863623, 0.0035497548524290323, 0.0035939684603363276, 0.0035926958080381155, 0.003448726376518607, 0.003414375940337777, 0.0030980270821601152, 0.0028430891688913107, 0.002613706048578024, 0.0025884064380079508, 0.00280501926317811, 0.0033698896877467632, 0.004124315455555916, 0.004180384799838066, 0.0042024943977594376, 0.0040855626575648785, 0.003623885801061988, 0.0032949012238532305, 0.002829750068485737, 0.0025119618512690067, 0.002201883587986231, 0.001954589504748583, 0.0020688031800091267, 0.001954182516783476, 0.002216859720647335, 0.002023547189310193, 0.002482642885297537, 0.0038684101309627295, 0.0058266413398087025, 0.008043511770665646, 0.009849831461906433, 0.010800331830978394, 0.010804736986756325, 0.010004539042711258, 0.009074271656572819, 0.007908031344413757, 0.006653853226453066, 0.005742981564253569, 0.004998588934540749, 0.004393870010972023, 0.003907982259988785, 0.0025708929169923067, 0.002029671799391508, 0.002005046233534813, 0.0020134951919317245, 0.001896489760838449, 0.0020065910648554564, 0.0019590118899941444, 0.0017351334681734443, 0.0015882357256487012, 0.0015820128610357642, 0.0013437648303806782, 0.0012912198435515165, 0.0013124217512086034, 0.0016799544682726264, 0.0017553084762766957, 0.002128191292285919, 0.002521742135286331, 0.002982189180329442, 0.003641935298219323, 0.004195973742753267, 0.004854218102991581, 0.0053968727588653564, 0.005788581445813179, 0.005564655642956495, 0.005231751129031181, 0.004704228136688471, 0.004120702389627695, 0.003685419214889407, 0.00351475621573627, 0.0033362635876983404, 0.0034060983452945948, 0.003125390037894249, 0.002801738679409027, 0.002333798911422491, 0.002124206395819783, 0.0017756196903064847, 0.0015831469791010022, 0.001543525024317205, 0.00156729097943753, 0.0016744764288887382, 0.002441496355459094, 0.003187046619132161, 0.0037000493612140417, 0.004455021116882563, 0.005053356755524874, 0.005223482847213745, 0.005057762376964092, 0.004908766131848097, 0.004476931411772966, 0.003984780050814152, 0.003524892730638385, 0.003193076467141509, 0.00291711394675076, 0.0026028547435998917, 0.0018196712480857968, 0.0017578037222847342, 0.002046713838353753, 0.0025226206053048372, 0.0026852807495743036, 0.0036917298566550016, 0.004841884132474661, 0.005689633544534445, 0.006166504230350256, 0.00643493514508009, 0.00620041461661458, 0.005763720255345106, 0.005677762906998396, 0.00592296477407217, 0.006477097515016794, 0.006703713443130255, 0.006723473779857159, 0.006633107550442219, 0.006090780720114708, 0.005176669918000698, 0.0042967721819877625, 0.0037239163648337126, 0.0032494128681719303, 0.0027292249724268913, 0.0023635656107217073, 0.0022201177198439837, 0.0026144227012991905, 0.0028786954935640097, 0.003951677121222019, 0.00484075304120779, 0.005370871629565954, 0.005377497989684343, 0.005138745531439781, 0.004645477514714003, 0.004163908772170544, 0.003963153343647718, 0.00396307185292244, 0.0040977029129862785, 0.004447254352271557, 0.004573371261358261, 0.0044914246536791325, 0.0043457564897835255, 0.0046756877563893795, 0.004476112313568592, 0.004594673402607441, 0.004355394747108221, 0.004077582620084286, 0.003937903791666031, 0.003975619096308947, 0.003674151608720422, 0.003585492493584752, 0.003681242698803544, 0.0036364879924803972, 0.0036682102363556623, 0.00377815798856318, 0.0034165664110332727, 0.003225387539714575, 0.003166549140587449, 0.0030556083656847477, 0.002876243321225047, 0.002735971473157406, 0.002825440838932991, 0.002702501602470875, 0.0026830441784113646, 0.0030782774556428194, 0.003303228411823511, 0.0037152201402932405, 0.003571878420189023, 0.003676206571981311, 0.003910734783858061, 0.006194668356329203, 0.0067990561947226524, 0.008721251972019672, 0.011216592974960804, 0.012664171867072582, 0.014157039113342762, 0.014651420526206493, 0.015033508650958538, 0.015171361155807972, 0.01559743843972683, 0.015488054603338242, 0.014879945665597916, 0.01412321999669075, 0.01366986334323883, 0.012886252254247665, 0.012225589714944363, 0.010912789031863213, 0.009997282177209854, 0.008930547162890434, 0.008306663483381271, 0.0077618444338440895, 0.0076020509004592896, 0.007520387880504131, 0.007612504996359348, 0.0074831340461969376, 0.00746387243270874, 0.006882519461214542, 0.007062798365950584, 0.007200764492154121, 0.007538489066064358, 0.007200541440397501, 0.006701366510242224, 0.006258231587707996, 0.005144882947206497, 0.004717301111668348, 0.004208763130009174, 0.004248481243848801, 0.0046102022752165794, 0.004887535702437162, 0.005484587978571653, 0.004960861522704363, 0.004855065140873194, 0.004644450265914202, 0.004627795424312353, 0.004798998590558767, 0.005388583522289991, 0.0057704332284629345, 0.006141583900898695, 0.006566458381712437, 0.007576790638267994, 0.008298827335238457, 0.009054511785507202, 0.009818203747272491, 0.00976271741092205, 0.009163446724414825, 0.008341330103576183, 0.007713112980127335, 0.007782719098031521, 0.007786923088133335, 0.00793976429849863, 0.007646795362234116, 0.007109747268259525, 0.006813060026615858, 0.005879203788936138, 0.006095041986554861, 0.006075398996472359, 0.006034214049577713, 0.005935148801654577, 0.005726934410631657, 0.005391609389334917, 0.005081512033939362, 0.004201114177703857, 0.003886888502165675, 0.0036534250248223543, 0.003344734199345112, 0.003183172084391117, 0.0031081431079655886, 0.002942542778328061, 0.003393540158867836, 0.0038192167412489653, 0.004366555251181126, 0.004636148456484079, 0.005472027231007814, 0.005962167866528034, 0.006066817324608564, 0.006398600991815329, 0.00617384584620595, 0.005756064783781767, 0.005334316287189722, 0.0046457997523248196, 0.004083537496626377, 0.0036494953092187643, 0.0033430494368076324, 0.0030587115325033665, 0.0029783048667013645, 0.0029124983120709658, 0.002550428966060281, 0.00248089455999434, 0.0022808052599430084, 0.0021147553343325853, 0.001958603737875819, 0.0017520805122330785, 0.0017112711211666465, 0.0018965211929753423, 0.002198146190494299, 0.0021727681159973145, 0.002193368971347809, 0.0020936946384608746, 0.0019608165603131056, 0.0018660385394468904, 0.001713099773041904, 0.001557430368848145, 0.0015375771326944232, 0.0015379894757643342]}],                        {\"template\": {\"data\": {\"bar\": [{\"error_x\": {\"color\": \"#f2f5fa\"}, \"error_y\": {\"color\": \"#f2f5fa\"}, \"marker\": {\"line\": {\"color\": \"rgb(17,17,17)\", \"width\": 0.5}}, \"type\": \"bar\"}], \"barpolar\": [{\"marker\": {\"line\": {\"color\": \"rgb(17,17,17)\", \"width\": 0.5}}, \"type\": \"barpolar\"}], \"carpet\": [{\"aaxis\": {\"endlinecolor\": \"#A2B1C6\", \"gridcolor\": \"#506784\", \"linecolor\": \"#506784\", \"minorgridcolor\": \"#506784\", \"startlinecolor\": \"#A2B1C6\"}, \"baxis\": {\"endlinecolor\": \"#A2B1C6\", \"gridcolor\": \"#506784\", \"linecolor\": \"#506784\", \"minorgridcolor\": \"#506784\", \"startlinecolor\": \"#A2B1C6\"}, \"type\": \"carpet\"}], \"choropleth\": [{\"colorbar\": {\"outlinewidth\": 0, \"ticks\": \"\"}, \"type\": \"choropleth\"}], \"contour\": [{\"colorbar\": {\"outlinewidth\": 0, \"ticks\": \"\"}, \"colorscale\": [[0.0, \"#0d0887\"], [0.1111111111111111, \"#46039f\"], [0.2222222222222222, \"#7201a8\"], [0.3333333333333333, \"#9c179e\"], [0.4444444444444444, \"#bd3786\"], [0.5555555555555556, \"#d8576b\"], [0.6666666666666666, \"#ed7953\"], [0.7777777777777778, \"#fb9f3a\"], [0.8888888888888888, \"#fdca26\"], [1.0, \"#f0f921\"]], \"type\": \"contour\"}], \"contourcarpet\": [{\"colorbar\": {\"outlinewidth\": 0, \"ticks\": \"\"}, \"type\": \"contourcarpet\"}], \"heatmap\": [{\"colorbar\": {\"outlinewidth\": 0, \"ticks\": \"\"}, \"colorscale\": [[0.0, \"#0d0887\"], [0.1111111111111111, \"#46039f\"], [0.2222222222222222, \"#7201a8\"], [0.3333333333333333, \"#9c179e\"], [0.4444444444444444, \"#bd3786\"], [0.5555555555555556, \"#d8576b\"], [0.6666666666666666, \"#ed7953\"], [0.7777777777777778, \"#fb9f3a\"], [0.8888888888888888, \"#fdca26\"], [1.0, \"#f0f921\"]], \"type\": \"heatmap\"}], \"heatmapgl\": [{\"colorbar\": {\"outlinewidth\": 0, \"ticks\": \"\"}, \"colorscale\": [[0.0, \"#0d0887\"], [0.1111111111111111, \"#46039f\"], [0.2222222222222222, \"#7201a8\"], [0.3333333333333333, \"#9c179e\"], [0.4444444444444444, \"#bd3786\"], [0.5555555555555556, \"#d8576b\"], [0.6666666666666666, \"#ed7953\"], [0.7777777777777778, \"#fb9f3a\"], [0.8888888888888888, \"#fdca26\"], [1.0, \"#f0f921\"]], \"type\": \"heatmapgl\"}], \"histogram\": [{\"marker\": {\"colorbar\": {\"outlinewidth\": 0, \"ticks\": \"\"}}, \"type\": \"histogram\"}], \"histogram2d\": [{\"colorbar\": {\"outlinewidth\": 0, \"ticks\": \"\"}, \"colorscale\": [[0.0, \"#0d0887\"], [0.1111111111111111, \"#46039f\"], [0.2222222222222222, \"#7201a8\"], [0.3333333333333333, \"#9c179e\"], [0.4444444444444444, \"#bd3786\"], [0.5555555555555556, \"#d8576b\"], [0.6666666666666666, \"#ed7953\"], [0.7777777777777778, \"#fb9f3a\"], [0.8888888888888888, \"#fdca26\"], [1.0, \"#f0f921\"]], \"type\": \"histogram2d\"}], \"histogram2dcontour\": [{\"colorbar\": {\"outlinewidth\": 0, \"ticks\": \"\"}, \"colorscale\": [[0.0, \"#0d0887\"], [0.1111111111111111, \"#46039f\"], [0.2222222222222222, \"#7201a8\"], [0.3333333333333333, \"#9c179e\"], [0.4444444444444444, \"#bd3786\"], [0.5555555555555556, \"#d8576b\"], [0.6666666666666666, \"#ed7953\"], [0.7777777777777778, \"#fb9f3a\"], [0.8888888888888888, \"#fdca26\"], [1.0, \"#f0f921\"]], \"type\": \"histogram2dcontour\"}], \"mesh3d\": [{\"colorbar\": {\"outlinewidth\": 0, \"ticks\": \"\"}, \"type\": \"mesh3d\"}], \"parcoords\": [{\"line\": {\"colorbar\": {\"outlinewidth\": 0, \"ticks\": \"\"}}, \"type\": \"parcoords\"}], \"pie\": [{\"automargin\": true, \"type\": \"pie\"}], \"scatter\": [{\"marker\": {\"line\": {\"color\": \"#283442\"}}, \"type\": \"scatter\"}], \"scatter3d\": [{\"line\": {\"colorbar\": {\"outlinewidth\": 0, \"ticks\": \"\"}}, \"marker\": {\"colorbar\": {\"outlinewidth\": 0, \"ticks\": \"\"}}, \"type\": \"scatter3d\"}], \"scattercarpet\": [{\"marker\": {\"colorbar\": {\"outlinewidth\": 0, \"ticks\": \"\"}}, \"type\": \"scattercarpet\"}], \"scattergeo\": [{\"marker\": {\"colorbar\": {\"outlinewidth\": 0, \"ticks\": \"\"}}, \"type\": \"scattergeo\"}], \"scattergl\": [{\"marker\": {\"line\": {\"color\": \"#283442\"}}, \"type\": \"scattergl\"}], \"scattermapbox\": [{\"marker\": {\"colorbar\": {\"outlinewidth\": 0, \"ticks\": \"\"}}, \"type\": \"scattermapbox\"}], \"scatterpolar\": [{\"marker\": {\"colorbar\": {\"outlinewidth\": 0, \"ticks\": \"\"}}, \"type\": \"scatterpolar\"}], \"scatterpolargl\": [{\"marker\": {\"colorbar\": {\"outlinewidth\": 0, \"ticks\": \"\"}}, \"type\": \"scatterpolargl\"}], \"scatterternary\": [{\"marker\": {\"colorbar\": {\"outlinewidth\": 0, \"ticks\": \"\"}}, \"type\": \"scatterternary\"}], \"surface\": [{\"colorbar\": {\"outlinewidth\": 0, \"ticks\": \"\"}, \"colorscale\": [[0.0, \"#0d0887\"], [0.1111111111111111, \"#46039f\"], [0.2222222222222222, \"#7201a8\"], [0.3333333333333333, \"#9c179e\"], [0.4444444444444444, \"#bd3786\"], [0.5555555555555556, \"#d8576b\"], [0.6666666666666666, \"#ed7953\"], [0.7777777777777778, \"#fb9f3a\"], [0.8888888888888888, \"#fdca26\"], [1.0, \"#f0f921\"]], \"type\": \"surface\"}], \"table\": [{\"cells\": {\"fill\": {\"color\": \"#506784\"}, \"line\": {\"color\": \"rgb(17,17,17)\"}}, \"header\": {\"fill\": {\"color\": \"#2a3f5f\"}, \"line\": {\"color\": \"rgb(17,17,17)\"}}, \"type\": \"table\"}]}, \"layout\": {\"annotationdefaults\": {\"arrowcolor\": \"#f2f5fa\", \"arrowhead\": 0, \"arrowwidth\": 1}, \"autotypenumbers\": \"strict\", \"coloraxis\": {\"colorbar\": {\"outlinewidth\": 0, \"ticks\": \"\"}}, \"colorscale\": {\"diverging\": [[0, \"#8e0152\"], [0.1, \"#c51b7d\"], [0.2, \"#de77ae\"], [0.3, \"#f1b6da\"], [0.4, \"#fde0ef\"], [0.5, \"#f7f7f7\"], [0.6, \"#e6f5d0\"], [0.7, \"#b8e186\"], [0.8, \"#7fbc41\"], [0.9, \"#4d9221\"], [1, \"#276419\"]], \"sequential\": [[0.0, \"#0d0887\"], [0.1111111111111111, \"#46039f\"], [0.2222222222222222, \"#7201a8\"], [0.3333333333333333, \"#9c179e\"], [0.4444444444444444, \"#bd3786\"], [0.5555555555555556, \"#d8576b\"], [0.6666666666666666, \"#ed7953\"], [0.7777777777777778, \"#fb9f3a\"], [0.8888888888888888, \"#fdca26\"], [1.0, \"#f0f921\"]], \"sequentialminus\": [[0.0, \"#0d0887\"], [0.1111111111111111, \"#46039f\"], [0.2222222222222222, \"#7201a8\"], [0.3333333333333333, \"#9c179e\"], [0.4444444444444444, \"#bd3786\"], [0.5555555555555556, \"#d8576b\"], [0.6666666666666666, \"#ed7953\"], [0.7777777777777778, \"#fb9f3a\"], [0.8888888888888888, \"#fdca26\"], [1.0, \"#f0f921\"]]}, \"colorway\": [\"#636efa\", \"#EF553B\", \"#00cc96\", \"#ab63fa\", \"#FFA15A\", \"#19d3f3\", \"#FF6692\", \"#B6E880\", \"#FF97FF\", \"#FECB52\"], \"font\": {\"color\": \"#f2f5fa\"}, \"geo\": {\"bgcolor\": \"rgb(17,17,17)\", \"lakecolor\": \"rgb(17,17,17)\", \"landcolor\": \"rgb(17,17,17)\", \"showlakes\": true, \"showland\": true, \"subunitcolor\": \"#506784\"}, \"hoverlabel\": {\"align\": \"left\"}, \"hovermode\": \"closest\", \"mapbox\": {\"style\": \"dark\"}, \"paper_bgcolor\": \"rgb(17,17,17)\", \"plot_bgcolor\": \"rgb(17,17,17)\", \"polar\": {\"angularaxis\": {\"gridcolor\": \"#506784\", \"linecolor\": \"#506784\", \"ticks\": \"\"}, \"bgcolor\": \"rgb(17,17,17)\", \"radialaxis\": {\"gridcolor\": \"#506784\", \"linecolor\": \"#506784\", \"ticks\": \"\"}}, \"scene\": {\"xaxis\": {\"backgroundcolor\": \"rgb(17,17,17)\", \"gridcolor\": \"#506784\", \"gridwidth\": 2, \"linecolor\": \"#506784\", \"showbackground\": true, \"ticks\": \"\", \"zerolinecolor\": \"#C8D4E3\"}, \"yaxis\": {\"backgroundcolor\": \"rgb(17,17,17)\", \"gridcolor\": \"#506784\", \"gridwidth\": 2, \"linecolor\": \"#506784\", \"showbackground\": true, \"ticks\": \"\", \"zerolinecolor\": \"#C8D4E3\"}, \"zaxis\": {\"backgroundcolor\": \"rgb(17,17,17)\", \"gridcolor\": \"#506784\", \"gridwidth\": 2, \"linecolor\": \"#506784\", \"showbackground\": true, \"ticks\": \"\", \"zerolinecolor\": \"#C8D4E3\"}}, \"shapedefaults\": {\"line\": {\"color\": \"#f2f5fa\"}}, \"sliderdefaults\": {\"bgcolor\": \"#C8D4E3\", \"bordercolor\": \"rgb(17,17,17)\", \"borderwidth\": 1, \"tickwidth\": 0}, \"ternary\": {\"aaxis\": {\"gridcolor\": \"#506784\", \"linecolor\": \"#506784\", \"ticks\": \"\"}, \"baxis\": {\"gridcolor\": \"#506784\", \"linecolor\": \"#506784\", \"ticks\": \"\"}, \"bgcolor\": \"rgb(17,17,17)\", \"caxis\": {\"gridcolor\": \"#506784\", \"linecolor\": \"#506784\", \"ticks\": \"\"}}, \"title\": {\"x\": 0.05}, \"updatemenudefaults\": {\"bgcolor\": \"#506784\", \"borderwidth\": 0}, \"xaxis\": {\"automargin\": true, \"gridcolor\": \"#283442\", \"linecolor\": \"#506784\", \"ticks\": \"\", \"title\": {\"standoff\": 15}, \"zerolinecolor\": \"#283442\", \"zerolinewidth\": 2}, \"yaxis\": {\"automargin\": true, \"gridcolor\": \"#283442\", \"linecolor\": \"#506784\", \"ticks\": \"\", \"title\": {\"standoff\": 15}, \"zerolinecolor\": \"#283442\", \"zerolinewidth\": 2}}}, \"xaxis\": {\"title\": {\"text\": \"Time\"}}, \"yaxis\": {\"title\": {\"text\": \"Price\"}}},                        {\"responsive\": true}                    ).then(function(){\n",
       "                            \n",
       "var gd = document.getElementById('b25e54a8-1583-4950-8380-372ae48b5195');\n",
       "var x = new MutationObserver(function (mutations, observer) {{\n",
       "        var display = window.getComputedStyle(gd).display;\n",
       "        if (!display || display === 'none') {{\n",
       "            console.log([gd, 'removed!']);\n",
       "            Plotly.purge(gd);\n",
       "            observer.disconnect();\n",
       "        }}\n",
       "}});\n",
       "\n",
       "// Listen for the removal of the full notebook cells\n",
       "var notebookContainer = gd.closest('#notebook-container');\n",
       "if (notebookContainer) {{\n",
       "    x.observe(notebookContainer, {childList: true});\n",
       "}}\n",
       "\n",
       "// Listen for the clearing of the current output cell\n",
       "var outputEl = gd.closest('.output');\n",
       "if (outputEl) {{\n",
       "    x.observe(outputEl, {childList: true});\n",
       "}}\n",
       "\n",
       "                        })                };                });            </script>        </div>"
      ]
     },
     "metadata": {},
     "output_type": "display_data"
    },
    {
     "name": "stdout",
     "output_type": "stream",
     "text": [
      "The MAE is 0.588413124279651\n"
     ]
    }
   ],
   "source": [
    "train_res_df = display_results(model, scaler, training_data, training_dates, config['window_len'], config['output_size'],\n",
    "                               multivar=False)"
   ]
  },
  {
   "cell_type": "code",
   "execution_count": 26,
   "metadata": {},
   "outputs": [
    {
     "data": {
      "application/vnd.plotly.v1+json": {
       "config": {
        "plotlyServerURL": "https://plot.ly"
       },
       "data": [
        {
         "mode": "lines",
         "name": "Actual",
         "type": "scatter",
         "x": [
          "2020-07-20T00:00:00+00:00",
          "2020-07-21T00:00:00+00:00",
          "2020-07-22T00:00:00+00:00",
          "2020-07-23T00:00:00+00:00",
          "2020-07-24T00:00:00+00:00",
          "2020-07-25T00:00:00+00:00",
          "2020-07-26T00:00:00+00:00",
          "2020-07-27T00:00:00+00:00",
          "2020-07-28T00:00:00+00:00",
          "2020-07-29T00:00:00+00:00",
          "2020-07-30T00:00:00+00:00",
          "2020-07-31T00:00:00+00:00",
          "2020-08-01T00:00:00+00:00",
          "2020-08-02T00:00:00+00:00",
          "2020-08-03T00:00:00+00:00",
          "2020-08-04T00:00:00+00:00",
          "2020-08-05T00:00:00+00:00",
          "2020-08-06T00:00:00+00:00",
          "2020-08-07T00:00:00+00:00",
          "2020-08-08T00:00:00+00:00",
          "2020-08-09T00:00:00+00:00",
          "2020-08-10T00:00:00+00:00",
          "2020-08-11T00:00:00+00:00",
          "2020-08-12T00:00:00+00:00",
          "2020-08-13T00:00:00+00:00",
          "2020-08-14T00:00:00+00:00",
          "2020-08-15T00:00:00+00:00",
          "2020-08-16T00:00:00+00:00",
          "2020-08-17T00:00:00+00:00",
          "2020-08-18T00:00:00+00:00",
          "2020-08-19T00:00:00+00:00",
          "2020-08-20T00:00:00+00:00",
          "2020-08-21T00:00:00+00:00",
          "2020-08-22T00:00:00+00:00",
          "2020-08-23T00:00:00+00:00",
          "2020-08-24T00:00:00+00:00",
          "2020-08-25T00:00:00+00:00",
          "2020-08-26T00:00:00+00:00",
          "2020-08-27T00:00:00+00:00",
          "2020-08-28T00:00:00+00:00",
          "2020-08-29T00:00:00+00:00",
          "2020-08-30T00:00:00+00:00",
          "2020-08-31T00:00:00+00:00",
          "2020-09-01T00:00:00+00:00",
          "2020-09-02T00:00:00+00:00",
          "2020-09-03T00:00:00+00:00",
          "2020-09-04T00:00:00+00:00",
          "2020-09-05T00:00:00+00:00",
          "2020-09-06T00:00:00+00:00",
          "2020-09-07T00:00:00+00:00",
          "2020-09-08T00:00:00+00:00",
          "2020-09-09T00:00:00+00:00",
          "2020-09-10T00:00:00+00:00",
          "2020-09-11T00:00:00+00:00",
          "2020-09-12T00:00:00+00:00",
          "2020-09-13T00:00:00+00:00",
          "2020-09-14T00:00:00+00:00",
          "2020-09-15T00:00:00+00:00",
          "2020-09-16T00:00:00+00:00",
          "2020-09-17T00:00:00+00:00",
          "2020-09-18T00:00:00+00:00",
          "2020-09-19T00:00:00+00:00",
          "2020-09-20T00:00:00+00:00",
          "2020-09-21T00:00:00+00:00",
          "2020-09-22T00:00:00+00:00",
          "2020-09-23T00:00:00+00:00",
          "2020-09-24T00:00:00+00:00",
          "2020-09-25T00:00:00+00:00",
          "2020-09-26T00:00:00+00:00",
          "2020-09-27T00:00:00+00:00",
          "2020-09-28T00:00:00+00:00",
          "2020-09-29T00:00:00+00:00",
          "2020-09-30T00:00:00+00:00",
          "2020-10-01T00:00:00+00:00",
          "2020-10-02T00:00:00+00:00",
          "2020-10-03T00:00:00+00:00",
          "2020-10-04T00:00:00+00:00",
          "2020-10-05T00:00:00+00:00",
          "2020-10-06T00:00:00+00:00",
          "2020-10-07T00:00:00+00:00",
          "2020-10-08T00:00:00+00:00",
          "2020-10-09T00:00:00+00:00",
          "2020-10-10T00:00:00+00:00",
          "2020-10-11T00:00:00+00:00",
          "2020-10-12T00:00:00+00:00",
          "2020-10-13T00:00:00+00:00",
          "2020-10-14T00:00:00+00:00",
          "2020-10-15T00:00:00+00:00",
          "2020-10-16T00:00:00+00:00",
          "2020-10-17T00:00:00+00:00",
          "2020-10-18T00:00:00+00:00",
          "2020-10-19T00:00:00+00:00",
          "2020-10-20T00:00:00+00:00",
          "2020-10-21T00:00:00+00:00",
          "2020-10-22T00:00:00+00:00",
          "2020-10-23T00:00:00+00:00",
          "2020-10-24T00:00:00+00:00",
          "2020-10-25T00:00:00+00:00",
          "2020-10-26T00:00:00+00:00",
          "2020-10-27T00:00:00+00:00",
          "2020-10-28T00:00:00+00:00",
          "2020-10-29T00:00:00+00:00",
          "2020-10-30T00:00:00+00:00",
          "2020-10-31T00:00:00+00:00",
          "2020-11-01T00:00:00+00:00",
          "2020-11-02T00:00:00+00:00",
          "2020-11-03T00:00:00+00:00",
          "2020-11-04T00:00:00+00:00",
          "2020-11-05T00:00:00+00:00",
          "2020-11-06T00:00:00+00:00",
          "2020-11-07T00:00:00+00:00",
          "2020-11-08T00:00:00+00:00",
          "2020-11-09T00:00:00+00:00",
          "2020-11-10T00:00:00+00:00",
          "2020-11-11T00:00:00+00:00",
          "2020-11-12T00:00:00+00:00",
          "2020-11-13T00:00:00+00:00",
          "2020-11-14T00:00:00+00:00",
          "2020-11-15T00:00:00+00:00",
          "2020-11-16T00:00:00+00:00",
          "2020-11-17T00:00:00+00:00",
          "2020-11-18T00:00:00+00:00",
          "2020-11-19T00:00:00+00:00",
          "2020-11-20T00:00:00+00:00",
          "2020-11-21T00:00:00+00:00",
          "2020-11-22T00:00:00+00:00",
          "2020-11-23T00:00:00+00:00",
          "2020-11-24T00:00:00+00:00",
          "2020-11-25T00:00:00+00:00",
          "2020-11-26T00:00:00+00:00",
          "2020-11-27T00:00:00+00:00",
          "2020-11-28T00:00:00+00:00",
          "2020-11-29T00:00:00+00:00",
          "2020-11-30T00:00:00+00:00",
          "2020-12-01T00:00:00+00:00",
          "2020-12-02T00:00:00+00:00",
          "2020-12-03T00:00:00+00:00",
          "2020-12-04T00:00:00+00:00",
          "2020-12-05T00:00:00+00:00",
          "2020-12-06T00:00:00+00:00",
          "2020-12-07T00:00:00+00:00",
          "2020-12-08T00:00:00+00:00",
          "2020-12-09T00:00:00+00:00",
          "2020-12-10T00:00:00+00:00",
          "2020-12-11T00:00:00+00:00",
          "2020-12-12T00:00:00+00:00",
          "2020-12-13T00:00:00+00:00",
          "2020-12-14T00:00:00+00:00",
          "2020-12-15T00:00:00+00:00",
          "2020-12-16T00:00:00+00:00",
          "2020-12-17T00:00:00+00:00",
          "2020-12-18T00:00:00+00:00",
          "2020-12-19T00:00:00+00:00",
          "2020-12-20T00:00:00+00:00",
          "2020-12-21T00:00:00+00:00",
          "2020-12-22T00:00:00+00:00",
          "2020-12-23T00:00:00+00:00",
          "2020-12-24T00:00:00+00:00",
          "2020-12-25T00:00:00+00:00",
          "2020-12-26T00:00:00+00:00",
          "2020-12-27T00:00:00+00:00",
          "2020-12-28T00:00:00+00:00",
          "2020-12-29T00:00:00+00:00",
          "2020-12-30T00:00:00+00:00",
          "2020-12-31T00:00:00+00:00",
          "2021-01-01T00:00:00+00:00",
          "2021-01-02T00:00:00+00:00",
          "2021-01-03T00:00:00+00:00",
          "2021-01-04T00:00:00+00:00",
          "2021-01-05T00:00:00+00:00",
          "2021-01-06T00:00:00+00:00",
          "2021-01-07T00:00:00+00:00",
          "2021-01-08T00:00:00+00:00",
          "2021-01-09T00:00:00+00:00",
          "2021-01-10T00:00:00+00:00",
          "2021-01-11T00:00:00+00:00",
          "2021-01-12T00:00:00+00:00",
          "2021-01-13T00:00:00+00:00",
          "2021-01-14T00:00:00+00:00",
          "2021-01-15T00:00:00+00:00",
          "2021-01-16T00:00:00+00:00",
          "2021-01-17T00:00:00+00:00",
          "2021-01-18T00:00:00+00:00",
          "2021-01-19T00:00:00+00:00",
          "2021-01-20T00:00:00+00:00",
          "2021-01-21T00:00:00+00:00",
          "2021-01-22T00:00:00+00:00",
          "2021-01-23T00:00:00+00:00",
          "2021-01-24T00:00:00+00:00",
          "2021-01-25T00:00:00+00:00",
          "2021-01-26T00:00:00+00:00",
          "2021-01-27T00:00:00+00:00",
          "2021-01-28T00:00:00+00:00",
          "2021-01-29T00:00:00+00:00",
          "2021-01-30T00:00:00+00:00",
          "2021-01-31T00:00:00+00:00",
          "2021-02-01T00:00:00+00:00",
          "2021-02-02T00:00:00+00:00",
          "2021-02-03T00:00:00+00:00",
          "2021-02-04T00:00:00+00:00",
          "2021-02-05T00:00:00+00:00",
          "2021-02-06T00:00:00+00:00",
          "2021-02-07T00:00:00+00:00",
          "2021-02-08T00:00:00+00:00",
          "2021-02-09T00:00:00+00:00",
          "2021-02-10T00:00:00+00:00",
          "2021-02-11T00:00:00+00:00",
          "2021-02-12T00:00:00+00:00",
          "2021-02-13T00:00:00+00:00",
          "2021-02-14T00:00:00+00:00",
          "2021-02-15T00:00:00+00:00",
          "2021-02-16T00:00:00+00:00",
          "2021-02-17T00:00:00+00:00",
          "2021-02-18T00:00:00+00:00",
          "2021-02-19T00:00:00+00:00"
         ],
         "y": [
          -0.005427290365968673,
          0.0246747604148716,
          0.014988429498874467,
          0.008383337644213285,
          -0.0067596511638310375,
          0.017118826253645025,
          0.02311211636781607,
          0.10477891438546294,
          -0.009727708478282082,
          0.016050914135529837,
          0.005124997251954255,
          0.015963030822554458,
          0.03990735770380027,
          -0.06619381080979103,
          0.01640229476564592,
          -0.0038275596817207713,
          0.04943816160079706,
          0.00128522875519721,
          -0.0140285808409093,
          0.014174582971781648,
          -0.007604268941232561,
          0.01816326417717029,
          -0.04445466395256226,
          0.01621277924914999,
          0.01925106756880801,
          -0.0017642672690545425,
          0.007392466994001978,
          0.004698801243062434,
          0.0324483387679777,
          -0.02935311036461208,
          -0.01638423891228591,
          0.00047417167432328727,
          -0.02021019741966157,
          0.012515864000842924,
          -0.0020370960652851267,
          0.008992881720930157,
          -0.03765652176259415,
          0.013241672222999767,
          -0.0004487733965756746,
          0.006548633234981338,
          -0.00618088557196117,
          0.0204279251935926,
          -0.004454925809108445,
          0.02260285941633633,
          -0.045316090039019485,
          -0.11379962713670366,
          0.027945686601450245,
          -0.02846085659927766,
          0.009050473402183457,
          0.011888629251826545,
          -0.024420498845532986,
          0.00987466437844553,
          0.00027942157961113884,
          0.016081029997138785,
          0.0044130914150901646,
          -0.010395686028402906,
          0.03265954375981117,
          0.009677786340953176,
          0.01575406354513298,
          -0.0007768139245900585,
          -0.0011969811922387663,
          0.01357220639530965,
          -0.015045270634741925,
          -0.046944648693141744,
          0.011629041999892564,
          -0.02923103298304497,
          -0.0001357663843535306,
          0.04343188515750107,
          0.0037276430351056438,
          0.004193642419181742,
          -0.007320076941654818,
          0.013682864893421964,
          -0.005704190776997464,
          -0.014518782409721707,
          -0.004942287280337965,
          -0.0018388333939718393,
          0.011191529913569198,
          0.011177900910064764,
          -0.01740487357808007,
          0.005776310134944396,
          0.023915239016677248,
          0.01173972442644633,
          0.022188941187510025,
          0.006289983248558784,
          0.013793189691748252,
          -0.00916408158327009,
          -0.00020473927749620202,
          0.0068143215633007514,
          -0.01593259580145734,
          0.004074072038978471,
          0.012147023738410924,
          0.021688536284178994,
          0.013611465632056508,
          0.0725956442974276,
          0.013062529230914777,
          -0.0035855144911582926,
          0.014342489045054306,
          -0.006466505589498795,
          0.002035462771029728,
          0.04401844105488095,
          -0.02675894804155732,
          0.013060128926994706,
          0.00791786630349911,
          0.016660790798994185,
          -0.0023743844555266236,
          -0.013874894458474783,
          0.03370715365767829,
          0.008002687813613463,
          0.09756830009904682,
          -0.000514304958302958,
          -0.050169460805891575,
          0.04214596359917344,
          -0.008844549308275163,
          -0.0019695958262140323,
          0.02532422198643758,
          -5.4104132646060066e-05,
          0.03992917200206847,
          -0.016105141155593472,
          -0.007140949345155078,
          0.0459126346956058,
          0.05595638401500481,
          0.0064285273491826445,
          0.0015189475594254984,
          0.04697627990903185,
          0.002041156351337392,
          -0.014810446571559053,
          -0.0024079168402604267,
          0.04085872391341283,
          -0.023180099148319755,
          -0.0868869554356575,
          -0.0008580663858932525,
          0.033606058094385105,
          0.025339503280061845,
          0.07995040079265081,
          -0.04867386903802107,
          0.02582184084670658,
          0.009332312267298803,
          -0.04090571192615933,
          0.026109755375577137,
          0.011129824520290654,
          -0.010239557550917766,
          -0.046088417063799625,
          0.01279330288447511,
          -0.0006485743587614223,
          -0.028183327300956403,
          0.04278841078589757,
          0.018480165618191435,
          0.005856209919702593,
          0.00883594140128885,
          0.09462299942666695,
          0.06559881929782385,
          0.014024106362901634,
          0.030263477377124204,
          -0.015858400834497743,
          -0.032262258123354925,
          0.04756022902595092,
          -0.026034077990617632,
          0.021336689349716664,
          0.04028184210094743,
          0.06800317079943774,
          -0.0070645344351127895,
          0.0291626690393727,
          0.011937356057815762,
          0.0543840885933875,
          0.0028055442983685452,
          0.014457571350773081,
          0.09133542884219281,
          0.027870544995154845,
          -0.033305975369954055,
          0.06207595153950508,
          0.07937183225168631,
          0.06789835315005277,
          0.028343611695575532,
          -0.009226501019853117,
          -0.05316935026471193,
          -0.07306960125660211,
          -0.04232783850909527,
          0.09536501770729265,
          0.04512693926122502,
          -0.06207311946992889,
          -0.021233247817750822,
          -0.005114582416725355,
          0.022131472880419167,
          -0.020249048536648218,
          -0.01132215148537341,
          -0.14025897825655598,
          0.0681953670219908,
          -0.02800608838379581,
          0.005489008778210902,
          -0.00019138127792039938,
          0.007643422416249379,
          -0.0661392298357164,
          0.0935007149434135,
          0.024182237331352493,
          0.002736696033160513,
          -0.035478510664352925,
          0.012025584527032507,
          0.05698715380220776,
          0.059878753130096385,
          -0.019129109596049076,
          0.03483428771331809,
          0.025156492568482847,
          -0.01069701063916284,
          0.17783383478187353,
          0.001557321829331215,
          -0.03621815972867637,
          0.0679650706763173,
          -0.011020540047660177,
          -0.004616695445044172,
          0.028916889094819705,
          -0.01494683645928241,
          0.024948674675105312,
          0.0597339462133455,
          -0.010822197787238252,
          0.04013831807193924
         ]
        },
        {
         "mode": "lines",
         "name": "Predicted",
         "type": "scatter",
         "x": [
          "2020-07-20T00:00:00+00:00",
          "2020-07-21T00:00:00+00:00",
          "2020-07-22T00:00:00+00:00",
          "2020-07-23T00:00:00+00:00",
          "2020-07-24T00:00:00+00:00",
          "2020-07-25T00:00:00+00:00",
          "2020-07-26T00:00:00+00:00",
          "2020-07-27T00:00:00+00:00",
          "2020-07-28T00:00:00+00:00",
          "2020-07-29T00:00:00+00:00",
          "2020-07-30T00:00:00+00:00",
          "2020-07-31T00:00:00+00:00",
          "2020-08-01T00:00:00+00:00",
          "2020-08-02T00:00:00+00:00",
          "2020-08-03T00:00:00+00:00",
          "2020-08-04T00:00:00+00:00",
          "2020-08-05T00:00:00+00:00",
          "2020-08-06T00:00:00+00:00",
          "2020-08-07T00:00:00+00:00",
          "2020-08-08T00:00:00+00:00",
          "2020-08-09T00:00:00+00:00",
          "2020-08-10T00:00:00+00:00",
          "2020-08-11T00:00:00+00:00",
          "2020-08-12T00:00:00+00:00",
          "2020-08-13T00:00:00+00:00",
          "2020-08-14T00:00:00+00:00",
          "2020-08-15T00:00:00+00:00",
          "2020-08-16T00:00:00+00:00",
          "2020-08-17T00:00:00+00:00",
          "2020-08-18T00:00:00+00:00",
          "2020-08-19T00:00:00+00:00",
          "2020-08-20T00:00:00+00:00",
          "2020-08-21T00:00:00+00:00",
          "2020-08-22T00:00:00+00:00",
          "2020-08-23T00:00:00+00:00",
          "2020-08-24T00:00:00+00:00",
          "2020-08-25T00:00:00+00:00",
          "2020-08-26T00:00:00+00:00",
          "2020-08-27T00:00:00+00:00",
          "2020-08-28T00:00:00+00:00",
          "2020-08-29T00:00:00+00:00",
          "2020-08-30T00:00:00+00:00",
          "2020-08-31T00:00:00+00:00",
          "2020-09-01T00:00:00+00:00",
          "2020-09-02T00:00:00+00:00",
          "2020-09-03T00:00:00+00:00",
          "2020-09-04T00:00:00+00:00",
          "2020-09-05T00:00:00+00:00",
          "2020-09-06T00:00:00+00:00",
          "2020-09-07T00:00:00+00:00",
          "2020-09-08T00:00:00+00:00",
          "2020-09-09T00:00:00+00:00",
          "2020-09-10T00:00:00+00:00",
          "2020-09-11T00:00:00+00:00",
          "2020-09-12T00:00:00+00:00",
          "2020-09-13T00:00:00+00:00",
          "2020-09-14T00:00:00+00:00",
          "2020-09-15T00:00:00+00:00",
          "2020-09-16T00:00:00+00:00",
          "2020-09-17T00:00:00+00:00",
          "2020-09-18T00:00:00+00:00",
          "2020-09-19T00:00:00+00:00",
          "2020-09-20T00:00:00+00:00",
          "2020-09-21T00:00:00+00:00",
          "2020-09-22T00:00:00+00:00",
          "2020-09-23T00:00:00+00:00",
          "2020-09-24T00:00:00+00:00",
          "2020-09-25T00:00:00+00:00",
          "2020-09-26T00:00:00+00:00",
          "2020-09-27T00:00:00+00:00",
          "2020-09-28T00:00:00+00:00",
          "2020-09-29T00:00:00+00:00",
          "2020-09-30T00:00:00+00:00",
          "2020-10-01T00:00:00+00:00",
          "2020-10-02T00:00:00+00:00",
          "2020-10-03T00:00:00+00:00",
          "2020-10-04T00:00:00+00:00",
          "2020-10-05T00:00:00+00:00",
          "2020-10-06T00:00:00+00:00",
          "2020-10-07T00:00:00+00:00",
          "2020-10-08T00:00:00+00:00",
          "2020-10-09T00:00:00+00:00",
          "2020-10-10T00:00:00+00:00",
          "2020-10-11T00:00:00+00:00",
          "2020-10-12T00:00:00+00:00",
          "2020-10-13T00:00:00+00:00",
          "2020-10-14T00:00:00+00:00",
          "2020-10-15T00:00:00+00:00",
          "2020-10-16T00:00:00+00:00",
          "2020-10-17T00:00:00+00:00",
          "2020-10-18T00:00:00+00:00",
          "2020-10-19T00:00:00+00:00",
          "2020-10-20T00:00:00+00:00",
          "2020-10-21T00:00:00+00:00",
          "2020-10-22T00:00:00+00:00",
          "2020-10-23T00:00:00+00:00",
          "2020-10-24T00:00:00+00:00",
          "2020-10-25T00:00:00+00:00",
          "2020-10-26T00:00:00+00:00",
          "2020-10-27T00:00:00+00:00",
          "2020-10-28T00:00:00+00:00",
          "2020-10-29T00:00:00+00:00",
          "2020-10-30T00:00:00+00:00",
          "2020-10-31T00:00:00+00:00",
          "2020-11-01T00:00:00+00:00",
          "2020-11-02T00:00:00+00:00",
          "2020-11-03T00:00:00+00:00",
          "2020-11-04T00:00:00+00:00",
          "2020-11-05T00:00:00+00:00",
          "2020-11-06T00:00:00+00:00",
          "2020-11-07T00:00:00+00:00",
          "2020-11-08T00:00:00+00:00",
          "2020-11-09T00:00:00+00:00",
          "2020-11-10T00:00:00+00:00",
          "2020-11-11T00:00:00+00:00",
          "2020-11-12T00:00:00+00:00",
          "2020-11-13T00:00:00+00:00",
          "2020-11-14T00:00:00+00:00",
          "2020-11-15T00:00:00+00:00",
          "2020-11-16T00:00:00+00:00",
          "2020-11-17T00:00:00+00:00",
          "2020-11-18T00:00:00+00:00",
          "2020-11-19T00:00:00+00:00",
          "2020-11-20T00:00:00+00:00",
          "2020-11-21T00:00:00+00:00",
          "2020-11-22T00:00:00+00:00",
          "2020-11-23T00:00:00+00:00",
          "2020-11-24T00:00:00+00:00",
          "2020-11-25T00:00:00+00:00",
          "2020-11-26T00:00:00+00:00",
          "2020-11-27T00:00:00+00:00",
          "2020-11-28T00:00:00+00:00",
          "2020-11-29T00:00:00+00:00",
          "2020-11-30T00:00:00+00:00",
          "2020-12-01T00:00:00+00:00",
          "2020-12-02T00:00:00+00:00",
          "2020-12-03T00:00:00+00:00",
          "2020-12-04T00:00:00+00:00",
          "2020-12-05T00:00:00+00:00",
          "2020-12-06T00:00:00+00:00",
          "2020-12-07T00:00:00+00:00",
          "2020-12-08T00:00:00+00:00",
          "2020-12-09T00:00:00+00:00",
          "2020-12-10T00:00:00+00:00",
          "2020-12-11T00:00:00+00:00",
          "2020-12-12T00:00:00+00:00",
          "2020-12-13T00:00:00+00:00",
          "2020-12-14T00:00:00+00:00",
          "2020-12-15T00:00:00+00:00",
          "2020-12-16T00:00:00+00:00",
          "2020-12-17T00:00:00+00:00",
          "2020-12-18T00:00:00+00:00",
          "2020-12-19T00:00:00+00:00",
          "2020-12-20T00:00:00+00:00",
          "2020-12-21T00:00:00+00:00",
          "2020-12-22T00:00:00+00:00",
          "2020-12-23T00:00:00+00:00",
          "2020-12-24T00:00:00+00:00",
          "2020-12-25T00:00:00+00:00",
          "2020-12-26T00:00:00+00:00",
          "2020-12-27T00:00:00+00:00",
          "2020-12-28T00:00:00+00:00",
          "2020-12-29T00:00:00+00:00",
          "2020-12-30T00:00:00+00:00",
          "2020-12-31T00:00:00+00:00",
          "2021-01-01T00:00:00+00:00",
          "2021-01-02T00:00:00+00:00",
          "2021-01-03T00:00:00+00:00",
          "2021-01-04T00:00:00+00:00",
          "2021-01-05T00:00:00+00:00",
          "2021-01-06T00:00:00+00:00",
          "2021-01-07T00:00:00+00:00",
          "2021-01-08T00:00:00+00:00",
          "2021-01-09T00:00:00+00:00",
          "2021-01-10T00:00:00+00:00",
          "2021-01-11T00:00:00+00:00",
          "2021-01-12T00:00:00+00:00",
          "2021-01-13T00:00:00+00:00",
          "2021-01-14T00:00:00+00:00",
          "2021-01-15T00:00:00+00:00",
          "2021-01-16T00:00:00+00:00",
          "2021-01-17T00:00:00+00:00",
          "2021-01-18T00:00:00+00:00",
          "2021-01-19T00:00:00+00:00",
          "2021-01-20T00:00:00+00:00",
          "2021-01-21T00:00:00+00:00",
          "2021-01-22T00:00:00+00:00",
          "2021-01-23T00:00:00+00:00",
          "2021-01-24T00:00:00+00:00",
          "2021-01-25T00:00:00+00:00",
          "2021-01-26T00:00:00+00:00",
          "2021-01-27T00:00:00+00:00",
          "2021-01-28T00:00:00+00:00",
          "2021-01-29T00:00:00+00:00",
          "2021-01-30T00:00:00+00:00",
          "2021-01-31T00:00:00+00:00",
          "2021-02-01T00:00:00+00:00",
          "2021-02-02T00:00:00+00:00",
          "2021-02-03T00:00:00+00:00",
          "2021-02-04T00:00:00+00:00",
          "2021-02-05T00:00:00+00:00",
          "2021-02-06T00:00:00+00:00",
          "2021-02-07T00:00:00+00:00",
          "2021-02-08T00:00:00+00:00",
          "2021-02-09T00:00:00+00:00",
          "2021-02-10T00:00:00+00:00",
          "2021-02-11T00:00:00+00:00",
          "2021-02-12T00:00:00+00:00",
          "2021-02-13T00:00:00+00:00",
          "2021-02-14T00:00:00+00:00",
          "2021-02-15T00:00:00+00:00",
          "2021-02-16T00:00:00+00:00",
          "2021-02-17T00:00:00+00:00",
          "2021-02-18T00:00:00+00:00",
          "2021-02-19T00:00:00+00:00"
         ],
         "y": [
          0.0008623446337878704,
          0.0007478646002709866,
          0.0006081822793930769,
          0.0008346203248947859,
          0.0011553395306691527,
          0.0015913074603304267,
          0.0019403231563046575,
          0.00228447699919343,
          0.0031079682521522045,
          0.004430972971022129,
          0.005932628642767668,
          0.007064508739858866,
          0.008060513064265251,
          0.008362239226698875,
          0.008587130345404148,
          0.00821574218571186,
          0.007647769525647163,
          0.007224876433610916,
          0.006828414276242256,
          0.006700905505567789,
          0.006316616665571928,
          0.005968684330582619,
          0.0054348125122487545,
          0.004436831921339035,
          0.004136023577302694,
          0.0037141453940421343,
          0.003606172977015376,
          0.003355874912813306,
          0.0030965758487582207,
          0.003203934757038951,
          0.0033048412296921015,
          0.0033311983570456505,
          0.002824154682457447,
          0.0027415542863309383,
          0.0025425786152482033,
          0.002301662229001522,
          0.0021732051391154528,
          0.002048583934083581,
          0.0019797799177467823,
          0.0018396516097709537,
          0.0017899639206007123,
          0.0017969653708860278,
          0.0018056967528536916,
          0.0018535006092861295,
          0.0018827676540240645,
          0.002171185100451112,
          0.002801604801788926,
          0.0028647996950894594,
          0.003351852297782898,
          0.003710873192176223,
          0.003983565140515566,
          0.0042410301975905895,
          0.004109054338186979,
          0.0037969204131513834,
          0.003559564473107457,
          0.0032412069849669933,
          0.0030563934706151485,
          0.0027519359719008207,
          0.0027669561095535755,
          0.002867995062842965,
          0.0031083570793271065,
          0.0033018074464052916,
          0.0032488442957401276,
          0.0032682938035577536,
          0.0032158643007278442,
          0.002891811542212963,
          0.002818399341776967,
          0.0026297802105545998,
          0.0025185542181134224,
          0.002664017491042614,
          0.002875177888199687,
          0.0031260098330676556,
          0.0031702264677733183,
          0.0031782244332134724,
          0.0029709518421441317,
          0.0026639385614544153,
          0.002327716676518321,
          0.0019576747436076403,
          0.001743937493301928,
          0.0016621070681139827,
          0.001481509068980813,
          0.0015097117284312844,
          0.0016757658449932933,
          0.001690270728431642,
          0.0021569281816482544,
          0.0026926640421152115,
          0.003102923510596156,
          0.003275548806414008,
          0.003207133151590824,
          0.0030774434562772512,
          0.002777770394459367,
          0.002436126582324505,
          0.0022495428565889597,
          0.002201310358941555,
          0.0027065863832831383,
          0.003600889118388295,
          0.004662356339395046,
          0.0054497490637004375,
          0.006070423871278763,
          0.006195691879838705,
          0.0059883170761168,
          0.005961705930531025,
          0.005728560965508223,
          0.005339077208191156,
          0.005222740583121777,
          0.0049151168204844,
          0.004562680143862963,
          0.004108986351639032,
          0.0038995917420834303,
          0.0038372657727450132,
          0.004752315580844879,
          0.006036523729562759,
          0.006434442475438118,
          0.0070898644626140594,
          0.0072159492410719395,
          0.00670537818223238,
          0.006590447388589382,
          0.006294912658631802,
          0.006117469631135464,
          0.005921490490436554,
          0.005608741659671068,
          0.00576945673674345,
          0.00597629277035594,
          0.006427348591387272,
          0.006355748046189547,
          0.006962655112147331,
          0.007296565920114517,
          0.006843835115432739,
          0.006585865281522274,
          0.0063264514319598675,
          0.006057118996977806,
          0.005526504013687372,
          0.00494160084053874,
          0.004915039986371994,
          0.005122392904013395,
          0.005787580739706755,
          0.006285085342824459,
          0.006763048004359007,
          0.00735248951241374,
          0.006917515769600868,
          0.006582309491932392,
          0.006208598148077726,
          0.0056943995878100395,
          0.00491194287315011,
          0.004402680788189173,
          0.003956607077270746,
          0.003487522015348077,
          0.0032131231855601072,
          0.0032917202915996313,
          0.0031102856155484915,
          0.0038362995255738497,
          0.005022871308028698,
          0.006679057143628597,
          0.008299221284687519,
          0.009610782377421856,
          0.010343334637582302,
          0.010120592080056667,
          0.009707328863441944,
          0.00899688433855772,
          0.00822464469820261,
          0.008163555525243282,
          0.008085128851234913,
          0.008372046053409576,
          0.008655037730932236,
          0.00899809692054987,
          0.008679856546223164,
          0.008612914942204952,
          0.00882907584309578,
          0.009406172670423985,
          0.010138597339391708,
          0.01031529251486063,
          0.010483182966709137,
          0.011285904794931412,
          0.012050827033817768,
          0.012841366231441498,
          0.013131589628756046,
          0.013094914145767689,
          0.01211317628622055,
          0.010893021710216999,
          0.009798909537494183,
          0.00945482961833477,
          0.008876395411789417,
          0.007989346981048584,
          0.0074727777391672134,
          0.006929583847522736,
          0.005883381236344576,
          0.005377363879233599,
          0.004805327858775854,
          0.004958387464284897,
          0.0053870524279773235,
          0.005591195076704025,
          0.006025802344083786,
          0.00612557353451848,
          0.005612494423985481,
          0.0056981914676725864,
          0.006323826964944601,
          0.006759400945156813,
          0.007089927792549133,
          0.007015427574515343,
          0.007192246615886688,
          0.007491736672818661,
          0.007811888121068478,
          0.007844961248338223,
          0.008341177366673946,
          0.008879607543349266,
          0.010225938633084297,
          0.011858634650707245,
          0.012604535557329655,
          0.013174283318221569,
          0.013307404704391956,
          0.012615971267223358,
          0.012034176848828793,
          0.010952743701636791,
          0.00979254487901926,
          0.00910577829927206
         ]
        }
       ],
       "layout": {
        "autosize": true,
        "template": {
         "data": {
          "bar": [
           {
            "error_x": {
             "color": "#f2f5fa"
            },
            "error_y": {
             "color": "#f2f5fa"
            },
            "marker": {
             "line": {
              "color": "rgb(17,17,17)",
              "width": 0.5
             }
            },
            "type": "bar"
           }
          ],
          "barpolar": [
           {
            "marker": {
             "line": {
              "color": "rgb(17,17,17)",
              "width": 0.5
             }
            },
            "type": "barpolar"
           }
          ],
          "carpet": [
           {
            "aaxis": {
             "endlinecolor": "#A2B1C6",
             "gridcolor": "#506784",
             "linecolor": "#506784",
             "minorgridcolor": "#506784",
             "startlinecolor": "#A2B1C6"
            },
            "baxis": {
             "endlinecolor": "#A2B1C6",
             "gridcolor": "#506784",
             "linecolor": "#506784",
             "minorgridcolor": "#506784",
             "startlinecolor": "#A2B1C6"
            },
            "type": "carpet"
           }
          ],
          "choropleth": [
           {
            "colorbar": {
             "outlinewidth": 0,
             "ticks": ""
            },
            "type": "choropleth"
           }
          ],
          "contour": [
           {
            "colorbar": {
             "outlinewidth": 0,
             "ticks": ""
            },
            "colorscale": [
             [
              0,
              "#0d0887"
             ],
             [
              0.1111111111111111,
              "#46039f"
             ],
             [
              0.2222222222222222,
              "#7201a8"
             ],
             [
              0.3333333333333333,
              "#9c179e"
             ],
             [
              0.4444444444444444,
              "#bd3786"
             ],
             [
              0.5555555555555556,
              "#d8576b"
             ],
             [
              0.6666666666666666,
              "#ed7953"
             ],
             [
              0.7777777777777778,
              "#fb9f3a"
             ],
             [
              0.8888888888888888,
              "#fdca26"
             ],
             [
              1,
              "#f0f921"
             ]
            ],
            "type": "contour"
           }
          ],
          "contourcarpet": [
           {
            "colorbar": {
             "outlinewidth": 0,
             "ticks": ""
            },
            "type": "contourcarpet"
           }
          ],
          "heatmap": [
           {
            "colorbar": {
             "outlinewidth": 0,
             "ticks": ""
            },
            "colorscale": [
             [
              0,
              "#0d0887"
             ],
             [
              0.1111111111111111,
              "#46039f"
             ],
             [
              0.2222222222222222,
              "#7201a8"
             ],
             [
              0.3333333333333333,
              "#9c179e"
             ],
             [
              0.4444444444444444,
              "#bd3786"
             ],
             [
              0.5555555555555556,
              "#d8576b"
             ],
             [
              0.6666666666666666,
              "#ed7953"
             ],
             [
              0.7777777777777778,
              "#fb9f3a"
             ],
             [
              0.8888888888888888,
              "#fdca26"
             ],
             [
              1,
              "#f0f921"
             ]
            ],
            "type": "heatmap"
           }
          ],
          "heatmapgl": [
           {
            "colorbar": {
             "outlinewidth": 0,
             "ticks": ""
            },
            "colorscale": [
             [
              0,
              "#0d0887"
             ],
             [
              0.1111111111111111,
              "#46039f"
             ],
             [
              0.2222222222222222,
              "#7201a8"
             ],
             [
              0.3333333333333333,
              "#9c179e"
             ],
             [
              0.4444444444444444,
              "#bd3786"
             ],
             [
              0.5555555555555556,
              "#d8576b"
             ],
             [
              0.6666666666666666,
              "#ed7953"
             ],
             [
              0.7777777777777778,
              "#fb9f3a"
             ],
             [
              0.8888888888888888,
              "#fdca26"
             ],
             [
              1,
              "#f0f921"
             ]
            ],
            "type": "heatmapgl"
           }
          ],
          "histogram": [
           {
            "marker": {
             "colorbar": {
              "outlinewidth": 0,
              "ticks": ""
             }
            },
            "type": "histogram"
           }
          ],
          "histogram2d": [
           {
            "colorbar": {
             "outlinewidth": 0,
             "ticks": ""
            },
            "colorscale": [
             [
              0,
              "#0d0887"
             ],
             [
              0.1111111111111111,
              "#46039f"
             ],
             [
              0.2222222222222222,
              "#7201a8"
             ],
             [
              0.3333333333333333,
              "#9c179e"
             ],
             [
              0.4444444444444444,
              "#bd3786"
             ],
             [
              0.5555555555555556,
              "#d8576b"
             ],
             [
              0.6666666666666666,
              "#ed7953"
             ],
             [
              0.7777777777777778,
              "#fb9f3a"
             ],
             [
              0.8888888888888888,
              "#fdca26"
             ],
             [
              1,
              "#f0f921"
             ]
            ],
            "type": "histogram2d"
           }
          ],
          "histogram2dcontour": [
           {
            "colorbar": {
             "outlinewidth": 0,
             "ticks": ""
            },
            "colorscale": [
             [
              0,
              "#0d0887"
             ],
             [
              0.1111111111111111,
              "#46039f"
             ],
             [
              0.2222222222222222,
              "#7201a8"
             ],
             [
              0.3333333333333333,
              "#9c179e"
             ],
             [
              0.4444444444444444,
              "#bd3786"
             ],
             [
              0.5555555555555556,
              "#d8576b"
             ],
             [
              0.6666666666666666,
              "#ed7953"
             ],
             [
              0.7777777777777778,
              "#fb9f3a"
             ],
             [
              0.8888888888888888,
              "#fdca26"
             ],
             [
              1,
              "#f0f921"
             ]
            ],
            "type": "histogram2dcontour"
           }
          ],
          "mesh3d": [
           {
            "colorbar": {
             "outlinewidth": 0,
             "ticks": ""
            },
            "type": "mesh3d"
           }
          ],
          "parcoords": [
           {
            "line": {
             "colorbar": {
              "outlinewidth": 0,
              "ticks": ""
             }
            },
            "type": "parcoords"
           }
          ],
          "pie": [
           {
            "automargin": true,
            "type": "pie"
           }
          ],
          "scatter": [
           {
            "marker": {
             "line": {
              "color": "#283442"
             }
            },
            "type": "scatter"
           }
          ],
          "scatter3d": [
           {
            "line": {
             "colorbar": {
              "outlinewidth": 0,
              "ticks": ""
             }
            },
            "marker": {
             "colorbar": {
              "outlinewidth": 0,
              "ticks": ""
             }
            },
            "type": "scatter3d"
           }
          ],
          "scattercarpet": [
           {
            "marker": {
             "colorbar": {
              "outlinewidth": 0,
              "ticks": ""
             }
            },
            "type": "scattercarpet"
           }
          ],
          "scattergeo": [
           {
            "marker": {
             "colorbar": {
              "outlinewidth": 0,
              "ticks": ""
             }
            },
            "type": "scattergeo"
           }
          ],
          "scattergl": [
           {
            "marker": {
             "line": {
              "color": "#283442"
             }
            },
            "type": "scattergl"
           }
          ],
          "scattermapbox": [
           {
            "marker": {
             "colorbar": {
              "outlinewidth": 0,
              "ticks": ""
             }
            },
            "type": "scattermapbox"
           }
          ],
          "scatterpolar": [
           {
            "marker": {
             "colorbar": {
              "outlinewidth": 0,
              "ticks": ""
             }
            },
            "type": "scatterpolar"
           }
          ],
          "scatterpolargl": [
           {
            "marker": {
             "colorbar": {
              "outlinewidth": 0,
              "ticks": ""
             }
            },
            "type": "scatterpolargl"
           }
          ],
          "scatterternary": [
           {
            "marker": {
             "colorbar": {
              "outlinewidth": 0,
              "ticks": ""
             }
            },
            "type": "scatterternary"
           }
          ],
          "surface": [
           {
            "colorbar": {
             "outlinewidth": 0,
             "ticks": ""
            },
            "colorscale": [
             [
              0,
              "#0d0887"
             ],
             [
              0.1111111111111111,
              "#46039f"
             ],
             [
              0.2222222222222222,
              "#7201a8"
             ],
             [
              0.3333333333333333,
              "#9c179e"
             ],
             [
              0.4444444444444444,
              "#bd3786"
             ],
             [
              0.5555555555555556,
              "#d8576b"
             ],
             [
              0.6666666666666666,
              "#ed7953"
             ],
             [
              0.7777777777777778,
              "#fb9f3a"
             ],
             [
              0.8888888888888888,
              "#fdca26"
             ],
             [
              1,
              "#f0f921"
             ]
            ],
            "type": "surface"
           }
          ],
          "table": [
           {
            "cells": {
             "fill": {
              "color": "#506784"
             },
             "line": {
              "color": "rgb(17,17,17)"
             }
            },
            "header": {
             "fill": {
              "color": "#2a3f5f"
             },
             "line": {
              "color": "rgb(17,17,17)"
             }
            },
            "type": "table"
           }
          ]
         },
         "layout": {
          "annotationdefaults": {
           "arrowcolor": "#f2f5fa",
           "arrowhead": 0,
           "arrowwidth": 1
          },
          "autotypenumbers": "strict",
          "coloraxis": {
           "colorbar": {
            "outlinewidth": 0,
            "ticks": ""
           }
          },
          "colorscale": {
           "diverging": [
            [
             0,
             "#8e0152"
            ],
            [
             0.1,
             "#c51b7d"
            ],
            [
             0.2,
             "#de77ae"
            ],
            [
             0.3,
             "#f1b6da"
            ],
            [
             0.4,
             "#fde0ef"
            ],
            [
             0.5,
             "#f7f7f7"
            ],
            [
             0.6,
             "#e6f5d0"
            ],
            [
             0.7,
             "#b8e186"
            ],
            [
             0.8,
             "#7fbc41"
            ],
            [
             0.9,
             "#4d9221"
            ],
            [
             1,
             "#276419"
            ]
           ],
           "sequential": [
            [
             0,
             "#0d0887"
            ],
            [
             0.1111111111111111,
             "#46039f"
            ],
            [
             0.2222222222222222,
             "#7201a8"
            ],
            [
             0.3333333333333333,
             "#9c179e"
            ],
            [
             0.4444444444444444,
             "#bd3786"
            ],
            [
             0.5555555555555556,
             "#d8576b"
            ],
            [
             0.6666666666666666,
             "#ed7953"
            ],
            [
             0.7777777777777778,
             "#fb9f3a"
            ],
            [
             0.8888888888888888,
             "#fdca26"
            ],
            [
             1,
             "#f0f921"
            ]
           ],
           "sequentialminus": [
            [
             0,
             "#0d0887"
            ],
            [
             0.1111111111111111,
             "#46039f"
            ],
            [
             0.2222222222222222,
             "#7201a8"
            ],
            [
             0.3333333333333333,
             "#9c179e"
            ],
            [
             0.4444444444444444,
             "#bd3786"
            ],
            [
             0.5555555555555556,
             "#d8576b"
            ],
            [
             0.6666666666666666,
             "#ed7953"
            ],
            [
             0.7777777777777778,
             "#fb9f3a"
            ],
            [
             0.8888888888888888,
             "#fdca26"
            ],
            [
             1,
             "#f0f921"
            ]
           ]
          },
          "colorway": [
           "#636efa",
           "#EF553B",
           "#00cc96",
           "#ab63fa",
           "#FFA15A",
           "#19d3f3",
           "#FF6692",
           "#B6E880",
           "#FF97FF",
           "#FECB52"
          ],
          "font": {
           "color": "#f2f5fa"
          },
          "geo": {
           "bgcolor": "rgb(17,17,17)",
           "lakecolor": "rgb(17,17,17)",
           "landcolor": "rgb(17,17,17)",
           "showlakes": true,
           "showland": true,
           "subunitcolor": "#506784"
          },
          "hoverlabel": {
           "align": "left"
          },
          "hovermode": "closest",
          "mapbox": {
           "style": "dark"
          },
          "paper_bgcolor": "rgb(17,17,17)",
          "plot_bgcolor": "rgb(17,17,17)",
          "polar": {
           "angularaxis": {
            "gridcolor": "#506784",
            "linecolor": "#506784",
            "ticks": ""
           },
           "bgcolor": "rgb(17,17,17)",
           "radialaxis": {
            "gridcolor": "#506784",
            "linecolor": "#506784",
            "ticks": ""
           }
          },
          "scene": {
           "xaxis": {
            "backgroundcolor": "rgb(17,17,17)",
            "gridcolor": "#506784",
            "gridwidth": 2,
            "linecolor": "#506784",
            "showbackground": true,
            "ticks": "",
            "zerolinecolor": "#C8D4E3"
           },
           "yaxis": {
            "backgroundcolor": "rgb(17,17,17)",
            "gridcolor": "#506784",
            "gridwidth": 2,
            "linecolor": "#506784",
            "showbackground": true,
            "ticks": "",
            "zerolinecolor": "#C8D4E3"
           },
           "zaxis": {
            "backgroundcolor": "rgb(17,17,17)",
            "gridcolor": "#506784",
            "gridwidth": 2,
            "linecolor": "#506784",
            "showbackground": true,
            "ticks": "",
            "zerolinecolor": "#C8D4E3"
           }
          },
          "shapedefaults": {
           "line": {
            "color": "#f2f5fa"
           }
          },
          "sliderdefaults": {
           "bgcolor": "#C8D4E3",
           "bordercolor": "rgb(17,17,17)",
           "borderwidth": 1,
           "tickwidth": 0
          },
          "ternary": {
           "aaxis": {
            "gridcolor": "#506784",
            "linecolor": "#506784",
            "ticks": ""
           },
           "baxis": {
            "gridcolor": "#506784",
            "linecolor": "#506784",
            "ticks": ""
           },
           "bgcolor": "rgb(17,17,17)",
           "caxis": {
            "gridcolor": "#506784",
            "linecolor": "#506784",
            "ticks": ""
           }
          },
          "title": {
           "x": 0.05
          },
          "updatemenudefaults": {
           "bgcolor": "#506784",
           "borderwidth": 0
          },
          "xaxis": {
           "automargin": true,
           "gridcolor": "#283442",
           "linecolor": "#506784",
           "ticks": "",
           "title": {
            "standoff": 15
           },
           "zerolinecolor": "#283442",
           "zerolinewidth": 2
          },
          "yaxis": {
           "automargin": true,
           "gridcolor": "#283442",
           "linecolor": "#506784",
           "ticks": "",
           "title": {
            "standoff": 15
           },
           "zerolinecolor": "#283442",
           "zerolinewidth": 2
          }
         }
        },
        "xaxis": {
         "autorange": true,
         "range": [
          "2020-07-20",
          "2021-02-19"
         ],
         "title": {
          "text": "Time"
         },
         "type": "date"
        },
        "yaxis": {
         "autorange": true,
         "range": [
          -0.1579308012031354,
          0.19550565772845296
         ],
         "title": {
          "text": "Price"
         },
         "type": "linear"
        }
       }
      },
      "image/png": "[encoded data removed]",
      "text/html": [
       "<div>                            <div id=\"498cdc73-1fff-4281-a5de-6dcf8c4ff4fb\" class=\"plotly-graph-div\" style=\"height:525px; width:100%;\"></div>            <script type=\"text/javascript\">                require([\"plotly\"], function(Plotly) {                    window.PLOTLYENV=window.PLOTLYENV || {};                                    if (document.getElementById(\"498cdc73-1fff-4281-a5de-6dcf8c4ff4fb\")) {                    Plotly.newPlot(                        \"498cdc73-1fff-4281-a5de-6dcf8c4ff4fb\",                        [{\"mode\": \"lines\", \"name\": \"Actual\", \"type\": \"scatter\", \"x\": [\"2020-07-20T00:00:00+00:00\", \"2020-07-21T00:00:00+00:00\", \"2020-07-22T00:00:00+00:00\", \"2020-07-23T00:00:00+00:00\", \"2020-07-24T00:00:00+00:00\", \"2020-07-25T00:00:00+00:00\", \"2020-07-26T00:00:00+00:00\", \"2020-07-27T00:00:00+00:00\", \"2020-07-28T00:00:00+00:00\", \"2020-07-29T00:00:00+00:00\", \"2020-07-30T00:00:00+00:00\", \"2020-07-31T00:00:00+00:00\", \"2020-08-01T00:00:00+00:00\", \"2020-08-02T00:00:00+00:00\", \"2020-08-03T00:00:00+00:00\", \"2020-08-04T00:00:00+00:00\", \"2020-08-05T00:00:00+00:00\", \"2020-08-06T00:00:00+00:00\", \"2020-08-07T00:00:00+00:00\", \"2020-08-08T00:00:00+00:00\", \"2020-08-09T00:00:00+00:00\", \"2020-08-10T00:00:00+00:00\", \"2020-08-11T00:00:00+00:00\", \"2020-08-12T00:00:00+00:00\", \"2020-08-13T00:00:00+00:00\", \"2020-08-14T00:00:00+00:00\", \"2020-08-15T00:00:00+00:00\", \"2020-08-16T00:00:00+00:00\", \"2020-08-17T00:00:00+00:00\", \"2020-08-18T00:00:00+00:00\", \"2020-08-19T00:00:00+00:00\", \"2020-08-20T00:00:00+00:00\", \"2020-08-21T00:00:00+00:00\", \"2020-08-22T00:00:00+00:00\", \"2020-08-23T00:00:00+00:00\", \"2020-08-24T00:00:00+00:00\", \"2020-08-25T00:00:00+00:00\", \"2020-08-26T00:00:00+00:00\", \"2020-08-27T00:00:00+00:00\", \"2020-08-28T00:00:00+00:00\", \"2020-08-29T00:00:00+00:00\", \"2020-08-30T00:00:00+00:00\", \"2020-08-31T00:00:00+00:00\", \"2020-09-01T00:00:00+00:00\", \"2020-09-02T00:00:00+00:00\", \"2020-09-03T00:00:00+00:00\", \"2020-09-04T00:00:00+00:00\", \"2020-09-05T00:00:00+00:00\", \"2020-09-06T00:00:00+00:00\", \"2020-09-07T00:00:00+00:00\", \"2020-09-08T00:00:00+00:00\", \"2020-09-09T00:00:00+00:00\", \"2020-09-10T00:00:00+00:00\", \"2020-09-11T00:00:00+00:00\", \"2020-09-12T00:00:00+00:00\", \"2020-09-13T00:00:00+00:00\", \"2020-09-14T00:00:00+00:00\", \"2020-09-15T00:00:00+00:00\", \"2020-09-16T00:00:00+00:00\", \"2020-09-17T00:00:00+00:00\", \"2020-09-18T00:00:00+00:00\", \"2020-09-19T00:00:00+00:00\", \"2020-09-20T00:00:00+00:00\", \"2020-09-21T00:00:00+00:00\", \"2020-09-22T00:00:00+00:00\", \"2020-09-23T00:00:00+00:00\", \"2020-09-24T00:00:00+00:00\", \"2020-09-25T00:00:00+00:00\", \"2020-09-26T00:00:00+00:00\", \"2020-09-27T00:00:00+00:00\", \"2020-09-28T00:00:00+00:00\", \"2020-09-29T00:00:00+00:00\", \"2020-09-30T00:00:00+00:00\", \"2020-10-01T00:00:00+00:00\", \"2020-10-02T00:00:00+00:00\", \"2020-10-03T00:00:00+00:00\", \"2020-10-04T00:00:00+00:00\", \"2020-10-05T00:00:00+00:00\", \"2020-10-06T00:00:00+00:00\", \"2020-10-07T00:00:00+00:00\", \"2020-10-08T00:00:00+00:00\", \"2020-10-09T00:00:00+00:00\", \"2020-10-10T00:00:00+00:00\", \"2020-10-11T00:00:00+00:00\", \"2020-10-12T00:00:00+00:00\", \"2020-10-13T00:00:00+00:00\", \"2020-10-14T00:00:00+00:00\", \"2020-10-15T00:00:00+00:00\", \"2020-10-16T00:00:00+00:00\", \"2020-10-17T00:00:00+00:00\", \"2020-10-18T00:00:00+00:00\", \"2020-10-19T00:00:00+00:00\", \"2020-10-20T00:00:00+00:00\", \"2020-10-21T00:00:00+00:00\", \"2020-10-22T00:00:00+00:00\", \"2020-10-23T00:00:00+00:00\", \"2020-10-24T00:00:00+00:00\", \"2020-10-25T00:00:00+00:00\", \"2020-10-26T00:00:00+00:00\", \"2020-10-27T00:00:00+00:00\", \"2020-10-28T00:00:00+00:00\", \"2020-10-29T00:00:00+00:00\", \"2020-10-30T00:00:00+00:00\", \"2020-10-31T00:00:00+00:00\", \"2020-11-01T00:00:00+00:00\", \"2020-11-02T00:00:00+00:00\", \"2020-11-03T00:00:00+00:00\", \"2020-11-04T00:00:00+00:00\", \"2020-11-05T00:00:00+00:00\", \"2020-11-06T00:00:00+00:00\", \"2020-11-07T00:00:00+00:00\", \"2020-11-08T00:00:00+00:00\", \"2020-11-09T00:00:00+00:00\", \"2020-11-10T00:00:00+00:00\", \"2020-11-11T00:00:00+00:00\", \"2020-11-12T00:00:00+00:00\", \"2020-11-13T00:00:00+00:00\", \"2020-11-14T00:00:00+00:00\", \"2020-11-15T00:00:00+00:00\", \"2020-11-16T00:00:00+00:00\", \"2020-11-17T00:00:00+00:00\", \"2020-11-18T00:00:00+00:00\", \"2020-11-19T00:00:00+00:00\", \"2020-11-20T00:00:00+00:00\", \"2020-11-21T00:00:00+00:00\", \"2020-11-22T00:00:00+00:00\", \"2020-11-23T00:00:00+00:00\", \"2020-11-24T00:00:00+00:00\", \"2020-11-25T00:00:00+00:00\", \"2020-11-26T00:00:00+00:00\", \"2020-11-27T00:00:00+00:00\", \"2020-11-28T00:00:00+00:00\", \"2020-11-29T00:00:00+00:00\", \"2020-11-30T00:00:00+00:00\", \"2020-12-01T00:00:00+00:00\", \"2020-12-02T00:00:00+00:00\", \"2020-12-03T00:00:00+00:00\", \"2020-12-04T00:00:00+00:00\", \"2020-12-05T00:00:00+00:00\", \"2020-12-06T00:00:00+00:00\", \"2020-12-07T00:00:00+00:00\", \"2020-12-08T00:00:00+00:00\", \"2020-12-09T00:00:00+00:00\", \"2020-12-10T00:00:00+00:00\", \"2020-12-11T00:00:00+00:00\", \"2020-12-12T00:00:00+00:00\", \"2020-12-13T00:00:00+00:00\", \"2020-12-14T00:00:00+00:00\", \"2020-12-15T00:00:00+00:00\", \"2020-12-16T00:00:00+00:00\", \"2020-12-17T00:00:00+00:00\", \"2020-12-18T00:00:00+00:00\", \"2020-12-19T00:00:00+00:00\", \"2020-12-20T00:00:00+00:00\", \"2020-12-21T00:00:00+00:00\", \"2020-12-22T00:00:00+00:00\", \"2020-12-23T00:00:00+00:00\", \"2020-12-24T00:00:00+00:00\", \"2020-12-25T00:00:00+00:00\", \"2020-12-26T00:00:00+00:00\", \"2020-12-27T00:00:00+00:00\", \"2020-12-28T00:00:00+00:00\", \"2020-12-29T00:00:00+00:00\", \"2020-12-30T00:00:00+00:00\", \"2020-12-31T00:00:00+00:00\", \"2021-01-01T00:00:00+00:00\", \"2021-01-02T00:00:00+00:00\", \"2021-01-03T00:00:00+00:00\", \"2021-01-04T00:00:00+00:00\", \"2021-01-05T00:00:00+00:00\", \"2021-01-06T00:00:00+00:00\", \"2021-01-07T00:00:00+00:00\", \"2021-01-08T00:00:00+00:00\", \"2021-01-09T00:00:00+00:00\", \"2021-01-10T00:00:00+00:00\", \"2021-01-11T00:00:00+00:00\", \"2021-01-12T00:00:00+00:00\", \"2021-01-13T00:00:00+00:00\", \"2021-01-14T00:00:00+00:00\", \"2021-01-15T00:00:00+00:00\", \"2021-01-16T00:00:00+00:00\", \"2021-01-17T00:00:00+00:00\", \"2021-01-18T00:00:00+00:00\", \"2021-01-19T00:00:00+00:00\", \"2021-01-20T00:00:00+00:00\", \"2021-01-21T00:00:00+00:00\", \"2021-01-22T00:00:00+00:00\", \"2021-01-23T00:00:00+00:00\", \"2021-01-24T00:00:00+00:00\", \"2021-01-25T00:00:00+00:00\", \"2021-01-26T00:00:00+00:00\", \"2021-01-27T00:00:00+00:00\", \"2021-01-28T00:00:00+00:00\", \"2021-01-29T00:00:00+00:00\", \"2021-01-30T00:00:00+00:00\", \"2021-01-31T00:00:00+00:00\", \"2021-02-01T00:00:00+00:00\", \"2021-02-02T00:00:00+00:00\", \"2021-02-03T00:00:00+00:00\", \"2021-02-04T00:00:00+00:00\", \"2021-02-05T00:00:00+00:00\", \"2021-02-06T00:00:00+00:00\", \"2021-02-07T00:00:00+00:00\", \"2021-02-08T00:00:00+00:00\", \"2021-02-09T00:00:00+00:00\", \"2021-02-10T00:00:00+00:00\", \"2021-02-11T00:00:00+00:00\", \"2021-02-12T00:00:00+00:00\", \"2021-02-13T00:00:00+00:00\", \"2021-02-14T00:00:00+00:00\", \"2021-02-15T00:00:00+00:00\", \"2021-02-16T00:00:00+00:00\", \"2021-02-17T00:00:00+00:00\", \"2021-02-18T00:00:00+00:00\", \"2021-02-19T00:00:00+00:00\"], \"y\": [-0.005427290365968673, 0.0246747604148716, 0.014988429498874467, 0.008383337644213285, -0.0067596511638310375, 0.017118826253645025, 0.02311211636781607, 0.10477891438546294, -0.009727708478282082, 0.016050914135529837, 0.005124997251954255, 0.015963030822554458, 0.03990735770380027, -0.06619381080979103, 0.01640229476564592, -0.0038275596817207713, 0.04943816160079706, 0.00128522875519721, -0.0140285808409093, 0.014174582971781648, -0.007604268941232561, 0.01816326417717029, -0.04445466395256226, 0.01621277924914999, 0.01925106756880801, -0.0017642672690545425, 0.007392466994001978, 0.004698801243062434, 0.0324483387679777, -0.02935311036461208, -0.01638423891228591, 0.00047417167432328727, -0.02021019741966157, 0.012515864000842924, -0.0020370960652851267, 0.008992881720930157, -0.03765652176259415, 0.013241672222999767, -0.0004487733965756746, 0.006548633234981338, -0.00618088557196117, 0.0204279251935926, -0.004454925809108445, 0.02260285941633633, -0.045316090039019485, -0.11379962713670366, 0.027945686601450245, -0.02846085659927766, 0.009050473402183457, 0.011888629251826545, -0.024420498845532986, 0.00987466437844553, 0.00027942157961113884, 0.016081029997138785, 0.0044130914150901646, -0.010395686028402906, 0.03265954375981117, 0.009677786340953176, 0.01575406354513298, -0.0007768139245900585, -0.0011969811922387663, 0.01357220639530965, -0.015045270634741925, -0.046944648693141744, 0.011629041999892564, -0.02923103298304497, -0.0001357663843535306, 0.04343188515750107, 0.0037276430351056438, 0.004193642419181742, -0.007320076941654818, 0.013682864893421964, -0.005704190776997464, -0.014518782409721707, -0.004942287280337965, -0.0018388333939718393, 0.011191529913569198, 0.011177900910064764, -0.01740487357808007, 0.005776310134944396, 0.023915239016677248, 0.01173972442644633, 0.022188941187510025, 0.006289983248558784, 0.013793189691748252, -0.00916408158327009, -0.00020473927749620202, 0.0068143215633007514, -0.01593259580145734, 0.004074072038978471, 0.012147023738410924, 0.021688536284178994, 0.013611465632056508, 0.0725956442974276, 0.013062529230914777, -0.0035855144911582926, 0.014342489045054306, -0.006466505589498795, 0.002035462771029728, 0.04401844105488095, -0.02675894804155732, 0.013060128926994706, 0.00791786630349911, 0.016660790798994185, -0.0023743844555266236, -0.013874894458474783, 0.03370715365767829, 0.008002687813613463, 0.09756830009904682, -0.000514304958302958, -0.050169460805891575, 0.04214596359917344, -0.008844549308275163, -0.0019695958262140323, 0.02532422198643758, -5.4104132646060066e-05, 0.03992917200206847, -0.016105141155593472, -0.007140949345155078, 0.0459126346956058, 0.05595638401500481, 0.0064285273491826445, 0.0015189475594254984, 0.04697627990903185, 0.002041156351337392, -0.014810446571559053, -0.0024079168402604267, 0.04085872391341283, -0.023180099148319755, -0.0868869554356575, -0.0008580663858932525, 0.033606058094385105, 0.025339503280061845, 0.07995040079265081, -0.04867386903802107, 0.02582184084670658, 0.009332312267298803, -0.04090571192615933, 0.026109755375577137, 0.011129824520290654, -0.010239557550917766, -0.046088417063799625, 0.01279330288447511, -0.0006485743587614223, -0.028183327300956403, 0.04278841078589757, 0.018480165618191435, 0.005856209919702593, 0.00883594140128885, 0.09462299942666695, 0.06559881929782385, 0.014024106362901634, 0.030263477377124204, -0.015858400834497743, -0.032262258123354925, 0.04756022902595092, -0.026034077990617632, 0.021336689349716664, 0.04028184210094743, 0.06800317079943774, -0.0070645344351127895, 0.0291626690393727, 0.011937356057815762, 0.0543840885933875, 0.0028055442983685452, 0.014457571350773081, 0.09133542884219281, 0.027870544995154845, -0.033305975369954055, 0.06207595153950508, 0.07937183225168631, 0.06789835315005277, 0.028343611695575532, -0.009226501019853117, -0.05316935026471193, -0.07306960125660211, -0.04232783850909527, 0.09536501770729265, 0.04512693926122502, -0.06207311946992889, -0.021233247817750822, -0.005114582416725355, 0.022131472880419167, -0.020249048536648218, -0.01132215148537341, -0.14025897825655598, 0.0681953670219908, -0.02800608838379581, 0.005489008778210902, -0.00019138127792039938, 0.007643422416249379, -0.0661392298357164, 0.0935007149434135, 0.024182237331352493, 0.002736696033160513, -0.035478510664352925, 0.012025584527032507, 0.05698715380220776, 0.059878753130096385, -0.019129109596049076, 0.03483428771331809, 0.025156492568482847, -0.01069701063916284, 0.17783383478187353, 0.001557321829331215, -0.03621815972867637, 0.0679650706763173, -0.011020540047660177, -0.004616695445044172, 0.028916889094819705, -0.01494683645928241, 0.024948674675105312, 0.0597339462133455, -0.010822197787238252, 0.04013831807193924]}, {\"mode\": \"lines\", \"name\": \"Predicted\", \"type\": \"scatter\", \"x\": [\"2020-07-20T00:00:00+00:00\", \"2020-07-21T00:00:00+00:00\", \"2020-07-22T00:00:00+00:00\", \"2020-07-23T00:00:00+00:00\", \"2020-07-24T00:00:00+00:00\", \"2020-07-25T00:00:00+00:00\", \"2020-07-26T00:00:00+00:00\", \"2020-07-27T00:00:00+00:00\", \"2020-07-28T00:00:00+00:00\", \"2020-07-29T00:00:00+00:00\", \"2020-07-30T00:00:00+00:00\", \"2020-07-31T00:00:00+00:00\", \"2020-08-01T00:00:00+00:00\", \"2020-08-02T00:00:00+00:00\", \"2020-08-03T00:00:00+00:00\", \"2020-08-04T00:00:00+00:00\", \"2020-08-05T00:00:00+00:00\", \"2020-08-06T00:00:00+00:00\", \"2020-08-07T00:00:00+00:00\", \"2020-08-08T00:00:00+00:00\", \"2020-08-09T00:00:00+00:00\", \"2020-08-10T00:00:00+00:00\", \"2020-08-11T00:00:00+00:00\", \"2020-08-12T00:00:00+00:00\", \"2020-08-13T00:00:00+00:00\", \"2020-08-14T00:00:00+00:00\", \"2020-08-15T00:00:00+00:00\", \"2020-08-16T00:00:00+00:00\", \"2020-08-17T00:00:00+00:00\", \"2020-08-18T00:00:00+00:00\", \"2020-08-19T00:00:00+00:00\", \"2020-08-20T00:00:00+00:00\", \"2020-08-21T00:00:00+00:00\", \"2020-08-22T00:00:00+00:00\", \"2020-08-23T00:00:00+00:00\", \"2020-08-24T00:00:00+00:00\", \"2020-08-25T00:00:00+00:00\", \"2020-08-26T00:00:00+00:00\", \"2020-08-27T00:00:00+00:00\", \"2020-08-28T00:00:00+00:00\", \"2020-08-29T00:00:00+00:00\", \"2020-08-30T00:00:00+00:00\", \"2020-08-31T00:00:00+00:00\", \"2020-09-01T00:00:00+00:00\", \"2020-09-02T00:00:00+00:00\", \"2020-09-03T00:00:00+00:00\", \"2020-09-04T00:00:00+00:00\", \"2020-09-05T00:00:00+00:00\", \"2020-09-06T00:00:00+00:00\", \"2020-09-07T00:00:00+00:00\", \"2020-09-08T00:00:00+00:00\", \"2020-09-09T00:00:00+00:00\", \"2020-09-10T00:00:00+00:00\", \"2020-09-11T00:00:00+00:00\", \"2020-09-12T00:00:00+00:00\", \"2020-09-13T00:00:00+00:00\", \"2020-09-14T00:00:00+00:00\", \"2020-09-15T00:00:00+00:00\", \"2020-09-16T00:00:00+00:00\", \"2020-09-17T00:00:00+00:00\", \"2020-09-18T00:00:00+00:00\", \"2020-09-19T00:00:00+00:00\", \"2020-09-20T00:00:00+00:00\", \"2020-09-21T00:00:00+00:00\", \"2020-09-22T00:00:00+00:00\", \"2020-09-23T00:00:00+00:00\", \"2020-09-24T00:00:00+00:00\", \"2020-09-25T00:00:00+00:00\", \"2020-09-26T00:00:00+00:00\", \"2020-09-27T00:00:00+00:00\", \"2020-09-28T00:00:00+00:00\", \"2020-09-29T00:00:00+00:00\", \"2020-09-30T00:00:00+00:00\", \"2020-10-01T00:00:00+00:00\", \"2020-10-02T00:00:00+00:00\", \"2020-10-03T00:00:00+00:00\", \"2020-10-04T00:00:00+00:00\", \"2020-10-05T00:00:00+00:00\", \"2020-10-06T00:00:00+00:00\", \"2020-10-07T00:00:00+00:00\", \"2020-10-08T00:00:00+00:00\", \"2020-10-09T00:00:00+00:00\", \"2020-10-10T00:00:00+00:00\", \"2020-10-11T00:00:00+00:00\", \"2020-10-12T00:00:00+00:00\", \"2020-10-13T00:00:00+00:00\", \"2020-10-14T00:00:00+00:00\", \"2020-10-15T00:00:00+00:00\", \"2020-10-16T00:00:00+00:00\", \"2020-10-17T00:00:00+00:00\", \"2020-10-18T00:00:00+00:00\", \"2020-10-19T00:00:00+00:00\", \"2020-10-20T00:00:00+00:00\", \"2020-10-21T00:00:00+00:00\", \"2020-10-22T00:00:00+00:00\", \"2020-10-23T00:00:00+00:00\", \"2020-10-24T00:00:00+00:00\", \"2020-10-25T00:00:00+00:00\", \"2020-10-26T00:00:00+00:00\", \"2020-10-27T00:00:00+00:00\", \"2020-10-28T00:00:00+00:00\", \"2020-10-29T00:00:00+00:00\", \"2020-10-30T00:00:00+00:00\", \"2020-10-31T00:00:00+00:00\", \"2020-11-01T00:00:00+00:00\", \"2020-11-02T00:00:00+00:00\", \"2020-11-03T00:00:00+00:00\", \"2020-11-04T00:00:00+00:00\", \"2020-11-05T00:00:00+00:00\", \"2020-11-06T00:00:00+00:00\", \"2020-11-07T00:00:00+00:00\", \"2020-11-08T00:00:00+00:00\", \"2020-11-09T00:00:00+00:00\", \"2020-11-10T00:00:00+00:00\", \"2020-11-11T00:00:00+00:00\", \"2020-11-12T00:00:00+00:00\", \"2020-11-13T00:00:00+00:00\", \"2020-11-14T00:00:00+00:00\", \"2020-11-15T00:00:00+00:00\", \"2020-11-16T00:00:00+00:00\", \"2020-11-17T00:00:00+00:00\", \"2020-11-18T00:00:00+00:00\", \"2020-11-19T00:00:00+00:00\", \"2020-11-20T00:00:00+00:00\", \"2020-11-21T00:00:00+00:00\", \"2020-11-22T00:00:00+00:00\", \"2020-11-23T00:00:00+00:00\", \"2020-11-24T00:00:00+00:00\", \"2020-11-25T00:00:00+00:00\", \"2020-11-26T00:00:00+00:00\", \"2020-11-27T00:00:00+00:00\", \"2020-11-28T00:00:00+00:00\", \"2020-11-29T00:00:00+00:00\", \"2020-11-30T00:00:00+00:00\", \"2020-12-01T00:00:00+00:00\", \"2020-12-02T00:00:00+00:00\", \"2020-12-03T00:00:00+00:00\", \"2020-12-04T00:00:00+00:00\", \"2020-12-05T00:00:00+00:00\", \"2020-12-06T00:00:00+00:00\", \"2020-12-07T00:00:00+00:00\", \"2020-12-08T00:00:00+00:00\", \"2020-12-09T00:00:00+00:00\", \"2020-12-10T00:00:00+00:00\", \"2020-12-11T00:00:00+00:00\", \"2020-12-12T00:00:00+00:00\", \"2020-12-13T00:00:00+00:00\", \"2020-12-14T00:00:00+00:00\", \"2020-12-15T00:00:00+00:00\", \"2020-12-16T00:00:00+00:00\", \"2020-12-17T00:00:00+00:00\", \"2020-12-18T00:00:00+00:00\", \"2020-12-19T00:00:00+00:00\", \"2020-12-20T00:00:00+00:00\", \"2020-12-21T00:00:00+00:00\", \"2020-12-22T00:00:00+00:00\", \"2020-12-23T00:00:00+00:00\", \"2020-12-24T00:00:00+00:00\", \"2020-12-25T00:00:00+00:00\", \"2020-12-26T00:00:00+00:00\", \"2020-12-27T00:00:00+00:00\", \"2020-12-28T00:00:00+00:00\", \"2020-12-29T00:00:00+00:00\", \"2020-12-30T00:00:00+00:00\", \"2020-12-31T00:00:00+00:00\", \"2021-01-01T00:00:00+00:00\", \"2021-01-02T00:00:00+00:00\", \"2021-01-03T00:00:00+00:00\", \"2021-01-04T00:00:00+00:00\", \"2021-01-05T00:00:00+00:00\", \"2021-01-06T00:00:00+00:00\", \"2021-01-07T00:00:00+00:00\", \"2021-01-08T00:00:00+00:00\", \"2021-01-09T00:00:00+00:00\", \"2021-01-10T00:00:00+00:00\", \"2021-01-11T00:00:00+00:00\", \"2021-01-12T00:00:00+00:00\", \"2021-01-13T00:00:00+00:00\", \"2021-01-14T00:00:00+00:00\", \"2021-01-15T00:00:00+00:00\", \"2021-01-16T00:00:00+00:00\", \"2021-01-17T00:00:00+00:00\", \"2021-01-18T00:00:00+00:00\", \"2021-01-19T00:00:00+00:00\", \"2021-01-20T00:00:00+00:00\", \"2021-01-21T00:00:00+00:00\", \"2021-01-22T00:00:00+00:00\", \"2021-01-23T00:00:00+00:00\", \"2021-01-24T00:00:00+00:00\", \"2021-01-25T00:00:00+00:00\", \"2021-01-26T00:00:00+00:00\", \"2021-01-27T00:00:00+00:00\", \"2021-01-28T00:00:00+00:00\", \"2021-01-29T00:00:00+00:00\", \"2021-01-30T00:00:00+00:00\", \"2021-01-31T00:00:00+00:00\", \"2021-02-01T00:00:00+00:00\", \"2021-02-02T00:00:00+00:00\", \"2021-02-03T00:00:00+00:00\", \"2021-02-04T00:00:00+00:00\", \"2021-02-05T00:00:00+00:00\", \"2021-02-06T00:00:00+00:00\", \"2021-02-07T00:00:00+00:00\", \"2021-02-08T00:00:00+00:00\", \"2021-02-09T00:00:00+00:00\", \"2021-02-10T00:00:00+00:00\", \"2021-02-11T00:00:00+00:00\", \"2021-02-12T00:00:00+00:00\", \"2021-02-13T00:00:00+00:00\", \"2021-02-14T00:00:00+00:00\", \"2021-02-15T00:00:00+00:00\", \"2021-02-16T00:00:00+00:00\", \"2021-02-17T00:00:00+00:00\", \"2021-02-18T00:00:00+00:00\", \"2021-02-19T00:00:00+00:00\"], \"y\": [0.0008623446337878704, 0.0007478646002709866, 0.0006081822793930769, 0.0008346203248947859, 0.0011553395306691527, 0.0015913074603304267, 0.0019403231563046575, 0.00228447699919343, 0.0031079682521522045, 0.004430972971022129, 0.005932628642767668, 0.007064508739858866, 0.008060513064265251, 0.008362239226698875, 0.008587130345404148, 0.00821574218571186, 0.007647769525647163, 0.007224876433610916, 0.006828414276242256, 0.006700905505567789, 0.006316616665571928, 0.005968684330582619, 0.0054348125122487545, 0.004436831921339035, 0.004136023577302694, 0.0037141453940421343, 0.003606172977015376, 0.003355874912813306, 0.0030965758487582207, 0.003203934757038951, 0.0033048412296921015, 0.0033311983570456505, 0.002824154682457447, 0.0027415542863309383, 0.0025425786152482033, 0.002301662229001522, 0.0021732051391154528, 0.002048583934083581, 0.0019797799177467823, 0.0018396516097709537, 0.0017899639206007123, 0.0017969653708860278, 0.0018056967528536916, 0.0018535006092861295, 0.0018827676540240645, 0.002171185100451112, 0.002801604801788926, 0.0028647996950894594, 0.003351852297782898, 0.003710873192176223, 0.003983565140515566, 0.0042410301975905895, 0.004109054338186979, 0.0037969204131513834, 0.003559564473107457, 0.0032412069849669933, 0.0030563934706151485, 0.0027519359719008207, 0.0027669561095535755, 0.002867995062842965, 0.0031083570793271065, 0.0033018074464052916, 0.0032488442957401276, 0.0032682938035577536, 0.0032158643007278442, 0.002891811542212963, 0.002818399341776967, 0.0026297802105545998, 0.0025185542181134224, 0.002664017491042614, 0.002875177888199687, 0.0031260098330676556, 0.0031702264677733183, 0.0031782244332134724, 0.0029709518421441317, 0.0026639385614544153, 0.002327716676518321, 0.0019576747436076403, 0.001743937493301928, 0.0016621070681139827, 0.001481509068980813, 0.0015097117284312844, 0.0016757658449932933, 0.001690270728431642, 0.0021569281816482544, 0.0026926640421152115, 0.003102923510596156, 0.003275548806414008, 0.003207133151590824, 0.0030774434562772512, 0.002777770394459367, 0.002436126582324505, 0.0022495428565889597, 0.002201310358941555, 0.0027065863832831383, 0.003600889118388295, 0.004662356339395046, 0.0054497490637004375, 0.006070423871278763, 0.006195691879838705, 0.0059883170761168, 0.005961705930531025, 0.005728560965508223, 0.005339077208191156, 0.005222740583121777, 0.0049151168204844, 0.004562680143862963, 0.004108986351639032, 0.0038995917420834303, 0.0038372657727450132, 0.004752315580844879, 0.006036523729562759, 0.006434442475438118, 0.0070898644626140594, 0.0072159492410719395, 0.00670537818223238, 0.006590447388589382, 0.006294912658631802, 0.006117469631135464, 0.005921490490436554, 0.005608741659671068, 0.00576945673674345, 0.00597629277035594, 0.006427348591387272, 0.006355748046189547, 0.006962655112147331, 0.007296565920114517, 0.006843835115432739, 0.006585865281522274, 0.0063264514319598675, 0.006057118996977806, 0.005526504013687372, 0.00494160084053874, 0.004915039986371994, 0.005122392904013395, 0.005787580739706755, 0.006285085342824459, 0.006763048004359007, 0.00735248951241374, 0.006917515769600868, 0.006582309491932392, 0.006208598148077726, 0.0056943995878100395, 0.00491194287315011, 0.004402680788189173, 0.003956607077270746, 0.003487522015348077, 0.0032131231855601072, 0.0032917202915996313, 0.0031102856155484915, 0.0038362995255738497, 0.005022871308028698, 0.006679057143628597, 0.008299221284687519, 0.009610782377421856, 0.010343334637582302, 0.010120592080056667, 0.009707328863441944, 0.00899688433855772, 0.00822464469820261, 0.008163555525243282, 0.008085128851234913, 0.008372046053409576, 0.008655037730932236, 0.00899809692054987, 0.008679856546223164, 0.008612914942204952, 0.00882907584309578, 0.009406172670423985, 0.010138597339391708, 0.01031529251486063, 0.010483182966709137, 0.011285904794931412, 0.012050827033817768, 0.012841366231441498, 0.013131589628756046, 0.013094914145767689, 0.01211317628622055, 0.010893021710216999, 0.009798909537494183, 0.00945482961833477, 0.008876395411789417, 0.007989346981048584, 0.0074727777391672134, 0.006929583847522736, 0.005883381236344576, 0.005377363879233599, 0.004805327858775854, 0.004958387464284897, 0.0053870524279773235, 0.005591195076704025, 0.006025802344083786, 0.00612557353451848, 0.005612494423985481, 0.0056981914676725864, 0.006323826964944601, 0.006759400945156813, 0.007089927792549133, 0.007015427574515343, 0.007192246615886688, 0.007491736672818661, 0.007811888121068478, 0.007844961248338223, 0.008341177366673946, 0.008879607543349266, 0.010225938633084297, 0.011858634650707245, 0.012604535557329655, 0.013174283318221569, 0.013307404704391956, 0.012615971267223358, 0.012034176848828793, 0.010952743701636791, 0.00979254487901926, 0.00910577829927206]}],                        {\"template\": {\"data\": {\"bar\": [{\"error_x\": {\"color\": \"#f2f5fa\"}, \"error_y\": {\"color\": \"#f2f5fa\"}, \"marker\": {\"line\": {\"color\": \"rgb(17,17,17)\", \"width\": 0.5}}, \"type\": \"bar\"}], \"barpolar\": [{\"marker\": {\"line\": {\"color\": \"rgb(17,17,17)\", \"width\": 0.5}}, \"type\": \"barpolar\"}], \"carpet\": [{\"aaxis\": {\"endlinecolor\": \"#A2B1C6\", \"gridcolor\": \"#506784\", \"linecolor\": \"#506784\", \"minorgridcolor\": \"#506784\", \"startlinecolor\": \"#A2B1C6\"}, \"baxis\": {\"endlinecolor\": \"#A2B1C6\", \"gridcolor\": \"#506784\", \"linecolor\": \"#506784\", \"minorgridcolor\": \"#506784\", \"startlinecolor\": \"#A2B1C6\"}, \"type\": \"carpet\"}], \"choropleth\": [{\"colorbar\": {\"outlinewidth\": 0, \"ticks\": \"\"}, \"type\": \"choropleth\"}], \"contour\": [{\"colorbar\": {\"outlinewidth\": 0, \"ticks\": \"\"}, \"colorscale\": [[0.0, \"#0d0887\"], [0.1111111111111111, \"#46039f\"], [0.2222222222222222, \"#7201a8\"], [0.3333333333333333, \"#9c179e\"], [0.4444444444444444, \"#bd3786\"], [0.5555555555555556, \"#d8576b\"], [0.6666666666666666, \"#ed7953\"], [0.7777777777777778, \"#fb9f3a\"], [0.8888888888888888, \"#fdca26\"], [1.0, \"#f0f921\"]], \"type\": \"contour\"}], \"contourcarpet\": [{\"colorbar\": {\"outlinewidth\": 0, \"ticks\": \"\"}, \"type\": \"contourcarpet\"}], \"heatmap\": [{\"colorbar\": {\"outlinewidth\": 0, \"ticks\": \"\"}, \"colorscale\": [[0.0, \"#0d0887\"], [0.1111111111111111, \"#46039f\"], [0.2222222222222222, \"#7201a8\"], [0.3333333333333333, \"#9c179e\"], [0.4444444444444444, \"#bd3786\"], [0.5555555555555556, \"#d8576b\"], [0.6666666666666666, \"#ed7953\"], [0.7777777777777778, \"#fb9f3a\"], [0.8888888888888888, \"#fdca26\"], [1.0, \"#f0f921\"]], \"type\": \"heatmap\"}], \"heatmapgl\": [{\"colorbar\": {\"outlinewidth\": 0, \"ticks\": \"\"}, \"colorscale\": [[0.0, \"#0d0887\"], [0.1111111111111111, \"#46039f\"], [0.2222222222222222, \"#7201a8\"], [0.3333333333333333, \"#9c179e\"], [0.4444444444444444, \"#bd3786\"], [0.5555555555555556, \"#d8576b\"], [0.6666666666666666, \"#ed7953\"], [0.7777777777777778, \"#fb9f3a\"], [0.8888888888888888, \"#fdca26\"], [1.0, \"#f0f921\"]], \"type\": \"heatmapgl\"}], \"histogram\": [{\"marker\": {\"colorbar\": {\"outlinewidth\": 0, \"ticks\": \"\"}}, \"type\": \"histogram\"}], \"histogram2d\": [{\"colorbar\": {\"outlinewidth\": 0, \"ticks\": \"\"}, \"colorscale\": [[0.0, \"#0d0887\"], [0.1111111111111111, \"#46039f\"], [0.2222222222222222, \"#7201a8\"], [0.3333333333333333, \"#9c179e\"], [0.4444444444444444, \"#bd3786\"], [0.5555555555555556, \"#d8576b\"], [0.6666666666666666, \"#ed7953\"], [0.7777777777777778, \"#fb9f3a\"], [0.8888888888888888, \"#fdca26\"], [1.0, \"#f0f921\"]], \"type\": \"histogram2d\"}], \"histogram2dcontour\": [{\"colorbar\": {\"outlinewidth\": 0, \"ticks\": \"\"}, \"colorscale\": [[0.0, \"#0d0887\"], [0.1111111111111111, \"#46039f\"], [0.2222222222222222, \"#7201a8\"], [0.3333333333333333, \"#9c179e\"], [0.4444444444444444, \"#bd3786\"], [0.5555555555555556, \"#d8576b\"], [0.6666666666666666, \"#ed7953\"], [0.7777777777777778, \"#fb9f3a\"], [0.8888888888888888, \"#fdca26\"], [1.0, \"#f0f921\"]], \"type\": \"histogram2dcontour\"}], \"mesh3d\": [{\"colorbar\": {\"outlinewidth\": 0, \"ticks\": \"\"}, \"type\": \"mesh3d\"}], \"parcoords\": [{\"line\": {\"colorbar\": {\"outlinewidth\": 0, \"ticks\": \"\"}}, \"type\": \"parcoords\"}], \"pie\": [{\"automargin\": true, \"type\": \"pie\"}], \"scatter\": [{\"marker\": {\"line\": {\"color\": \"#283442\"}}, \"type\": \"scatter\"}], \"scatter3d\": [{\"line\": {\"colorbar\": {\"outlinewidth\": 0, \"ticks\": \"\"}}, \"marker\": {\"colorbar\": {\"outlinewidth\": 0, \"ticks\": \"\"}}, \"type\": \"scatter3d\"}], \"scattercarpet\": [{\"marker\": {\"colorbar\": {\"outlinewidth\": 0, \"ticks\": \"\"}}, \"type\": \"scattercarpet\"}], \"scattergeo\": [{\"marker\": {\"colorbar\": {\"outlinewidth\": 0, \"ticks\": \"\"}}, \"type\": \"scattergeo\"}], \"scattergl\": [{\"marker\": {\"line\": {\"color\": \"#283442\"}}, \"type\": \"scattergl\"}], \"scattermapbox\": [{\"marker\": {\"colorbar\": {\"outlinewidth\": 0, \"ticks\": \"\"}}, \"type\": \"scattermapbox\"}], \"scatterpolar\": [{\"marker\": {\"colorbar\": {\"outlinewidth\": 0, \"ticks\": \"\"}}, \"type\": \"scatterpolar\"}], \"scatterpolargl\": [{\"marker\": {\"colorbar\": {\"outlinewidth\": 0, \"ticks\": \"\"}}, \"type\": \"scatterpolargl\"}], \"scatterternary\": [{\"marker\": {\"colorbar\": {\"outlinewidth\": 0, \"ticks\": \"\"}}, \"type\": \"scatterternary\"}], \"surface\": [{\"colorbar\": {\"outlinewidth\": 0, \"ticks\": \"\"}, \"colorscale\": [[0.0, \"#0d0887\"], [0.1111111111111111, \"#46039f\"], [0.2222222222222222, \"#7201a8\"], [0.3333333333333333, \"#9c179e\"], [0.4444444444444444, \"#bd3786\"], [0.5555555555555556, \"#d8576b\"], [0.6666666666666666, \"#ed7953\"], [0.7777777777777778, \"#fb9f3a\"], [0.8888888888888888, \"#fdca26\"], [1.0, \"#f0f921\"]], \"type\": \"surface\"}], \"table\": [{\"cells\": {\"fill\": {\"color\": \"#506784\"}, \"line\": {\"color\": \"rgb(17,17,17)\"}}, \"header\": {\"fill\": {\"color\": \"#2a3f5f\"}, \"line\": {\"color\": \"rgb(17,17,17)\"}}, \"type\": \"table\"}]}, \"layout\": {\"annotationdefaults\": {\"arrowcolor\": \"#f2f5fa\", \"arrowhead\": 0, \"arrowwidth\": 1}, \"autotypenumbers\": \"strict\", \"coloraxis\": {\"colorbar\": {\"outlinewidth\": 0, \"ticks\": \"\"}}, \"colorscale\": {\"diverging\": [[0, \"#8e0152\"], [0.1, \"#c51b7d\"], [0.2, \"#de77ae\"], [0.3, \"#f1b6da\"], [0.4, \"#fde0ef\"], [0.5, \"#f7f7f7\"], [0.6, \"#e6f5d0\"], [0.7, \"#b8e186\"], [0.8, \"#7fbc41\"], [0.9, \"#4d9221\"], [1, \"#276419\"]], \"sequential\": [[0.0, \"#0d0887\"], [0.1111111111111111, \"#46039f\"], [0.2222222222222222, \"#7201a8\"], [0.3333333333333333, \"#9c179e\"], [0.4444444444444444, \"#bd3786\"], [0.5555555555555556, \"#d8576b\"], [0.6666666666666666, \"#ed7953\"], [0.7777777777777778, \"#fb9f3a\"], [0.8888888888888888, \"#fdca26\"], [1.0, \"#f0f921\"]], \"sequentialminus\": [[0.0, \"#0d0887\"], [0.1111111111111111, \"#46039f\"], [0.2222222222222222, \"#7201a8\"], [0.3333333333333333, \"#9c179e\"], [0.4444444444444444, \"#bd3786\"], [0.5555555555555556, \"#d8576b\"], [0.6666666666666666, \"#ed7953\"], [0.7777777777777778, \"#fb9f3a\"], [0.8888888888888888, \"#fdca26\"], [1.0, \"#f0f921\"]]}, \"colorway\": [\"#636efa\", \"#EF553B\", \"#00cc96\", \"#ab63fa\", \"#FFA15A\", \"#19d3f3\", \"#FF6692\", \"#B6E880\", \"#FF97FF\", \"#FECB52\"], \"font\": {\"color\": \"#f2f5fa\"}, \"geo\": {\"bgcolor\": \"rgb(17,17,17)\", \"lakecolor\": \"rgb(17,17,17)\", \"landcolor\": \"rgb(17,17,17)\", \"showlakes\": true, \"showland\": true, \"subunitcolor\": \"#506784\"}, \"hoverlabel\": {\"align\": \"left\"}, \"hovermode\": \"closest\", \"mapbox\": {\"style\": \"dark\"}, \"paper_bgcolor\": \"rgb(17,17,17)\", \"plot_bgcolor\": \"rgb(17,17,17)\", \"polar\": {\"angularaxis\": {\"gridcolor\": \"#506784\", \"linecolor\": \"#506784\", \"ticks\": \"\"}, \"bgcolor\": \"rgb(17,17,17)\", \"radialaxis\": {\"gridcolor\": \"#506784\", \"linecolor\": \"#506784\", \"ticks\": \"\"}}, \"scene\": {\"xaxis\": {\"backgroundcolor\": \"rgb(17,17,17)\", \"gridcolor\": \"#506784\", \"gridwidth\": 2, \"linecolor\": \"#506784\", \"showbackground\": true, \"ticks\": \"\", \"zerolinecolor\": \"#C8D4E3\"}, \"yaxis\": {\"backgroundcolor\": \"rgb(17,17,17)\", \"gridcolor\": \"#506784\", \"gridwidth\": 2, \"linecolor\": \"#506784\", \"showbackground\": true, \"ticks\": \"\", \"zerolinecolor\": \"#C8D4E3\"}, \"zaxis\": {\"backgroundcolor\": \"rgb(17,17,17)\", \"gridcolor\": \"#506784\", \"gridwidth\": 2, \"linecolor\": \"#506784\", \"showbackground\": true, \"ticks\": \"\", \"zerolinecolor\": \"#C8D4E3\"}}, \"shapedefaults\": {\"line\": {\"color\": \"#f2f5fa\"}}, \"sliderdefaults\": {\"bgcolor\": \"#C8D4E3\", \"bordercolor\": \"rgb(17,17,17)\", \"borderwidth\": 1, \"tickwidth\": 0}, \"ternary\": {\"aaxis\": {\"gridcolor\": \"#506784\", \"linecolor\": \"#506784\", \"ticks\": \"\"}, \"baxis\": {\"gridcolor\": \"#506784\", \"linecolor\": \"#506784\", \"ticks\": \"\"}, \"bgcolor\": \"rgb(17,17,17)\", \"caxis\": {\"gridcolor\": \"#506784\", \"linecolor\": \"#506784\", \"ticks\": \"\"}}, \"title\": {\"x\": 0.05}, \"updatemenudefaults\": {\"bgcolor\": \"#506784\", \"borderwidth\": 0}, \"xaxis\": {\"automargin\": true, \"gridcolor\": \"#283442\", \"linecolor\": \"#506784\", \"ticks\": \"\", \"title\": {\"standoff\": 15}, \"zerolinecolor\": \"#283442\", \"zerolinewidth\": 2}, \"yaxis\": {\"automargin\": true, \"gridcolor\": \"#283442\", \"linecolor\": \"#506784\", \"ticks\": \"\", \"title\": {\"standoff\": 15}, \"zerolinecolor\": \"#283442\", \"zerolinewidth\": 2}}}, \"xaxis\": {\"title\": {\"text\": \"Time\"}}, \"yaxis\": {\"title\": {\"text\": \"Price\"}}},                        {\"responsive\": true}                    ).then(function(){\n",
       "                            \n",
       "var gd = document.getElementById('498cdc73-1fff-4281-a5de-6dcf8c4ff4fb');\n",
       "var x = new MutationObserver(function (mutations, observer) {{\n",
       "        var display = window.getComputedStyle(gd).display;\n",
       "        if (!display || display === 'none') {{\n",
       "            console.log([gd, 'removed!']);\n",
       "            Plotly.purge(gd);\n",
       "            observer.disconnect();\n",
       "        }}\n",
       "}});\n",
       "\n",
       "// Listen for the removal of the full notebook cells\n",
       "var notebookContainer = gd.closest('#notebook-container');\n",
       "if (notebookContainer) {{\n",
       "    x.observe(notebookContainer, {childList: true});\n",
       "}}\n",
       "\n",
       "// Listen for the clearing of the current output cell\n",
       "var outputEl = gd.closest('.output');\n",
       "if (outputEl) {{\n",
       "    x.observe(outputEl, {childList: true});\n",
       "}}\n",
       "\n",
       "                        })                };                });            </script>        </div>"
      ]
     },
     "metadata": {},
     "output_type": "display_data"
    },
    {
     "name": "stdout",
     "output_type": "stream",
     "text": [
      "The MAE is 0.5648723683695952\n"
     ]
    }
   ],
   "source": [
    "test_res_df = display_results(model, scaler, test_data, test_dates, config['window_len'], config['output_size'], multivar=False)"
   ]
  },
  {
   "cell_type": "markdown",
   "metadata": {},
   "source": [
    "## Summary"
   ]
  },
  {
   "cell_type": "markdown",
   "metadata": {},
   "source": [
    "Despite the normalirty of log returns, the series seems to wild to have any trends and the LSTM does not perform well."
   ]
  },
  {
   "cell_type": "code",
   "execution_count": null,
   "metadata": {},
   "outputs": [],
   "source": []
  }
 ],
 "metadata": {
  "kernelspec": {
   "display_name": "cypto-oracle-venv",
   "language": "python",
   "name": "cypt-oracle-venv"
  },
  "language_info": {
   "codemirror_mode": {
    "name": "ipython",
    "version": 3
   },
   "file_extension": ".py",
   "mimetype": "text/x-python",
   "name": "python",
   "nbconvert_exporter": "python",
   "pygments_lexer": "ipython3",
   "version": "3.8.3"
  }
 },
 "nbformat": 4,
 "nbformat_minor": 4
}
