{
 "cells": [
  {
   "cell_type": "markdown",
   "metadata": {},
   "source": [
    "# Facebook Prophet"
   ]
  },
  {
   "cell_type": "markdown",
   "metadata": {},
   "source": [
    "In this notebook, we investigate using [Facebook prophet](https://facebook.github.io/prophet/) to make forecasts of the price of bitcoin."
   ]
  },
  {
   "cell_type": "markdown",
   "metadata": {},
   "source": [
    "Facebook prophet is a timeseries model produced by facebook.\n",
    "The dataframes need to have only two columns ```['ds','y']``` \n",
    "\n",
    "\n",
    "```'ds'``` = ```Date```\n",
    "\n",
    "```'y'```   = ```Prediction``` "
   ]
  },
  {
   "cell_type": "markdown",
   "metadata": {},
   "source": [
    "# Import utils and helper functions"
   ]
  },
  {
   "cell_type": "code",
   "execution_count": 1,
   "metadata": {},
   "outputs": [
    {
     "name": "stdout",
     "output_type": "stream",
     "text": [
      "2.4.1\n"
     ]
    }
   ],
   "source": [
    "%run utils.ipynb"
   ]
  },
  {
   "cell_type": "code",
   "execution_count": 90,
   "metadata": {},
   "outputs": [],
   "source": [
    "#Prophet\n",
    "from fbprophet import Prophet\n",
    "from matplotlib.pyplot import xlabel,ylabel,title"
   ]
  },
  {
   "cell_type": "markdown",
   "metadata": {},
   "source": [
    "# Get the stocks data"
   ]
  },
  {
   "cell_type": "code",
   "execution_count": 2,
   "metadata": {},
   "outputs": [
    {
     "name": "stdout",
     "output_type": "stream",
     "text": [
      "Connecting to the PostgreSQL database...\n",
      "Connection successful\n"
     ]
    }
   ],
   "source": [
    "df = get_stocks_df()"
   ]
  },
  {
   "cell_type": "code",
   "execution_count": 4,
   "metadata": {},
   "outputs": [
    {
     "data": {
      "text/html": [
       "<div>\n",
       "<style scoped>\n",
       "    .dataframe tbody tr th:only-of-type {\n",
       "        vertical-align: middle;\n",
       "    }\n",
       "\n",
       "    .dataframe tbody tr th {\n",
       "        vertical-align: top;\n",
       "    }\n",
       "\n",
       "    .dataframe thead th {\n",
       "        text-align: right;\n",
       "    }\n",
       "</style>\n",
       "<table border=\"1\" class=\"dataframe\">\n",
       "  <thead>\n",
       "    <tr style=\"text-align: right;\">\n",
       "      <th></th>\n",
       "      <th>close</th>\n",
       "      <th>volume</th>\n",
       "    </tr>\n",
       "    <tr>\n",
       "      <th>dt</th>\n",
       "      <th></th>\n",
       "      <th></th>\n",
       "    </tr>\n",
       "  </thead>\n",
       "  <tbody>\n",
       "    <tr>\n",
       "      <th>2015-10-08 13:40:00+00:00</th>\n",
       "      <td>242.50</td>\n",
       "      <td>0.050000</td>\n",
       "    </tr>\n",
       "    <tr>\n",
       "      <th>2015-10-08 13:41:00+00:00</th>\n",
       "      <td>242.95</td>\n",
       "      <td>0.001000</td>\n",
       "    </tr>\n",
       "    <tr>\n",
       "      <th>2015-10-08 13:42:00+00:00</th>\n",
       "      <td>242.95</td>\n",
       "      <td>NaN</td>\n",
       "    </tr>\n",
       "    <tr>\n",
       "      <th>2015-10-08 13:43:00+00:00</th>\n",
       "      <td>242.96</td>\n",
       "      <td>0.010000</td>\n",
       "    </tr>\n",
       "    <tr>\n",
       "      <th>2015-10-08 13:44:00+00:00</th>\n",
       "      <td>242.96</td>\n",
       "      <td>0.033491</td>\n",
       "    </tr>\n",
       "  </tbody>\n",
       "</table>\n",
       "</div>"
      ],
      "text/plain": [
       "                            close    volume\n",
       "dt                                         \n",
       "2015-10-08 13:40:00+00:00  242.50  0.050000\n",
       "2015-10-08 13:41:00+00:00  242.95  0.001000\n",
       "2015-10-08 13:42:00+00:00  242.95       NaN\n",
       "2015-10-08 13:43:00+00:00  242.96  0.010000\n",
       "2015-10-08 13:44:00+00:00  242.96  0.033491"
      ]
     },
     "execution_count": 4,
     "metadata": {},
     "output_type": "execute_result"
    }
   ],
   "source": [
    "df.head()"
   ]
  },
  {
   "cell_type": "markdown",
   "metadata": {},
   "source": [
    "## Resample to daily and impute any missing data points"
   ]
  },
  {
   "cell_type": "code",
   "execution_count": 50,
   "metadata": {},
   "outputs": [],
   "source": [
    "# Since these are close prices, to get the daily close resample with D then get the last\n",
    "daily_df = df.resample('D').last()"
   ]
  },
  {
   "cell_type": "code",
   "execution_count": 51,
   "metadata": {},
   "outputs": [
    {
     "data": {
      "text/html": [
       "<div>\n",
       "<style scoped>\n",
       "    .dataframe tbody tr th:only-of-type {\n",
       "        vertical-align: middle;\n",
       "    }\n",
       "\n",
       "    .dataframe tbody tr th {\n",
       "        vertical-align: top;\n",
       "    }\n",
       "\n",
       "    .dataframe thead th {\n",
       "        text-align: right;\n",
       "    }\n",
       "</style>\n",
       "<table border=\"1\" class=\"dataframe\">\n",
       "  <thead>\n",
       "    <tr style=\"text-align: right;\">\n",
       "      <th></th>\n",
       "      <th>close</th>\n",
       "      <th>volume</th>\n",
       "    </tr>\n",
       "    <tr>\n",
       "      <th>dt</th>\n",
       "      <th></th>\n",
       "      <th></th>\n",
       "    </tr>\n",
       "  </thead>\n",
       "  <tbody>\n",
       "    <tr>\n",
       "      <th>2015-10-08 00:00:00+00:00</th>\n",
       "      <td>243.95</td>\n",
       "      <td>5.211300</td>\n",
       "    </tr>\n",
       "    <tr>\n",
       "      <th>2015-10-09 00:00:00+00:00</th>\n",
       "      <td>245.39</td>\n",
       "      <td>0.000800</td>\n",
       "    </tr>\n",
       "    <tr>\n",
       "      <th>2015-10-10 00:00:00+00:00</th>\n",
       "      <td>246.30</td>\n",
       "      <td>4.410000</td>\n",
       "    </tr>\n",
       "    <tr>\n",
       "      <th>2015-10-11 00:00:00+00:00</th>\n",
       "      <td>249.50</td>\n",
       "      <td>0.402812</td>\n",
       "    </tr>\n",
       "    <tr>\n",
       "      <th>2015-10-12 00:00:00+00:00</th>\n",
       "      <td>247.60</td>\n",
       "      <td>3.400000</td>\n",
       "    </tr>\n",
       "  </tbody>\n",
       "</table>\n",
       "</div>"
      ],
      "text/plain": [
       "                            close    volume\n",
       "dt                                         \n",
       "2015-10-08 00:00:00+00:00  243.95  5.211300\n",
       "2015-10-09 00:00:00+00:00  245.39  0.000800\n",
       "2015-10-10 00:00:00+00:00  246.30  4.410000\n",
       "2015-10-11 00:00:00+00:00  249.50  0.402812\n",
       "2015-10-12 00:00:00+00:00  247.60  3.400000"
      ]
     },
     "execution_count": 51,
     "metadata": {},
     "output_type": "execute_result"
    }
   ],
   "source": [
    "daily_df.head()"
   ]
  },
  {
   "cell_type": "code",
   "execution_count": 52,
   "metadata": {},
   "outputs": [
    {
     "data": {
      "text/html": [
       "<div>\n",
       "<style scoped>\n",
       "    .dataframe tbody tr th:only-of-type {\n",
       "        vertical-align: middle;\n",
       "    }\n",
       "\n",
       "    .dataframe tbody tr th {\n",
       "        vertical-align: top;\n",
       "    }\n",
       "\n",
       "    .dataframe thead th {\n",
       "        text-align: right;\n",
       "    }\n",
       "</style>\n",
       "<table border=\"1\" class=\"dataframe\">\n",
       "  <thead>\n",
       "    <tr style=\"text-align: right;\">\n",
       "      <th></th>\n",
       "      <th>close</th>\n",
       "      <th>volume</th>\n",
       "    </tr>\n",
       "    <tr>\n",
       "      <th>dt</th>\n",
       "      <th></th>\n",
       "      <th></th>\n",
       "    </tr>\n",
       "  </thead>\n",
       "  <tbody>\n",
       "    <tr>\n",
       "      <th>2018-08-24 00:00:00+00:00</th>\n",
       "      <td>NaN</td>\n",
       "      <td>NaN</td>\n",
       "    </tr>\n",
       "    <tr>\n",
       "      <th>2018-11-16 00:00:00+00:00</th>\n",
       "      <td>NaN</td>\n",
       "      <td>NaN</td>\n",
       "    </tr>\n",
       "    <tr>\n",
       "      <th>2018-11-17 00:00:00+00:00</th>\n",
       "      <td>NaN</td>\n",
       "      <td>NaN</td>\n",
       "    </tr>\n",
       "    <tr>\n",
       "      <th>2018-11-18 00:00:00+00:00</th>\n",
       "      <td>NaN</td>\n",
       "      <td>NaN</td>\n",
       "    </tr>\n",
       "    <tr>\n",
       "      <th>2018-11-19 00:00:00+00:00</th>\n",
       "      <td>NaN</td>\n",
       "      <td>NaN</td>\n",
       "    </tr>\n",
       "  </tbody>\n",
       "</table>\n",
       "</div>"
      ],
      "text/plain": [
       "                           close  volume\n",
       "dt                                      \n",
       "2018-08-24 00:00:00+00:00    NaN     NaN\n",
       "2018-11-16 00:00:00+00:00    NaN     NaN\n",
       "2018-11-17 00:00:00+00:00    NaN     NaN\n",
       "2018-11-18 00:00:00+00:00    NaN     NaN\n",
       "2018-11-19 00:00:00+00:00    NaN     NaN"
      ]
     },
     "execution_count": 52,
     "metadata": {},
     "output_type": "execute_result"
    }
   ],
   "source": [
    "# Do we have any missing prices?\n",
    "daily_df[daily_df['close'].isnull()].head()"
   ]
  },
  {
   "cell_type": "code",
   "execution_count": 53,
   "metadata": {},
   "outputs": [
    {
     "data": {
      "text/html": [
       "<div>\n",
       "<style scoped>\n",
       "    .dataframe tbody tr th:only-of-type {\n",
       "        vertical-align: middle;\n",
       "    }\n",
       "\n",
       "    .dataframe tbody tr th {\n",
       "        vertical-align: top;\n",
       "    }\n",
       "\n",
       "    .dataframe thead th {\n",
       "        text-align: right;\n",
       "    }\n",
       "</style>\n",
       "<table border=\"1\" class=\"dataframe\">\n",
       "  <thead>\n",
       "    <tr style=\"text-align: right;\">\n",
       "      <th></th>\n",
       "      <th>close</th>\n",
       "      <th>volume</th>\n",
       "    </tr>\n",
       "    <tr>\n",
       "      <th>dt</th>\n",
       "      <th></th>\n",
       "      <th></th>\n",
       "    </tr>\n",
       "  </thead>\n",
       "  <tbody>\n",
       "    <tr>\n",
       "      <th>2018-08-23 01:55:00+00:00</th>\n",
       "      <td>6413.87</td>\n",
       "      <td>3.132555</td>\n",
       "    </tr>\n",
       "    <tr>\n",
       "      <th>2018-08-23 01:56:00+00:00</th>\n",
       "      <td>6413.87</td>\n",
       "      <td>NaN</td>\n",
       "    </tr>\n",
       "    <tr>\n",
       "      <th>2018-08-23 01:57:00+00:00</th>\n",
       "      <td>6413.87</td>\n",
       "      <td>NaN</td>\n",
       "    </tr>\n",
       "    <tr>\n",
       "      <th>2018-08-23 01:58:00+00:00</th>\n",
       "      <td>6413.92</td>\n",
       "      <td>0.426060</td>\n",
       "    </tr>\n",
       "    <tr>\n",
       "      <th>2018-08-25 16:44:00+00:00</th>\n",
       "      <td>6709.99</td>\n",
       "      <td>0.046878</td>\n",
       "    </tr>\n",
       "  </tbody>\n",
       "</table>\n",
       "</div>"
      ],
      "text/plain": [
       "                             close    volume\n",
       "dt                                          \n",
       "2018-08-23 01:55:00+00:00  6413.87  3.132555\n",
       "2018-08-23 01:56:00+00:00  6413.87       NaN\n",
       "2018-08-23 01:57:00+00:00  6413.87       NaN\n",
       "2018-08-23 01:58:00+00:00  6413.92  0.426060\n",
       "2018-08-25 16:44:00+00:00  6709.99  0.046878"
      ]
     },
     "execution_count": 53,
     "metadata": {},
     "output_type": "execute_result"
    }
   ],
   "source": [
    "# We have some missing close prices for example 2018-11-16. Let's investigate the original data around that day\n",
    "df[(df.index > '2018-08-23 01:54') & (df.index < '2018-08-25 16:45')]"
   ]
  },
  {
   "cell_type": "code",
   "execution_count": 54,
   "metadata": {},
   "outputs": [
    {
     "data": {
      "text/plain": [
       "close     0\n",
       "volume    0\n",
       "dtype: int64"
      ]
     },
     "execution_count": 54,
     "metadata": {},
     "output_type": "execute_result"
    }
   ],
   "source": [
    "# So we have some missing values and can't get daily prices from dates like 2018-08-24. We could impute the values with ffill\n",
    "daily_df.fillna(method='ffill').isnull().sum()"
   ]
  },
  {
   "cell_type": "code",
   "execution_count": 55,
   "metadata": {},
   "outputs": [],
   "source": [
    "daily_df = daily_df.fillna(method='ffill')"
   ]
  },
  {
   "cell_type": "code",
   "execution_count": 59,
   "metadata": {},
   "outputs": [
    {
     "data": {
      "text/html": [
       "<div>\n",
       "<style scoped>\n",
       "    .dataframe tbody tr th:only-of-type {\n",
       "        vertical-align: middle;\n",
       "    }\n",
       "\n",
       "    .dataframe tbody tr th {\n",
       "        vertical-align: top;\n",
       "    }\n",
       "\n",
       "    .dataframe thead th {\n",
       "        text-align: right;\n",
       "    }\n",
       "</style>\n",
       "<table border=\"1\" class=\"dataframe\">\n",
       "  <thead>\n",
       "    <tr style=\"text-align: right;\">\n",
       "      <th></th>\n",
       "      <th>close</th>\n",
       "      <th>volume</th>\n",
       "    </tr>\n",
       "    <tr>\n",
       "      <th>dt</th>\n",
       "      <th></th>\n",
       "      <th></th>\n",
       "    </tr>\n",
       "  </thead>\n",
       "  <tbody>\n",
       "    <tr>\n",
       "      <th>2018-08-22 00:00:00+00:00</th>\n",
       "      <td>6350.00</td>\n",
       "      <td>1.042065</td>\n",
       "    </tr>\n",
       "    <tr>\n",
       "      <th>2018-08-23 00:00:00+00:00</th>\n",
       "      <td>6413.92</td>\n",
       "      <td>0.426060</td>\n",
       "    </tr>\n",
       "    <tr>\n",
       "      <th>2018-08-24 00:00:00+00:00</th>\n",
       "      <td>6413.92</td>\n",
       "      <td>0.426060</td>\n",
       "    </tr>\n",
       "    <tr>\n",
       "      <th>2018-08-25 00:00:00+00:00</th>\n",
       "      <td>6730.95</td>\n",
       "      <td>0.041640</td>\n",
       "    </tr>\n",
       "    <tr>\n",
       "      <th>2018-08-26 00:00:00+00:00</th>\n",
       "      <td>6675.73</td>\n",
       "      <td>4.000000</td>\n",
       "    </tr>\n",
       "  </tbody>\n",
       "</table>\n",
       "</div>"
      ],
      "text/plain": [
       "                             close    volume\n",
       "dt                                          \n",
       "2018-08-22 00:00:00+00:00  6350.00  1.042065\n",
       "2018-08-23 00:00:00+00:00  6413.92  0.426060\n",
       "2018-08-24 00:00:00+00:00  6413.92  0.426060\n",
       "2018-08-25 00:00:00+00:00  6730.95  0.041640\n",
       "2018-08-26 00:00:00+00:00  6675.73  4.000000"
      ]
     },
     "execution_count": 59,
     "metadata": {},
     "output_type": "execute_result"
    }
   ],
   "source": [
    "daily_df[(daily_df.index > '2018-08-21') & (daily_df.index < '2018-08-27')]"
   ]
  },
  {
   "cell_type": "markdown",
   "metadata": {},
   "source": [
    "## Imports & API"
   ]
  },
  {
   "cell_type": "markdown",
   "metadata": {},
   "source": [
    "### Imports"
   ]
  },
  {
   "cell_type": "code",
   "execution_count": 3,
   "metadata": {
    "scrolled": true
   },
   "outputs": [],
   "source": [
    "import json\n",
    "\n",
    "import pandas as pd\n",
    "import numpy as np\n",
    "from matplotlib import pyplot as plt\n",
    "#because of the built in plotting objects in Prophet, it is easier to import/use these externally from plt.\n",
    "\n",
    "#scrap / API\n",
    "import requests \n",
    "\n"
   ]
  },
  {
   "cell_type": "markdown",
   "metadata": {},
   "source": [
    "## Instantiate the model"
   ]
  },
  {
   "cell_type": "code",
   "execution_count": 69,
   "metadata": {},
   "outputs": [],
   "source": [
    "model = Prophet(\n",
    "    #daily_seasonality=True)\n",
    ")"
   ]
  },
  {
   "cell_type": "code",
   "execution_count": 64,
   "metadata": {},
   "outputs": [],
   "source": [
    "# Get the dataframe in the format that prophet likes with cols ds and y\n",
    "daily_df_p = daily_df.close.reset_index().rename(columns={'dt': 'ds', 'close': 'y'})"
   ]
  },
  {
   "cell_type": "code",
   "execution_count": 83,
   "metadata": {},
   "outputs": [
    {
     "data": {
      "text/html": [
       "<div>\n",
       "<style scoped>\n",
       "    .dataframe tbody tr th:only-of-type {\n",
       "        vertical-align: middle;\n",
       "    }\n",
       "\n",
       "    .dataframe tbody tr th {\n",
       "        vertical-align: top;\n",
       "    }\n",
       "\n",
       "    .dataframe thead th {\n",
       "        text-align: right;\n",
       "    }\n",
       "</style>\n",
       "<table border=\"1\" class=\"dataframe\">\n",
       "  <thead>\n",
       "    <tr style=\"text-align: right;\">\n",
       "      <th></th>\n",
       "      <th>ds</th>\n",
       "      <th>y</th>\n",
       "    </tr>\n",
       "  </thead>\n",
       "  <tbody>\n",
       "    <tr>\n",
       "      <th>1957</th>\n",
       "      <td>2021-02-15</td>\n",
       "      <td>47927.17</td>\n",
       "    </tr>\n",
       "    <tr>\n",
       "      <th>1958</th>\n",
       "      <td>2021-02-16</td>\n",
       "      <td>49137.93</td>\n",
       "    </tr>\n",
       "    <tr>\n",
       "      <th>1959</th>\n",
       "      <td>2021-02-17</td>\n",
       "      <td>52162.57</td>\n",
       "    </tr>\n",
       "    <tr>\n",
       "      <th>1960</th>\n",
       "      <td>2021-02-18</td>\n",
       "      <td>51601.10</td>\n",
       "    </tr>\n",
       "    <tr>\n",
       "      <th>1961</th>\n",
       "      <td>2021-02-19</td>\n",
       "      <td>53714.41</td>\n",
       "    </tr>\n",
       "  </tbody>\n",
       "</table>\n",
       "</div>"
      ],
      "text/plain": [
       "             ds         y\n",
       "1957 2021-02-15  47927.17\n",
       "1958 2021-02-16  49137.93\n",
       "1959 2021-02-17  52162.57\n",
       "1960 2021-02-18  51601.10\n",
       "1961 2021-02-19  53714.41"
      ]
     },
     "execution_count": 83,
     "metadata": {},
     "output_type": "execute_result"
    }
   ],
   "source": [
    "daily_df_p.tail()"
   ]
  },
  {
   "cell_type": "code",
   "execution_count": 67,
   "metadata": {
    "scrolled": true
   },
   "outputs": [
    {
     "data": {
      "text/plain": [
       "ds    datetime64[ns, UTC]\n",
       "y                 float64\n",
       "dtype: object"
      ]
     },
     "execution_count": 67,
     "metadata": {},
     "output_type": "execute_result"
    }
   ],
   "source": [
    "daily_df_p.dtypes"
   ]
  },
  {
   "cell_type": "code",
   "execution_count": 75,
   "metadata": {},
   "outputs": [],
   "source": [
    "# Need to remove the timezone\n",
    "daily_df_p['ds'] = daily_df_p['ds'].dt.tz_convert(None)"
   ]
  },
  {
   "cell_type": "code",
   "execution_count": 76,
   "metadata": {},
   "outputs": [
    {
     "name": "stderr",
     "output_type": "stream",
     "text": [
      "INFO:fbprophet:Disabling daily seasonality. Run prophet with daily_seasonality=True to override this.\n"
     ]
    },
    {
     "data": {
      "text/plain": [
       "<fbprophet.forecaster.Prophet at 0x7f3ca6e560d0>"
      ]
     },
     "execution_count": 76,
     "metadata": {},
     "output_type": "execute_result"
    }
   ],
   "source": [
    "model.fit(daily_df_p)"
   ]
  },
  {
   "cell_type": "code",
   "execution_count": 84,
   "metadata": {},
   "outputs": [
    {
     "data": {
      "text/html": [
       "<div>\n",
       "<style scoped>\n",
       "    .dataframe tbody tr th:only-of-type {\n",
       "        vertical-align: middle;\n",
       "    }\n",
       "\n",
       "    .dataframe tbody tr th {\n",
       "        vertical-align: top;\n",
       "    }\n",
       "\n",
       "    .dataframe thead th {\n",
       "        text-align: right;\n",
       "    }\n",
       "</style>\n",
       "<table border=\"1\" class=\"dataframe\">\n",
       "  <thead>\n",
       "    <tr style=\"text-align: right;\">\n",
       "      <th></th>\n",
       "      <th>ds</th>\n",
       "    </tr>\n",
       "  </thead>\n",
       "  <tbody>\n",
       "    <tr>\n",
       "      <th>0</th>\n",
       "      <td>2021-02-20</td>\n",
       "    </tr>\n",
       "    <tr>\n",
       "      <th>1</th>\n",
       "      <td>2021-02-21</td>\n",
       "    </tr>\n",
       "    <tr>\n",
       "      <th>2</th>\n",
       "      <td>2021-02-22</td>\n",
       "    </tr>\n",
       "    <tr>\n",
       "      <th>3</th>\n",
       "      <td>2021-02-23</td>\n",
       "    </tr>\n",
       "    <tr>\n",
       "      <th>4</th>\n",
       "      <td>2021-02-24</td>\n",
       "    </tr>\n",
       "    <tr>\n",
       "      <th>5</th>\n",
       "      <td>2021-02-25</td>\n",
       "    </tr>\n",
       "    <tr>\n",
       "      <th>6</th>\n",
       "      <td>2021-02-26</td>\n",
       "    </tr>\n",
       "    <tr>\n",
       "      <th>7</th>\n",
       "      <td>2021-02-27</td>\n",
       "    </tr>\n",
       "    <tr>\n",
       "      <th>8</th>\n",
       "      <td>2021-02-28</td>\n",
       "    </tr>\n",
       "    <tr>\n",
       "      <th>9</th>\n",
       "      <td>2021-03-01</td>\n",
       "    </tr>\n",
       "    <tr>\n",
       "      <th>10</th>\n",
       "      <td>2021-03-02</td>\n",
       "    </tr>\n",
       "    <tr>\n",
       "      <th>11</th>\n",
       "      <td>2021-03-03</td>\n",
       "    </tr>\n",
       "    <tr>\n",
       "      <th>12</th>\n",
       "      <td>2021-03-04</td>\n",
       "    </tr>\n",
       "    <tr>\n",
       "      <th>13</th>\n",
       "      <td>2021-03-05</td>\n",
       "    </tr>\n",
       "  </tbody>\n",
       "</table>\n",
       "</div>"
      ],
      "text/plain": [
       "           ds\n",
       "0  2021-02-20\n",
       "1  2021-02-21\n",
       "2  2021-02-22\n",
       "3  2021-02-23\n",
       "4  2021-02-24\n",
       "5  2021-02-25\n",
       "6  2021-02-26\n",
       "7  2021-02-27\n",
       "8  2021-02-28\n",
       "9  2021-03-01\n",
       "10 2021-03-02\n",
       "11 2021-03-03\n",
       "12 2021-03-04\n",
       "13 2021-03-05"
      ]
     },
     "execution_count": 84,
     "metadata": {},
     "output_type": "execute_result"
    }
   ],
   "source": [
    "future = model.make_future_dataframe(periods=14, include_history=False)\n",
    "future"
   ]
  },
  {
   "cell_type": "code",
   "execution_count": 78,
   "metadata": {},
   "outputs": [
    {
     "data": {
      "text/html": [
       "<div>\n",
       "<style scoped>\n",
       "    .dataframe tbody tr th:only-of-type {\n",
       "        vertical-align: middle;\n",
       "    }\n",
       "\n",
       "    .dataframe tbody tr th {\n",
       "        vertical-align: top;\n",
       "    }\n",
       "\n",
       "    .dataframe thead th {\n",
       "        text-align: right;\n",
       "    }\n",
       "</style>\n",
       "<table border=\"1\" class=\"dataframe\">\n",
       "  <thead>\n",
       "    <tr style=\"text-align: right;\">\n",
       "      <th></th>\n",
       "      <th>ds</th>\n",
       "      <th>trend</th>\n",
       "      <th>yhat_lower</th>\n",
       "      <th>yhat_upper</th>\n",
       "      <th>trend_lower</th>\n",
       "      <th>trend_upper</th>\n",
       "      <th>additive_terms</th>\n",
       "      <th>additive_terms_lower</th>\n",
       "      <th>additive_terms_upper</th>\n",
       "      <th>weekly</th>\n",
       "      <th>weekly_lower</th>\n",
       "      <th>weekly_upper</th>\n",
       "      <th>yearly</th>\n",
       "      <th>yearly_lower</th>\n",
       "      <th>yearly_upper</th>\n",
       "      <th>multiplicative_terms</th>\n",
       "      <th>multiplicative_terms_lower</th>\n",
       "      <th>multiplicative_terms_upper</th>\n",
       "      <th>yhat</th>\n",
       "    </tr>\n",
       "  </thead>\n",
       "  <tbody>\n",
       "    <tr>\n",
       "      <th>0</th>\n",
       "      <td>2021-02-20</td>\n",
       "      <td>26921.609659</td>\n",
       "      <td>27443.713021</td>\n",
       "      <td>34025.053304</td>\n",
       "      <td>26921.609659</td>\n",
       "      <td>26921.609659</td>\n",
       "      <td>3808.229506</td>\n",
       "      <td>3808.229506</td>\n",
       "      <td>3808.229506</td>\n",
       "      <td>-12.061235</td>\n",
       "      <td>-12.061235</td>\n",
       "      <td>-12.061235</td>\n",
       "      <td>3820.290741</td>\n",
       "      <td>3820.290741</td>\n",
       "      <td>3820.290741</td>\n",
       "      <td>0.0</td>\n",
       "      <td>0.0</td>\n",
       "      <td>0.0</td>\n",
       "      <td>30729.839165</td>\n",
       "    </tr>\n",
       "    <tr>\n",
       "      <th>1</th>\n",
       "      <td>2021-02-21</td>\n",
       "      <td>26982.911315</td>\n",
       "      <td>27309.900270</td>\n",
       "      <td>34250.722545</td>\n",
       "      <td>26982.911315</td>\n",
       "      <td>26982.911315</td>\n",
       "      <td>3615.397667</td>\n",
       "      <td>3615.397667</td>\n",
       "      <td>3615.397667</td>\n",
       "      <td>-44.662452</td>\n",
       "      <td>-44.662452</td>\n",
       "      <td>-44.662452</td>\n",
       "      <td>3660.060119</td>\n",
       "      <td>3660.060119</td>\n",
       "      <td>3660.060119</td>\n",
       "      <td>0.0</td>\n",
       "      <td>0.0</td>\n",
       "      <td>0.0</td>\n",
       "      <td>30598.308982</td>\n",
       "    </tr>\n",
       "    <tr>\n",
       "      <th>2</th>\n",
       "      <td>2021-02-22</td>\n",
       "      <td>27044.212971</td>\n",
       "      <td>27065.216827</td>\n",
       "      <td>33695.670245</td>\n",
       "      <td>27044.212971</td>\n",
       "      <td>27044.212971</td>\n",
       "      <td>3473.206880</td>\n",
       "      <td>3473.206880</td>\n",
       "      <td>3473.206880</td>\n",
       "      <td>-8.822295</td>\n",
       "      <td>-8.822295</td>\n",
       "      <td>-8.822295</td>\n",
       "      <td>3482.029175</td>\n",
       "      <td>3482.029175</td>\n",
       "      <td>3482.029175</td>\n",
       "      <td>0.0</td>\n",
       "      <td>0.0</td>\n",
       "      <td>0.0</td>\n",
       "      <td>30517.419851</td>\n",
       "    </tr>\n",
       "    <tr>\n",
       "      <th>3</th>\n",
       "      <td>2021-02-23</td>\n",
       "      <td>27105.514627</td>\n",
       "      <td>27149.455209</td>\n",
       "      <td>33729.531307</td>\n",
       "      <td>27105.514627</td>\n",
       "      <td>27105.514627</td>\n",
       "      <td>3271.209103</td>\n",
       "      <td>3271.209103</td>\n",
       "      <td>3271.209103</td>\n",
       "      <td>-17.166485</td>\n",
       "      <td>-17.166485</td>\n",
       "      <td>-17.166485</td>\n",
       "      <td>3288.375589</td>\n",
       "      <td>3288.375589</td>\n",
       "      <td>3288.375589</td>\n",
       "      <td>0.0</td>\n",
       "      <td>0.0</td>\n",
       "      <td>0.0</td>\n",
       "      <td>30376.723731</td>\n",
       "    </tr>\n",
       "    <tr>\n",
       "      <th>4</th>\n",
       "      <td>2021-02-24</td>\n",
       "      <td>27166.816283</td>\n",
       "      <td>26881.621604</td>\n",
       "      <td>33536.417101</td>\n",
       "      <td>27166.816283</td>\n",
       "      <td>27166.816283</td>\n",
       "      <td>3097.468658</td>\n",
       "      <td>3097.468658</td>\n",
       "      <td>3097.468658</td>\n",
       "      <td>15.915692</td>\n",
       "      <td>15.915692</td>\n",
       "      <td>15.915692</td>\n",
       "      <td>3081.552966</td>\n",
       "      <td>3081.552966</td>\n",
       "      <td>3081.552966</td>\n",
       "      <td>0.0</td>\n",
       "      <td>0.0</td>\n",
       "      <td>0.0</td>\n",
       "      <td>30264.284941</td>\n",
       "    </tr>\n",
       "  </tbody>\n",
       "</table>\n",
       "</div>"
      ],
      "text/plain": [
       "          ds         trend    yhat_lower    yhat_upper   trend_lower  \\\n",
       "0 2021-02-20  26921.609659  27443.713021  34025.053304  26921.609659   \n",
       "1 2021-02-21  26982.911315  27309.900270  34250.722545  26982.911315   \n",
       "2 2021-02-22  27044.212971  27065.216827  33695.670245  27044.212971   \n",
       "3 2021-02-23  27105.514627  27149.455209  33729.531307  27105.514627   \n",
       "4 2021-02-24  27166.816283  26881.621604  33536.417101  27166.816283   \n",
       "\n",
       "    trend_upper  additive_terms  additive_terms_lower  additive_terms_upper  \\\n",
       "0  26921.609659     3808.229506           3808.229506           3808.229506   \n",
       "1  26982.911315     3615.397667           3615.397667           3615.397667   \n",
       "2  27044.212971     3473.206880           3473.206880           3473.206880   \n",
       "3  27105.514627     3271.209103           3271.209103           3271.209103   \n",
       "4  27166.816283     3097.468658           3097.468658           3097.468658   \n",
       "\n",
       "      weekly  weekly_lower  weekly_upper       yearly  yearly_lower  \\\n",
       "0 -12.061235    -12.061235    -12.061235  3820.290741   3820.290741   \n",
       "1 -44.662452    -44.662452    -44.662452  3660.060119   3660.060119   \n",
       "2  -8.822295     -8.822295     -8.822295  3482.029175   3482.029175   \n",
       "3 -17.166485    -17.166485    -17.166485  3288.375589   3288.375589   \n",
       "4  15.915692     15.915692     15.915692  3081.552966   3081.552966   \n",
       "\n",
       "   yearly_upper  multiplicative_terms  multiplicative_terms_lower  \\\n",
       "0   3820.290741                   0.0                         0.0   \n",
       "1   3660.060119                   0.0                         0.0   \n",
       "2   3482.029175                   0.0                         0.0   \n",
       "3   3288.375589                   0.0                         0.0   \n",
       "4   3081.552966                   0.0                         0.0   \n",
       "\n",
       "   multiplicative_terms_upper          yhat  \n",
       "0                         0.0  30729.839165  \n",
       "1                         0.0  30598.308982  \n",
       "2                         0.0  30517.419851  \n",
       "3                         0.0  30376.723731  \n",
       "4                         0.0  30264.284941  "
      ]
     },
     "execution_count": 78,
     "metadata": {},
     "output_type": "execute_result"
    }
   ],
   "source": [
    "predictions = model.predict(future)\n",
    "predictions.head()"
   ]
  },
  {
   "cell_type": "code",
   "execution_count": 79,
   "metadata": {},
   "outputs": [
    {
     "data": {
      "text/html": [
       "<div>\n",
       "<style scoped>\n",
       "    .dataframe tbody tr th:only-of-type {\n",
       "        vertical-align: middle;\n",
       "    }\n",
       "\n",
       "    .dataframe tbody tr th {\n",
       "        vertical-align: top;\n",
       "    }\n",
       "\n",
       "    .dataframe thead th {\n",
       "        text-align: right;\n",
       "    }\n",
       "</style>\n",
       "<table border=\"1\" class=\"dataframe\">\n",
       "  <thead>\n",
       "    <tr style=\"text-align: right;\">\n",
       "      <th></th>\n",
       "      <th>ds</th>\n",
       "      <th>yhat</th>\n",
       "    </tr>\n",
       "  </thead>\n",
       "  <tbody>\n",
       "    <tr>\n",
       "      <th>0</th>\n",
       "      <td>2021-02-20</td>\n",
       "      <td>30729.839165</td>\n",
       "    </tr>\n",
       "    <tr>\n",
       "      <th>1</th>\n",
       "      <td>2021-02-21</td>\n",
       "      <td>30598.308982</td>\n",
       "    </tr>\n",
       "    <tr>\n",
       "      <th>2</th>\n",
       "      <td>2021-02-22</td>\n",
       "      <td>30517.419851</td>\n",
       "    </tr>\n",
       "    <tr>\n",
       "      <th>3</th>\n",
       "      <td>2021-02-23</td>\n",
       "      <td>30376.723731</td>\n",
       "    </tr>\n",
       "    <tr>\n",
       "      <th>4</th>\n",
       "      <td>2021-02-24</td>\n",
       "      <td>30264.284941</td>\n",
       "    </tr>\n",
       "  </tbody>\n",
       "</table>\n",
       "</div>"
      ],
      "text/plain": [
       "          ds          yhat\n",
       "0 2021-02-20  30729.839165\n",
       "1 2021-02-21  30598.308982\n",
       "2 2021-02-22  30517.419851\n",
       "3 2021-02-23  30376.723731\n",
       "4 2021-02-24  30264.284941"
      ]
     },
     "execution_count": 79,
     "metadata": {},
     "output_type": "execute_result"
    }
   ],
   "source": [
    "simple_predictions = predictions[['ds','yhat']]\n",
    "simple_predictions.head()"
   ]
  },
  {
   "cell_type": "code",
   "execution_count": 98,
   "metadata": {},
   "outputs": [
    {
     "data": {
      "image/png": "[encoded data removed]",
      "text/plain": [
       "<Figure size 1440x288 with 1 Axes>"
      ]
     },
     "metadata": {
      "needs_background": "light"
     },
     "output_type": "display_data"
    }
   ],
   "source": [
    "# Plot of the original data from recent history\n",
    "ax = daily_df_p[daily_df_p.ds > '2021-02-01'].set_index('ds').plot(figsize=(20,4))\n",
    "\n",
    "# Plot of the forecasted values on the same axis\n",
    "simple_predictions.set_index('ds').plot(figsize=(20,4), ax=ax)\n",
    "xlabel('Date')\n",
    "ylabel('USD');"
   ]
  },
  {
   "cell_type": "code",
   "execution_count": 91,
   "metadata": {},
   "outputs": [
    {
     "data": {
      "image/png": "[encoded data removed]",
      "text/plain": [
       "<Figure size 720x432 with 1 Axes>"
      ]
     },
     "metadata": {},
     "output_type": "display_data"
    }
   ],
   "source": [
    "model.plot(predictions)\n",
    "xlabel('Date')\n",
    "ylabel('USD');"
   ]
  },
  {
   "cell_type": "code",
   "execution_count": 95,
   "metadata": {},
   "outputs": [
    {
     "data": {
      "image/png": "[encoded data removed]",
      "text/plain": [
       "<Figure size 648x648 with 3 Axes>"
      ]
     },
     "metadata": {},
     "output_type": "display_data"
    }
   ],
   "source": [
    "model.plot_components(predictions);"
   ]
  },
  {
   "cell_type": "markdown",
   "metadata": {},
   "source": [
    "## Use only recent history"
   ]
  },
  {
   "cell_type": "markdown",
   "metadata": {},
   "source": [
    "The above forecast was not too impressive"
   ]
  },
  {
   "cell_type": "code",
   "execution_count": 101,
   "metadata": {},
   "outputs": [],
   "source": [
    "model = Prophet(#daily_seasonality=True)\n",
    ")"
   ]
  },
  {
   "cell_type": "code",
   "execution_count": 102,
   "metadata": {},
   "outputs": [],
   "source": [
    "rec_daily_df = daily_df_p[daily_df_p.ds > '2021-02-01']"
   ]
  },
  {
   "cell_type": "code",
   "execution_count": 103,
   "metadata": {},
   "outputs": [
    {
     "name": "stderr",
     "output_type": "stream",
     "text": [
      "INFO:fbprophet:Disabling yearly seasonality. Run prophet with yearly_seasonality=True to override this.\n",
      "INFO:fbprophet:Disabling daily seasonality. Run prophet with daily_seasonality=True to override this.\n",
      "INFO:fbprophet:n_changepoints greater than number of observations. Using 13.\n"
     ]
    },
    {
     "data": {
      "text/plain": [
       "<fbprophet.forecaster.Prophet at 0x7f3c9ac3e7c0>"
      ]
     },
     "execution_count": 103,
     "metadata": {},
     "output_type": "execute_result"
    }
   ],
   "source": [
    "model.fit(rec_daily_df)"
   ]
  },
  {
   "cell_type": "code",
   "execution_count": 104,
   "metadata": {},
   "outputs": [
    {
     "data": {
      "text/html": [
       "<div>\n",
       "<style scoped>\n",
       "    .dataframe tbody tr th:only-of-type {\n",
       "        vertical-align: middle;\n",
       "    }\n",
       "\n",
       "    .dataframe tbody tr th {\n",
       "        vertical-align: top;\n",
       "    }\n",
       "\n",
       "    .dataframe thead th {\n",
       "        text-align: right;\n",
       "    }\n",
       "</style>\n",
       "<table border=\"1\" class=\"dataframe\">\n",
       "  <thead>\n",
       "    <tr style=\"text-align: right;\">\n",
       "      <th></th>\n",
       "      <th>ds</th>\n",
       "    </tr>\n",
       "  </thead>\n",
       "  <tbody>\n",
       "    <tr>\n",
       "      <th>0</th>\n",
       "      <td>2021-02-20</td>\n",
       "    </tr>\n",
       "    <tr>\n",
       "      <th>1</th>\n",
       "      <td>2021-02-21</td>\n",
       "    </tr>\n",
       "    <tr>\n",
       "      <th>2</th>\n",
       "      <td>2021-02-22</td>\n",
       "    </tr>\n",
       "    <tr>\n",
       "      <th>3</th>\n",
       "      <td>2021-02-23</td>\n",
       "    </tr>\n",
       "    <tr>\n",
       "      <th>4</th>\n",
       "      <td>2021-02-24</td>\n",
       "    </tr>\n",
       "  </tbody>\n",
       "</table>\n",
       "</div>"
      ],
      "text/plain": [
       "          ds\n",
       "0 2021-02-20\n",
       "1 2021-02-21\n",
       "2 2021-02-22\n",
       "3 2021-02-23\n",
       "4 2021-02-24"
      ]
     },
     "execution_count": 104,
     "metadata": {},
     "output_type": "execute_result"
    }
   ],
   "source": [
    "future = model.make_future_dataframe(periods=14, include_history=False)\n",
    "future.head()"
   ]
  },
  {
   "cell_type": "code",
   "execution_count": 105,
   "metadata": {},
   "outputs": [
    {
     "data": {
      "text/html": [
       "<div>\n",
       "<style scoped>\n",
       "    .dataframe tbody tr th:only-of-type {\n",
       "        vertical-align: middle;\n",
       "    }\n",
       "\n",
       "    .dataframe tbody tr th {\n",
       "        vertical-align: top;\n",
       "    }\n",
       "\n",
       "    .dataframe thead th {\n",
       "        text-align: right;\n",
       "    }\n",
       "</style>\n",
       "<table border=\"1\" class=\"dataframe\">\n",
       "  <thead>\n",
       "    <tr style=\"text-align: right;\">\n",
       "      <th></th>\n",
       "      <th>ds</th>\n",
       "      <th>trend</th>\n",
       "      <th>yhat_lower</th>\n",
       "      <th>yhat_upper</th>\n",
       "      <th>trend_lower</th>\n",
       "      <th>trend_upper</th>\n",
       "      <th>additive_terms</th>\n",
       "      <th>additive_terms_lower</th>\n",
       "      <th>additive_terms_upper</th>\n",
       "      <th>weekly</th>\n",
       "      <th>weekly_lower</th>\n",
       "      <th>weekly_upper</th>\n",
       "      <th>multiplicative_terms</th>\n",
       "      <th>multiplicative_terms_lower</th>\n",
       "      <th>multiplicative_terms_upper</th>\n",
       "      <th>yhat</th>\n",
       "    </tr>\n",
       "  </thead>\n",
       "  <tbody>\n",
       "    <tr>\n",
       "      <th>0</th>\n",
       "      <td>2021-02-20</td>\n",
       "      <td>53876.498175</td>\n",
       "      <td>51356.079429</td>\n",
       "      <td>54649.600488</td>\n",
       "      <td>53863.476656</td>\n",
       "      <td>53888.099295</td>\n",
       "      <td>-822.087857</td>\n",
       "      <td>-822.087857</td>\n",
       "      <td>-822.087857</td>\n",
       "      <td>-822.087857</td>\n",
       "      <td>-822.087857</td>\n",
       "      <td>-822.087857</td>\n",
       "      <td>0.0</td>\n",
       "      <td>0.0</td>\n",
       "      <td>0.0</td>\n",
       "      <td>53054.410318</td>\n",
       "    </tr>\n",
       "    <tr>\n",
       "      <th>1</th>\n",
       "      <td>2021-02-21</td>\n",
       "      <td>54754.588241</td>\n",
       "      <td>51647.129690</td>\n",
       "      <td>55064.676971</td>\n",
       "      <td>54702.494774</td>\n",
       "      <td>54802.172898</td>\n",
       "      <td>-1400.501452</td>\n",
       "      <td>-1400.501452</td>\n",
       "      <td>-1400.501452</td>\n",
       "      <td>-1400.501452</td>\n",
       "      <td>-1400.501452</td>\n",
       "      <td>-1400.501452</td>\n",
       "      <td>0.0</td>\n",
       "      <td>0.0</td>\n",
       "      <td>0.0</td>\n",
       "      <td>53354.086789</td>\n",
       "    </tr>\n",
       "    <tr>\n",
       "      <th>2</th>\n",
       "      <td>2021-02-22</td>\n",
       "      <td>55632.678307</td>\n",
       "      <td>54945.311569</td>\n",
       "      <td>58307.176744</td>\n",
       "      <td>55522.914892</td>\n",
       "      <td>55727.656412</td>\n",
       "      <td>958.760984</td>\n",
       "      <td>958.760984</td>\n",
       "      <td>958.760984</td>\n",
       "      <td>958.760984</td>\n",
       "      <td>958.760984</td>\n",
       "      <td>958.760984</td>\n",
       "      <td>0.0</td>\n",
       "      <td>0.0</td>\n",
       "      <td>0.0</td>\n",
       "      <td>56591.439291</td>\n",
       "    </tr>\n",
       "    <tr>\n",
       "      <th>3</th>\n",
       "      <td>2021-02-23</td>\n",
       "      <td>56510.768373</td>\n",
       "      <td>55349.067837</td>\n",
       "      <td>58643.393866</td>\n",
       "      <td>56341.408170</td>\n",
       "      <td>56672.354786</td>\n",
       "      <td>375.340849</td>\n",
       "      <td>375.340849</td>\n",
       "      <td>375.340849</td>\n",
       "      <td>375.340849</td>\n",
       "      <td>375.340849</td>\n",
       "      <td>375.340849</td>\n",
       "      <td>0.0</td>\n",
       "      <td>0.0</td>\n",
       "      <td>0.0</td>\n",
       "      <td>56886.109222</td>\n",
       "    </tr>\n",
       "    <tr>\n",
       "      <th>4</th>\n",
       "      <td>2021-02-24</td>\n",
       "      <td>57388.858439</td>\n",
       "      <td>56319.101649</td>\n",
       "      <td>59475.445087</td>\n",
       "      <td>57150.406378</td>\n",
       "      <td>57636.492445</td>\n",
       "      <td>559.140898</td>\n",
       "      <td>559.140898</td>\n",
       "      <td>559.140898</td>\n",
       "      <td>559.140898</td>\n",
       "      <td>559.140898</td>\n",
       "      <td>559.140898</td>\n",
       "      <td>0.0</td>\n",
       "      <td>0.0</td>\n",
       "      <td>0.0</td>\n",
       "      <td>57947.999337</td>\n",
       "    </tr>\n",
       "  </tbody>\n",
       "</table>\n",
       "</div>"
      ],
      "text/plain": [
       "          ds         trend    yhat_lower    yhat_upper   trend_lower  \\\n",
       "0 2021-02-20  53876.498175  51356.079429  54649.600488  53863.476656   \n",
       "1 2021-02-21  54754.588241  51647.129690  55064.676971  54702.494774   \n",
       "2 2021-02-22  55632.678307  54945.311569  58307.176744  55522.914892   \n",
       "3 2021-02-23  56510.768373  55349.067837  58643.393866  56341.408170   \n",
       "4 2021-02-24  57388.858439  56319.101649  59475.445087  57150.406378   \n",
       "\n",
       "    trend_upper  additive_terms  additive_terms_lower  additive_terms_upper  \\\n",
       "0  53888.099295     -822.087857           -822.087857           -822.087857   \n",
       "1  54802.172898    -1400.501452          -1400.501452          -1400.501452   \n",
       "2  55727.656412      958.760984            958.760984            958.760984   \n",
       "3  56672.354786      375.340849            375.340849            375.340849   \n",
       "4  57636.492445      559.140898            559.140898            559.140898   \n",
       "\n",
       "        weekly  weekly_lower  weekly_upper  multiplicative_terms  \\\n",
       "0  -822.087857   -822.087857   -822.087857                   0.0   \n",
       "1 -1400.501452  -1400.501452  -1400.501452                   0.0   \n",
       "2   958.760984    958.760984    958.760984                   0.0   \n",
       "3   375.340849    375.340849    375.340849                   0.0   \n",
       "4   559.140898    559.140898    559.140898                   0.0   \n",
       "\n",
       "   multiplicative_terms_lower  multiplicative_terms_upper          yhat  \n",
       "0                         0.0                         0.0  53054.410318  \n",
       "1                         0.0                         0.0  53354.086789  \n",
       "2                         0.0                         0.0  56591.439291  \n",
       "3                         0.0                         0.0  56886.109222  \n",
       "4                         0.0                         0.0  57947.999337  "
      ]
     },
     "execution_count": 105,
     "metadata": {},
     "output_type": "execute_result"
    }
   ],
   "source": [
    "predictions = model.predict(future)\n",
    "predictions.head()"
   ]
  },
  {
   "cell_type": "code",
   "execution_count": 108,
   "metadata": {},
   "outputs": [
    {
     "data": {
      "text/html": [
       "<div>\n",
       "<style scoped>\n",
       "    .dataframe tbody tr th:only-of-type {\n",
       "        vertical-align: middle;\n",
       "    }\n",
       "\n",
       "    .dataframe tbody tr th {\n",
       "        vertical-align: top;\n",
       "    }\n",
       "\n",
       "    .dataframe thead th {\n",
       "        text-align: right;\n",
       "    }\n",
       "</style>\n",
       "<table border=\"1\" class=\"dataframe\">\n",
       "  <thead>\n",
       "    <tr style=\"text-align: right;\">\n",
       "      <th></th>\n",
       "      <th>ds</th>\n",
       "      <th>yhat</th>\n",
       "    </tr>\n",
       "  </thead>\n",
       "  <tbody>\n",
       "    <tr>\n",
       "      <th>0</th>\n",
       "      <td>2021-02-20</td>\n",
       "      <td>53054.410318</td>\n",
       "    </tr>\n",
       "    <tr>\n",
       "      <th>1</th>\n",
       "      <td>2021-02-21</td>\n",
       "      <td>53354.086789</td>\n",
       "    </tr>\n",
       "    <tr>\n",
       "      <th>2</th>\n",
       "      <td>2021-02-22</td>\n",
       "      <td>56591.439291</td>\n",
       "    </tr>\n",
       "    <tr>\n",
       "      <th>3</th>\n",
       "      <td>2021-02-23</td>\n",
       "      <td>56886.109222</td>\n",
       "    </tr>\n",
       "    <tr>\n",
       "      <th>4</th>\n",
       "      <td>2021-02-24</td>\n",
       "      <td>57947.999337</td>\n",
       "    </tr>\n",
       "  </tbody>\n",
       "</table>\n",
       "</div>"
      ],
      "text/plain": [
       "          ds          yhat\n",
       "0 2021-02-20  53054.410318\n",
       "1 2021-02-21  53354.086789\n",
       "2 2021-02-22  56591.439291\n",
       "3 2021-02-23  56886.109222\n",
       "4 2021-02-24  57947.999337"
      ]
     },
     "execution_count": 108,
     "metadata": {},
     "output_type": "execute_result"
    }
   ],
   "source": [
    "simple_predictions = predictions[['ds','yhat']]\n",
    "simple_predictions.head()"
   ]
  },
  {
   "cell_type": "code",
   "execution_count": 110,
   "metadata": {},
   "outputs": [
    {
     "data": {
      "image/png": "[encoded data removed]",
      "text/plain": [
       "<Figure size 1440x288 with 1 Axes>"
      ]
     },
     "metadata": {
      "needs_background": "light"
     },
     "output_type": "display_data"
    }
   ],
   "source": [
    "# Plot of the original data\n",
    "ax = rec_daily_df.set_index('ds').plot(figsize=(20,4))\n",
    "\n",
    "# Plot of the forecasted values\n",
    "simple_predictions.set_index('ds').plot(figsize=(20,4), ax=ax)\n",
    "xlabel('Date')\n",
    "ylabel('USD');"
   ]
  },
  {
   "cell_type": "code",
   "execution_count": 111,
   "metadata": {},
   "outputs": [
    {
     "data": {
      "image/png": "[encoded data removed]",
      "text/plain": [
       "<Figure size 720x432 with 1 Axes>"
      ]
     },
     "metadata": {},
     "output_type": "display_data"
    }
   ],
   "source": [
    "model.plot(predictions)\n",
    "xlabel('Date')\n",
    "ylabel('USD')\n",
    "title('Prophet Bitcoin Projection');"
   ]
  },
  {
   "cell_type": "code",
   "execution_count": 112,
   "metadata": {},
   "outputs": [
    {
     "data": {
      "image/png": "[encoded data removed]",
      "text/plain": [
       "<Figure size 648x432 with 2 Axes>"
      ]
     },
     "metadata": {},
     "output_type": "display_data"
    }
   ],
   "source": [
    "model.plot_components(predictions);"
   ]
  }
 ],
 "metadata": {
  "kernelspec": {
   "display_name": "cypto-oracle-venv",
   "language": "python",
   "name": "cypt-oracle-venv"
  },
  "language_info": {
   "codemirror_mode": {
    "name": "ipython",
    "version": 3
   },
   "file_extension": ".py",
   "mimetype": "text/x-python",
   "name": "python",
   "nbconvert_exporter": "python",
   "pygments_lexer": "ipython3",
   "version": "3.8.3"
  }
 },
 "nbformat": 4,
 "nbformat_minor": 4
}
